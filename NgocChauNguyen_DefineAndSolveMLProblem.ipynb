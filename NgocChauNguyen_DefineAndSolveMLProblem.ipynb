{
 "cells": [
  {
   "cell_type": "markdown",
   "metadata": {},
   "source": [
    "# Lab 8: Define and Solve an ML Problem of Your Choosing"
   ]
  },
  {
   "cell_type": "code",
   "execution_count": 1,
   "metadata": {},
   "outputs": [],
   "source": [
    "import pandas as pd\n",
    "import numpy as np\n",
    "import os \n",
    "import matplotlib.pyplot as plt\n",
    "import seaborn as sns"
   ]
  },
  {
   "cell_type": "markdown",
   "metadata": {},
   "source": [
    "In this lab assignment, you will follow the machine learning life cycle and implement a model to solve a machine learning problem of your choosing. You will select a data set and choose a predictive problem that the data set supports.  You will then inspect the data with your problem in mind and begin to formulate a  project plan. You will then implement the machine learning project plan. \n",
    "\n",
    "You will complete the following tasks:\n",
    "\n",
    "1. Build Your DataFrame\n",
    "2. Define Your ML Problem\n",
    "3. Perform exploratory data analysis to understand your data.\n",
    "4. Define Your Project Plan\n",
    "5. Implement Your Project Plan:\n",
    "    * Prepare your data for your model.\n",
    "    * Fit your model to the training data and evaluate your model.\n",
    "    * Improve your model's performance."
   ]
  },
  {
   "cell_type": "markdown",
   "metadata": {},
   "source": [
    "## Part 1: Build Your DataFrame\n",
    "\n",
    "You will have the option to choose one of four data sets that you have worked with in this program:\n",
    "\n",
    "* The \"census\" data set that contains Census information from 1994: `censusData.csv`\n",
    "* Airbnb NYC \"listings\" data set: `airbnbListingsData.csv`\n",
    "* World Happiness Report (WHR) data set: `WHR2018Chapter2OnlineData.csv`\n",
    "* Book Review data set: `bookReviewsData.csv`\n",
    "\n",
    "Note that these are variations of the data sets that you have worked with in this program. For example, some do not include some of the preprocessing necessary for specific models. \n",
    "\n",
    "#### Load a Data Set and Save it as a Pandas DataFrame\n",
    "\n",
    "The code cell below contains filenames (path + filename) for each of the four data sets available to you.\n",
    "\n",
    "<b>Task:</b> In the code cell below, use the same method you have been using to load the data using `pd.read_csv()` and save it to DataFrame `df`. \n",
    "\n",
    "You can load each file as a new DataFrame to inspect the data before choosing your data set."
   ]
  },
  {
   "cell_type": "code",
   "execution_count": 2,
   "metadata": {},
   "outputs": [
    {
     "name": "stdout",
     "output_type": "stream",
     "text": [
      "Index(['name', 'description', 'neighborhood_overview', 'host_name',\n",
      "       'host_location', 'host_about', 'host_response_rate',\n",
      "       'host_acceptance_rate', 'host_is_superhost', 'host_listings_count',\n",
      "       'host_total_listings_count', 'host_has_profile_pic',\n",
      "       'host_identity_verified', 'neighbourhood_group_cleansed', 'room_type',\n",
      "       'accommodates', 'bathrooms', 'bedrooms', 'beds', 'amenities', 'price',\n",
      "       'minimum_nights', 'maximum_nights', 'minimum_minimum_nights',\n",
      "       'maximum_minimum_nights', 'minimum_maximum_nights',\n",
      "       'maximum_maximum_nights', 'minimum_nights_avg_ntm',\n",
      "       'maximum_nights_avg_ntm', 'has_availability', 'availability_30',\n",
      "       'availability_60', 'availability_90', 'availability_365',\n",
      "       'number_of_reviews', 'number_of_reviews_ltm', 'number_of_reviews_l30d',\n",
      "       'review_scores_rating', 'review_scores_cleanliness',\n",
      "       'review_scores_checkin', 'review_scores_communication',\n",
      "       'review_scores_location', 'review_scores_value', 'instant_bookable',\n",
      "       'calculated_host_listings_count',\n",
      "       'calculated_host_listings_count_entire_homes',\n",
      "       'calculated_host_listings_count_private_rooms',\n",
      "       'calculated_host_listings_count_shared_rooms', 'reviews_per_month',\n",
      "       'n_host_verifications'],\n",
      "      dtype='object')\n"
     ]
    }
   ],
   "source": [
    "# File names of the four data sets\n",
    "adultDataSet_filename = os.path.join(os.getcwd(), \"data\", \"censusData.csv\")\n",
    "airbnbDataSet_filename = os.path.join(os.getcwd(), \"data\", \"airbnbListingsData.csv\")\n",
    "WHRDataSet_filename = os.path.join(os.getcwd(), \"data\", \"WHR2018Chapter2OnlineData.csv\")\n",
    "bookReviewDataSet_filename = os.path.join(os.getcwd(), \"data\", \"bookReviewsData.csv\")\n",
    "\n",
    "\n",
    "df = pd.read_csv(airbnbDataSet_filename)\n",
    "# print(df.head())\n",
    "print(df.columns)\n",
    "# print(df['review_scores_rating'])\n",
    "# print(df.head(2))"
   ]
  },
  {
   "cell_type": "code",
   "execution_count": 3,
   "metadata": {},
   "outputs": [
    {
     "data": {
      "text/html": [
       "<div>\n",
       "<style scoped>\n",
       "    .dataframe tbody tr th:only-of-type {\n",
       "        vertical-align: middle;\n",
       "    }\n",
       "\n",
       "    .dataframe tbody tr th {\n",
       "        vertical-align: top;\n",
       "    }\n",
       "\n",
       "    .dataframe thead th {\n",
       "        text-align: right;\n",
       "    }\n",
       "</style>\n",
       "<table border=\"1\" class=\"dataframe\">\n",
       "  <thead>\n",
       "    <tr style=\"text-align: right;\">\n",
       "      <th></th>\n",
       "      <th>name</th>\n",
       "      <th>description</th>\n",
       "      <th>neighborhood_overview</th>\n",
       "      <th>host_name</th>\n",
       "      <th>host_location</th>\n",
       "      <th>host_about</th>\n",
       "      <th>host_response_rate</th>\n",
       "      <th>host_acceptance_rate</th>\n",
       "      <th>host_is_superhost</th>\n",
       "      <th>host_listings_count</th>\n",
       "      <th>...</th>\n",
       "      <th>review_scores_communication</th>\n",
       "      <th>review_scores_location</th>\n",
       "      <th>review_scores_value</th>\n",
       "      <th>instant_bookable</th>\n",
       "      <th>calculated_host_listings_count</th>\n",
       "      <th>calculated_host_listings_count_entire_homes</th>\n",
       "      <th>calculated_host_listings_count_private_rooms</th>\n",
       "      <th>calculated_host_listings_count_shared_rooms</th>\n",
       "      <th>reviews_per_month</th>\n",
       "      <th>n_host_verifications</th>\n",
       "    </tr>\n",
       "  </thead>\n",
       "  <tbody>\n",
       "    <tr>\n",
       "      <th>0</th>\n",
       "      <td>Skylit Midtown Castle</td>\n",
       "      <td>Beautiful, spacious skylit studio in the heart...</td>\n",
       "      <td>Centrally located in the heart of Manhattan ju...</td>\n",
       "      <td>Jennifer</td>\n",
       "      <td>New York, New York, United States</td>\n",
       "      <td>A New Yorker since 2000! My passion is creatin...</td>\n",
       "      <td>0.80</td>\n",
       "      <td>0.17</td>\n",
       "      <td>True</td>\n",
       "      <td>8.0</td>\n",
       "      <td>...</td>\n",
       "      <td>4.79</td>\n",
       "      <td>4.86</td>\n",
       "      <td>4.41</td>\n",
       "      <td>False</td>\n",
       "      <td>3</td>\n",
       "      <td>3</td>\n",
       "      <td>0</td>\n",
       "      <td>0</td>\n",
       "      <td>0.33</td>\n",
       "      <td>9</td>\n",
       "    </tr>\n",
       "    <tr>\n",
       "      <th>1</th>\n",
       "      <td>Whole flr w/private bdrm, bath &amp; kitchen(pls r...</td>\n",
       "      <td>Enjoy 500 s.f. top floor in 1899 brownstone, w...</td>\n",
       "      <td>Just the right mix of urban center and local n...</td>\n",
       "      <td>LisaRoxanne</td>\n",
       "      <td>New York, New York, United States</td>\n",
       "      <td>Laid-back Native New Yorker (formerly bi-coast...</td>\n",
       "      <td>0.09</td>\n",
       "      <td>0.69</td>\n",
       "      <td>True</td>\n",
       "      <td>1.0</td>\n",
       "      <td>...</td>\n",
       "      <td>4.80</td>\n",
       "      <td>4.71</td>\n",
       "      <td>4.64</td>\n",
       "      <td>False</td>\n",
       "      <td>1</td>\n",
       "      <td>1</td>\n",
       "      <td>0</td>\n",
       "      <td>0</td>\n",
       "      <td>4.86</td>\n",
       "      <td>6</td>\n",
       "    </tr>\n",
       "    <tr>\n",
       "      <th>2</th>\n",
       "      <td>Spacious Brooklyn Duplex, Patio + Garden</td>\n",
       "      <td>We welcome you to stay in our lovely 2 br dupl...</td>\n",
       "      <td>NaN</td>\n",
       "      <td>Rebecca</td>\n",
       "      <td>Brooklyn, New York, United States</td>\n",
       "      <td>Rebecca is an artist/designer, and Henoch is i...</td>\n",
       "      <td>1.00</td>\n",
       "      <td>0.25</td>\n",
       "      <td>True</td>\n",
       "      <td>1.0</td>\n",
       "      <td>...</td>\n",
       "      <td>5.00</td>\n",
       "      <td>4.50</td>\n",
       "      <td>5.00</td>\n",
       "      <td>False</td>\n",
       "      <td>1</td>\n",
       "      <td>1</td>\n",
       "      <td>0</td>\n",
       "      <td>0</td>\n",
       "      <td>0.02</td>\n",
       "      <td>3</td>\n",
       "    </tr>\n",
       "    <tr>\n",
       "      <th>3</th>\n",
       "      <td>Large Furnished Room Near B'way</td>\n",
       "      <td>Please don’t expect the luxury here just a bas...</td>\n",
       "      <td>Theater district, many restaurants around here.</td>\n",
       "      <td>Shunichi</td>\n",
       "      <td>New York, New York, United States</td>\n",
       "      <td>I used to work for a financial industry but no...</td>\n",
       "      <td>1.00</td>\n",
       "      <td>1.00</td>\n",
       "      <td>True</td>\n",
       "      <td>1.0</td>\n",
       "      <td>...</td>\n",
       "      <td>4.42</td>\n",
       "      <td>4.87</td>\n",
       "      <td>4.36</td>\n",
       "      <td>False</td>\n",
       "      <td>1</td>\n",
       "      <td>0</td>\n",
       "      <td>1</td>\n",
       "      <td>0</td>\n",
       "      <td>3.68</td>\n",
       "      <td>4</td>\n",
       "    </tr>\n",
       "    <tr>\n",
       "      <th>4</th>\n",
       "      <td>Cozy Clean Guest Room - Family Apt</td>\n",
       "      <td>Our best guests are seeking a safe, clean, spa...</td>\n",
       "      <td>Our neighborhood is full of restaurants and ca...</td>\n",
       "      <td>MaryEllen</td>\n",
       "      <td>New York, New York, United States</td>\n",
       "      <td>Welcome to family life with my oldest two away...</td>\n",
       "      <td>NaN</td>\n",
       "      <td>NaN</td>\n",
       "      <td>True</td>\n",
       "      <td>1.0</td>\n",
       "      <td>...</td>\n",
       "      <td>4.95</td>\n",
       "      <td>4.94</td>\n",
       "      <td>4.92</td>\n",
       "      <td>False</td>\n",
       "      <td>1</td>\n",
       "      <td>0</td>\n",
       "      <td>1</td>\n",
       "      <td>0</td>\n",
       "      <td>0.87</td>\n",
       "      <td>7</td>\n",
       "    </tr>\n",
       "  </tbody>\n",
       "</table>\n",
       "<p>5 rows × 50 columns</p>\n",
       "</div>"
      ],
      "text/plain": [
       "                                                name  \\\n",
       "0                              Skylit Midtown Castle   \n",
       "1  Whole flr w/private bdrm, bath & kitchen(pls r...   \n",
       "2           Spacious Brooklyn Duplex, Patio + Garden   \n",
       "3                   Large Furnished Room Near B'way　   \n",
       "4                 Cozy Clean Guest Room - Family Apt   \n",
       "\n",
       "                                         description  \\\n",
       "0  Beautiful, spacious skylit studio in the heart...   \n",
       "1  Enjoy 500 s.f. top floor in 1899 brownstone, w...   \n",
       "2  We welcome you to stay in our lovely 2 br dupl...   \n",
       "3  Please don’t expect the luxury here just a bas...   \n",
       "4  Our best guests are seeking a safe, clean, spa...   \n",
       "\n",
       "                               neighborhood_overview    host_name  \\\n",
       "0  Centrally located in the heart of Manhattan ju...     Jennifer   \n",
       "1  Just the right mix of urban center and local n...  LisaRoxanne   \n",
       "2                                                NaN      Rebecca   \n",
       "3    Theater district, many restaurants around here.     Shunichi   \n",
       "4  Our neighborhood is full of restaurants and ca...    MaryEllen   \n",
       "\n",
       "                       host_location  \\\n",
       "0  New York, New York, United States   \n",
       "1  New York, New York, United States   \n",
       "2  Brooklyn, New York, United States   \n",
       "3  New York, New York, United States   \n",
       "4  New York, New York, United States   \n",
       "\n",
       "                                          host_about  host_response_rate  \\\n",
       "0  A New Yorker since 2000! My passion is creatin...                0.80   \n",
       "1  Laid-back Native New Yorker (formerly bi-coast...                0.09   \n",
       "2  Rebecca is an artist/designer, and Henoch is i...                1.00   \n",
       "3  I used to work for a financial industry but no...                1.00   \n",
       "4  Welcome to family life with my oldest two away...                 NaN   \n",
       "\n",
       "   host_acceptance_rate  host_is_superhost  host_listings_count  ...  \\\n",
       "0                  0.17               True                  8.0  ...   \n",
       "1                  0.69               True                  1.0  ...   \n",
       "2                  0.25               True                  1.0  ...   \n",
       "3                  1.00               True                  1.0  ...   \n",
       "4                   NaN               True                  1.0  ...   \n",
       "\n",
       "   review_scores_communication  review_scores_location  review_scores_value  \\\n",
       "0                         4.79                    4.86                 4.41   \n",
       "1                         4.80                    4.71                 4.64   \n",
       "2                         5.00                    4.50                 5.00   \n",
       "3                         4.42                    4.87                 4.36   \n",
       "4                         4.95                    4.94                 4.92   \n",
       "\n",
       "  instant_bookable calculated_host_listings_count  \\\n",
       "0            False                              3   \n",
       "1            False                              1   \n",
       "2            False                              1   \n",
       "3            False                              1   \n",
       "4            False                              1   \n",
       "\n",
       "   calculated_host_listings_count_entire_homes  \\\n",
       "0                                            3   \n",
       "1                                            1   \n",
       "2                                            1   \n",
       "3                                            0   \n",
       "4                                            0   \n",
       "\n",
       "   calculated_host_listings_count_private_rooms  \\\n",
       "0                                             0   \n",
       "1                                             0   \n",
       "2                                             0   \n",
       "3                                             1   \n",
       "4                                             1   \n",
       "\n",
       "   calculated_host_listings_count_shared_rooms  reviews_per_month  \\\n",
       "0                                            0               0.33   \n",
       "1                                            0               4.86   \n",
       "2                                            0               0.02   \n",
       "3                                            0               3.68   \n",
       "4                                            0               0.87   \n",
       "\n",
       "  n_host_verifications  \n",
       "0                    9  \n",
       "1                    6  \n",
       "2                    3  \n",
       "3                    4  \n",
       "4                    7  \n",
       "\n",
       "[5 rows x 50 columns]"
      ]
     },
     "execution_count": 3,
     "metadata": {},
     "output_type": "execute_result"
    }
   ],
   "source": [
    "df.head()"
   ]
  },
  {
   "cell_type": "markdown",
   "metadata": {},
   "source": [
    "## Part 2: Define Your ML Problem\n",
    "\n",
    "Next you will formulate your ML Problem. In the markdown cell below, answer the following questions:\n",
    "\n",
    "1. List the data set you have chosen.\n",
    "2. What will you be predicting? What is the label?\n",
    "3. Is this a supervised or unsupervised learning problem? Is this a clustering, classification or regression problem? Is it a binary classificaiton or multi-class classifiction problem?\n",
    "4. What are your features? (note: this list may change after your explore your data)\n",
    "5. Explain why this is an important problem. In other words, how would a company create value with a model that predicts this label?"
   ]
  },
  {
   "cell_type": "markdown",
   "metadata": {},
   "source": [
    "My answers:\n",
    "1. The data set that I have chosen is \"airbnbListingsData.csv\".\n",
    "2. I want to predict whether the review scores will be high or low based on multiple features. I will convert the column \"review_scores_rating\" into \"review_scores_rating_high\" and \"review_scores_rating_low\". Every scores that is >= 3.0 is considered high, and it is considered low if it is < 3.0.\n",
    "3. This is a supervised learning problem. This is a binary classification. I will use binary indicators--I would transform data to binary based on meeting a True/False condition.\n",
    "4. Current Feature: ['name', 'description', 'neighborhood_overview',\n",
    "       'host_location', 'host_about', 'host_response_rate',\n",
    "       'host_acceptance_rate', 'host_is_superhost', 'host_listings_count',\n",
    "       'host_total_listings_count', 'host_has_profile_pic',\n",
    "       'host_identity_verified', 'neighbourhood_group_cleansed', 'room_type',\n",
    "       'accommodates', 'bathrooms', 'bedrooms', 'beds', 'amenities', 'price',\n",
    "       'minimum_nights', 'maximum_nights', 'minimum_minimum_nights',\n",
    "       'maximum_minimum_nights', 'minimum_maximum_nights',\n",
    "       'maximum_maximum_nights', 'minimum_nights_avg_ntm',\n",
    "       'maximum_nights_avg_ntm', 'has_availability', 'availability_30',\n",
    "       'availability_60', 'availability_90', 'availability_365',\n",
    "       'number_of_reviews', 'number_of_reviews_ltm', 'number_of_reviews_l30d',\n",
    "       'review_scores_rating', 'review_scores_cleanliness',\n",
    "       'review_scores_checkin', 'review_scores_communication',\n",
    "       'review_scores_location', 'review_scores_value', 'instant_bookable',\n",
    "       'calculated_host_listings_count',\n",
    "       'calculated_host_listings_count_entire_homes',\n",
    "       'calculated_host_listings_count_private_rooms',\n",
    "       'calculated_host_listings_count_shared_rooms', 'reviews_per_month',]\n",
    "5. In my opinion, it is an important problem, as if companies want to invest in and host multiple Airbnbs, they would love to predict which Airbnb can potentially receive high scores before buying back that Airbnb and earn profit in the future. The rating is based on different features, such as host_location, host_response_rate, availability_30. Besides that, they can use the model to stimulate a scenario--they would use an example house as a data point to check if it would become a good Airbnb before they actually buy it/ build it in that specific location. The prediction will also give companies incentives to take good care of the property, which are reflected through some features, such as \"review_scores_cleanliness\", \"review_scores_communication\", \"instant_bookable\". \n"
   ]
  },
  {
   "cell_type": "code",
   "execution_count": 4,
   "metadata": {},
   "outputs": [
    {
     "data": {
      "text/plain": [
       "0        False\n",
       "1        False\n",
       "2        False\n",
       "3        False\n",
       "4        False\n",
       "         ...  \n",
       "28017     True\n",
       "28018    False\n",
       "28019     True\n",
       "28020    False\n",
       "28021     True\n",
       "Name: instant_bookable, Length: 28022, dtype: bool"
      ]
     },
     "execution_count": 4,
     "metadata": {},
     "output_type": "execute_result"
    }
   ],
   "source": [
    "df['instant_bookable']"
   ]
  },
  {
   "cell_type": "code",
   "execution_count": 5,
   "metadata": {},
   "outputs": [
    {
     "data": {
      "text/html": [
       "<div>\n",
       "<style scoped>\n",
       "    .dataframe tbody tr th:only-of-type {\n",
       "        vertical-align: middle;\n",
       "    }\n",
       "\n",
       "    .dataframe tbody tr th {\n",
       "        vertical-align: top;\n",
       "    }\n",
       "\n",
       "    .dataframe thead th {\n",
       "        text-align: right;\n",
       "    }\n",
       "</style>\n",
       "<table border=\"1\" class=\"dataframe\">\n",
       "  <thead>\n",
       "    <tr style=\"text-align: right;\">\n",
       "      <th></th>\n",
       "      <th>name</th>\n",
       "      <th>description</th>\n",
       "      <th>neighborhood_overview</th>\n",
       "      <th>host_name</th>\n",
       "      <th>host_location</th>\n",
       "      <th>host_about</th>\n",
       "      <th>host_response_rate</th>\n",
       "      <th>host_acceptance_rate</th>\n",
       "      <th>host_is_superhost</th>\n",
       "      <th>host_listings_count</th>\n",
       "      <th>...</th>\n",
       "      <th>review_scores_communication</th>\n",
       "      <th>review_scores_location</th>\n",
       "      <th>review_scores_value</th>\n",
       "      <th>instant_bookable</th>\n",
       "      <th>calculated_host_listings_count</th>\n",
       "      <th>calculated_host_listings_count_entire_homes</th>\n",
       "      <th>calculated_host_listings_count_private_rooms</th>\n",
       "      <th>calculated_host_listings_count_shared_rooms</th>\n",
       "      <th>reviews_per_month</th>\n",
       "      <th>n_host_verifications</th>\n",
       "    </tr>\n",
       "  </thead>\n",
       "  <tbody>\n",
       "    <tr>\n",
       "      <th>28021</th>\n",
       "      <td>Large, modern, private 1 bedroom in beach condo</td>\n",
       "      <td>Private bedroom on its own floor with very lar...</td>\n",
       "      <td>Beach, surf shop, stop and shop, Dunkin’ Donut...</td>\n",
       "      <td>Justine</td>\n",
       "      <td>US</td>\n",
       "      <td>NaN</td>\n",
       "      <td>NaN</td>\n",
       "      <td>NaN</td>\n",
       "      <td>True</td>\n",
       "      <td>0.0</td>\n",
       "      <td>...</td>\n",
       "      <td>5.0</td>\n",
       "      <td>5.0</td>\n",
       "      <td>5.0</td>\n",
       "      <td>True</td>\n",
       "      <td>1</td>\n",
       "      <td>0</td>\n",
       "      <td>1</td>\n",
       "      <td>0</td>\n",
       "      <td>1.0</td>\n",
       "      <td>1</td>\n",
       "    </tr>\n",
       "  </tbody>\n",
       "</table>\n",
       "<p>1 rows × 50 columns</p>\n",
       "</div>"
      ],
      "text/plain": [
       "                                                  name  \\\n",
       "28021  Large, modern, private 1 bedroom in beach condo   \n",
       "\n",
       "                                             description  \\\n",
       "28021  Private bedroom on its own floor with very lar...   \n",
       "\n",
       "                                   neighborhood_overview host_name  \\\n",
       "28021  Beach, surf shop, stop and shop, Dunkin’ Donut...   Justine   \n",
       "\n",
       "      host_location host_about  host_response_rate  host_acceptance_rate  \\\n",
       "28021            US        NaN                 NaN                   NaN   \n",
       "\n",
       "       host_is_superhost  host_listings_count  ...  \\\n",
       "28021               True                  0.0  ...   \n",
       "\n",
       "       review_scores_communication  review_scores_location  \\\n",
       "28021                          5.0                     5.0   \n",
       "\n",
       "       review_scores_value instant_bookable calculated_host_listings_count  \\\n",
       "28021                  5.0             True                              1   \n",
       "\n",
       "       calculated_host_listings_count_entire_homes  \\\n",
       "28021                                            0   \n",
       "\n",
       "       calculated_host_listings_count_private_rooms  \\\n",
       "28021                                             1   \n",
       "\n",
       "       calculated_host_listings_count_shared_rooms  reviews_per_month  \\\n",
       "28021                                            0                1.0   \n",
       "\n",
       "      n_host_verifications  \n",
       "28021                    1  \n",
       "\n",
       "[1 rows x 50 columns]"
      ]
     },
     "execution_count": 5,
     "metadata": {},
     "output_type": "execute_result"
    }
   ],
   "source": [
    "df[28021:28022]"
   ]
  },
  {
   "cell_type": "markdown",
   "metadata": {},
   "source": [
    "## Part 3: Understand Your Data\n",
    "\n",
    "The next step is to perform exploratory data analysis. Inspect and analyze your data set with your machine learning problem in mind. Consider the following as you inspect your data:\n",
    "\n",
    "1. What data preparation techniques would you like to use? These data preparation techniques may include:\n",
    "\n",
    "    * addressing missingness, such as replacing missing values with means\n",
    "    * finding and replacing outliers\n",
    "    * renaming features and labels\n",
    "    * finding and replacing outliers\n",
    "    * performing feature engineering techniques such as one-hot encoding on categorical features\n",
    "    * selecting appropriate features and removing irrelevant features\n",
    "    * performing specific data cleaning and preprocessing techniques for an NLP problem\n",
    "    * addressing class imbalance in your data sample to promote fair AI\n",
    "    \n",
    "\n",
    "2. What machine learning model (or models) you would like to use that is suitable for your predictive problem and data?\n",
    "    * Are there other data preparation techniques that you will need to apply to build a balanced modeling data set for your problem and model? For example, will you need to scale your data?\n",
    " \n",
    " \n",
    "3. How will you evaluate and improve the model's performance?\n",
    "    * Are there specific evaluation metrics and methods that are appropriate for your model?\n",
    "    \n",
    "\n",
    "Think of the different techniques you have used to inspect and analyze your data in this course. These include using Pandas to apply data filters, using the Pandas `describe()` method to get insight into key statistics for each column, using the Pandas `dtypes` property to inspect the data type of each column, and using Matplotlib and Seaborn to detect outliers and visualize relationships between features and labels. If you are working on a classification problem, use techniques you have learned to determine if there is class imbalance.\n",
    "\n",
    "<b>Task</b>: Use the techniques you have learned in this course to inspect and analyze your data. You can import additional packages that you have used in this course that you will need to perform this task.\n",
    "\n",
    "<b>Note</b>: You can add code cells if needed by going to the <b>Insert</b> menu and clicking on <b>Insert Cell Below</b> in the drop-drown menu."
   ]
  },
  {
   "cell_type": "markdown",
   "metadata": {},
   "source": [
    "<b>Display Summary Statistics by Column</b>"
   ]
  },
  {
   "cell_type": "code",
   "execution_count": 6,
   "metadata": {},
   "outputs": [
    {
     "data": {
      "text/html": [
       "<div>\n",
       "<style scoped>\n",
       "    .dataframe tbody tr th:only-of-type {\n",
       "        vertical-align: middle;\n",
       "    }\n",
       "\n",
       "    .dataframe tbody tr th {\n",
       "        vertical-align: top;\n",
       "    }\n",
       "\n",
       "    .dataframe thead th {\n",
       "        text-align: right;\n",
       "    }\n",
       "</style>\n",
       "<table border=\"1\" class=\"dataframe\">\n",
       "  <thead>\n",
       "    <tr style=\"text-align: right;\">\n",
       "      <th></th>\n",
       "      <th>name</th>\n",
       "      <th>description</th>\n",
       "      <th>neighborhood_overview</th>\n",
       "      <th>host_name</th>\n",
       "      <th>host_location</th>\n",
       "      <th>host_about</th>\n",
       "      <th>host_response_rate</th>\n",
       "      <th>host_acceptance_rate</th>\n",
       "      <th>host_is_superhost</th>\n",
       "      <th>host_listings_count</th>\n",
       "      <th>...</th>\n",
       "      <th>review_scores_communication</th>\n",
       "      <th>review_scores_location</th>\n",
       "      <th>review_scores_value</th>\n",
       "      <th>instant_bookable</th>\n",
       "      <th>calculated_host_listings_count</th>\n",
       "      <th>calculated_host_listings_count_entire_homes</th>\n",
       "      <th>calculated_host_listings_count_private_rooms</th>\n",
       "      <th>calculated_host_listings_count_shared_rooms</th>\n",
       "      <th>reviews_per_month</th>\n",
       "      <th>n_host_verifications</th>\n",
       "    </tr>\n",
       "  </thead>\n",
       "  <tbody>\n",
       "    <tr>\n",
       "      <th>count</th>\n",
       "      <td>28017</td>\n",
       "      <td>27452</td>\n",
       "      <td>18206</td>\n",
       "      <td>28022</td>\n",
       "      <td>27962</td>\n",
       "      <td>17077</td>\n",
       "      <td>16179.000000</td>\n",
       "      <td>16909.000000</td>\n",
       "      <td>28022</td>\n",
       "      <td>28022.000000</td>\n",
       "      <td>...</td>\n",
       "      <td>28022.000000</td>\n",
       "      <td>28022.000000</td>\n",
       "      <td>28022.000000</td>\n",
       "      <td>28022</td>\n",
       "      <td>28022.000000</td>\n",
       "      <td>28022.000000</td>\n",
       "      <td>28022.000000</td>\n",
       "      <td>28022.000000</td>\n",
       "      <td>28022.000000</td>\n",
       "      <td>28022.000000</td>\n",
       "    </tr>\n",
       "    <tr>\n",
       "      <th>unique</th>\n",
       "      <td>27386</td>\n",
       "      <td>25952</td>\n",
       "      <td>15800</td>\n",
       "      <td>7566</td>\n",
       "      <td>1364</td>\n",
       "      <td>11962</td>\n",
       "      <td>NaN</td>\n",
       "      <td>NaN</td>\n",
       "      <td>1</td>\n",
       "      <td>NaN</td>\n",
       "      <td>...</td>\n",
       "      <td>NaN</td>\n",
       "      <td>NaN</td>\n",
       "      <td>NaN</td>\n",
       "      <td>2</td>\n",
       "      <td>NaN</td>\n",
       "      <td>NaN</td>\n",
       "      <td>NaN</td>\n",
       "      <td>NaN</td>\n",
       "      <td>NaN</td>\n",
       "      <td>NaN</td>\n",
       "    </tr>\n",
       "    <tr>\n",
       "      <th>top</th>\n",
       "      <td>Water View King Bed Hotel Room</td>\n",
       "      <td>Welcome to UNTITLED (Adj.) at 3 Freeman Alley!...</td>\n",
       "      <td>We're located in a safe and quiet residential ...</td>\n",
       "      <td>Karen</td>\n",
       "      <td>New York, New York, United States</td>\n",
       "      <td>I’m a New York native that loves to eat &amp; enjo...</td>\n",
       "      <td>NaN</td>\n",
       "      <td>NaN</td>\n",
       "      <td>True</td>\n",
       "      <td>NaN</td>\n",
       "      <td>...</td>\n",
       "      <td>NaN</td>\n",
       "      <td>NaN</td>\n",
       "      <td>NaN</td>\n",
       "      <td>False</td>\n",
       "      <td>NaN</td>\n",
       "      <td>NaN</td>\n",
       "      <td>NaN</td>\n",
       "      <td>NaN</td>\n",
       "      <td>NaN</td>\n",
       "      <td>NaN</td>\n",
       "    </tr>\n",
       "    <tr>\n",
       "      <th>freq</th>\n",
       "      <td>27</td>\n",
       "      <td>61</td>\n",
       "      <td>34</td>\n",
       "      <td>246</td>\n",
       "      <td>16059</td>\n",
       "      <td>191</td>\n",
       "      <td>NaN</td>\n",
       "      <td>NaN</td>\n",
       "      <td>28022</td>\n",
       "      <td>NaN</td>\n",
       "      <td>...</td>\n",
       "      <td>NaN</td>\n",
       "      <td>NaN</td>\n",
       "      <td>NaN</td>\n",
       "      <td>20382</td>\n",
       "      <td>NaN</td>\n",
       "      <td>NaN</td>\n",
       "      <td>NaN</td>\n",
       "      <td>NaN</td>\n",
       "      <td>NaN</td>\n",
       "      <td>NaN</td>\n",
       "    </tr>\n",
       "    <tr>\n",
       "      <th>mean</th>\n",
       "      <td>NaN</td>\n",
       "      <td>NaN</td>\n",
       "      <td>NaN</td>\n",
       "      <td>NaN</td>\n",
       "      <td>NaN</td>\n",
       "      <td>NaN</td>\n",
       "      <td>0.906901</td>\n",
       "      <td>0.791953</td>\n",
       "      <td>NaN</td>\n",
       "      <td>14.554778</td>\n",
       "      <td>...</td>\n",
       "      <td>4.808041</td>\n",
       "      <td>4.750393</td>\n",
       "      <td>4.647670</td>\n",
       "      <td>NaN</td>\n",
       "      <td>9.581900</td>\n",
       "      <td>5.562986</td>\n",
       "      <td>3.902077</td>\n",
       "      <td>0.048283</td>\n",
       "      <td>1.758325</td>\n",
       "      <td>5.169510</td>\n",
       "    </tr>\n",
       "    <tr>\n",
       "      <th>std</th>\n",
       "      <td>NaN</td>\n",
       "      <td>NaN</td>\n",
       "      <td>NaN</td>\n",
       "      <td>NaN</td>\n",
       "      <td>NaN</td>\n",
       "      <td>NaN</td>\n",
       "      <td>0.227282</td>\n",
       "      <td>0.276732</td>\n",
       "      <td>NaN</td>\n",
       "      <td>120.721287</td>\n",
       "      <td>...</td>\n",
       "      <td>0.464585</td>\n",
       "      <td>0.415717</td>\n",
       "      <td>0.518023</td>\n",
       "      <td>NaN</td>\n",
       "      <td>32.227523</td>\n",
       "      <td>26.121426</td>\n",
       "      <td>17.972386</td>\n",
       "      <td>0.442459</td>\n",
       "      <td>4.446143</td>\n",
       "      <td>2.028497</td>\n",
       "    </tr>\n",
       "    <tr>\n",
       "      <th>min</th>\n",
       "      <td>NaN</td>\n",
       "      <td>NaN</td>\n",
       "      <td>NaN</td>\n",
       "      <td>NaN</td>\n",
       "      <td>NaN</td>\n",
       "      <td>NaN</td>\n",
       "      <td>0.000000</td>\n",
       "      <td>0.000000</td>\n",
       "      <td>NaN</td>\n",
       "      <td>0.000000</td>\n",
       "      <td>...</td>\n",
       "      <td>0.000000</td>\n",
       "      <td>0.000000</td>\n",
       "      <td>0.000000</td>\n",
       "      <td>NaN</td>\n",
       "      <td>1.000000</td>\n",
       "      <td>0.000000</td>\n",
       "      <td>0.000000</td>\n",
       "      <td>0.000000</td>\n",
       "      <td>0.010000</td>\n",
       "      <td>1.000000</td>\n",
       "    </tr>\n",
       "    <tr>\n",
       "      <th>25%</th>\n",
       "      <td>NaN</td>\n",
       "      <td>NaN</td>\n",
       "      <td>NaN</td>\n",
       "      <td>NaN</td>\n",
       "      <td>NaN</td>\n",
       "      <td>NaN</td>\n",
       "      <td>0.940000</td>\n",
       "      <td>0.680000</td>\n",
       "      <td>NaN</td>\n",
       "      <td>1.000000</td>\n",
       "      <td>...</td>\n",
       "      <td>4.810000</td>\n",
       "      <td>4.670000</td>\n",
       "      <td>4.550000</td>\n",
       "      <td>NaN</td>\n",
       "      <td>1.000000</td>\n",
       "      <td>0.000000</td>\n",
       "      <td>0.000000</td>\n",
       "      <td>0.000000</td>\n",
       "      <td>0.130000</td>\n",
       "      <td>4.000000</td>\n",
       "    </tr>\n",
       "    <tr>\n",
       "      <th>50%</th>\n",
       "      <td>NaN</td>\n",
       "      <td>NaN</td>\n",
       "      <td>NaN</td>\n",
       "      <td>NaN</td>\n",
       "      <td>NaN</td>\n",
       "      <td>NaN</td>\n",
       "      <td>1.000000</td>\n",
       "      <td>0.910000</td>\n",
       "      <td>NaN</td>\n",
       "      <td>1.000000</td>\n",
       "      <td>...</td>\n",
       "      <td>4.970000</td>\n",
       "      <td>4.880000</td>\n",
       "      <td>4.780000</td>\n",
       "      <td>NaN</td>\n",
       "      <td>1.000000</td>\n",
       "      <td>1.000000</td>\n",
       "      <td>0.000000</td>\n",
       "      <td>0.000000</td>\n",
       "      <td>0.510000</td>\n",
       "      <td>5.000000</td>\n",
       "    </tr>\n",
       "    <tr>\n",
       "      <th>75%</th>\n",
       "      <td>NaN</td>\n",
       "      <td>NaN</td>\n",
       "      <td>NaN</td>\n",
       "      <td>NaN</td>\n",
       "      <td>NaN</td>\n",
       "      <td>NaN</td>\n",
       "      <td>1.000000</td>\n",
       "      <td>1.000000</td>\n",
       "      <td>NaN</td>\n",
       "      <td>3.000000</td>\n",
       "      <td>...</td>\n",
       "      <td>5.000000</td>\n",
       "      <td>5.000000</td>\n",
       "      <td>5.000000</td>\n",
       "      <td>NaN</td>\n",
       "      <td>3.000000</td>\n",
       "      <td>1.000000</td>\n",
       "      <td>1.000000</td>\n",
       "      <td>0.000000</td>\n",
       "      <td>1.830000</td>\n",
       "      <td>7.000000</td>\n",
       "    </tr>\n",
       "    <tr>\n",
       "      <th>max</th>\n",
       "      <td>NaN</td>\n",
       "      <td>NaN</td>\n",
       "      <td>NaN</td>\n",
       "      <td>NaN</td>\n",
       "      <td>NaN</td>\n",
       "      <td>NaN</td>\n",
       "      <td>1.000000</td>\n",
       "      <td>1.000000</td>\n",
       "      <td>NaN</td>\n",
       "      <td>3387.000000</td>\n",
       "      <td>...</td>\n",
       "      <td>5.000000</td>\n",
       "      <td>5.000000</td>\n",
       "      <td>5.000000</td>\n",
       "      <td>NaN</td>\n",
       "      <td>421.000000</td>\n",
       "      <td>308.000000</td>\n",
       "      <td>359.000000</td>\n",
       "      <td>8.000000</td>\n",
       "      <td>141.000000</td>\n",
       "      <td>13.000000</td>\n",
       "    </tr>\n",
       "  </tbody>\n",
       "</table>\n",
       "<p>11 rows × 50 columns</p>\n",
       "</div>"
      ],
      "text/plain": [
       "                                  name  \\\n",
       "count                            28017   \n",
       "unique                           27386   \n",
       "top     Water View King Bed Hotel Room   \n",
       "freq                                27   \n",
       "mean                               NaN   \n",
       "std                                NaN   \n",
       "min                                NaN   \n",
       "25%                                NaN   \n",
       "50%                                NaN   \n",
       "75%                                NaN   \n",
       "max                                NaN   \n",
       "\n",
       "                                              description  \\\n",
       "count                                               27452   \n",
       "unique                                              25952   \n",
       "top     Welcome to UNTITLED (Adj.) at 3 Freeman Alley!...   \n",
       "freq                                                   61   \n",
       "mean                                                  NaN   \n",
       "std                                                   NaN   \n",
       "min                                                   NaN   \n",
       "25%                                                   NaN   \n",
       "50%                                                   NaN   \n",
       "75%                                                   NaN   \n",
       "max                                                   NaN   \n",
       "\n",
       "                                    neighborhood_overview host_name  \\\n",
       "count                                               18206     28022   \n",
       "unique                                              15800      7566   \n",
       "top     We're located in a safe and quiet residential ...     Karen   \n",
       "freq                                                   34       246   \n",
       "mean                                                  NaN       NaN   \n",
       "std                                                   NaN       NaN   \n",
       "min                                                   NaN       NaN   \n",
       "25%                                                   NaN       NaN   \n",
       "50%                                                   NaN       NaN   \n",
       "75%                                                   NaN       NaN   \n",
       "max                                                   NaN       NaN   \n",
       "\n",
       "                            host_location  \\\n",
       "count                               27962   \n",
       "unique                               1364   \n",
       "top     New York, New York, United States   \n",
       "freq                                16059   \n",
       "mean                                  NaN   \n",
       "std                                   NaN   \n",
       "min                                   NaN   \n",
       "25%                                   NaN   \n",
       "50%                                   NaN   \n",
       "75%                                   NaN   \n",
       "max                                   NaN   \n",
       "\n",
       "                                               host_about  host_response_rate  \\\n",
       "count                                               17077        16179.000000   \n",
       "unique                                              11962                 NaN   \n",
       "top     I’m a New York native that loves to eat & enjo...                 NaN   \n",
       "freq                                                  191                 NaN   \n",
       "mean                                                  NaN            0.906901   \n",
       "std                                                   NaN            0.227282   \n",
       "min                                                   NaN            0.000000   \n",
       "25%                                                   NaN            0.940000   \n",
       "50%                                                   NaN            1.000000   \n",
       "75%                                                   NaN            1.000000   \n",
       "max                                                   NaN            1.000000   \n",
       "\n",
       "        host_acceptance_rate host_is_superhost  host_listings_count  ...  \\\n",
       "count           16909.000000             28022         28022.000000  ...   \n",
       "unique                   NaN                 1                  NaN  ...   \n",
       "top                      NaN              True                  NaN  ...   \n",
       "freq                     NaN             28022                  NaN  ...   \n",
       "mean                0.791953               NaN            14.554778  ...   \n",
       "std                 0.276732               NaN           120.721287  ...   \n",
       "min                 0.000000               NaN             0.000000  ...   \n",
       "25%                 0.680000               NaN             1.000000  ...   \n",
       "50%                 0.910000               NaN             1.000000  ...   \n",
       "75%                 1.000000               NaN             3.000000  ...   \n",
       "max                 1.000000               NaN          3387.000000  ...   \n",
       "\n",
       "        review_scores_communication review_scores_location  \\\n",
       "count                  28022.000000           28022.000000   \n",
       "unique                          NaN                    NaN   \n",
       "top                             NaN                    NaN   \n",
       "freq                            NaN                    NaN   \n",
       "mean                       4.808041               4.750393   \n",
       "std                        0.464585               0.415717   \n",
       "min                        0.000000               0.000000   \n",
       "25%                        4.810000               4.670000   \n",
       "50%                        4.970000               4.880000   \n",
       "75%                        5.000000               5.000000   \n",
       "max                        5.000000               5.000000   \n",
       "\n",
       "       review_scores_value instant_bookable calculated_host_listings_count  \\\n",
       "count         28022.000000            28022                   28022.000000   \n",
       "unique                 NaN                2                            NaN   \n",
       "top                    NaN            False                            NaN   \n",
       "freq                   NaN            20382                            NaN   \n",
       "mean              4.647670              NaN                       9.581900   \n",
       "std               0.518023              NaN                      32.227523   \n",
       "min               0.000000              NaN                       1.000000   \n",
       "25%               4.550000              NaN                       1.000000   \n",
       "50%               4.780000              NaN                       1.000000   \n",
       "75%               5.000000              NaN                       3.000000   \n",
       "max               5.000000              NaN                     421.000000   \n",
       "\n",
       "        calculated_host_listings_count_entire_homes  \\\n",
       "count                                  28022.000000   \n",
       "unique                                          NaN   \n",
       "top                                             NaN   \n",
       "freq                                            NaN   \n",
       "mean                                       5.562986   \n",
       "std                                       26.121426   \n",
       "min                                        0.000000   \n",
       "25%                                        0.000000   \n",
       "50%                                        1.000000   \n",
       "75%                                        1.000000   \n",
       "max                                      308.000000   \n",
       "\n",
       "        calculated_host_listings_count_private_rooms  \\\n",
       "count                                   28022.000000   \n",
       "unique                                           NaN   \n",
       "top                                              NaN   \n",
       "freq                                             NaN   \n",
       "mean                                        3.902077   \n",
       "std                                        17.972386   \n",
       "min                                         0.000000   \n",
       "25%                                         0.000000   \n",
       "50%                                         0.000000   \n",
       "75%                                         1.000000   \n",
       "max                                       359.000000   \n",
       "\n",
       "        calculated_host_listings_count_shared_rooms  reviews_per_month  \\\n",
       "count                                  28022.000000       28022.000000   \n",
       "unique                                          NaN                NaN   \n",
       "top                                             NaN                NaN   \n",
       "freq                                            NaN                NaN   \n",
       "mean                                       0.048283           1.758325   \n",
       "std                                        0.442459           4.446143   \n",
       "min                                        0.000000           0.010000   \n",
       "25%                                        0.000000           0.130000   \n",
       "50%                                        0.000000           0.510000   \n",
       "75%                                        0.000000           1.830000   \n",
       "max                                        8.000000         141.000000   \n",
       "\n",
       "       n_host_verifications  \n",
       "count          28022.000000  \n",
       "unique                  NaN  \n",
       "top                     NaN  \n",
       "freq                    NaN  \n",
       "mean               5.169510  \n",
       "std                2.028497  \n",
       "min                1.000000  \n",
       "25%                4.000000  \n",
       "50%                5.000000  \n",
       "75%                7.000000  \n",
       "max               13.000000  \n",
       "\n",
       "[11 rows x 50 columns]"
      ]
     },
     "execution_count": 6,
     "metadata": {},
     "output_type": "execute_result"
    }
   ],
   "source": [
    "df.describe(include = 'all')"
   ]
  },
  {
   "cell_type": "markdown",
   "metadata": {},
   "source": [
    "<b>The data types of each column"
   ]
  },
  {
   "cell_type": "code",
   "execution_count": 7,
   "metadata": {},
   "outputs": [
    {
     "data": {
      "text/plain": [
       "name                                             object\n",
       "description                                      object\n",
       "neighborhood_overview                            object\n",
       "host_name                                        object\n",
       "host_location                                    object\n",
       "host_about                                       object\n",
       "host_response_rate                              float64\n",
       "host_acceptance_rate                            float64\n",
       "host_is_superhost                                  bool\n",
       "host_listings_count                             float64\n",
       "host_total_listings_count                       float64\n",
       "host_has_profile_pic                               bool\n",
       "host_identity_verified                             bool\n",
       "neighbourhood_group_cleansed                     object\n",
       "room_type                                        object\n",
       "accommodates                                      int64\n",
       "bathrooms                                       float64\n",
       "bedrooms                                        float64\n",
       "beds                                            float64\n",
       "amenities                                        object\n",
       "price                                           float64\n",
       "minimum_nights                                    int64\n",
       "maximum_nights                                    int64\n",
       "minimum_minimum_nights                          float64\n",
       "maximum_minimum_nights                          float64\n",
       "minimum_maximum_nights                          float64\n",
       "maximum_maximum_nights                          float64\n",
       "minimum_nights_avg_ntm                          float64\n",
       "maximum_nights_avg_ntm                          float64\n",
       "has_availability                                   bool\n",
       "availability_30                                   int64\n",
       "availability_60                                   int64\n",
       "availability_90                                   int64\n",
       "availability_365                                  int64\n",
       "number_of_reviews                                 int64\n",
       "number_of_reviews_ltm                             int64\n",
       "number_of_reviews_l30d                            int64\n",
       "review_scores_rating                            float64\n",
       "review_scores_cleanliness                       float64\n",
       "review_scores_checkin                           float64\n",
       "review_scores_communication                     float64\n",
       "review_scores_location                          float64\n",
       "review_scores_value                             float64\n",
       "instant_bookable                                   bool\n",
       "calculated_host_listings_count                    int64\n",
       "calculated_host_listings_count_entire_homes       int64\n",
       "calculated_host_listings_count_private_rooms      int64\n",
       "calculated_host_listings_count_shared_rooms       int64\n",
       "reviews_per_month                               float64\n",
       "n_host_verifications                              int64\n",
       "dtype: object"
      ]
     },
     "execution_count": 7,
     "metadata": {},
     "output_type": "execute_result"
    }
   ],
   "source": [
    "df.dtypes"
   ]
  },
  {
   "cell_type": "code",
   "execution_count": 8,
   "metadata": {},
   "outputs": [
    {
     "data": {
      "text/html": [
       "<div>\n",
       "<style scoped>\n",
       "    .dataframe tbody tr th:only-of-type {\n",
       "        vertical-align: middle;\n",
       "    }\n",
       "\n",
       "    .dataframe tbody tr th {\n",
       "        vertical-align: top;\n",
       "    }\n",
       "\n",
       "    .dataframe thead th {\n",
       "        text-align: right;\n",
       "    }\n",
       "</style>\n",
       "<table border=\"1\" class=\"dataframe\">\n",
       "  <thead>\n",
       "    <tr style=\"text-align: right;\">\n",
       "      <th></th>\n",
       "      <th>name</th>\n",
       "      <th>description</th>\n",
       "      <th>neighborhood_overview</th>\n",
       "      <th>host_name</th>\n",
       "      <th>host_location</th>\n",
       "      <th>host_about</th>\n",
       "      <th>host_response_rate</th>\n",
       "      <th>host_acceptance_rate</th>\n",
       "      <th>host_is_superhost</th>\n",
       "      <th>host_listings_count</th>\n",
       "      <th>...</th>\n",
       "      <th>review_scores_communication</th>\n",
       "      <th>review_scores_location</th>\n",
       "      <th>review_scores_value</th>\n",
       "      <th>instant_bookable</th>\n",
       "      <th>calculated_host_listings_count</th>\n",
       "      <th>calculated_host_listings_count_entire_homes</th>\n",
       "      <th>calculated_host_listings_count_private_rooms</th>\n",
       "      <th>calculated_host_listings_count_shared_rooms</th>\n",
       "      <th>reviews_per_month</th>\n",
       "      <th>n_host_verifications</th>\n",
       "    </tr>\n",
       "  </thead>\n",
       "  <tbody>\n",
       "    <tr>\n",
       "      <th>0</th>\n",
       "      <td>Skylit Midtown Castle</td>\n",
       "      <td>Beautiful, spacious skylit studio in the heart...</td>\n",
       "      <td>Centrally located in the heart of Manhattan ju...</td>\n",
       "      <td>Jennifer</td>\n",
       "      <td>New York, New York, United States</td>\n",
       "      <td>A New Yorker since 2000! My passion is creatin...</td>\n",
       "      <td>0.80</td>\n",
       "      <td>0.17</td>\n",
       "      <td>True</td>\n",
       "      <td>8.0</td>\n",
       "      <td>...</td>\n",
       "      <td>4.79</td>\n",
       "      <td>4.86</td>\n",
       "      <td>4.41</td>\n",
       "      <td>False</td>\n",
       "      <td>3</td>\n",
       "      <td>3</td>\n",
       "      <td>0</td>\n",
       "      <td>0</td>\n",
       "      <td>0.33</td>\n",
       "      <td>9</td>\n",
       "    </tr>\n",
       "    <tr>\n",
       "      <th>1</th>\n",
       "      <td>Whole flr w/private bdrm, bath &amp; kitchen(pls r...</td>\n",
       "      <td>Enjoy 500 s.f. top floor in 1899 brownstone, w...</td>\n",
       "      <td>Just the right mix of urban center and local n...</td>\n",
       "      <td>LisaRoxanne</td>\n",
       "      <td>New York, New York, United States</td>\n",
       "      <td>Laid-back Native New Yorker (formerly bi-coast...</td>\n",
       "      <td>0.09</td>\n",
       "      <td>0.69</td>\n",
       "      <td>True</td>\n",
       "      <td>1.0</td>\n",
       "      <td>...</td>\n",
       "      <td>4.80</td>\n",
       "      <td>4.71</td>\n",
       "      <td>4.64</td>\n",
       "      <td>False</td>\n",
       "      <td>1</td>\n",
       "      <td>1</td>\n",
       "      <td>0</td>\n",
       "      <td>0</td>\n",
       "      <td>4.86</td>\n",
       "      <td>6</td>\n",
       "    </tr>\n",
       "    <tr>\n",
       "      <th>2</th>\n",
       "      <td>Spacious Brooklyn Duplex, Patio + Garden</td>\n",
       "      <td>We welcome you to stay in our lovely 2 br dupl...</td>\n",
       "      <td>NaN</td>\n",
       "      <td>Rebecca</td>\n",
       "      <td>Brooklyn, New York, United States</td>\n",
       "      <td>Rebecca is an artist/designer, and Henoch is i...</td>\n",
       "      <td>1.00</td>\n",
       "      <td>0.25</td>\n",
       "      <td>True</td>\n",
       "      <td>1.0</td>\n",
       "      <td>...</td>\n",
       "      <td>5.00</td>\n",
       "      <td>4.50</td>\n",
       "      <td>5.00</td>\n",
       "      <td>False</td>\n",
       "      <td>1</td>\n",
       "      <td>1</td>\n",
       "      <td>0</td>\n",
       "      <td>0</td>\n",
       "      <td>0.02</td>\n",
       "      <td>3</td>\n",
       "    </tr>\n",
       "    <tr>\n",
       "      <th>3</th>\n",
       "      <td>Large Furnished Room Near B'way</td>\n",
       "      <td>Please don’t expect the luxury here just a bas...</td>\n",
       "      <td>Theater district, many restaurants around here.</td>\n",
       "      <td>Shunichi</td>\n",
       "      <td>New York, New York, United States</td>\n",
       "      <td>I used to work for a financial industry but no...</td>\n",
       "      <td>1.00</td>\n",
       "      <td>1.00</td>\n",
       "      <td>True</td>\n",
       "      <td>1.0</td>\n",
       "      <td>...</td>\n",
       "      <td>4.42</td>\n",
       "      <td>4.87</td>\n",
       "      <td>4.36</td>\n",
       "      <td>False</td>\n",
       "      <td>1</td>\n",
       "      <td>0</td>\n",
       "      <td>1</td>\n",
       "      <td>0</td>\n",
       "      <td>3.68</td>\n",
       "      <td>4</td>\n",
       "    </tr>\n",
       "    <tr>\n",
       "      <th>4</th>\n",
       "      <td>Cozy Clean Guest Room - Family Apt</td>\n",
       "      <td>Our best guests are seeking a safe, clean, spa...</td>\n",
       "      <td>Our neighborhood is full of restaurants and ca...</td>\n",
       "      <td>MaryEllen</td>\n",
       "      <td>New York, New York, United States</td>\n",
       "      <td>Welcome to family life with my oldest two away...</td>\n",
       "      <td>NaN</td>\n",
       "      <td>NaN</td>\n",
       "      <td>True</td>\n",
       "      <td>1.0</td>\n",
       "      <td>...</td>\n",
       "      <td>4.95</td>\n",
       "      <td>4.94</td>\n",
       "      <td>4.92</td>\n",
       "      <td>False</td>\n",
       "      <td>1</td>\n",
       "      <td>0</td>\n",
       "      <td>1</td>\n",
       "      <td>0</td>\n",
       "      <td>0.87</td>\n",
       "      <td>7</td>\n",
       "    </tr>\n",
       "  </tbody>\n",
       "</table>\n",
       "<p>5 rows × 50 columns</p>\n",
       "</div>"
      ],
      "text/plain": [
       "                                                name  \\\n",
       "0                              Skylit Midtown Castle   \n",
       "1  Whole flr w/private bdrm, bath & kitchen(pls r...   \n",
       "2           Spacious Brooklyn Duplex, Patio + Garden   \n",
       "3                   Large Furnished Room Near B'way　   \n",
       "4                 Cozy Clean Guest Room - Family Apt   \n",
       "\n",
       "                                         description  \\\n",
       "0  Beautiful, spacious skylit studio in the heart...   \n",
       "1  Enjoy 500 s.f. top floor in 1899 brownstone, w...   \n",
       "2  We welcome you to stay in our lovely 2 br dupl...   \n",
       "3  Please don’t expect the luxury here just a bas...   \n",
       "4  Our best guests are seeking a safe, clean, spa...   \n",
       "\n",
       "                               neighborhood_overview    host_name  \\\n",
       "0  Centrally located in the heart of Manhattan ju...     Jennifer   \n",
       "1  Just the right mix of urban center and local n...  LisaRoxanne   \n",
       "2                                                NaN      Rebecca   \n",
       "3    Theater district, many restaurants around here.     Shunichi   \n",
       "4  Our neighborhood is full of restaurants and ca...    MaryEllen   \n",
       "\n",
       "                       host_location  \\\n",
       "0  New York, New York, United States   \n",
       "1  New York, New York, United States   \n",
       "2  Brooklyn, New York, United States   \n",
       "3  New York, New York, United States   \n",
       "4  New York, New York, United States   \n",
       "\n",
       "                                          host_about  host_response_rate  \\\n",
       "0  A New Yorker since 2000! My passion is creatin...                0.80   \n",
       "1  Laid-back Native New Yorker (formerly bi-coast...                0.09   \n",
       "2  Rebecca is an artist/designer, and Henoch is i...                1.00   \n",
       "3  I used to work for a financial industry but no...                1.00   \n",
       "4  Welcome to family life with my oldest two away...                 NaN   \n",
       "\n",
       "   host_acceptance_rate  host_is_superhost  host_listings_count  ...  \\\n",
       "0                  0.17               True                  8.0  ...   \n",
       "1                  0.69               True                  1.0  ...   \n",
       "2                  0.25               True                  1.0  ...   \n",
       "3                  1.00               True                  1.0  ...   \n",
       "4                   NaN               True                  1.0  ...   \n",
       "\n",
       "   review_scores_communication  review_scores_location  review_scores_value  \\\n",
       "0                         4.79                    4.86                 4.41   \n",
       "1                         4.80                    4.71                 4.64   \n",
       "2                         5.00                    4.50                 5.00   \n",
       "3                         4.42                    4.87                 4.36   \n",
       "4                         4.95                    4.94                 4.92   \n",
       "\n",
       "  instant_bookable calculated_host_listings_count  \\\n",
       "0            False                              3   \n",
       "1            False                              1   \n",
       "2            False                              1   \n",
       "3            False                              1   \n",
       "4            False                              1   \n",
       "\n",
       "   calculated_host_listings_count_entire_homes  \\\n",
       "0                                            3   \n",
       "1                                            1   \n",
       "2                                            1   \n",
       "3                                            0   \n",
       "4                                            0   \n",
       "\n",
       "   calculated_host_listings_count_private_rooms  \\\n",
       "0                                             0   \n",
       "1                                             0   \n",
       "2                                             0   \n",
       "3                                             1   \n",
       "4                                             1   \n",
       "\n",
       "   calculated_host_listings_count_shared_rooms  reviews_per_month  \\\n",
       "0                                            0               0.33   \n",
       "1                                            0               4.86   \n",
       "2                                            0               0.02   \n",
       "3                                            0               3.68   \n",
       "4                                            0               0.87   \n",
       "\n",
       "  n_host_verifications  \n",
       "0                    9  \n",
       "1                    6  \n",
       "2                    3  \n",
       "3                    4  \n",
       "4                    7  \n",
       "\n",
       "[5 rows x 50 columns]"
      ]
     },
     "execution_count": 8,
     "metadata": {},
     "output_type": "execute_result"
    }
   ],
   "source": [
    "df.head(5)"
   ]
  },
  {
   "cell_type": "markdown",
   "metadata": {},
   "source": [
    "<b>Display shape of df"
   ]
  },
  {
   "cell_type": "code",
   "execution_count": 9,
   "metadata": {},
   "outputs": [
    {
     "data": {
      "text/plain": [
       "(28022, 50)"
      ]
     },
     "execution_count": 9,
     "metadata": {},
     "output_type": "execute_result"
    }
   ],
   "source": [
    "df.shape"
   ]
  },
  {
   "cell_type": "markdown",
   "metadata": {},
   "source": [
    "<b>Define the label</b>\n",
    "\n",
    "My goal is to train a machine learning model that predicts the review_scores_rating whether it is high (>=3) or low (<3). This is an example of supervised learning and is a binary classification problem. In our data set, our label will be review_scores_rating column."
   ]
  },
  {
   "cell_type": "code",
   "execution_count": 10,
   "metadata": {},
   "outputs": [
    {
     "data": {
      "text/plain": [
       "0        4.70\n",
       "1        4.45\n",
       "2        5.00\n",
       "3        4.21\n",
       "4        4.91\n",
       "         ... \n",
       "28017    5.00\n",
       "28018    5.00\n",
       "28019    1.00\n",
       "28020    5.00\n",
       "28021    5.00\n",
       "Name: review_scores_rating, Length: 28022, dtype: float64"
      ]
     },
     "execution_count": 10,
     "metadata": {},
     "output_type": "execute_result"
    }
   ],
   "source": [
    "df['review_scores_rating']"
   ]
  },
  {
   "cell_type": "markdown",
   "metadata": {},
   "source": [
    "<b>Obtain the data type of the values on this column:\n"
   ]
  },
  {
   "cell_type": "code",
   "execution_count": 11,
   "metadata": {},
   "outputs": [
    {
     "data": {
      "text/plain": [
       "dtype('float64')"
      ]
     },
     "execution_count": 11,
     "metadata": {},
     "output_type": "execute_result"
    }
   ],
   "source": [
    "df['review_scores_rating'].dtype"
   ]
  },
  {
   "cell_type": "markdown",
   "metadata": {},
   "source": [
    "<b>Display the first 15 uniques values of the \"review_scores_rating\" column"
   ]
  },
  {
   "cell_type": "code",
   "execution_count": 12,
   "metadata": {},
   "outputs": [
    {
     "data": {
      "text/plain": [
       "array([4.7 , 4.45, 5.  , 4.21, 4.91, 4.56, 4.88, 4.86, 4.87, 4.76, 4.52,\n",
       "       4.89, 4.66, 4.74, 4.39])"
      ]
     },
     "execution_count": 12,
     "metadata": {},
     "output_type": "execute_result"
    }
   ],
   "source": [
    "df['review_scores_rating'].unique()[:15]"
   ]
  },
  {
   "cell_type": "markdown",
   "metadata": {},
   "source": [
    "<b>Identify Features\n",
    "\n",
    "Review: Simply by inspecting the data, let us identify some columns that should not serve as features--those that will not help us solve our predicive ML problems.\n"
   ]
  },
  {
   "cell_type": "code",
   "execution_count": 13,
   "metadata": {},
   "outputs": [
    {
     "name": "stdout",
     "output_type": "stream",
     "text": [
      "['host_name']\n"
     ]
    }
   ],
   "source": [
    "colnames = [x for x in list(df.columns)if '_name' in x]\n",
    "print(colnames)"
   ]
  },
  {
   "cell_type": "code",
   "execution_count": 14,
   "metadata": {},
   "outputs": [
    {
     "data": {
      "text/plain": [
       "0           Jennifer\n",
       "1        LisaRoxanne\n",
       "2            Rebecca\n",
       "3           Shunichi\n",
       "4          MaryEllen\n",
       "            ...     \n",
       "28017          Vicky\n",
       "28018         Samuel\n",
       "28019         Carlos\n",
       "28020          Lexia\n",
       "28021        Justine\n",
       "Name: host_name, Length: 28022, dtype: object"
      ]
     },
     "execution_count": 14,
     "metadata": {},
     "output_type": "execute_result"
    }
   ],
   "source": [
    "df['host_name']"
   ]
  },
  {
   "cell_type": "markdown",
   "metadata": {},
   "source": [
    "<b>Drop column(s) that have names/IDs. "
   ]
  },
  {
   "cell_type": "code",
   "execution_count": 15,
   "metadata": {},
   "outputs": [],
   "source": [
    "df.drop(colnames, axis = 1, inplace=True)"
   ]
  },
  {
   "cell_type": "code",
   "execution_count": 16,
   "metadata": {},
   "outputs": [],
   "source": [
    "df.drop(columns=['n_host_verifications'], axis = 1, inplace = True)\n"
   ]
  },
  {
   "cell_type": "markdown",
   "metadata": {},
   "source": [
    "<b>Check again columns"
   ]
  },
  {
   "cell_type": "code",
   "execution_count": 17,
   "metadata": {},
   "outputs": [
    {
     "data": {
      "text/plain": [
       "Index(['name', 'description', 'neighborhood_overview', 'host_location',\n",
       "       'host_about', 'host_response_rate', 'host_acceptance_rate',\n",
       "       'host_is_superhost', 'host_listings_count', 'host_total_listings_count',\n",
       "       'host_has_profile_pic', 'host_identity_verified',\n",
       "       'neighbourhood_group_cleansed', 'room_type', 'accommodates',\n",
       "       'bathrooms', 'bedrooms', 'beds', 'amenities', 'price', 'minimum_nights',\n",
       "       'maximum_nights', 'minimum_minimum_nights', 'maximum_minimum_nights',\n",
       "       'minimum_maximum_nights', 'maximum_maximum_nights',\n",
       "       'minimum_nights_avg_ntm', 'maximum_nights_avg_ntm', 'has_availability',\n",
       "       'availability_30', 'availability_60', 'availability_90',\n",
       "       'availability_365', 'number_of_reviews', 'number_of_reviews_ltm',\n",
       "       'number_of_reviews_l30d', 'review_scores_rating',\n",
       "       'review_scores_cleanliness', 'review_scores_checkin',\n",
       "       'review_scores_communication', 'review_scores_location',\n",
       "       'review_scores_value', 'instant_bookable',\n",
       "       'calculated_host_listings_count',\n",
       "       'calculated_host_listings_count_entire_homes',\n",
       "       'calculated_host_listings_count_private_rooms',\n",
       "       'calculated_host_listings_count_shared_rooms', 'reviews_per_month'],\n",
       "      dtype='object')"
      ]
     },
     "execution_count": 17,
     "metadata": {},
     "output_type": "execute_result"
    }
   ],
   "source": [
    "df.columns"
   ]
  },
  {
   "cell_type": "code",
   "execution_count": 18,
   "metadata": {},
   "outputs": [
    {
     "data": {
      "text/plain": [
       "name                                             object\n",
       "description                                      object\n",
       "neighborhood_overview                            object\n",
       "host_location                                    object\n",
       "host_about                                       object\n",
       "host_response_rate                              float64\n",
       "host_acceptance_rate                            float64\n",
       "host_is_superhost                                  bool\n",
       "host_listings_count                             float64\n",
       "host_total_listings_count                       float64\n",
       "host_has_profile_pic                               bool\n",
       "host_identity_verified                             bool\n",
       "neighbourhood_group_cleansed                     object\n",
       "room_type                                        object\n",
       "accommodates                                      int64\n",
       "bathrooms                                       float64\n",
       "bedrooms                                        float64\n",
       "beds                                            float64\n",
       "amenities                                        object\n",
       "price                                           float64\n",
       "minimum_nights                                    int64\n",
       "maximum_nights                                    int64\n",
       "minimum_minimum_nights                          float64\n",
       "maximum_minimum_nights                          float64\n",
       "minimum_maximum_nights                          float64\n",
       "maximum_maximum_nights                          float64\n",
       "minimum_nights_avg_ntm                          float64\n",
       "maximum_nights_avg_ntm                          float64\n",
       "has_availability                                   bool\n",
       "availability_30                                   int64\n",
       "availability_60                                   int64\n",
       "availability_90                                   int64\n",
       "availability_365                                  int64\n",
       "number_of_reviews                                 int64\n",
       "number_of_reviews_ltm                             int64\n",
       "number_of_reviews_l30d                            int64\n",
       "review_scores_rating                            float64\n",
       "review_scores_cleanliness                       float64\n",
       "review_scores_checkin                           float64\n",
       "review_scores_communication                     float64\n",
       "review_scores_location                          float64\n",
       "review_scores_value                             float64\n",
       "instant_bookable                                   bool\n",
       "calculated_host_listings_count                    int64\n",
       "calculated_host_listings_count_entire_homes       int64\n",
       "calculated_host_listings_count_private_rooms      int64\n",
       "calculated_host_listings_count_shared_rooms       int64\n",
       "reviews_per_month                               float64\n",
       "dtype: object"
      ]
     },
     "execution_count": 18,
     "metadata": {},
     "output_type": "execute_result"
    }
   ],
   "source": [
    "df.dtypes"
   ]
  },
  {
   "cell_type": "code",
   "execution_count": 19,
   "metadata": {},
   "outputs": [
    {
     "data": {
      "text/plain": [
       "0        Manhattan\n",
       "1         Brooklyn\n",
       "2         Brooklyn\n",
       "3        Manhattan\n",
       "4        Manhattan\n",
       "           ...    \n",
       "28017       Queens\n",
       "28018     Brooklyn\n",
       "28019     Brooklyn\n",
       "28020     Brooklyn\n",
       "28021       Queens\n",
       "Name: neighbourhood_group_cleansed, Length: 28022, dtype: object"
      ]
     },
     "execution_count": 19,
     "metadata": {},
     "output_type": "execute_result"
    }
   ],
   "source": [
    "df['neighbourhood_group_cleansed']"
   ]
  },
  {
   "cell_type": "code",
   "execution_count": 20,
   "metadata": {},
   "outputs": [
    {
     "data": {
      "text/plain": [
       "0                                    Skylit Midtown Castle\n",
       "1        Whole flr w/private bdrm, bath & kitchen(pls r...\n",
       "2                 Spacious Brooklyn Duplex, Patio + Garden\n",
       "3                         Large Furnished Room Near B'way　\n",
       "4                       Cozy Clean Guest Room - Family Apt\n",
       "                               ...                        \n",
       "28017                              Astoria Luxury suite 2A\n",
       "28018    Newly renovated suite in the heart of Williams...\n",
       "28019        Perfect Room to Stay in Brooklyn! Near Metro!\n",
       "28020         New Beautiful Modern One Bedroom in Brooklyn\n",
       "28021      Large, modern, private 1 bedroom in beach condo\n",
       "Name: name, Length: 28022, dtype: object"
      ]
     },
     "execution_count": 20,
     "metadata": {},
     "output_type": "execute_result"
    }
   ],
   "source": [
    "df['name']"
   ]
  },
  {
   "cell_type": "markdown",
   "metadata": {},
   "source": [
    "<b>Check which columns have missing data"
   ]
  },
  {
   "cell_type": "code",
   "execution_count": 21,
   "metadata": {},
   "outputs": [
    {
     "data": {
      "text/plain": [
       "name                                                5\n",
       "description                                       570\n",
       "neighborhood_overview                            9816\n",
       "host_location                                      60\n",
       "host_about                                      10945\n",
       "host_response_rate                              11843\n",
       "host_acceptance_rate                            11113\n",
       "host_is_superhost                                   0\n",
       "host_listings_count                                 0\n",
       "host_total_listings_count                           0\n",
       "host_has_profile_pic                                0\n",
       "host_identity_verified                              0\n",
       "neighbourhood_group_cleansed                        0\n",
       "room_type                                           0\n",
       "accommodates                                        0\n",
       "bathrooms                                           0\n",
       "bedrooms                                         2918\n",
       "beds                                             1354\n",
       "amenities                                           0\n",
       "price                                               0\n",
       "minimum_nights                                      0\n",
       "maximum_nights                                      0\n",
       "minimum_minimum_nights                              0\n",
       "maximum_minimum_nights                              0\n",
       "minimum_maximum_nights                              0\n",
       "maximum_maximum_nights                              0\n",
       "minimum_nights_avg_ntm                              0\n",
       "maximum_nights_avg_ntm                              0\n",
       "has_availability                                    0\n",
       "availability_30                                     0\n",
       "availability_60                                     0\n",
       "availability_90                                     0\n",
       "availability_365                                    0\n",
       "number_of_reviews                                   0\n",
       "number_of_reviews_ltm                               0\n",
       "number_of_reviews_l30d                              0\n",
       "review_scores_rating                                0\n",
       "review_scores_cleanliness                           0\n",
       "review_scores_checkin                               0\n",
       "review_scores_communication                         0\n",
       "review_scores_location                              0\n",
       "review_scores_value                                 0\n",
       "instant_bookable                                    0\n",
       "calculated_host_listings_count                      0\n",
       "calculated_host_listings_count_entire_homes         0\n",
       "calculated_host_listings_count_private_rooms        0\n",
       "calculated_host_listings_count_shared_rooms         0\n",
       "reviews_per_month                                   0\n",
       "dtype: int64"
      ]
     },
     "execution_count": 21,
     "metadata": {},
     "output_type": "execute_result"
    }
   ],
   "source": [
    "nan_count = np.sum(df.isnull(), axis = 0)\n",
    "nan_count"
   ]
  },
  {
   "cell_type": "code",
   "execution_count": 22,
   "metadata": {},
   "outputs": [
    {
     "data": {
      "text/plain": [
       "name                                             True\n",
       "description                                      True\n",
       "neighborhood_overview                            True\n",
       "host_location                                    True\n",
       "host_about                                       True\n",
       "host_response_rate                               True\n",
       "host_acceptance_rate                             True\n",
       "host_is_superhost                               False\n",
       "host_listings_count                             False\n",
       "host_total_listings_count                       False\n",
       "host_has_profile_pic                            False\n",
       "host_identity_verified                          False\n",
       "neighbourhood_group_cleansed                    False\n",
       "room_type                                       False\n",
       "accommodates                                    False\n",
       "bathrooms                                       False\n",
       "bedrooms                                         True\n",
       "beds                                             True\n",
       "amenities                                       False\n",
       "price                                           False\n",
       "minimum_nights                                  False\n",
       "maximum_nights                                  False\n",
       "minimum_minimum_nights                          False\n",
       "maximum_minimum_nights                          False\n",
       "minimum_maximum_nights                          False\n",
       "maximum_maximum_nights                          False\n",
       "minimum_nights_avg_ntm                          False\n",
       "maximum_nights_avg_ntm                          False\n",
       "has_availability                                False\n",
       "availability_30                                 False\n",
       "availability_60                                 False\n",
       "availability_90                                 False\n",
       "availability_365                                False\n",
       "number_of_reviews                               False\n",
       "number_of_reviews_ltm                           False\n",
       "number_of_reviews_l30d                          False\n",
       "review_scores_rating                            False\n",
       "review_scores_cleanliness                       False\n",
       "review_scores_checkin                           False\n",
       "review_scores_communication                     False\n",
       "review_scores_location                          False\n",
       "review_scores_value                             False\n",
       "instant_bookable                                False\n",
       "calculated_host_listings_count                  False\n",
       "calculated_host_listings_count_entire_homes     False\n",
       "calculated_host_listings_count_private_rooms    False\n",
       "calculated_host_listings_count_shared_rooms     False\n",
       "reviews_per_month                               False\n",
       "dtype: bool"
      ]
     },
     "execution_count": 22,
     "metadata": {},
     "output_type": "execute_result"
    }
   ],
   "source": [
    "nan_detected = nan_count!=0\n",
    "nan_detected"
   ]
  },
  {
   "cell_type": "markdown",
   "metadata": {},
   "source": [
    "<b>Review:</b>\n",
    "\n",
    "Since replacing the missing values with the mean only makes sense for the columns that conatin numerical values (and not for strings), let's create another condition: the type of the column must be int or float. \n",
    "\n",
    "I will create a series that conatins \"True\" if the type of the columns is either int64 or float64.\n",
    "\n",
    "I will combine the two binary series (nan_detected and is_int_or_float) into a new series named to_impute. It will contain the value \"True\" if a column contains missing values and is of type \"int\" or \"float\". "
   ]
  },
  {
   "cell_type": "code",
   "execution_count": 23,
   "metadata": {},
   "outputs": [
    {
     "data": {
      "text/plain": [
       "name                                            False\n",
       "description                                     False\n",
       "neighborhood_overview                           False\n",
       "host_location                                   False\n",
       "host_about                                      False\n",
       "host_response_rate                               True\n",
       "host_acceptance_rate                             True\n",
       "host_is_superhost                               False\n",
       "host_listings_count                              True\n",
       "host_total_listings_count                        True\n",
       "host_has_profile_pic                            False\n",
       "host_identity_verified                          False\n",
       "neighbourhood_group_cleansed                    False\n",
       "room_type                                       False\n",
       "accommodates                                     True\n",
       "bathrooms                                        True\n",
       "bedrooms                                         True\n",
       "beds                                             True\n",
       "amenities                                       False\n",
       "price                                            True\n",
       "minimum_nights                                   True\n",
       "maximum_nights                                   True\n",
       "minimum_minimum_nights                           True\n",
       "maximum_minimum_nights                           True\n",
       "minimum_maximum_nights                           True\n",
       "maximum_maximum_nights                           True\n",
       "minimum_nights_avg_ntm                           True\n",
       "maximum_nights_avg_ntm                           True\n",
       "has_availability                                False\n",
       "availability_30                                  True\n",
       "availability_60                                  True\n",
       "availability_90                                  True\n",
       "availability_365                                 True\n",
       "number_of_reviews                                True\n",
       "number_of_reviews_ltm                            True\n",
       "number_of_reviews_l30d                           True\n",
       "review_scores_rating                             True\n",
       "review_scores_cleanliness                        True\n",
       "review_scores_checkin                            True\n",
       "review_scores_communication                      True\n",
       "review_scores_location                           True\n",
       "review_scores_value                              True\n",
       "instant_bookable                                False\n",
       "calculated_host_listings_count                   True\n",
       "calculated_host_listings_count_entire_homes      True\n",
       "calculated_host_listings_count_private_rooms     True\n",
       "calculated_host_listings_count_shared_rooms      True\n",
       "reviews_per_month                                True\n",
       "dtype: bool"
      ]
     },
     "execution_count": 23,
     "metadata": {},
     "output_type": "execute_result"
    }
   ],
   "source": [
    "is_int_or_float = (df.dtypes == 'int64') | (df.dtypes == 'float64')\n",
    "is_int_or_float"
   ]
  },
  {
   "cell_type": "code",
   "execution_count": 24,
   "metadata": {},
   "outputs": [
    {
     "data": {
      "text/plain": [
       "name                                            False\n",
       "description                                     False\n",
       "neighborhood_overview                           False\n",
       "host_location                                   False\n",
       "host_about                                      False\n",
       "host_response_rate                               True\n",
       "host_acceptance_rate                             True\n",
       "host_is_superhost                               False\n",
       "host_listings_count                             False\n",
       "host_total_listings_count                       False\n",
       "host_has_profile_pic                            False\n",
       "host_identity_verified                          False\n",
       "neighbourhood_group_cleansed                    False\n",
       "room_type                                       False\n",
       "accommodates                                    False\n",
       "bathrooms                                       False\n",
       "bedrooms                                         True\n",
       "beds                                             True\n",
       "amenities                                       False\n",
       "price                                           False\n",
       "minimum_nights                                  False\n",
       "maximum_nights                                  False\n",
       "minimum_minimum_nights                          False\n",
       "maximum_minimum_nights                          False\n",
       "minimum_maximum_nights                          False\n",
       "maximum_maximum_nights                          False\n",
       "minimum_nights_avg_ntm                          False\n",
       "maximum_nights_avg_ntm                          False\n",
       "has_availability                                False\n",
       "availability_30                                 False\n",
       "availability_60                                 False\n",
       "availability_90                                 False\n",
       "availability_365                                False\n",
       "number_of_reviews                               False\n",
       "number_of_reviews_ltm                           False\n",
       "number_of_reviews_l30d                          False\n",
       "review_scores_rating                            False\n",
       "review_scores_cleanliness                       False\n",
       "review_scores_checkin                           False\n",
       "review_scores_communication                     False\n",
       "review_scores_location                          False\n",
       "review_scores_value                             False\n",
       "instant_bookable                                False\n",
       "calculated_host_listings_count                  False\n",
       "calculated_host_listings_count_entire_homes     False\n",
       "calculated_host_listings_count_private_rooms    False\n",
       "calculated_host_listings_count_shared_rooms     False\n",
       "reviews_per_month                               False\n",
       "dtype: bool"
      ]
     },
     "execution_count": 24,
     "metadata": {},
     "output_type": "execute_result"
    }
   ],
   "source": [
    "to_impute = nan_detected & is_int_or_float\n",
    "to_impute"
   ]
  },
  {
   "cell_type": "markdown",
   "metadata": {},
   "source": [
    "<b>Let's display a list that contains just the selected column names contained in to_impute"
   ]
  },
  {
   "cell_type": "code",
   "execution_count": 25,
   "metadata": {},
   "outputs": [
    {
     "data": {
      "text/plain": [
       "Index(['host_response_rate', 'host_acceptance_rate', 'bedrooms', 'beds'], dtype='object')"
      ]
     },
     "execution_count": 25,
     "metadata": {},
     "output_type": "execute_result"
    }
   ],
   "source": [
    "df.columns[to_impute]"
   ]
  },
  {
   "cell_type": "code",
   "execution_count": 26,
   "metadata": {},
   "outputs": [],
   "source": [
    "to_impute_selected = ['host_response_rate', 'host_acceptance_rate', 'bedrooms', 'beds']"
   ]
  },
  {
   "cell_type": "markdown",
   "metadata": {},
   "source": [
    "<b>Keeping record of the missingness: creating dummy variables</b>\n",
    "\n",
    "For every column listed in to_impute_selected, create a new corresponding column with the name <original-column-name>_na. \n",
    "These columns will contain a \"True\" or \"False\" value in place of NaN. "
   ]
  },
  {
   "cell_type": "code",
   "execution_count": 27,
   "metadata": {},
   "outputs": [],
   "source": [
    "for column_name in to_impute_selected:\n",
    "    df[column_name + '_na'] = df[column_name].isnull()"
   ]
  },
  {
   "cell_type": "markdown",
   "metadata": {},
   "source": [
    "<b>Check that the DataFrame contains the new variables</b>"
   ]
  },
  {
   "cell_type": "code",
   "execution_count": 28,
   "metadata": {},
   "outputs": [
    {
     "data": {
      "text/html": [
       "<div>\n",
       "<style scoped>\n",
       "    .dataframe tbody tr th:only-of-type {\n",
       "        vertical-align: middle;\n",
       "    }\n",
       "\n",
       "    .dataframe tbody tr th {\n",
       "        vertical-align: top;\n",
       "    }\n",
       "\n",
       "    .dataframe thead th {\n",
       "        text-align: right;\n",
       "    }\n",
       "</style>\n",
       "<table border=\"1\" class=\"dataframe\">\n",
       "  <thead>\n",
       "    <tr style=\"text-align: right;\">\n",
       "      <th></th>\n",
       "      <th>name</th>\n",
       "      <th>description</th>\n",
       "      <th>neighborhood_overview</th>\n",
       "      <th>host_location</th>\n",
       "      <th>host_about</th>\n",
       "      <th>host_response_rate</th>\n",
       "      <th>host_acceptance_rate</th>\n",
       "      <th>host_is_superhost</th>\n",
       "      <th>host_listings_count</th>\n",
       "      <th>host_total_listings_count</th>\n",
       "      <th>...</th>\n",
       "      <th>instant_bookable</th>\n",
       "      <th>calculated_host_listings_count</th>\n",
       "      <th>calculated_host_listings_count_entire_homes</th>\n",
       "      <th>calculated_host_listings_count_private_rooms</th>\n",
       "      <th>calculated_host_listings_count_shared_rooms</th>\n",
       "      <th>reviews_per_month</th>\n",
       "      <th>host_response_rate_na</th>\n",
       "      <th>host_acceptance_rate_na</th>\n",
       "      <th>bedrooms_na</th>\n",
       "      <th>beds_na</th>\n",
       "    </tr>\n",
       "  </thead>\n",
       "  <tbody>\n",
       "    <tr>\n",
       "      <th>0</th>\n",
       "      <td>Skylit Midtown Castle</td>\n",
       "      <td>Beautiful, spacious skylit studio in the heart...</td>\n",
       "      <td>Centrally located in the heart of Manhattan ju...</td>\n",
       "      <td>New York, New York, United States</td>\n",
       "      <td>A New Yorker since 2000! My passion is creatin...</td>\n",
       "      <td>0.80</td>\n",
       "      <td>0.17</td>\n",
       "      <td>True</td>\n",
       "      <td>8.0</td>\n",
       "      <td>8.0</td>\n",
       "      <td>...</td>\n",
       "      <td>False</td>\n",
       "      <td>3</td>\n",
       "      <td>3</td>\n",
       "      <td>0</td>\n",
       "      <td>0</td>\n",
       "      <td>0.33</td>\n",
       "      <td>False</td>\n",
       "      <td>False</td>\n",
       "      <td>True</td>\n",
       "      <td>False</td>\n",
       "    </tr>\n",
       "    <tr>\n",
       "      <th>1</th>\n",
       "      <td>Whole flr w/private bdrm, bath &amp; kitchen(pls r...</td>\n",
       "      <td>Enjoy 500 s.f. top floor in 1899 brownstone, w...</td>\n",
       "      <td>Just the right mix of urban center and local n...</td>\n",
       "      <td>New York, New York, United States</td>\n",
       "      <td>Laid-back Native New Yorker (formerly bi-coast...</td>\n",
       "      <td>0.09</td>\n",
       "      <td>0.69</td>\n",
       "      <td>True</td>\n",
       "      <td>1.0</td>\n",
       "      <td>1.0</td>\n",
       "      <td>...</td>\n",
       "      <td>False</td>\n",
       "      <td>1</td>\n",
       "      <td>1</td>\n",
       "      <td>0</td>\n",
       "      <td>0</td>\n",
       "      <td>4.86</td>\n",
       "      <td>False</td>\n",
       "      <td>False</td>\n",
       "      <td>False</td>\n",
       "      <td>False</td>\n",
       "    </tr>\n",
       "    <tr>\n",
       "      <th>2</th>\n",
       "      <td>Spacious Brooklyn Duplex, Patio + Garden</td>\n",
       "      <td>We welcome you to stay in our lovely 2 br dupl...</td>\n",
       "      <td>NaN</td>\n",
       "      <td>Brooklyn, New York, United States</td>\n",
       "      <td>Rebecca is an artist/designer, and Henoch is i...</td>\n",
       "      <td>1.00</td>\n",
       "      <td>0.25</td>\n",
       "      <td>True</td>\n",
       "      <td>1.0</td>\n",
       "      <td>1.0</td>\n",
       "      <td>...</td>\n",
       "      <td>False</td>\n",
       "      <td>1</td>\n",
       "      <td>1</td>\n",
       "      <td>0</td>\n",
       "      <td>0</td>\n",
       "      <td>0.02</td>\n",
       "      <td>False</td>\n",
       "      <td>False</td>\n",
       "      <td>False</td>\n",
       "      <td>False</td>\n",
       "    </tr>\n",
       "    <tr>\n",
       "      <th>3</th>\n",
       "      <td>Large Furnished Room Near B'way</td>\n",
       "      <td>Please don’t expect the luxury here just a bas...</td>\n",
       "      <td>Theater district, many restaurants around here.</td>\n",
       "      <td>New York, New York, United States</td>\n",
       "      <td>I used to work for a financial industry but no...</td>\n",
       "      <td>1.00</td>\n",
       "      <td>1.00</td>\n",
       "      <td>True</td>\n",
       "      <td>1.0</td>\n",
       "      <td>1.0</td>\n",
       "      <td>...</td>\n",
       "      <td>False</td>\n",
       "      <td>1</td>\n",
       "      <td>0</td>\n",
       "      <td>1</td>\n",
       "      <td>0</td>\n",
       "      <td>3.68</td>\n",
       "      <td>False</td>\n",
       "      <td>False</td>\n",
       "      <td>False</td>\n",
       "      <td>False</td>\n",
       "    </tr>\n",
       "    <tr>\n",
       "      <th>4</th>\n",
       "      <td>Cozy Clean Guest Room - Family Apt</td>\n",
       "      <td>Our best guests are seeking a safe, clean, spa...</td>\n",
       "      <td>Our neighborhood is full of restaurants and ca...</td>\n",
       "      <td>New York, New York, United States</td>\n",
       "      <td>Welcome to family life with my oldest two away...</td>\n",
       "      <td>NaN</td>\n",
       "      <td>NaN</td>\n",
       "      <td>True</td>\n",
       "      <td>1.0</td>\n",
       "      <td>1.0</td>\n",
       "      <td>...</td>\n",
       "      <td>False</td>\n",
       "      <td>1</td>\n",
       "      <td>0</td>\n",
       "      <td>1</td>\n",
       "      <td>0</td>\n",
       "      <td>0.87</td>\n",
       "      <td>True</td>\n",
       "      <td>True</td>\n",
       "      <td>False</td>\n",
       "      <td>False</td>\n",
       "    </tr>\n",
       "  </tbody>\n",
       "</table>\n",
       "<p>5 rows × 52 columns</p>\n",
       "</div>"
      ],
      "text/plain": [
       "                                                name  \\\n",
       "0                              Skylit Midtown Castle   \n",
       "1  Whole flr w/private bdrm, bath & kitchen(pls r...   \n",
       "2           Spacious Brooklyn Duplex, Patio + Garden   \n",
       "3                   Large Furnished Room Near B'way　   \n",
       "4                 Cozy Clean Guest Room - Family Apt   \n",
       "\n",
       "                                         description  \\\n",
       "0  Beautiful, spacious skylit studio in the heart...   \n",
       "1  Enjoy 500 s.f. top floor in 1899 brownstone, w...   \n",
       "2  We welcome you to stay in our lovely 2 br dupl...   \n",
       "3  Please don’t expect the luxury here just a bas...   \n",
       "4  Our best guests are seeking a safe, clean, spa...   \n",
       "\n",
       "                               neighborhood_overview  \\\n",
       "0  Centrally located in the heart of Manhattan ju...   \n",
       "1  Just the right mix of urban center and local n...   \n",
       "2                                                NaN   \n",
       "3    Theater district, many restaurants around here.   \n",
       "4  Our neighborhood is full of restaurants and ca...   \n",
       "\n",
       "                       host_location  \\\n",
       "0  New York, New York, United States   \n",
       "1  New York, New York, United States   \n",
       "2  Brooklyn, New York, United States   \n",
       "3  New York, New York, United States   \n",
       "4  New York, New York, United States   \n",
       "\n",
       "                                          host_about  host_response_rate  \\\n",
       "0  A New Yorker since 2000! My passion is creatin...                0.80   \n",
       "1  Laid-back Native New Yorker (formerly bi-coast...                0.09   \n",
       "2  Rebecca is an artist/designer, and Henoch is i...                1.00   \n",
       "3  I used to work for a financial industry but no...                1.00   \n",
       "4  Welcome to family life with my oldest two away...                 NaN   \n",
       "\n",
       "   host_acceptance_rate  host_is_superhost  host_listings_count  \\\n",
       "0                  0.17               True                  8.0   \n",
       "1                  0.69               True                  1.0   \n",
       "2                  0.25               True                  1.0   \n",
       "3                  1.00               True                  1.0   \n",
       "4                   NaN               True                  1.0   \n",
       "\n",
       "   host_total_listings_count  ...  instant_bookable  \\\n",
       "0                        8.0  ...             False   \n",
       "1                        1.0  ...             False   \n",
       "2                        1.0  ...             False   \n",
       "3                        1.0  ...             False   \n",
       "4                        1.0  ...             False   \n",
       "\n",
       "   calculated_host_listings_count calculated_host_listings_count_entire_homes  \\\n",
       "0                               3                                           3   \n",
       "1                               1                                           1   \n",
       "2                               1                                           1   \n",
       "3                               1                                           0   \n",
       "4                               1                                           0   \n",
       "\n",
       "  calculated_host_listings_count_private_rooms  \\\n",
       "0                                            0   \n",
       "1                                            0   \n",
       "2                                            0   \n",
       "3                                            1   \n",
       "4                                            1   \n",
       "\n",
       "   calculated_host_listings_count_shared_rooms  reviews_per_month  \\\n",
       "0                                            0               0.33   \n",
       "1                                            0               4.86   \n",
       "2                                            0               0.02   \n",
       "3                                            0               3.68   \n",
       "4                                            0               0.87   \n",
       "\n",
       "   host_response_rate_na  host_acceptance_rate_na bedrooms_na  beds_na  \n",
       "0                  False                    False        True    False  \n",
       "1                  False                    False       False    False  \n",
       "2                  False                    False       False    False  \n",
       "3                  False                    False       False    False  \n",
       "4                   True                     True       False    False  \n",
       "\n",
       "[5 rows x 52 columns]"
      ]
     },
     "execution_count": 28,
     "metadata": {},
     "output_type": "execute_result"
    }
   ],
   "source": [
    "df.head(5)"
   ]
  },
  {
   "cell_type": "markdown",
   "metadata": {},
   "source": [
    "<b>Replacing the missing values with mean values of the column</b>\n",
    "\n",
    "For every column listed in to_impute_selected, I would fill the missing values with the corresponding mean of all values in the column. I will not create new columns. Just do replacement. "
   ]
  },
  {
   "cell_type": "code",
   "execution_count": 29,
   "metadata": {},
   "outputs": [],
   "source": [
    "for column_name in to_impute_selected:\n",
    "    df[column_name].fillna(np.mean(df[column_name]), inplace = True)\n"
   ]
  },
  {
   "cell_type": "code",
   "execution_count": 30,
   "metadata": {},
   "outputs": [
    {
     "data": {
      "text/html": [
       "<div>\n",
       "<style scoped>\n",
       "    .dataframe tbody tr th:only-of-type {\n",
       "        vertical-align: middle;\n",
       "    }\n",
       "\n",
       "    .dataframe tbody tr th {\n",
       "        vertical-align: top;\n",
       "    }\n",
       "\n",
       "    .dataframe thead th {\n",
       "        text-align: right;\n",
       "    }\n",
       "</style>\n",
       "<table border=\"1\" class=\"dataframe\">\n",
       "  <thead>\n",
       "    <tr style=\"text-align: right;\">\n",
       "      <th></th>\n",
       "      <th>name</th>\n",
       "      <th>description</th>\n",
       "      <th>neighborhood_overview</th>\n",
       "      <th>host_location</th>\n",
       "      <th>host_about</th>\n",
       "      <th>host_response_rate</th>\n",
       "      <th>host_acceptance_rate</th>\n",
       "      <th>host_is_superhost</th>\n",
       "      <th>host_listings_count</th>\n",
       "      <th>host_total_listings_count</th>\n",
       "      <th>...</th>\n",
       "      <th>instant_bookable</th>\n",
       "      <th>calculated_host_listings_count</th>\n",
       "      <th>calculated_host_listings_count_entire_homes</th>\n",
       "      <th>calculated_host_listings_count_private_rooms</th>\n",
       "      <th>calculated_host_listings_count_shared_rooms</th>\n",
       "      <th>reviews_per_month</th>\n",
       "      <th>host_response_rate_na</th>\n",
       "      <th>host_acceptance_rate_na</th>\n",
       "      <th>bedrooms_na</th>\n",
       "      <th>beds_na</th>\n",
       "    </tr>\n",
       "  </thead>\n",
       "  <tbody>\n",
       "    <tr>\n",
       "      <th>0</th>\n",
       "      <td>Skylit Midtown Castle</td>\n",
       "      <td>Beautiful, spacious skylit studio in the heart...</td>\n",
       "      <td>Centrally located in the heart of Manhattan ju...</td>\n",
       "      <td>New York, New York, United States</td>\n",
       "      <td>A New Yorker since 2000! My passion is creatin...</td>\n",
       "      <td>0.800000</td>\n",
       "      <td>0.170000</td>\n",
       "      <td>True</td>\n",
       "      <td>8.0</td>\n",
       "      <td>8.0</td>\n",
       "      <td>...</td>\n",
       "      <td>False</td>\n",
       "      <td>3</td>\n",
       "      <td>3</td>\n",
       "      <td>0</td>\n",
       "      <td>0</td>\n",
       "      <td>0.33</td>\n",
       "      <td>False</td>\n",
       "      <td>False</td>\n",
       "      <td>True</td>\n",
       "      <td>False</td>\n",
       "    </tr>\n",
       "    <tr>\n",
       "      <th>1</th>\n",
       "      <td>Whole flr w/private bdrm, bath &amp; kitchen(pls r...</td>\n",
       "      <td>Enjoy 500 s.f. top floor in 1899 brownstone, w...</td>\n",
       "      <td>Just the right mix of urban center and local n...</td>\n",
       "      <td>New York, New York, United States</td>\n",
       "      <td>Laid-back Native New Yorker (formerly bi-coast...</td>\n",
       "      <td>0.090000</td>\n",
       "      <td>0.690000</td>\n",
       "      <td>True</td>\n",
       "      <td>1.0</td>\n",
       "      <td>1.0</td>\n",
       "      <td>...</td>\n",
       "      <td>False</td>\n",
       "      <td>1</td>\n",
       "      <td>1</td>\n",
       "      <td>0</td>\n",
       "      <td>0</td>\n",
       "      <td>4.86</td>\n",
       "      <td>False</td>\n",
       "      <td>False</td>\n",
       "      <td>False</td>\n",
       "      <td>False</td>\n",
       "    </tr>\n",
       "    <tr>\n",
       "      <th>2</th>\n",
       "      <td>Spacious Brooklyn Duplex, Patio + Garden</td>\n",
       "      <td>We welcome you to stay in our lovely 2 br dupl...</td>\n",
       "      <td>NaN</td>\n",
       "      <td>Brooklyn, New York, United States</td>\n",
       "      <td>Rebecca is an artist/designer, and Henoch is i...</td>\n",
       "      <td>1.000000</td>\n",
       "      <td>0.250000</td>\n",
       "      <td>True</td>\n",
       "      <td>1.0</td>\n",
       "      <td>1.0</td>\n",
       "      <td>...</td>\n",
       "      <td>False</td>\n",
       "      <td>1</td>\n",
       "      <td>1</td>\n",
       "      <td>0</td>\n",
       "      <td>0</td>\n",
       "      <td>0.02</td>\n",
       "      <td>False</td>\n",
       "      <td>False</td>\n",
       "      <td>False</td>\n",
       "      <td>False</td>\n",
       "    </tr>\n",
       "    <tr>\n",
       "      <th>3</th>\n",
       "      <td>Large Furnished Room Near B'way</td>\n",
       "      <td>Please don’t expect the luxury here just a bas...</td>\n",
       "      <td>Theater district, many restaurants around here.</td>\n",
       "      <td>New York, New York, United States</td>\n",
       "      <td>I used to work for a financial industry but no...</td>\n",
       "      <td>1.000000</td>\n",
       "      <td>1.000000</td>\n",
       "      <td>True</td>\n",
       "      <td>1.0</td>\n",
       "      <td>1.0</td>\n",
       "      <td>...</td>\n",
       "      <td>False</td>\n",
       "      <td>1</td>\n",
       "      <td>0</td>\n",
       "      <td>1</td>\n",
       "      <td>0</td>\n",
       "      <td>3.68</td>\n",
       "      <td>False</td>\n",
       "      <td>False</td>\n",
       "      <td>False</td>\n",
       "      <td>False</td>\n",
       "    </tr>\n",
       "    <tr>\n",
       "      <th>4</th>\n",
       "      <td>Cozy Clean Guest Room - Family Apt</td>\n",
       "      <td>Our best guests are seeking a safe, clean, spa...</td>\n",
       "      <td>Our neighborhood is full of restaurants and ca...</td>\n",
       "      <td>New York, New York, United States</td>\n",
       "      <td>Welcome to family life with my oldest two away...</td>\n",
       "      <td>0.906901</td>\n",
       "      <td>0.791953</td>\n",
       "      <td>True</td>\n",
       "      <td>1.0</td>\n",
       "      <td>1.0</td>\n",
       "      <td>...</td>\n",
       "      <td>False</td>\n",
       "      <td>1</td>\n",
       "      <td>0</td>\n",
       "      <td>1</td>\n",
       "      <td>0</td>\n",
       "      <td>0.87</td>\n",
       "      <td>True</td>\n",
       "      <td>True</td>\n",
       "      <td>False</td>\n",
       "      <td>False</td>\n",
       "    </tr>\n",
       "  </tbody>\n",
       "</table>\n",
       "<p>5 rows × 52 columns</p>\n",
       "</div>"
      ],
      "text/plain": [
       "                                                name  \\\n",
       "0                              Skylit Midtown Castle   \n",
       "1  Whole flr w/private bdrm, bath & kitchen(pls r...   \n",
       "2           Spacious Brooklyn Duplex, Patio + Garden   \n",
       "3                   Large Furnished Room Near B'way　   \n",
       "4                 Cozy Clean Guest Room - Family Apt   \n",
       "\n",
       "                                         description  \\\n",
       "0  Beautiful, spacious skylit studio in the heart...   \n",
       "1  Enjoy 500 s.f. top floor in 1899 brownstone, w...   \n",
       "2  We welcome you to stay in our lovely 2 br dupl...   \n",
       "3  Please don’t expect the luxury here just a bas...   \n",
       "4  Our best guests are seeking a safe, clean, spa...   \n",
       "\n",
       "                               neighborhood_overview  \\\n",
       "0  Centrally located in the heart of Manhattan ju...   \n",
       "1  Just the right mix of urban center and local n...   \n",
       "2                                                NaN   \n",
       "3    Theater district, many restaurants around here.   \n",
       "4  Our neighborhood is full of restaurants and ca...   \n",
       "\n",
       "                       host_location  \\\n",
       "0  New York, New York, United States   \n",
       "1  New York, New York, United States   \n",
       "2  Brooklyn, New York, United States   \n",
       "3  New York, New York, United States   \n",
       "4  New York, New York, United States   \n",
       "\n",
       "                                          host_about  host_response_rate  \\\n",
       "0  A New Yorker since 2000! My passion is creatin...            0.800000   \n",
       "1  Laid-back Native New Yorker (formerly bi-coast...            0.090000   \n",
       "2  Rebecca is an artist/designer, and Henoch is i...            1.000000   \n",
       "3  I used to work for a financial industry but no...            1.000000   \n",
       "4  Welcome to family life with my oldest two away...            0.906901   \n",
       "\n",
       "   host_acceptance_rate  host_is_superhost  host_listings_count  \\\n",
       "0              0.170000               True                  8.0   \n",
       "1              0.690000               True                  1.0   \n",
       "2              0.250000               True                  1.0   \n",
       "3              1.000000               True                  1.0   \n",
       "4              0.791953               True                  1.0   \n",
       "\n",
       "   host_total_listings_count  ...  instant_bookable  \\\n",
       "0                        8.0  ...             False   \n",
       "1                        1.0  ...             False   \n",
       "2                        1.0  ...             False   \n",
       "3                        1.0  ...             False   \n",
       "4                        1.0  ...             False   \n",
       "\n",
       "   calculated_host_listings_count calculated_host_listings_count_entire_homes  \\\n",
       "0                               3                                           3   \n",
       "1                               1                                           1   \n",
       "2                               1                                           1   \n",
       "3                               1                                           0   \n",
       "4                               1                                           0   \n",
       "\n",
       "  calculated_host_listings_count_private_rooms  \\\n",
       "0                                            0   \n",
       "1                                            0   \n",
       "2                                            0   \n",
       "3                                            1   \n",
       "4                                            1   \n",
       "\n",
       "   calculated_host_listings_count_shared_rooms  reviews_per_month  \\\n",
       "0                                            0               0.33   \n",
       "1                                            0               4.86   \n",
       "2                                            0               0.02   \n",
       "3                                            0               3.68   \n",
       "4                                            0               0.87   \n",
       "\n",
       "   host_response_rate_na  host_acceptance_rate_na bedrooms_na  beds_na  \n",
       "0                  False                    False        True    False  \n",
       "1                  False                    False       False    False  \n",
       "2                  False                    False       False    False  \n",
       "3                  False                    False       False    False  \n",
       "4                   True                     True       False    False  \n",
       "\n",
       "[5 rows x 52 columns]"
      ]
     },
     "execution_count": 30,
     "metadata": {},
     "output_type": "execute_result"
    }
   ],
   "source": [
    "df.head()"
   ]
  },
  {
   "cell_type": "markdown",
   "metadata": {},
   "source": [
    "<b>I check my results below.</b>\n",
    "The code displays the count of missing values for each of the selected columns."
   ]
  },
  {
   "cell_type": "code",
   "execution_count": 31,
   "metadata": {},
   "outputs": [
    {
     "name": "stdout",
     "output_type": "stream",
     "text": [
      "host_response_rate missing values count :0\n",
      "host_acceptance_rate missing values count :0\n",
      "bedrooms missing values count :0\n",
      "beds missing values count :0\n"
     ]
    }
   ],
   "source": [
    "for column_name in to_impute_selected:\n",
    "    print(\"{} missing values count :{}\".format(column_name, np.sum(df[column_name].isnull(), axis = 0)))"
   ]
  },
  {
   "cell_type": "markdown",
   "metadata": {},
   "source": [
    "<b>Handle Outliers: </b>\n",
    "<b>I will detect and replace outliers in the data using winsorization</b>"
   ]
  },
  {
   "cell_type": "code",
   "execution_count": 32,
   "metadata": {},
   "outputs": [
    {
     "data": {
      "text/plain": [
       "0         150.0\n",
       "1          75.0\n",
       "2         275.0\n",
       "3          68.0\n",
       "4          75.0\n",
       "          ...  \n",
       "28017      89.0\n",
       "28018    1000.0\n",
       "28019      64.0\n",
       "28020      84.0\n",
       "28021      70.0\n",
       "Name: price, Length: 28022, dtype: float64"
      ]
     },
     "execution_count": 32,
     "metadata": {},
     "output_type": "execute_result"
    }
   ],
   "source": [
    "df['price']"
   ]
  },
  {
   "cell_type": "markdown",
   "metadata": {},
   "source": [
    "<b>Take care of outliers:</b> \n",
    "I will create a new version of the price column, named \"label_price\", in which I will replace the top and bottom 1% outlier values with the corresponding percentile value. I will add this new column to my data frame."
   ]
  },
  {
   "cell_type": "code",
   "execution_count": 33,
   "metadata": {},
   "outputs": [],
   "source": [
    "import scipy.stats as stats\n",
    "df['label_price'] = stats.mstats.winsorize(df['price'], limits=[0.01, 0.01])"
   ]
  },
  {
   "cell_type": "markdown",
   "metadata": {},
   "source": [
    "<b>Verify</b>\n",
    "Let's verify that the new column label_price was added to my data frame."
   ]
  },
  {
   "cell_type": "code",
   "execution_count": 34,
   "metadata": {},
   "outputs": [
    {
     "data": {
      "text/html": [
       "<div>\n",
       "<style scoped>\n",
       "    .dataframe tbody tr th:only-of-type {\n",
       "        vertical-align: middle;\n",
       "    }\n",
       "\n",
       "    .dataframe tbody tr th {\n",
       "        vertical-align: top;\n",
       "    }\n",
       "\n",
       "    .dataframe thead th {\n",
       "        text-align: right;\n",
       "    }\n",
       "</style>\n",
       "<table border=\"1\" class=\"dataframe\">\n",
       "  <thead>\n",
       "    <tr style=\"text-align: right;\">\n",
       "      <th></th>\n",
       "      <th>name</th>\n",
       "      <th>description</th>\n",
       "      <th>neighborhood_overview</th>\n",
       "      <th>host_location</th>\n",
       "      <th>host_about</th>\n",
       "      <th>host_response_rate</th>\n",
       "      <th>host_acceptance_rate</th>\n",
       "      <th>host_is_superhost</th>\n",
       "      <th>host_listings_count</th>\n",
       "      <th>host_total_listings_count</th>\n",
       "      <th>...</th>\n",
       "      <th>calculated_host_listings_count</th>\n",
       "      <th>calculated_host_listings_count_entire_homes</th>\n",
       "      <th>calculated_host_listings_count_private_rooms</th>\n",
       "      <th>calculated_host_listings_count_shared_rooms</th>\n",
       "      <th>reviews_per_month</th>\n",
       "      <th>host_response_rate_na</th>\n",
       "      <th>host_acceptance_rate_na</th>\n",
       "      <th>bedrooms_na</th>\n",
       "      <th>beds_na</th>\n",
       "      <th>label_price</th>\n",
       "    </tr>\n",
       "  </thead>\n",
       "  <tbody>\n",
       "    <tr>\n",
       "      <th>0</th>\n",
       "      <td>Skylit Midtown Castle</td>\n",
       "      <td>Beautiful, spacious skylit studio in the heart...</td>\n",
       "      <td>Centrally located in the heart of Manhattan ju...</td>\n",
       "      <td>New York, New York, United States</td>\n",
       "      <td>A New Yorker since 2000! My passion is creatin...</td>\n",
       "      <td>0.800000</td>\n",
       "      <td>0.170000</td>\n",
       "      <td>True</td>\n",
       "      <td>8.0</td>\n",
       "      <td>8.0</td>\n",
       "      <td>...</td>\n",
       "      <td>3</td>\n",
       "      <td>3</td>\n",
       "      <td>0</td>\n",
       "      <td>0</td>\n",
       "      <td>0.33</td>\n",
       "      <td>False</td>\n",
       "      <td>False</td>\n",
       "      <td>True</td>\n",
       "      <td>False</td>\n",
       "      <td>150.0</td>\n",
       "    </tr>\n",
       "    <tr>\n",
       "      <th>1</th>\n",
       "      <td>Whole flr w/private bdrm, bath &amp; kitchen(pls r...</td>\n",
       "      <td>Enjoy 500 s.f. top floor in 1899 brownstone, w...</td>\n",
       "      <td>Just the right mix of urban center and local n...</td>\n",
       "      <td>New York, New York, United States</td>\n",
       "      <td>Laid-back Native New Yorker (formerly bi-coast...</td>\n",
       "      <td>0.090000</td>\n",
       "      <td>0.690000</td>\n",
       "      <td>True</td>\n",
       "      <td>1.0</td>\n",
       "      <td>1.0</td>\n",
       "      <td>...</td>\n",
       "      <td>1</td>\n",
       "      <td>1</td>\n",
       "      <td>0</td>\n",
       "      <td>0</td>\n",
       "      <td>4.86</td>\n",
       "      <td>False</td>\n",
       "      <td>False</td>\n",
       "      <td>False</td>\n",
       "      <td>False</td>\n",
       "      <td>75.0</td>\n",
       "    </tr>\n",
       "    <tr>\n",
       "      <th>2</th>\n",
       "      <td>Spacious Brooklyn Duplex, Patio + Garden</td>\n",
       "      <td>We welcome you to stay in our lovely 2 br dupl...</td>\n",
       "      <td>NaN</td>\n",
       "      <td>Brooklyn, New York, United States</td>\n",
       "      <td>Rebecca is an artist/designer, and Henoch is i...</td>\n",
       "      <td>1.000000</td>\n",
       "      <td>0.250000</td>\n",
       "      <td>True</td>\n",
       "      <td>1.0</td>\n",
       "      <td>1.0</td>\n",
       "      <td>...</td>\n",
       "      <td>1</td>\n",
       "      <td>1</td>\n",
       "      <td>0</td>\n",
       "      <td>0</td>\n",
       "      <td>0.02</td>\n",
       "      <td>False</td>\n",
       "      <td>False</td>\n",
       "      <td>False</td>\n",
       "      <td>False</td>\n",
       "      <td>275.0</td>\n",
       "    </tr>\n",
       "    <tr>\n",
       "      <th>3</th>\n",
       "      <td>Large Furnished Room Near B'way</td>\n",
       "      <td>Please don’t expect the luxury here just a bas...</td>\n",
       "      <td>Theater district, many restaurants around here.</td>\n",
       "      <td>New York, New York, United States</td>\n",
       "      <td>I used to work for a financial industry but no...</td>\n",
       "      <td>1.000000</td>\n",
       "      <td>1.000000</td>\n",
       "      <td>True</td>\n",
       "      <td>1.0</td>\n",
       "      <td>1.0</td>\n",
       "      <td>...</td>\n",
       "      <td>1</td>\n",
       "      <td>0</td>\n",
       "      <td>1</td>\n",
       "      <td>0</td>\n",
       "      <td>3.68</td>\n",
       "      <td>False</td>\n",
       "      <td>False</td>\n",
       "      <td>False</td>\n",
       "      <td>False</td>\n",
       "      <td>68.0</td>\n",
       "    </tr>\n",
       "    <tr>\n",
       "      <th>4</th>\n",
       "      <td>Cozy Clean Guest Room - Family Apt</td>\n",
       "      <td>Our best guests are seeking a safe, clean, spa...</td>\n",
       "      <td>Our neighborhood is full of restaurants and ca...</td>\n",
       "      <td>New York, New York, United States</td>\n",
       "      <td>Welcome to family life with my oldest two away...</td>\n",
       "      <td>0.906901</td>\n",
       "      <td>0.791953</td>\n",
       "      <td>True</td>\n",
       "      <td>1.0</td>\n",
       "      <td>1.0</td>\n",
       "      <td>...</td>\n",
       "      <td>1</td>\n",
       "      <td>0</td>\n",
       "      <td>1</td>\n",
       "      <td>0</td>\n",
       "      <td>0.87</td>\n",
       "      <td>True</td>\n",
       "      <td>True</td>\n",
       "      <td>False</td>\n",
       "      <td>False</td>\n",
       "      <td>75.0</td>\n",
       "    </tr>\n",
       "  </tbody>\n",
       "</table>\n",
       "<p>5 rows × 53 columns</p>\n",
       "</div>"
      ],
      "text/plain": [
       "                                                name  \\\n",
       "0                              Skylit Midtown Castle   \n",
       "1  Whole flr w/private bdrm, bath & kitchen(pls r...   \n",
       "2           Spacious Brooklyn Duplex, Patio + Garden   \n",
       "3                   Large Furnished Room Near B'way　   \n",
       "4                 Cozy Clean Guest Room - Family Apt   \n",
       "\n",
       "                                         description  \\\n",
       "0  Beautiful, spacious skylit studio in the heart...   \n",
       "1  Enjoy 500 s.f. top floor in 1899 brownstone, w...   \n",
       "2  We welcome you to stay in our lovely 2 br dupl...   \n",
       "3  Please don’t expect the luxury here just a bas...   \n",
       "4  Our best guests are seeking a safe, clean, spa...   \n",
       "\n",
       "                               neighborhood_overview  \\\n",
       "0  Centrally located in the heart of Manhattan ju...   \n",
       "1  Just the right mix of urban center and local n...   \n",
       "2                                                NaN   \n",
       "3    Theater district, many restaurants around here.   \n",
       "4  Our neighborhood is full of restaurants and ca...   \n",
       "\n",
       "                       host_location  \\\n",
       "0  New York, New York, United States   \n",
       "1  New York, New York, United States   \n",
       "2  Brooklyn, New York, United States   \n",
       "3  New York, New York, United States   \n",
       "4  New York, New York, United States   \n",
       "\n",
       "                                          host_about  host_response_rate  \\\n",
       "0  A New Yorker since 2000! My passion is creatin...            0.800000   \n",
       "1  Laid-back Native New Yorker (formerly bi-coast...            0.090000   \n",
       "2  Rebecca is an artist/designer, and Henoch is i...            1.000000   \n",
       "3  I used to work for a financial industry but no...            1.000000   \n",
       "4  Welcome to family life with my oldest two away...            0.906901   \n",
       "\n",
       "   host_acceptance_rate  host_is_superhost  host_listings_count  \\\n",
       "0              0.170000               True                  8.0   \n",
       "1              0.690000               True                  1.0   \n",
       "2              0.250000               True                  1.0   \n",
       "3              1.000000               True                  1.0   \n",
       "4              0.791953               True                  1.0   \n",
       "\n",
       "   host_total_listings_count  ...  calculated_host_listings_count  \\\n",
       "0                        8.0  ...                               3   \n",
       "1                        1.0  ...                               1   \n",
       "2                        1.0  ...                               1   \n",
       "3                        1.0  ...                               1   \n",
       "4                        1.0  ...                               1   \n",
       "\n",
       "   calculated_host_listings_count_entire_homes  \\\n",
       "0                                            3   \n",
       "1                                            1   \n",
       "2                                            1   \n",
       "3                                            0   \n",
       "4                                            0   \n",
       "\n",
       "  calculated_host_listings_count_private_rooms  \\\n",
       "0                                            0   \n",
       "1                                            0   \n",
       "2                                            0   \n",
       "3                                            1   \n",
       "4                                            1   \n",
       "\n",
       "  calculated_host_listings_count_shared_rooms  reviews_per_month  \\\n",
       "0                                           0               0.33   \n",
       "1                                           0               4.86   \n",
       "2                                           0               0.02   \n",
       "3                                           0               3.68   \n",
       "4                                           0               0.87   \n",
       "\n",
       "   host_response_rate_na  host_acceptance_rate_na  bedrooms_na beds_na  \\\n",
       "0                  False                    False         True   False   \n",
       "1                  False                    False        False   False   \n",
       "2                  False                    False        False   False   \n",
       "3                  False                    False        False   False   \n",
       "4                   True                     True        False   False   \n",
       "\n",
       "   label_price  \n",
       "0        150.0  \n",
       "1         75.0  \n",
       "2        275.0  \n",
       "3         68.0  \n",
       "4         75.0  \n",
       "\n",
       "[5 rows x 53 columns]"
      ]
     },
     "execution_count": 34,
     "metadata": {},
     "output_type": "execute_result"
    }
   ],
   "source": [
    "df.head()"
   ]
  },
  {
   "cell_type": "code",
   "execution_count": 35,
   "metadata": {},
   "outputs": [
    {
     "name": "stdout",
     "output_type": "stream",
     "text": [
      "0         150.0\n",
      "1          75.0\n",
      "2         275.0\n",
      "3          68.0\n",
      "4          75.0\n",
      "          ...  \n",
      "28017      89.0\n",
      "28018    1000.0\n",
      "28019      64.0\n",
      "28020      84.0\n",
      "28021      70.0\n",
      "Name: price, Length: 28022, dtype: float64\n",
      "0        150.0\n",
      "1         75.0\n",
      "2        275.0\n",
      "3         68.0\n",
      "4         75.0\n",
      "         ...  \n",
      "28017     89.0\n",
      "28018    899.0\n",
      "28019     64.0\n",
      "28020     84.0\n",
      "28021     70.0\n",
      "Name: label_price, Length: 28022, dtype: float64\n"
     ]
    }
   ],
   "source": [
    "print(df['price'])\n",
    "print(df['label_price'])"
   ]
  },
  {
   "cell_type": "markdown",
   "metadata": {},
   "source": [
    "<b>Check if Winsorization works</b>\n",
    "I will check to make sure that the values of \"price\" column and \"label_price\" column are <i>not identical.</i>\n",
    "I will do this by subtracting the two columns and finding the resulting <i>unique values</i> of the resulting differences. Of note, if all values are identical, the difference would not contain unique values. If it is the case, I know that the outlier removal step did not work. Let's see.  "
   ]
  },
  {
   "cell_type": "code",
   "execution_count": 36,
   "metadata": {},
   "outputs": [
    {
     "data": {
      "text/plain": [
       "array([  0.,   1., 101.,  51.,  -1., 100.,  58.,  81.,  26.,  96.,  15.,\n",
       "        25.,  41.,   6.,   7.,  46.,  83.,  99.,  44.,  43.,  93.,  78.,\n",
       "        71.,   2.,  87.,  86.,  50.,  12.])"
      ]
     },
     "execution_count": 36,
     "metadata": {},
     "output_type": "execute_result"
    }
   ],
   "source": [
    "(df['price']-df['label_price']).unique()"
   ]
  },
  {
   "cell_type": "code",
   "execution_count": 37,
   "metadata": {},
   "outputs": [
    {
     "name": "stdout",
     "output_type": "stream",
     "text": [
      "0        150.0\n",
      "1         75.0\n",
      "2        275.0\n",
      "3         68.0\n",
      "4         75.0\n",
      "         ...  \n",
      "28017     89.0\n",
      "28018    899.0\n",
      "28019     64.0\n",
      "28020     84.0\n",
      "28021     70.0\n",
      "Name: label_price, Length: 28022, dtype: float64\n"
     ]
    }
   ],
   "source": [
    "print(df['label_price'])"
   ]
  },
  {
   "cell_type": "markdown",
   "metadata": {},
   "source": [
    "<b>Drop the price column.</b>"
   ]
  },
  {
   "cell_type": "code",
   "execution_count": 38,
   "metadata": {},
   "outputs": [],
   "source": [
    "df.drop(columns = 'price', axis = 1, inplace = True)"
   ]
  },
  {
   "cell_type": "code",
   "execution_count": 39,
   "metadata": {},
   "outputs": [
    {
     "data": {
      "text/plain": [
       "0        New York, New York, United States\n",
       "1        New York, New York, United States\n",
       "2        Brooklyn, New York, United States\n",
       "3        New York, New York, United States\n",
       "4        New York, New York, United States\n",
       "                       ...                \n",
       "28017      Queens, New York, United States\n",
       "28018    New York, New York, United States\n",
       "28019                                   US\n",
       "28020    New York, New York, United States\n",
       "28021                                   US\n",
       "Name: host_location, Length: 28022, dtype: object"
      ]
     },
     "execution_count": 39,
     "metadata": {},
     "output_type": "execute_result"
    }
   ],
   "source": [
    "df['host_location']"
   ]
  },
  {
   "cell_type": "code",
   "execution_count": 40,
   "metadata": {},
   "outputs": [
    {
     "data": {
      "text/plain": [
       "0        Manhattan\n",
       "1         Brooklyn\n",
       "2         Brooklyn\n",
       "3        Manhattan\n",
       "4        Manhattan\n",
       "           ...    \n",
       "28017       Queens\n",
       "28018     Brooklyn\n",
       "28019     Brooklyn\n",
       "28020     Brooklyn\n",
       "28021       Queens\n",
       "Name: neighbourhood_group_cleansed, Length: 28022, dtype: object"
      ]
     },
     "execution_count": 40,
     "metadata": {},
     "output_type": "execute_result"
    }
   ],
   "source": [
    "df['neighbourhood_group_cleansed'] "
   ]
  },
  {
   "cell_type": "code",
   "execution_count": 41,
   "metadata": {},
   "outputs": [],
   "source": [
    "df.drop(columns = 'host_location', axis = 1, inplace = True)"
   ]
  },
  {
   "cell_type": "code",
   "execution_count": 42,
   "metadata": {},
   "outputs": [
    {
     "data": {
      "text/plain": [
       "Index(['name', 'description', 'neighborhood_overview', 'host_about',\n",
       "       'host_response_rate', 'host_acceptance_rate', 'host_is_superhost',\n",
       "       'host_listings_count', 'host_total_listings_count',\n",
       "       'host_has_profile_pic', 'host_identity_verified',\n",
       "       'neighbourhood_group_cleansed', 'room_type', 'accommodates',\n",
       "       'bathrooms', 'bedrooms', 'beds', 'amenities', 'minimum_nights',\n",
       "       'maximum_nights', 'minimum_minimum_nights', 'maximum_minimum_nights',\n",
       "       'minimum_maximum_nights', 'maximum_maximum_nights',\n",
       "       'minimum_nights_avg_ntm', 'maximum_nights_avg_ntm', 'has_availability',\n",
       "       'availability_30', 'availability_60', 'availability_90',\n",
       "       'availability_365', 'number_of_reviews', 'number_of_reviews_ltm',\n",
       "       'number_of_reviews_l30d', 'review_scores_rating',\n",
       "       'review_scores_cleanliness', 'review_scores_checkin',\n",
       "       'review_scores_communication', 'review_scores_location',\n",
       "       'review_scores_value', 'instant_bookable',\n",
       "       'calculated_host_listings_count',\n",
       "       'calculated_host_listings_count_entire_homes',\n",
       "       'calculated_host_listings_count_private_rooms',\n",
       "       'calculated_host_listings_count_shared_rooms', 'reviews_per_month',\n",
       "       'host_response_rate_na', 'host_acceptance_rate_na', 'bedrooms_na',\n",
       "       'beds_na', 'label_price'],\n",
       "      dtype='object')"
      ]
     },
     "execution_count": 42,
     "metadata": {},
     "output_type": "execute_result"
    }
   ],
   "source": [
    "df.columns"
   ]
  },
  {
   "cell_type": "code",
   "execution_count": 43,
   "metadata": {},
   "outputs": [
    {
     "data": {
      "text/plain": [
       "\"A New Yorker since 2000! My passion is creating beautiful, unique spaces where unforgettable memories are made. It's my pleasure to host people from around the world and meet new faces. Welcome travelers! \\r\\n\\r\\nI am a Sound Therapy Practitioner and Kundalini Yoga & Meditation teacher. I work with energy and sound for relaxation and healing, using Symphonic gong, singing bowls, tuning forks, drums, voice and other instruments.\""
      ]
     },
     "execution_count": 43,
     "metadata": {},
     "output_type": "execute_result"
    }
   ],
   "source": [
    "df['host_about'][0]"
   ]
  },
  {
   "cell_type": "code",
   "execution_count": 44,
   "metadata": {},
   "outputs": [
    {
     "data": {
      "text/plain": [
       "0         True\n",
       "1        False\n",
       "2        False\n",
       "3        False\n",
       "4        False\n",
       "         ...  \n",
       "28017    False\n",
       "28018    False\n",
       "28019    False\n",
       "28020    False\n",
       "28021    False\n",
       "Name: bedrooms_na, Length: 28022, dtype: bool"
      ]
     },
     "execution_count": 44,
     "metadata": {},
     "output_type": "execute_result"
    }
   ],
   "source": [
    "df['bedrooms_na']"
   ]
  },
  {
   "cell_type": "code",
   "execution_count": 45,
   "metadata": {},
   "outputs": [
    {
     "name": "stdout",
     "output_type": "stream",
     "text": [
      "name                                                                        Skylit Midtown Castle\n",
      "description                                     Beautiful, spacious skylit studio in the heart...\n",
      "neighborhood_overview                           Centrally located in the heart of Manhattan ju...\n",
      "host_about                                      A New Yorker since 2000! My passion is creatin...\n",
      "host_response_rate                                                                            0.8\n",
      "host_acceptance_rate                                                                         0.17\n",
      "host_is_superhost                                                                            True\n",
      "host_listings_count                                                                           8.0\n",
      "host_total_listings_count                                                                     8.0\n",
      "host_has_profile_pic                                                                         True\n",
      "host_identity_verified                                                                       True\n",
      "neighbourhood_group_cleansed                                                            Manhattan\n",
      "room_type                                                                         Entire home/apt\n",
      "accommodates                                                                                    1\n",
      "bathrooms                                                                                     1.0\n",
      "bedrooms                                                                                 1.329708\n",
      "beds                                                                                          1.0\n",
      "amenities                                       [\"Extra pillows and blankets\", \"Baking sheet\",...\n",
      "minimum_nights                                                                                 30\n",
      "maximum_nights                                                                               1125\n",
      "minimum_minimum_nights                                                                       30.0\n",
      "maximum_minimum_nights                                                                       30.0\n",
      "minimum_maximum_nights                                                                     1125.0\n",
      "maximum_maximum_nights                                                                     1125.0\n",
      "minimum_nights_avg_ntm                                                                       30.0\n",
      "maximum_nights_avg_ntm                                                                     1125.0\n",
      "has_availability                                                                             True\n",
      "availability_30                                                                                 3\n",
      "availability_60                                                                                33\n",
      "availability_90                                                                                63\n",
      "availability_365                                                                              338\n",
      "number_of_reviews                                                                              48\n",
      "number_of_reviews_ltm                                                                           0\n",
      "number_of_reviews_l30d                                                                          0\n",
      "review_scores_rating                                                                          4.7\n",
      "review_scores_cleanliness                                                                    4.62\n",
      "review_scores_checkin                                                                        4.76\n",
      "review_scores_communication                                                                  4.79\n",
      "review_scores_location                                                                       4.86\n",
      "review_scores_value                                                                          4.41\n",
      "instant_bookable                                                                            False\n",
      "calculated_host_listings_count                                                                  3\n",
      "calculated_host_listings_count_entire_homes                                                     3\n",
      "calculated_host_listings_count_private_rooms                                                    0\n",
      "calculated_host_listings_count_shared_rooms                                                     0\n",
      "reviews_per_month                                                                            0.33\n",
      "host_response_rate_na                                                                       False\n",
      "host_acceptance_rate_na                                                                     False\n",
      "bedrooms_na                                                                                  True\n",
      "beds_na                                                                                     False\n",
      "label_price                                                                                 150.0\n",
      "Name: 0, dtype: object\n"
     ]
    }
   ],
   "source": [
    "print(df.iloc[0])"
   ]
  },
  {
   "cell_type": "markdown",
   "metadata": {},
   "source": [
    "<b>Drop the column_na after filling them up with the mean values"
   ]
  },
  {
   "cell_type": "code",
   "execution_count": 46,
   "metadata": {},
   "outputs": [],
   "source": [
    "df.drop(columns = 'host_response_rate_na', axis = 1, inplace = True)\n",
    "df.drop(columns = 'host_acceptance_rate_na', axis = 1, inplace = True)\n",
    "df.drop(columns = 'bedrooms_na', axis = 1, inplace = True)\n",
    "df.drop(columns = 'beds_na', axis = 1, inplace = True)"
   ]
  },
  {
   "cell_type": "markdown",
   "metadata": {},
   "source": [
    "<b>Check the data types of each column again"
   ]
  },
  {
   "cell_type": "code",
   "execution_count": 47,
   "metadata": {},
   "outputs": [
    {
     "data": {
      "text/plain": [
       "name                                             object\n",
       "description                                      object\n",
       "neighborhood_overview                            object\n",
       "host_about                                       object\n",
       "host_response_rate                              float64\n",
       "host_acceptance_rate                            float64\n",
       "host_is_superhost                                  bool\n",
       "host_listings_count                             float64\n",
       "host_total_listings_count                       float64\n",
       "host_has_profile_pic                               bool\n",
       "host_identity_verified                             bool\n",
       "neighbourhood_group_cleansed                     object\n",
       "room_type                                        object\n",
       "accommodates                                      int64\n",
       "bathrooms                                       float64\n",
       "bedrooms                                        float64\n",
       "beds                                            float64\n",
       "amenities                                        object\n",
       "minimum_nights                                    int64\n",
       "maximum_nights                                    int64\n",
       "minimum_minimum_nights                          float64\n",
       "maximum_minimum_nights                          float64\n",
       "minimum_maximum_nights                          float64\n",
       "maximum_maximum_nights                          float64\n",
       "minimum_nights_avg_ntm                          float64\n",
       "maximum_nights_avg_ntm                          float64\n",
       "has_availability                                   bool\n",
       "availability_30                                   int64\n",
       "availability_60                                   int64\n",
       "availability_90                                   int64\n",
       "availability_365                                  int64\n",
       "number_of_reviews                                 int64\n",
       "number_of_reviews_ltm                             int64\n",
       "number_of_reviews_l30d                            int64\n",
       "review_scores_rating                            float64\n",
       "review_scores_cleanliness                       float64\n",
       "review_scores_checkin                           float64\n",
       "review_scores_communication                     float64\n",
       "review_scores_location                          float64\n",
       "review_scores_value                             float64\n",
       "instant_bookable                                   bool\n",
       "calculated_host_listings_count                    int64\n",
       "calculated_host_listings_count_entire_homes       int64\n",
       "calculated_host_listings_count_private_rooms      int64\n",
       "calculated_host_listings_count_shared_rooms       int64\n",
       "reviews_per_month                               float64\n",
       "label_price                                     float64\n",
       "dtype: object"
      ]
     },
     "execution_count": 47,
     "metadata": {},
     "output_type": "execute_result"
    }
   ],
   "source": [
    "df.dtypes"
   ]
  },
  {
   "cell_type": "markdown",
   "metadata": {},
   "source": [
    "<b>About object type</b>\n",
    "I will take care of name, description, neighborhood_overview, host_about, neighbourhood_group_cleansed, room_type, amenities later on."
   ]
  },
  {
   "cell_type": "code",
   "execution_count": 48,
   "metadata": {},
   "outputs": [],
   "source": [
    "object_data_type_columns = list(df.select_dtypes(include=['object']).columns)"
   ]
  },
  {
   "cell_type": "code",
   "execution_count": 49,
   "metadata": {},
   "outputs": [
    {
     "name": "stdout",
     "output_type": "stream",
     "text": [
      "['name', 'description', 'neighborhood_overview', 'host_about', 'neighbourhood_group_cleansed', 'room_type', 'amenities']\n"
     ]
    }
   ],
   "source": [
    "print(object_data_type_columns)"
   ]
  },
  {
   "cell_type": "code",
   "execution_count": 50,
   "metadata": {},
   "outputs": [],
   "source": [
    "boolean_data_type_columns = list(df.select_dtypes(include=['bool']).columns)"
   ]
  },
  {
   "cell_type": "code",
   "execution_count": 51,
   "metadata": {},
   "outputs": [
    {
     "name": "stdout",
     "output_type": "stream",
     "text": [
      "['host_is_superhost', 'host_has_profile_pic', 'host_identity_verified', 'has_availability', 'instant_bookable']\n"
     ]
    }
   ],
   "source": [
    "print(boolean_data_type_columns)"
   ]
  },
  {
   "cell_type": "markdown",
   "metadata": {},
   "source": [
    "<b>About boolean type</b>\n",
    "I will take care of them now"
   ]
  },
  {
   "cell_type": "code",
   "execution_count": 52,
   "metadata": {},
   "outputs": [
    {
     "data": {
      "text/plain": [
       "0        True\n",
       "1        True\n",
       "2        True\n",
       "3        True\n",
       "4        True\n",
       "         ... \n",
       "28017    True\n",
       "28018    True\n",
       "28019    True\n",
       "28020    True\n",
       "28021    True\n",
       "Name: host_is_superhost, Length: 28022, dtype: bool"
      ]
     },
     "execution_count": 52,
     "metadata": {},
     "output_type": "execute_result"
    }
   ],
   "source": [
    "df['host_is_superhost']"
   ]
  },
  {
   "cell_type": "markdown",
   "metadata": {},
   "source": [
    "<b>Review:</b>\n",
    "Each entry in the \"host_is_super_host\" column contains one of two values: True or False. Therefore, I will replace the \"host_is_super_host\" column with two new columns (one column per value). \n",
    "I will use the function pd.get_dummies() as it will reuturn a new DataFrame with the new one-hot encoded values. "
   ]
  },
  {
   "cell_type": "code",
   "execution_count": 53,
   "metadata": {},
   "outputs": [
    {
     "data": {
      "text/html": [
       "<div>\n",
       "<style scoped>\n",
       "    .dataframe tbody tr th:only-of-type {\n",
       "        vertical-align: middle;\n",
       "    }\n",
       "\n",
       "    .dataframe tbody tr th {\n",
       "        vertical-align: top;\n",
       "    }\n",
       "\n",
       "    .dataframe thead th {\n",
       "        text-align: right;\n",
       "    }\n",
       "</style>\n",
       "<table border=\"1\" class=\"dataframe\">\n",
       "  <thead>\n",
       "    <tr style=\"text-align: right;\">\n",
       "      <th></th>\n",
       "      <th>Host_is_super_host__True</th>\n",
       "    </tr>\n",
       "  </thead>\n",
       "  <tbody>\n",
       "    <tr>\n",
       "      <th>0</th>\n",
       "      <td>1</td>\n",
       "    </tr>\n",
       "    <tr>\n",
       "      <th>1</th>\n",
       "      <td>1</td>\n",
       "    </tr>\n",
       "    <tr>\n",
       "      <th>2</th>\n",
       "      <td>1</td>\n",
       "    </tr>\n",
       "    <tr>\n",
       "      <th>3</th>\n",
       "      <td>1</td>\n",
       "    </tr>\n",
       "    <tr>\n",
       "      <th>4</th>\n",
       "      <td>1</td>\n",
       "    </tr>\n",
       "    <tr>\n",
       "      <th>...</th>\n",
       "      <td>...</td>\n",
       "    </tr>\n",
       "    <tr>\n",
       "      <th>28017</th>\n",
       "      <td>1</td>\n",
       "    </tr>\n",
       "    <tr>\n",
       "      <th>28018</th>\n",
       "      <td>1</td>\n",
       "    </tr>\n",
       "    <tr>\n",
       "      <th>28019</th>\n",
       "      <td>1</td>\n",
       "    </tr>\n",
       "    <tr>\n",
       "      <th>28020</th>\n",
       "      <td>1</td>\n",
       "    </tr>\n",
       "    <tr>\n",
       "      <th>28021</th>\n",
       "      <td>1</td>\n",
       "    </tr>\n",
       "  </tbody>\n",
       "</table>\n",
       "<p>28022 rows × 1 columns</p>\n",
       "</div>"
      ],
      "text/plain": [
       "       Host_is_super_host__True\n",
       "0                             1\n",
       "1                             1\n",
       "2                             1\n",
       "3                             1\n",
       "4                             1\n",
       "...                         ...\n",
       "28017                         1\n",
       "28018                         1\n",
       "28019                         1\n",
       "28020                         1\n",
       "28021                         1\n",
       "\n",
       "[28022 rows x 1 columns]"
      ]
     },
     "execution_count": 53,
     "metadata": {},
     "output_type": "execute_result"
    }
   ],
   "source": [
    "df_Superhost = pd.get_dummies(df['host_is_superhost'], prefix = 'Host_is_super_host_')\n",
    "df_Superhost"
   ]
  },
  {
   "cell_type": "markdown",
   "metadata": {},
   "source": [
    "<b>Observe:</b>\n",
    "I observe that all of my host is super host?!\n",
    "I will verify that nunique() function"
   ]
  },
  {
   "cell_type": "code",
   "execution_count": 54,
   "metadata": {},
   "outputs": [
    {
     "data": {
      "text/plain": [
       "1"
      ]
     },
     "execution_count": 54,
     "metadata": {},
     "output_type": "execute_result"
    }
   ],
   "source": [
    "df['host_is_superhost'].nunique()"
   ]
  },
  {
   "cell_type": "markdown",
   "metadata": {},
   "source": [
    "<b>Observe</b>:\n",
    "Okie. I have all super host in my data. \n",
    "Since the pd.get_dummies() function returned a new DataFrame rather than making the changes to the original DataFram df, I will add the new df_Superhost to my df, and delete the original \"host_is_superhost\" column from my dataframe. "
   ]
  },
  {
   "cell_type": "code",
   "execution_count": 55,
   "metadata": {},
   "outputs": [],
   "source": [
    "df = df.join(df_Superhost)\n",
    "df.drop(columns = \"host_is_superhost\", inplace = True)"
   ]
  },
  {
   "cell_type": "markdown",
   "metadata": {},
   "source": [
    "<b>Verify:</b>\n",
    "I will inspect my data frame to see the changes that have been made. \n",
    "My data frame now conatins columns \"Host_is_super_host__True\" and no longer contains the \"host_is_superhost\"."
   ]
  },
  {
   "cell_type": "code",
   "execution_count": 56,
   "metadata": {},
   "outputs": [
    {
     "data": {
      "text/plain": [
       "Index(['name', 'description', 'neighborhood_overview', 'host_about',\n",
       "       'host_response_rate', 'host_acceptance_rate', 'host_listings_count',\n",
       "       'host_total_listings_count', 'host_has_profile_pic',\n",
       "       'host_identity_verified', 'neighbourhood_group_cleansed', 'room_type',\n",
       "       'accommodates', 'bathrooms', 'bedrooms', 'beds', 'amenities',\n",
       "       'minimum_nights', 'maximum_nights', 'minimum_minimum_nights',\n",
       "       'maximum_minimum_nights', 'minimum_maximum_nights',\n",
       "       'maximum_maximum_nights', 'minimum_nights_avg_ntm',\n",
       "       'maximum_nights_avg_ntm', 'has_availability', 'availability_30',\n",
       "       'availability_60', 'availability_90', 'availability_365',\n",
       "       'number_of_reviews', 'number_of_reviews_ltm', 'number_of_reviews_l30d',\n",
       "       'review_scores_rating', 'review_scores_cleanliness',\n",
       "       'review_scores_checkin', 'review_scores_communication',\n",
       "       'review_scores_location', 'review_scores_value', 'instant_bookable',\n",
       "       'calculated_host_listings_count',\n",
       "       'calculated_host_listings_count_entire_homes',\n",
       "       'calculated_host_listings_count_private_rooms',\n",
       "       'calculated_host_listings_count_shared_rooms', 'reviews_per_month',\n",
       "       'label_price', 'Host_is_super_host__True'],\n",
       "      dtype='object')"
      ]
     },
     "execution_count": 56,
     "metadata": {},
     "output_type": "execute_result"
    }
   ],
   "source": [
    "df.columns"
   ]
  },
  {
   "cell_type": "markdown",
   "metadata": {},
   "source": [
    "<b>Review boolean list:</b>\n",
    "['host_is_superhost', 'host_has_profile_pic', 'host_identity_verified', 'has_availability', 'instant_bookable']"
   ]
  },
  {
   "cell_type": "markdown",
   "metadata": {},
   "source": [
    "<b>Will do one-hot encoding now.</b>"
   ]
  },
  {
   "cell_type": "code",
   "execution_count": 57,
   "metadata": {},
   "outputs": [
    {
     "data": {
      "text/html": [
       "<div>\n",
       "<style scoped>\n",
       "    .dataframe tbody tr th:only-of-type {\n",
       "        vertical-align: middle;\n",
       "    }\n",
       "\n",
       "    .dataframe tbody tr th {\n",
       "        vertical-align: top;\n",
       "    }\n",
       "\n",
       "    .dataframe thead th {\n",
       "        text-align: right;\n",
       "    }\n",
       "</style>\n",
       "<table border=\"1\" class=\"dataframe\">\n",
       "  <thead>\n",
       "    <tr style=\"text-align: right;\">\n",
       "      <th></th>\n",
       "      <th>has_profile_pic__True</th>\n",
       "    </tr>\n",
       "  </thead>\n",
       "  <tbody>\n",
       "    <tr>\n",
       "      <th>0</th>\n",
       "      <td>1</td>\n",
       "    </tr>\n",
       "    <tr>\n",
       "      <th>1</th>\n",
       "      <td>1</td>\n",
       "    </tr>\n",
       "    <tr>\n",
       "      <th>2</th>\n",
       "      <td>1</td>\n",
       "    </tr>\n",
       "    <tr>\n",
       "      <th>3</th>\n",
       "      <td>1</td>\n",
       "    </tr>\n",
       "    <tr>\n",
       "      <th>4</th>\n",
       "      <td>1</td>\n",
       "    </tr>\n",
       "    <tr>\n",
       "      <th>...</th>\n",
       "      <td>...</td>\n",
       "    </tr>\n",
       "    <tr>\n",
       "      <th>28017</th>\n",
       "      <td>1</td>\n",
       "    </tr>\n",
       "    <tr>\n",
       "      <th>28018</th>\n",
       "      <td>1</td>\n",
       "    </tr>\n",
       "    <tr>\n",
       "      <th>28019</th>\n",
       "      <td>1</td>\n",
       "    </tr>\n",
       "    <tr>\n",
       "      <th>28020</th>\n",
       "      <td>1</td>\n",
       "    </tr>\n",
       "    <tr>\n",
       "      <th>28021</th>\n",
       "      <td>1</td>\n",
       "    </tr>\n",
       "  </tbody>\n",
       "</table>\n",
       "<p>28022 rows × 1 columns</p>\n",
       "</div>"
      ],
      "text/plain": [
       "       has_profile_pic__True\n",
       "0                          1\n",
       "1                          1\n",
       "2                          1\n",
       "3                          1\n",
       "4                          1\n",
       "...                      ...\n",
       "28017                      1\n",
       "28018                      1\n",
       "28019                      1\n",
       "28020                      1\n",
       "28021                      1\n",
       "\n",
       "[28022 rows x 1 columns]"
      ]
     },
     "execution_count": 57,
     "metadata": {},
     "output_type": "execute_result"
    }
   ],
   "source": [
    "df_HasProfilePicture = pd.get_dummies(df['host_has_profile_pic'], prefix='has_profile_pic_')\n",
    "df_HasProfilePicture\n",
    "\n"
   ]
  },
  {
   "cell_type": "code",
   "execution_count": 58,
   "metadata": {},
   "outputs": [],
   "source": [
    "df = df.join(df_HasProfilePicture)\n",
    "df.drop(columns = \"host_has_profile_pic\", inplace = True)"
   ]
  },
  {
   "cell_type": "code",
   "execution_count": 59,
   "metadata": {},
   "outputs": [
    {
     "name": "stdout",
     "output_type": "stream",
     "text": [
      "       has_profile_pic__True\n",
      "0                          1\n",
      "1                          1\n",
      "2                          1\n",
      "3                          1\n",
      "4                          1\n",
      "...                      ...\n",
      "28017                      1\n",
      "28018                      1\n",
      "28019                      1\n",
      "28020                      1\n",
      "28021                      1\n",
      "\n",
      "[28022 rows x 1 columns]\n",
      "       has_availability__False  has_availability__True\n",
      "0                            0                       1\n",
      "1                            0                       1\n",
      "2                            0                       1\n",
      "3                            0                       1\n",
      "4                            0                       1\n",
      "...                        ...                     ...\n",
      "28017                        0                       1\n",
      "28018                        0                       1\n",
      "28019                        0                       1\n",
      "28020                        0                       1\n",
      "28021                        0                       1\n",
      "\n",
      "[28022 rows x 2 columns]\n",
      "       instant_bookable__False  instant_bookable__True\n",
      "0                            1                       0\n",
      "1                            1                       0\n",
      "2                            1                       0\n",
      "3                            1                       0\n",
      "4                            1                       0\n",
      "...                        ...                     ...\n",
      "28017                        0                       1\n",
      "28018                        1                       0\n",
      "28019                        0                       1\n",
      "28020                        1                       0\n",
      "28021                        0                       1\n",
      "\n",
      "[28022 rows x 2 columns]\n"
     ]
    }
   ],
   "source": [
    "# 'host_identity_verified'\n",
    "df_IdentityVerified = pd.get_dummies(df['host_identity_verified'], prefix='identity_verified_')\n",
    "print(df_HasProfilePicture)\n",
    "df = df.join(df_IdentityVerified)\n",
    "df.drop(columns = \"host_identity_verified\", inplace = True)\n",
    "\n",
    "# 'has_availability'\n",
    "df_HasAvailability = pd.get_dummies(df['has_availability'], prefix='has_availability_')\n",
    "print(df_HasAvailability)\n",
    "df = df.join(df_HasAvailability)\n",
    "df.drop(columns = \"has_availability\", inplace = True)\n",
    "\n",
    "# 'instant_bookable'\n",
    "df_InstantBookable = pd.get_dummies(df['instant_bookable'], prefix='instant_bookable_')\n",
    "print(df_InstantBookable)\n",
    "df = df.join(df_InstantBookable)\n",
    "df.drop(columns = \"instant_bookable\", inplace = True)"
   ]
  },
  {
   "cell_type": "markdown",
   "metadata": {},
   "source": [
    "Check again on data types of each columns. "
   ]
  },
  {
   "cell_type": "code",
   "execution_count": 60,
   "metadata": {},
   "outputs": [
    {
     "data": {
      "text/plain": [
       "name                                             object\n",
       "description                                      object\n",
       "neighborhood_overview                            object\n",
       "host_about                                       object\n",
       "host_response_rate                              float64\n",
       "host_acceptance_rate                            float64\n",
       "host_listings_count                             float64\n",
       "host_total_listings_count                       float64\n",
       "neighbourhood_group_cleansed                     object\n",
       "room_type                                        object\n",
       "accommodates                                      int64\n",
       "bathrooms                                       float64\n",
       "bedrooms                                        float64\n",
       "beds                                            float64\n",
       "amenities                                        object\n",
       "minimum_nights                                    int64\n",
       "maximum_nights                                    int64\n",
       "minimum_minimum_nights                          float64\n",
       "maximum_minimum_nights                          float64\n",
       "minimum_maximum_nights                          float64\n",
       "maximum_maximum_nights                          float64\n",
       "minimum_nights_avg_ntm                          float64\n",
       "maximum_nights_avg_ntm                          float64\n",
       "availability_30                                   int64\n",
       "availability_60                                   int64\n",
       "availability_90                                   int64\n",
       "availability_365                                  int64\n",
       "number_of_reviews                                 int64\n",
       "number_of_reviews_ltm                             int64\n",
       "number_of_reviews_l30d                            int64\n",
       "review_scores_rating                            float64\n",
       "review_scores_cleanliness                       float64\n",
       "review_scores_checkin                           float64\n",
       "review_scores_communication                     float64\n",
       "review_scores_location                          float64\n",
       "review_scores_value                             float64\n",
       "calculated_host_listings_count                    int64\n",
       "calculated_host_listings_count_entire_homes       int64\n",
       "calculated_host_listings_count_private_rooms      int64\n",
       "calculated_host_listings_count_shared_rooms       int64\n",
       "reviews_per_month                               float64\n",
       "label_price                                     float64\n",
       "Host_is_super_host__True                          uint8\n",
       "has_profile_pic__True                             uint8\n",
       "identity_verified__True                           uint8\n",
       "has_availability__False                           uint8\n",
       "has_availability__True                            uint8\n",
       "instant_bookable__False                           uint8\n",
       "instant_bookable__True                            uint8\n",
       "dtype: object"
      ]
     },
     "execution_count": 60,
     "metadata": {},
     "output_type": "execute_result"
    }
   ],
   "source": [
    "df.dtypes"
   ]
  },
  {
   "cell_type": "markdown",
   "metadata": {},
   "source": [
    "<b>Review object type columns:</b>\n"
   ]
  },
  {
   "cell_type": "code",
   "execution_count": 61,
   "metadata": {},
   "outputs": [
    {
     "name": "stdout",
     "output_type": "stream",
     "text": [
      "['name', 'description', 'neighborhood_overview', 'host_about', 'neighbourhood_group_cleansed', 'room_type', 'amenities']\n"
     ]
    }
   ],
   "source": [
    "print(object_data_type_columns)"
   ]
  },
  {
   "cell_type": "code",
   "execution_count": 62,
   "metadata": {},
   "outputs": [
    {
     "data": {
      "text/plain": [
       "name                            27386\n",
       "description                     25952\n",
       "neighborhood_overview           15800\n",
       "host_about                      11962\n",
       "neighbourhood_group_cleansed        5\n",
       "room_type                           4\n",
       "amenities                       25020\n",
       "dtype: int64"
      ]
     },
     "execution_count": 62,
     "metadata": {},
     "output_type": "execute_result"
    }
   ],
   "source": [
    "df[object_data_type_columns].nunique()"
   ]
  },
  {
   "cell_type": "markdown",
   "metadata": {},
   "source": [
    "<b>Do one-hot encoding for 'Neighbourhood_group_cleansed'</b>"
   ]
  },
  {
   "cell_type": "code",
   "execution_count": 63,
   "metadata": {},
   "outputs": [
    {
     "name": "stdout",
     "output_type": "stream",
     "text": [
      "       neighbourhood__Bronx  neighbourhood__Brooklyn  \\\n",
      "0                         0                        0   \n",
      "1                         0                        1   \n",
      "2                         0                        1   \n",
      "3                         0                        0   \n",
      "4                         0                        0   \n",
      "...                     ...                      ...   \n",
      "28017                     0                        0   \n",
      "28018                     0                        1   \n",
      "28019                     0                        1   \n",
      "28020                     0                        1   \n",
      "28021                     0                        0   \n",
      "\n",
      "       neighbourhood__Manhattan  neighbourhood__Queens  \\\n",
      "0                             1                      0   \n",
      "1                             0                      0   \n",
      "2                             0                      0   \n",
      "3                             1                      0   \n",
      "4                             1                      0   \n",
      "...                         ...                    ...   \n",
      "28017                         0                      1   \n",
      "28018                         0                      0   \n",
      "28019                         0                      0   \n",
      "28020                         0                      0   \n",
      "28021                         0                      1   \n",
      "\n",
      "       neighbourhood__Staten Island  \n",
      "0                                 0  \n",
      "1                                 0  \n",
      "2                                 0  \n",
      "3                                 0  \n",
      "4                                 0  \n",
      "...                             ...  \n",
      "28017                             0  \n",
      "28018                             0  \n",
      "28019                             0  \n",
      "28020                             0  \n",
      "28021                             0  \n",
      "\n",
      "[28022 rows x 5 columns]\n"
     ]
    }
   ],
   "source": [
    "df_neighbourhood = pd.get_dummies(df['neighbourhood_group_cleansed'], prefix='neighbourhood_')\n",
    "print(df_neighbourhood)\n",
    "df = df.join(df_neighbourhood)\n",
    "df.drop(columns = \"neighbourhood_group_cleansed\", inplace = True)"
   ]
  },
  {
   "cell_type": "markdown",
   "metadata": {},
   "source": [
    "<b>Do one-hot encoding for 'Room type'</b>"
   ]
  },
  {
   "cell_type": "code",
   "execution_count": 64,
   "metadata": {},
   "outputs": [
    {
     "name": "stdout",
     "output_type": "stream",
     "text": [
      "       room_type__Entire home/apt  room_type__Hotel room  \\\n",
      "0                               1                      0   \n",
      "1                               1                      0   \n",
      "2                               1                      0   \n",
      "3                               0                      0   \n",
      "4                               0                      0   \n",
      "...                           ...                    ...   \n",
      "28017                           0                      0   \n",
      "28018                           1                      0   \n",
      "28019                           0                      0   \n",
      "28020                           1                      0   \n",
      "28021                           0                      0   \n",
      "\n",
      "       room_type__Private room  room_type__Shared room  \n",
      "0                            0                       0  \n",
      "1                            0                       0  \n",
      "2                            0                       0  \n",
      "3                            1                       0  \n",
      "4                            1                       0  \n",
      "...                        ...                     ...  \n",
      "28017                        1                       0  \n",
      "28018                        0                       0  \n",
      "28019                        1                       0  \n",
      "28020                        0                       0  \n",
      "28021                        1                       0  \n",
      "\n",
      "[28022 rows x 4 columns]\n"
     ]
    }
   ],
   "source": [
    "df_RoomType = pd.get_dummies(df['room_type'], prefix='room_type_')\n",
    "print(df_RoomType)\n",
    "df = df.join(df_RoomType)\n",
    "df.drop(columns = \"room_type\", inplace = True)"
   ]
  },
  {
   "cell_type": "code",
   "execution_count": 65,
   "metadata": {},
   "outputs": [
    {
     "data": {
      "text/plain": [
       "25020"
      ]
     },
     "execution_count": 65,
     "metadata": {},
     "output_type": "execute_result"
    }
   ],
   "source": [
    "df['amenities'].nunique()"
   ]
  },
  {
   "cell_type": "code",
   "execution_count": 66,
   "metadata": {},
   "outputs": [
    {
     "name": "stdout",
     "output_type": "stream",
     "text": [
      "[\"Extra pillows and blankets\", \"Baking sheet\", \"Luggage dropoff allowed\", \"TV\", \"Hangers\", \"Ethernet connection\", \"Long term stays allowed\", \"Carbon monoxide alarm\", \"Wifi\", \"Heating\", \"Dishes and silverware\", \"Air conditioning\", \"Free street parking\", \"Essentials\", \"Hot water\", \"Bathtub\", \"Kitchen\", \"Fire extinguisher\", \"Cooking basics\", \"Dedicated workspace\", \"Hair dryer\", \"Stove\", \"Smoke alarm\", \"Keypad\", \"Iron\", \"Oven\", \"Paid parking off premises\", \"Refrigerator\", \"Bed linens\", \"Cleaning before checkout\", \"Coffee maker\"]\n",
      "[\"Extra pillows and blankets\", \"Luggage dropoff allowed\", \"Free parking on premises\", \"Pack \\u2019n play/Travel crib\", \"Microwave\", \"Hangers\", \"Lockbox\", \"Long term stays allowed\", \"Carbon monoxide alarm\", \"High chair\", \"Wifi\", \"Heating\", \"Shampoo\", \"Dishes and silverware\", \"Air conditioning\", \"Free street parking\", \"Essentials\", \"Hot water\", \"Bathtub\", \"Kitchen\", \"Cable TV\", \"Fire extinguisher\", \"Cooking basics\", \"Dedicated workspace\", \"Hair dryer\", \"Stove\", \"Children\\u2019s books and toys\", \"TV with standard cable\", \"Smoke alarm\", \"Iron\", \"Oven\", \"Refrigerator\", \"Bed linens\", \"Baby safety gates\", \"Coffee maker\"]\n"
     ]
    }
   ],
   "source": [
    "print(df['amenities'][0])\n",
    "print(df['amenities'][1])"
   ]
  },
  {
   "cell_type": "markdown",
   "metadata": {},
   "source": [
    "<b>Too many unique values for \"amenities\"!</b>\n",
    "Transforming this many categorical values would slow down the computation down the line. Instead, I will convert the top 10 most frequent values in column \"amenities.\""
   ]
  },
  {
   "cell_type": "code",
   "execution_count": 67,
   "metadata": {},
   "outputs": [
    {
     "name": "stdout",
     "output_type": "stream",
     "text": [
      "['[\"Hangers\", \"Long term stays allowed\", \"Iron\", \"TV\", \"Carbon monoxide alarm\", \"Fire extinguisher\", \"Elevator\", \"Hair dryer\", \"Wifi\", \"Heating\", \"Shampoo\", \"Smoke alarm\", \"First aid kit\", \"Air conditioning\", \"Essentials\"]', '[\"Fire extinguisher\", \"Lock on bedroom door\", \"Smoke alarm\", \"Shower gel\", \"Dedicated workspace\", \"Conditioner\", \"Building staff\", \"Body soap\", \"Hot water\", \"TV\", \"Hangers\", \"First aid kit\", \"Hair dryer\", \"Bed linens\", \"Long term stays allowed\", \"Air conditioning\", \"Carbon monoxide alarm\", \"Shampoo\", \"Iron\", \"Heating\", \"Luggage dropoff allowed\", \"Wifi\", \"Essentials\"]', '[\"Hangers\", \"Long term stays allowed\", \"Iron\", \"Cable TV\", \"Carbon monoxide alarm\", \"Security cameras on property\", \"Dedicated workspace\", \"Hair dryer\", \"Elevator\", \"Wifi\", \"TV with standard cable\", \"Heating\", \"Shampoo\", \"Smoke alarm\", \"Air conditioning\", \"Essentials\"]', '[\"Long term stays allowed\"]', '[\"Fire extinguisher\", \"Lock on bedroom door\", \"Smoke alarm\", \"Dedicated workspace\", \"Conditioner\", \"Building staff\", \"Body soap\", \"Hot water\", \"TV\", \"Hangers\", \"First aid kit\", \"Hair dryer\", \"Long term stays allowed\", \"Air conditioning\", \"Carbon monoxide alarm\", \"Shampoo\", \"Iron\", \"Heating\", \"Luggage dropoff allowed\", \"Wifi\", \"Essentials\"]', '[\"Luggage dropoff allowed\", \"TV\", \"Keurig coffee machine\", \"Hot water kettle\", \"Microwave\", \"First aid kit\", \"Hangers\", \"Long term stays allowed\", \"Carbon monoxide alarm\", \"Mini fridge\", \"Building staff\", \"Wifi\", \"Laundromat nearby\", \"Heating\", \"Shampoo\", \"Dishes and silverware\", \"Air conditioning\", \"Essentials\", \"Hot water\", \"Conditioner\", \"Safe\", \"Fire extinguisher\", \"Clothing storage\", \"Hair dryer\", \"Room-darkening shades\", \"Sound system\", \"Smoke alarm\", \"Iron\", \"Elevator\", \"Bed linens\", \"Coffee maker\"]', '[\"Hangers\", \"Kitchen\", \"Long term stays allowed\", \"Iron\", \"Cable TV\", \"Washer\", \"Elevator\", \"Bed linens\", \"Wifi\", \"TV with standard cable\", \"Heating\", \"Private entrance\", \"Dryer\", \"Air conditioning\", \"Essentials\", \"Hot water\"]', '[\"Kitchen\", \"Long term stays allowed\", \"Cable TV\", \"Carbon monoxide alarm\", \"Wifi\", \"TV with standard cable\", \"Heating\", \"Shampoo\", \"Smoke alarm\", \"Air conditioning\", \"Essentials\"]', '[\"Air conditioning\", \"Dedicated workspace\", \"Security cameras on property\", \"Carbon monoxide alarm\", \"Lock on bedroom door\", \"Wifi\", \"Shampoo\", \"Private entrance\", \"Hangers\", \"Iron\", \"Heating\", \"TV\", \"Hair dryer\", \"Smoke alarm\", \"Essentials\", \"Long term stays allowed\"]', '[\"Kitchen\", \"Long term stays allowed\", \"TV\", \"Wifi\", \"Heating\", \"Air conditioning\", \"Essentials\"]']\n"
     ]
    }
   ],
   "source": [
    "top_10_Amenities = list(df['amenities'].value_counts().head(10).index)\n",
    "print(top_10_Amenities)"
   ]
  },
  {
   "cell_type": "markdown",
   "metadata": {},
   "source": [
    "<b>Next step:</b>\n",
    "\n",
    "Now that I have obtained the most ten frequent values of Amenities. I will transform my dataframe to represent these values numerically. I will create new columns to represent \"amenities\" by create ten one-hot encoded columns."
   ]
  },
  {
   "cell_type": "code",
   "execution_count": 68,
   "metadata": {},
   "outputs": [
    {
     "data": {
      "text/html": [
       "<div>\n",
       "<style scoped>\n",
       "    .dataframe tbody tr th:only-of-type {\n",
       "        vertical-align: middle;\n",
       "    }\n",
       "\n",
       "    .dataframe tbody tr th {\n",
       "        vertical-align: top;\n",
       "    }\n",
       "\n",
       "    .dataframe thead th {\n",
       "        text-align: right;\n",
       "    }\n",
       "</style>\n",
       "<table border=\"1\" class=\"dataframe\">\n",
       "  <thead>\n",
       "    <tr style=\"text-align: right;\">\n",
       "      <th></th>\n",
       "      <th>name</th>\n",
       "      <th>description</th>\n",
       "      <th>neighborhood_overview</th>\n",
       "      <th>host_about</th>\n",
       "      <th>host_response_rate</th>\n",
       "      <th>host_acceptance_rate</th>\n",
       "      <th>host_listings_count</th>\n",
       "      <th>host_total_listings_count</th>\n",
       "      <th>accommodates</th>\n",
       "      <th>bathrooms</th>\n",
       "      <th>...</th>\n",
       "      <th>Amenities_[\"Hangers\", \"Long term stays allowed\", \"Iron\", \"TV\", \"Carbon monoxide alarm\", \"Fire extinguisher\", \"Elevator\", \"Hair dryer\", \"Wifi\", \"Heating\", \"Shampoo\", \"Smoke alarm\", \"First aid kit\", \"Air conditioning\", \"Essentials\"]</th>\n",
       "      <th>Amenities_[\"Fire extinguisher\", \"Lock on bedroom door\", \"Smoke alarm\", \"Shower gel\", \"Dedicated workspace\", \"Conditioner\", \"Building staff\", \"Body soap\", \"Hot water\", \"TV\", \"Hangers\", \"First aid kit\", \"Hair dryer\", \"Bed linens\", \"Long term stays allowed\", \"Air conditioning\", \"Carbon monoxide alarm\", \"Shampoo\", \"Iron\", \"Heating\", \"Luggage dropoff allowed\", \"Wifi\", \"Essentials\"]</th>\n",
       "      <th>Amenities_[\"Hangers\", \"Long term stays allowed\", \"Iron\", \"Cable TV\", \"Carbon monoxide alarm\", \"Security cameras on property\", \"Dedicated workspace\", \"Hair dryer\", \"Elevator\", \"Wifi\", \"TV with standard cable\", \"Heating\", \"Shampoo\", \"Smoke alarm\", \"Air conditioning\", \"Essentials\"]</th>\n",
       "      <th>Amenities_[\"Long term stays allowed\"]</th>\n",
       "      <th>Amenities_[\"Fire extinguisher\", \"Lock on bedroom door\", \"Smoke alarm\", \"Dedicated workspace\", \"Conditioner\", \"Building staff\", \"Body soap\", \"Hot water\", \"TV\", \"Hangers\", \"First aid kit\", \"Hair dryer\", \"Long term stays allowed\", \"Air conditioning\", \"Carbon monoxide alarm\", \"Shampoo\", \"Iron\", \"Heating\", \"Luggage dropoff allowed\", \"Wifi\", \"Essentials\"]</th>\n",
       "      <th>Amenities_[\"Luggage dropoff allowed\", \"TV\", \"Keurig coffee machine\", \"Hot water kettle\", \"Microwave\", \"First aid kit\", \"Hangers\", \"Long term stays allowed\", \"Carbon monoxide alarm\", \"Mini fridge\", \"Building staff\", \"Wifi\", \"Laundromat nearby\", \"Heating\", \"Shampoo\", \"Dishes and silverware\", \"Air conditioning\", \"Essentials\", \"Hot water\", \"Conditioner\", \"Safe\", \"Fire extinguisher\", \"Clothing storage\", \"Hair dryer\", \"Room-darkening shades\", \"Sound system\", \"Smoke alarm\", \"Iron\", \"Elevator\", \"Bed linens\", \"Coffee maker\"]</th>\n",
       "      <th>Amenities_[\"Hangers\", \"Kitchen\", \"Long term stays allowed\", \"Iron\", \"Cable TV\", \"Washer\", \"Elevator\", \"Bed linens\", \"Wifi\", \"TV with standard cable\", \"Heating\", \"Private entrance\", \"Dryer\", \"Air conditioning\", \"Essentials\", \"Hot water\"]</th>\n",
       "      <th>Amenities_[\"Kitchen\", \"Long term stays allowed\", \"Cable TV\", \"Carbon monoxide alarm\", \"Wifi\", \"TV with standard cable\", \"Heating\", \"Shampoo\", \"Smoke alarm\", \"Air conditioning\", \"Essentials\"]</th>\n",
       "      <th>Amenities_[\"Air conditioning\", \"Dedicated workspace\", \"Security cameras on property\", \"Carbon monoxide alarm\", \"Lock on bedroom door\", \"Wifi\", \"Shampoo\", \"Private entrance\", \"Hangers\", \"Iron\", \"Heating\", \"TV\", \"Hair dryer\", \"Smoke alarm\", \"Essentials\", \"Long term stays allowed\"]</th>\n",
       "      <th>Amenities_[\"Kitchen\", \"Long term stays allowed\", \"TV\", \"Wifi\", \"Heating\", \"Air conditioning\", \"Essentials\"]</th>\n",
       "    </tr>\n",
       "  </thead>\n",
       "  <tbody>\n",
       "    <tr>\n",
       "      <th>0</th>\n",
       "      <td>Skylit Midtown Castle</td>\n",
       "      <td>Beautiful, spacious skylit studio in the heart...</td>\n",
       "      <td>Centrally located in the heart of Manhattan ju...</td>\n",
       "      <td>A New Yorker since 2000! My passion is creatin...</td>\n",
       "      <td>0.800000</td>\n",
       "      <td>0.170000</td>\n",
       "      <td>8.0</td>\n",
       "      <td>8.0</td>\n",
       "      <td>1</td>\n",
       "      <td>1.0</td>\n",
       "      <td>...</td>\n",
       "      <td>0</td>\n",
       "      <td>0</td>\n",
       "      <td>0</td>\n",
       "      <td>0</td>\n",
       "      <td>0</td>\n",
       "      <td>0</td>\n",
       "      <td>0</td>\n",
       "      <td>0</td>\n",
       "      <td>0</td>\n",
       "      <td>0</td>\n",
       "    </tr>\n",
       "    <tr>\n",
       "      <th>1</th>\n",
       "      <td>Whole flr w/private bdrm, bath &amp; kitchen(pls r...</td>\n",
       "      <td>Enjoy 500 s.f. top floor in 1899 brownstone, w...</td>\n",
       "      <td>Just the right mix of urban center and local n...</td>\n",
       "      <td>Laid-back Native New Yorker (formerly bi-coast...</td>\n",
       "      <td>0.090000</td>\n",
       "      <td>0.690000</td>\n",
       "      <td>1.0</td>\n",
       "      <td>1.0</td>\n",
       "      <td>3</td>\n",
       "      <td>1.0</td>\n",
       "      <td>...</td>\n",
       "      <td>0</td>\n",
       "      <td>0</td>\n",
       "      <td>0</td>\n",
       "      <td>0</td>\n",
       "      <td>0</td>\n",
       "      <td>0</td>\n",
       "      <td>0</td>\n",
       "      <td>0</td>\n",
       "      <td>0</td>\n",
       "      <td>0</td>\n",
       "    </tr>\n",
       "    <tr>\n",
       "      <th>2</th>\n",
       "      <td>Spacious Brooklyn Duplex, Patio + Garden</td>\n",
       "      <td>We welcome you to stay in our lovely 2 br dupl...</td>\n",
       "      <td>NaN</td>\n",
       "      <td>Rebecca is an artist/designer, and Henoch is i...</td>\n",
       "      <td>1.000000</td>\n",
       "      <td>0.250000</td>\n",
       "      <td>1.0</td>\n",
       "      <td>1.0</td>\n",
       "      <td>4</td>\n",
       "      <td>1.5</td>\n",
       "      <td>...</td>\n",
       "      <td>0</td>\n",
       "      <td>0</td>\n",
       "      <td>0</td>\n",
       "      <td>0</td>\n",
       "      <td>0</td>\n",
       "      <td>0</td>\n",
       "      <td>0</td>\n",
       "      <td>0</td>\n",
       "      <td>0</td>\n",
       "      <td>0</td>\n",
       "    </tr>\n",
       "    <tr>\n",
       "      <th>3</th>\n",
       "      <td>Large Furnished Room Near B'way</td>\n",
       "      <td>Please don’t expect the luxury here just a bas...</td>\n",
       "      <td>Theater district, many restaurants around here.</td>\n",
       "      <td>I used to work for a financial industry but no...</td>\n",
       "      <td>1.000000</td>\n",
       "      <td>1.000000</td>\n",
       "      <td>1.0</td>\n",
       "      <td>1.0</td>\n",
       "      <td>2</td>\n",
       "      <td>1.0</td>\n",
       "      <td>...</td>\n",
       "      <td>0</td>\n",
       "      <td>0</td>\n",
       "      <td>0</td>\n",
       "      <td>0</td>\n",
       "      <td>0</td>\n",
       "      <td>0</td>\n",
       "      <td>0</td>\n",
       "      <td>0</td>\n",
       "      <td>0</td>\n",
       "      <td>0</td>\n",
       "    </tr>\n",
       "    <tr>\n",
       "      <th>4</th>\n",
       "      <td>Cozy Clean Guest Room - Family Apt</td>\n",
       "      <td>Our best guests are seeking a safe, clean, spa...</td>\n",
       "      <td>Our neighborhood is full of restaurants and ca...</td>\n",
       "      <td>Welcome to family life with my oldest two away...</td>\n",
       "      <td>0.906901</td>\n",
       "      <td>0.791953</td>\n",
       "      <td>1.0</td>\n",
       "      <td>1.0</td>\n",
       "      <td>1</td>\n",
       "      <td>1.0</td>\n",
       "      <td>...</td>\n",
       "      <td>0</td>\n",
       "      <td>0</td>\n",
       "      <td>0</td>\n",
       "      <td>0</td>\n",
       "      <td>0</td>\n",
       "      <td>0</td>\n",
       "      <td>0</td>\n",
       "      <td>0</td>\n",
       "      <td>0</td>\n",
       "      <td>0</td>\n",
       "    </tr>\n",
       "  </tbody>\n",
       "</table>\n",
       "<p>5 rows × 65 columns</p>\n",
       "</div>"
      ],
      "text/plain": [
       "                                                name  \\\n",
       "0                              Skylit Midtown Castle   \n",
       "1  Whole flr w/private bdrm, bath & kitchen(pls r...   \n",
       "2           Spacious Brooklyn Duplex, Patio + Garden   \n",
       "3                   Large Furnished Room Near B'way　   \n",
       "4                 Cozy Clean Guest Room - Family Apt   \n",
       "\n",
       "                                         description  \\\n",
       "0  Beautiful, spacious skylit studio in the heart...   \n",
       "1  Enjoy 500 s.f. top floor in 1899 brownstone, w...   \n",
       "2  We welcome you to stay in our lovely 2 br dupl...   \n",
       "3  Please don’t expect the luxury here just a bas...   \n",
       "4  Our best guests are seeking a safe, clean, spa...   \n",
       "\n",
       "                               neighborhood_overview  \\\n",
       "0  Centrally located in the heart of Manhattan ju...   \n",
       "1  Just the right mix of urban center and local n...   \n",
       "2                                                NaN   \n",
       "3    Theater district, many restaurants around here.   \n",
       "4  Our neighborhood is full of restaurants and ca...   \n",
       "\n",
       "                                          host_about  host_response_rate  \\\n",
       "0  A New Yorker since 2000! My passion is creatin...            0.800000   \n",
       "1  Laid-back Native New Yorker (formerly bi-coast...            0.090000   \n",
       "2  Rebecca is an artist/designer, and Henoch is i...            1.000000   \n",
       "3  I used to work for a financial industry but no...            1.000000   \n",
       "4  Welcome to family life with my oldest two away...            0.906901   \n",
       "\n",
       "   host_acceptance_rate  host_listings_count  host_total_listings_count  \\\n",
       "0              0.170000                  8.0                        8.0   \n",
       "1              0.690000                  1.0                        1.0   \n",
       "2              0.250000                  1.0                        1.0   \n",
       "3              1.000000                  1.0                        1.0   \n",
       "4              0.791953                  1.0                        1.0   \n",
       "\n",
       "   accommodates  bathrooms  ...  \\\n",
       "0             1        1.0  ...   \n",
       "1             3        1.0  ...   \n",
       "2             4        1.5  ...   \n",
       "3             2        1.0  ...   \n",
       "4             1        1.0  ...   \n",
       "\n",
       "   Amenities_[\"Hangers\", \"Long term stays allowed\", \"Iron\", \"TV\", \"Carbon monoxide alarm\", \"Fire extinguisher\", \"Elevator\", \"Hair dryer\", \"Wifi\", \"Heating\", \"Shampoo\", \"Smoke alarm\", \"First aid kit\", \"Air conditioning\", \"Essentials\"]  \\\n",
       "0                                                  0                                                                                                                                                                                        \n",
       "1                                                  0                                                                                                                                                                                        \n",
       "2                                                  0                                                                                                                                                                                        \n",
       "3                                                  0                                                                                                                                                                                        \n",
       "4                                                  0                                                                                                                                                                                        \n",
       "\n",
       "   Amenities_[\"Fire extinguisher\", \"Lock on bedroom door\", \"Smoke alarm\", \"Shower gel\", \"Dedicated workspace\", \"Conditioner\", \"Building staff\", \"Body soap\", \"Hot water\", \"TV\", \"Hangers\", \"First aid kit\", \"Hair dryer\", \"Bed linens\", \"Long term stays allowed\", \"Air conditioning\", \"Carbon monoxide alarm\", \"Shampoo\", \"Iron\", \"Heating\", \"Luggage dropoff allowed\", \"Wifi\", \"Essentials\"]  \\\n",
       "0                                                  0                                                                                                                                                                                                                                                                                                                                             \n",
       "1                                                  0                                                                                                                                                                                                                                                                                                                                             \n",
       "2                                                  0                                                                                                                                                                                                                                                                                                                                             \n",
       "3                                                  0                                                                                                                                                                                                                                                                                                                                             \n",
       "4                                                  0                                                                                                                                                                                                                                                                                                                                             \n",
       "\n",
       "   Amenities_[\"Hangers\", \"Long term stays allowed\", \"Iron\", \"Cable TV\", \"Carbon monoxide alarm\", \"Security cameras on property\", \"Dedicated workspace\", \"Hair dryer\", \"Elevator\", \"Wifi\", \"TV with standard cable\", \"Heating\", \"Shampoo\", \"Smoke alarm\", \"Air conditioning\", \"Essentials\"]  \\\n",
       "0                                                  0                                                                                                                                                                                                                                         \n",
       "1                                                  0                                                                                                                                                                                                                                         \n",
       "2                                                  0                                                                                                                                                                                                                                         \n",
       "3                                                  0                                                                                                                                                                                                                                         \n",
       "4                                                  0                                                                                                                                                                                                                                         \n",
       "\n",
       "   Amenities_[\"Long term stays allowed\"]  \\\n",
       "0                                      0   \n",
       "1                                      0   \n",
       "2                                      0   \n",
       "3                                      0   \n",
       "4                                      0   \n",
       "\n",
       "   Amenities_[\"Fire extinguisher\", \"Lock on bedroom door\", \"Smoke alarm\", \"Dedicated workspace\", \"Conditioner\", \"Building staff\", \"Body soap\", \"Hot water\", \"TV\", \"Hangers\", \"First aid kit\", \"Hair dryer\", \"Long term stays allowed\", \"Air conditioning\", \"Carbon monoxide alarm\", \"Shampoo\", \"Iron\", \"Heating\", \"Luggage dropoff allowed\", \"Wifi\", \"Essentials\"]  \\\n",
       "0                                                  0                                                                                                                                                                                                                                                                                                                 \n",
       "1                                                  0                                                                                                                                                                                                                                                                                                                 \n",
       "2                                                  0                                                                                                                                                                                                                                                                                                                 \n",
       "3                                                  0                                                                                                                                                                                                                                                                                                                 \n",
       "4                                                  0                                                                                                                                                                                                                                                                                                                 \n",
       "\n",
       "   Amenities_[\"Luggage dropoff allowed\", \"TV\", \"Keurig coffee machine\", \"Hot water kettle\", \"Microwave\", \"First aid kit\", \"Hangers\", \"Long term stays allowed\", \"Carbon monoxide alarm\", \"Mini fridge\", \"Building staff\", \"Wifi\", \"Laundromat nearby\", \"Heating\", \"Shampoo\", \"Dishes and silverware\", \"Air conditioning\", \"Essentials\", \"Hot water\", \"Conditioner\", \"Safe\", \"Fire extinguisher\", \"Clothing storage\", \"Hair dryer\", \"Room-darkening shades\", \"Sound system\", \"Smoke alarm\", \"Iron\", \"Elevator\", \"Bed linens\", \"Coffee maker\"]  \\\n",
       "0                                                  0                                                                                                                                                                                                                                                                                                                                                                                                                                                                                           \n",
       "1                                                  0                                                                                                                                                                                                                                                                                                                                                                                                                                                                                           \n",
       "2                                                  0                                                                                                                                                                                                                                                                                                                                                                                                                                                                                           \n",
       "3                                                  0                                                                                                                                                                                                                                                                                                                                                                                                                                                                                           \n",
       "4                                                  0                                                                                                                                                                                                                                                                                                                                                                                                                                                                                           \n",
       "\n",
       "   Amenities_[\"Hangers\", \"Kitchen\", \"Long term stays allowed\", \"Iron\", \"Cable TV\", \"Washer\", \"Elevator\", \"Bed linens\", \"Wifi\", \"TV with standard cable\", \"Heating\", \"Private entrance\", \"Dryer\", \"Air conditioning\", \"Essentials\", \"Hot water\"]  \\\n",
       "0                                                  0                                                                                                                                                                                              \n",
       "1                                                  0                                                                                                                                                                                              \n",
       "2                                                  0                                                                                                                                                                                              \n",
       "3                                                  0                                                                                                                                                                                              \n",
       "4                                                  0                                                                                                                                                                                              \n",
       "\n",
       "   Amenities_[\"Kitchen\", \"Long term stays allowed\", \"Cable TV\", \"Carbon monoxide alarm\", \"Wifi\", \"TV with standard cable\", \"Heating\", \"Shampoo\", \"Smoke alarm\", \"Air conditioning\", \"Essentials\"]  \\\n",
       "0                                                  0                                                                                                                                                \n",
       "1                                                  0                                                                                                                                                \n",
       "2                                                  0                                                                                                                                                \n",
       "3                                                  0                                                                                                                                                \n",
       "4                                                  0                                                                                                                                                \n",
       "\n",
       "   Amenities_[\"Air conditioning\", \"Dedicated workspace\", \"Security cameras on property\", \"Carbon monoxide alarm\", \"Lock on bedroom door\", \"Wifi\", \"Shampoo\", \"Private entrance\", \"Hangers\", \"Iron\", \"Heating\", \"TV\", \"Hair dryer\", \"Smoke alarm\", \"Essentials\", \"Long term stays allowed\"]  \\\n",
       "0                                                  0                                                                                                                                                                                                                                         \n",
       "1                                                  0                                                                                                                                                                                                                                         \n",
       "2                                                  0                                                                                                                                                                                                                                         \n",
       "3                                                  0                                                                                                                                                                                                                                         \n",
       "4                                                  0                                                                                                                                                                                                                                         \n",
       "\n",
       "   Amenities_[\"Kitchen\", \"Long term stays allowed\", \"TV\", \"Wifi\", \"Heating\", \"Air conditioning\", \"Essentials\"]  \n",
       "0                                                  0                                                            \n",
       "1                                                  0                                                            \n",
       "2                                                  0                                                            \n",
       "3                                                  0                                                            \n",
       "4                                                  0                                                            \n",
       "\n",
       "[5 rows x 65 columns]"
      ]
     },
     "execution_count": 68,
     "metadata": {},
     "output_type": "execute_result"
    }
   ],
   "source": [
    "for value  in top_10_Amenities:\n",
    "    df['Amenities_' + value] = np.where(df['amenities']==value, 1, 0)\n",
    "\n",
    "#Remove the original column from my data frame\n",
    "df.drop(columns = 'amenities', inplace = True)\n",
    "\n",
    "#Inspect my data frame\n",
    "df.head(5)"
   ]
  },
  {
   "cell_type": "code",
   "execution_count": 69,
   "metadata": {},
   "outputs": [
    {
     "data": {
      "text/html": [
       "<div>\n",
       "<style scoped>\n",
       "    .dataframe tbody tr th:only-of-type {\n",
       "        vertical-align: middle;\n",
       "    }\n",
       "\n",
       "    .dataframe tbody tr th {\n",
       "        vertical-align: top;\n",
       "    }\n",
       "\n",
       "    .dataframe thead th {\n",
       "        text-align: right;\n",
       "    }\n",
       "</style>\n",
       "<table border=\"1\" class=\"dataframe\">\n",
       "  <thead>\n",
       "    <tr style=\"text-align: right;\">\n",
       "      <th></th>\n",
       "      <th>name</th>\n",
       "      <th>description</th>\n",
       "      <th>neighborhood_overview</th>\n",
       "      <th>host_about</th>\n",
       "      <th>host_response_rate</th>\n",
       "      <th>host_acceptance_rate</th>\n",
       "      <th>host_listings_count</th>\n",
       "      <th>host_total_listings_count</th>\n",
       "      <th>accommodates</th>\n",
       "      <th>bathrooms</th>\n",
       "      <th>...</th>\n",
       "      <th>Amenities_[\"Hangers\", \"Long term stays allowed\", \"Iron\", \"TV\", \"Carbon monoxide alarm\", \"Fire extinguisher\", \"Elevator\", \"Hair dryer\", \"Wifi\", \"Heating\", \"Shampoo\", \"Smoke alarm\", \"First aid kit\", \"Air conditioning\", \"Essentials\"]</th>\n",
       "      <th>Amenities_[\"Fire extinguisher\", \"Lock on bedroom door\", \"Smoke alarm\", \"Shower gel\", \"Dedicated workspace\", \"Conditioner\", \"Building staff\", \"Body soap\", \"Hot water\", \"TV\", \"Hangers\", \"First aid kit\", \"Hair dryer\", \"Bed linens\", \"Long term stays allowed\", \"Air conditioning\", \"Carbon monoxide alarm\", \"Shampoo\", \"Iron\", \"Heating\", \"Luggage dropoff allowed\", \"Wifi\", \"Essentials\"]</th>\n",
       "      <th>Amenities_[\"Hangers\", \"Long term stays allowed\", \"Iron\", \"Cable TV\", \"Carbon monoxide alarm\", \"Security cameras on property\", \"Dedicated workspace\", \"Hair dryer\", \"Elevator\", \"Wifi\", \"TV with standard cable\", \"Heating\", \"Shampoo\", \"Smoke alarm\", \"Air conditioning\", \"Essentials\"]</th>\n",
       "      <th>Amenities_[\"Long term stays allowed\"]</th>\n",
       "      <th>Amenities_[\"Fire extinguisher\", \"Lock on bedroom door\", \"Smoke alarm\", \"Dedicated workspace\", \"Conditioner\", \"Building staff\", \"Body soap\", \"Hot water\", \"TV\", \"Hangers\", \"First aid kit\", \"Hair dryer\", \"Long term stays allowed\", \"Air conditioning\", \"Carbon monoxide alarm\", \"Shampoo\", \"Iron\", \"Heating\", \"Luggage dropoff allowed\", \"Wifi\", \"Essentials\"]</th>\n",
       "      <th>Amenities_[\"Luggage dropoff allowed\", \"TV\", \"Keurig coffee machine\", \"Hot water kettle\", \"Microwave\", \"First aid kit\", \"Hangers\", \"Long term stays allowed\", \"Carbon monoxide alarm\", \"Mini fridge\", \"Building staff\", \"Wifi\", \"Laundromat nearby\", \"Heating\", \"Shampoo\", \"Dishes and silverware\", \"Air conditioning\", \"Essentials\", \"Hot water\", \"Conditioner\", \"Safe\", \"Fire extinguisher\", \"Clothing storage\", \"Hair dryer\", \"Room-darkening shades\", \"Sound system\", \"Smoke alarm\", \"Iron\", \"Elevator\", \"Bed linens\", \"Coffee maker\"]</th>\n",
       "      <th>Amenities_[\"Hangers\", \"Kitchen\", \"Long term stays allowed\", \"Iron\", \"Cable TV\", \"Washer\", \"Elevator\", \"Bed linens\", \"Wifi\", \"TV with standard cable\", \"Heating\", \"Private entrance\", \"Dryer\", \"Air conditioning\", \"Essentials\", \"Hot water\"]</th>\n",
       "      <th>Amenities_[\"Kitchen\", \"Long term stays allowed\", \"Cable TV\", \"Carbon monoxide alarm\", \"Wifi\", \"TV with standard cable\", \"Heating\", \"Shampoo\", \"Smoke alarm\", \"Air conditioning\", \"Essentials\"]</th>\n",
       "      <th>Amenities_[\"Air conditioning\", \"Dedicated workspace\", \"Security cameras on property\", \"Carbon monoxide alarm\", \"Lock on bedroom door\", \"Wifi\", \"Shampoo\", \"Private entrance\", \"Hangers\", \"Iron\", \"Heating\", \"TV\", \"Hair dryer\", \"Smoke alarm\", \"Essentials\", \"Long term stays allowed\"]</th>\n",
       "      <th>Amenities_[\"Kitchen\", \"Long term stays allowed\", \"TV\", \"Wifi\", \"Heating\", \"Air conditioning\", \"Essentials\"]</th>\n",
       "    </tr>\n",
       "  </thead>\n",
       "  <tbody>\n",
       "    <tr>\n",
       "      <th>100</th>\n",
       "      <td>( F) Excellent/Pvt Rm</td>\n",
       "      <td>&lt;b&gt;The space&lt;/b&gt;&lt;br /&gt;Large Private room with ...</td>\n",
       "      <td>NaN</td>\n",
       "      <td>Registered Nurse who is very open and flexible...</td>\n",
       "      <td>0.9</td>\n",
       "      <td>0.83</td>\n",
       "      <td>4.0</td>\n",
       "      <td>4.0</td>\n",
       "      <td>2</td>\n",
       "      <td>1.0</td>\n",
       "      <td>...</td>\n",
       "      <td>0</td>\n",
       "      <td>0</td>\n",
       "      <td>0</td>\n",
       "      <td>0</td>\n",
       "      <td>0</td>\n",
       "      <td>0</td>\n",
       "      <td>0</td>\n",
       "      <td>0</td>\n",
       "      <td>0</td>\n",
       "      <td>0</td>\n",
       "    </tr>\n",
       "  </tbody>\n",
       "</table>\n",
       "<p>1 rows × 65 columns</p>\n",
       "</div>"
      ],
      "text/plain": [
       "                      name                                        description  \\\n",
       "100  ( F) Excellent/Pvt Rm  <b>The space</b><br />Large Private room with ...   \n",
       "\n",
       "    neighborhood_overview                                         host_about  \\\n",
       "100                   NaN  Registered Nurse who is very open and flexible...   \n",
       "\n",
       "     host_response_rate  host_acceptance_rate  host_listings_count  \\\n",
       "100                 0.9                  0.83                  4.0   \n",
       "\n",
       "     host_total_listings_count  accommodates  bathrooms  ...  \\\n",
       "100                        4.0             2        1.0  ...   \n",
       "\n",
       "     Amenities_[\"Hangers\", \"Long term stays allowed\", \"Iron\", \"TV\", \"Carbon monoxide alarm\", \"Fire extinguisher\", \"Elevator\", \"Hair dryer\", \"Wifi\", \"Heating\", \"Shampoo\", \"Smoke alarm\", \"First aid kit\", \"Air conditioning\", \"Essentials\"]  \\\n",
       "100                                                  0                                                                                                                                                                                        \n",
       "\n",
       "     Amenities_[\"Fire extinguisher\", \"Lock on bedroom door\", \"Smoke alarm\", \"Shower gel\", \"Dedicated workspace\", \"Conditioner\", \"Building staff\", \"Body soap\", \"Hot water\", \"TV\", \"Hangers\", \"First aid kit\", \"Hair dryer\", \"Bed linens\", \"Long term stays allowed\", \"Air conditioning\", \"Carbon monoxide alarm\", \"Shampoo\", \"Iron\", \"Heating\", \"Luggage dropoff allowed\", \"Wifi\", \"Essentials\"]  \\\n",
       "100                                                  0                                                                                                                                                                                                                                                                                                                                             \n",
       "\n",
       "     Amenities_[\"Hangers\", \"Long term stays allowed\", \"Iron\", \"Cable TV\", \"Carbon monoxide alarm\", \"Security cameras on property\", \"Dedicated workspace\", \"Hair dryer\", \"Elevator\", \"Wifi\", \"TV with standard cable\", \"Heating\", \"Shampoo\", \"Smoke alarm\", \"Air conditioning\", \"Essentials\"]  \\\n",
       "100                                                  0                                                                                                                                                                                                                                         \n",
       "\n",
       "     Amenities_[\"Long term stays allowed\"]  \\\n",
       "100                                      0   \n",
       "\n",
       "     Amenities_[\"Fire extinguisher\", \"Lock on bedroom door\", \"Smoke alarm\", \"Dedicated workspace\", \"Conditioner\", \"Building staff\", \"Body soap\", \"Hot water\", \"TV\", \"Hangers\", \"First aid kit\", \"Hair dryer\", \"Long term stays allowed\", \"Air conditioning\", \"Carbon monoxide alarm\", \"Shampoo\", \"Iron\", \"Heating\", \"Luggage dropoff allowed\", \"Wifi\", \"Essentials\"]  \\\n",
       "100                                                  0                                                                                                                                                                                                                                                                                                                 \n",
       "\n",
       "     Amenities_[\"Luggage dropoff allowed\", \"TV\", \"Keurig coffee machine\", \"Hot water kettle\", \"Microwave\", \"First aid kit\", \"Hangers\", \"Long term stays allowed\", \"Carbon monoxide alarm\", \"Mini fridge\", \"Building staff\", \"Wifi\", \"Laundromat nearby\", \"Heating\", \"Shampoo\", \"Dishes and silverware\", \"Air conditioning\", \"Essentials\", \"Hot water\", \"Conditioner\", \"Safe\", \"Fire extinguisher\", \"Clothing storage\", \"Hair dryer\", \"Room-darkening shades\", \"Sound system\", \"Smoke alarm\", \"Iron\", \"Elevator\", \"Bed linens\", \"Coffee maker\"]  \\\n",
       "100                                                  0                                                                                                                                                                                                                                                                                                                                                                                                                                                                                           \n",
       "\n",
       "     Amenities_[\"Hangers\", \"Kitchen\", \"Long term stays allowed\", \"Iron\", \"Cable TV\", \"Washer\", \"Elevator\", \"Bed linens\", \"Wifi\", \"TV with standard cable\", \"Heating\", \"Private entrance\", \"Dryer\", \"Air conditioning\", \"Essentials\", \"Hot water\"]  \\\n",
       "100                                                  0                                                                                                                                                                                              \n",
       "\n",
       "     Amenities_[\"Kitchen\", \"Long term stays allowed\", \"Cable TV\", \"Carbon monoxide alarm\", \"Wifi\", \"TV with standard cable\", \"Heating\", \"Shampoo\", \"Smoke alarm\", \"Air conditioning\", \"Essentials\"]  \\\n",
       "100                                                  0                                                                                                                                                \n",
       "\n",
       "     Amenities_[\"Air conditioning\", \"Dedicated workspace\", \"Security cameras on property\", \"Carbon monoxide alarm\", \"Lock on bedroom door\", \"Wifi\", \"Shampoo\", \"Private entrance\", \"Hangers\", \"Iron\", \"Heating\", \"TV\", \"Hair dryer\", \"Smoke alarm\", \"Essentials\", \"Long term stays allowed\"]  \\\n",
       "100                                                  0                                                                                                                                                                                                                                         \n",
       "\n",
       "     Amenities_[\"Kitchen\", \"Long term stays allowed\", \"TV\", \"Wifi\", \"Heating\", \"Air conditioning\", \"Essentials\"]  \n",
       "100                                                  0                                                            \n",
       "\n",
       "[1 rows x 65 columns]"
      ]
     },
     "execution_count": 69,
     "metadata": {},
     "output_type": "execute_result"
    }
   ],
   "source": [
    "df[100:101][:]"
   ]
  },
  {
   "cell_type": "code",
   "execution_count": 70,
   "metadata": {},
   "outputs": [
    {
     "data": {
      "text/plain": [
       "100    0\n",
       "101    0\n",
       "102    0\n",
       "103    0\n",
       "104    0\n",
       "      ..\n",
       "195    0\n",
       "196    0\n",
       "197    0\n",
       "198    0\n",
       "199    0\n",
       "Name: Amenities_[\"Long term stays allowed\"], Length: 100, dtype: int64"
      ]
     },
     "execution_count": 70,
     "metadata": {},
     "output_type": "execute_result"
    }
   ],
   "source": [
    "df[100:200]['Amenities_[\"Long term stays allowed\"]']"
   ]
  },
  {
   "cell_type": "code",
   "execution_count": 71,
   "metadata": {},
   "outputs": [
    {
     "data": {
      "text/plain": [
       "2"
      ]
     },
     "execution_count": 71,
     "metadata": {},
     "output_type": "execute_result"
    }
   ],
   "source": [
    "df['Amenities_[\"Long term stays allowed\"]'].nunique()"
   ]
  },
  {
   "cell_type": "markdown",
   "metadata": {},
   "source": [
    "<b>Check again data types of columns</b>"
   ]
  },
  {
   "cell_type": "code",
   "execution_count": 72,
   "metadata": {},
   "outputs": [
    {
     "data": {
      "text/plain": [
       "name                                                                                                                                                                                                                                                                                                                                                                                                                                                                                                                                          object\n",
       "description                                                                                                                                                                                                                                                                                                                                                                                                                                                                                                                                   object\n",
       "neighborhood_overview                                                                                                                                                                                                                                                                                                                                                                                                                                                                                                                         object\n",
       "host_about                                                                                                                                                                                                                                                                                                                                                                                                                                                                                                                                    object\n",
       "host_response_rate                                                                                                                                                                                                                                                                                                                                                                                                                                                                                                                           float64\n",
       "                                                                                                                                                                                                                                                                                                                                                                                                                                                                                                                                              ...   \n",
       "Amenities_[\"Luggage dropoff allowed\", \"TV\", \"Keurig coffee machine\", \"Hot water kettle\", \"Microwave\", \"First aid kit\", \"Hangers\", \"Long term stays allowed\", \"Carbon monoxide alarm\", \"Mini fridge\", \"Building staff\", \"Wifi\", \"Laundromat nearby\", \"Heating\", \"Shampoo\", \"Dishes and silverware\", \"Air conditioning\", \"Essentials\", \"Hot water\", \"Conditioner\", \"Safe\", \"Fire extinguisher\", \"Clothing storage\", \"Hair dryer\", \"Room-darkening shades\", \"Sound system\", \"Smoke alarm\", \"Iron\", \"Elevator\", \"Bed linens\", \"Coffee maker\"]      int64\n",
       "Amenities_[\"Hangers\", \"Kitchen\", \"Long term stays allowed\", \"Iron\", \"Cable TV\", \"Washer\", \"Elevator\", \"Bed linens\", \"Wifi\", \"TV with standard cable\", \"Heating\", \"Private entrance\", \"Dryer\", \"Air conditioning\", \"Essentials\", \"Hot water\"]                                                                                                                                                                                                                                                                                                   int64\n",
       "Amenities_[\"Kitchen\", \"Long term stays allowed\", \"Cable TV\", \"Carbon monoxide alarm\", \"Wifi\", \"TV with standard cable\", \"Heating\", \"Shampoo\", \"Smoke alarm\", \"Air conditioning\", \"Essentials\"]                                                                                                                                                                                                                                                                                                                                                 int64\n",
       "Amenities_[\"Air conditioning\", \"Dedicated workspace\", \"Security cameras on property\", \"Carbon monoxide alarm\", \"Lock on bedroom door\", \"Wifi\", \"Shampoo\", \"Private entrance\", \"Hangers\", \"Iron\", \"Heating\", \"TV\", \"Hair dryer\", \"Smoke alarm\", \"Essentials\", \"Long term stays allowed\"]                                                                                                                                                                                                                                                        int64\n",
       "Amenities_[\"Kitchen\", \"Long term stays allowed\", \"TV\", \"Wifi\", \"Heating\", \"Air conditioning\", \"Essentials\"]                                                                                                                                                                                                                                                                                                                                                                                                                                    int64\n",
       "Length: 65, dtype: object"
      ]
     },
     "execution_count": 72,
     "metadata": {},
     "output_type": "execute_result"
    }
   ],
   "source": [
    "df.dtypes"
   ]
  },
  {
   "cell_type": "code",
   "execution_count": 73,
   "metadata": {},
   "outputs": [
    {
     "name": "stdout",
     "output_type": "stream",
     "text": [
      "['name', 'description', 'neighborhood_overview', 'host_about']\n"
     ]
    }
   ],
   "source": [
    "#Double check to see which columns still have object data type\n",
    "object_data_type_columns = list(df.select_dtypes(include=['object']).columns)\n",
    "print(object_data_type_columns)"
   ]
  },
  {
   "cell_type": "code",
   "execution_count": 74,
   "metadata": {},
   "outputs": [
    {
     "data": {
      "text/plain": [
       "(28022, 65)"
      ]
     },
     "execution_count": 74,
     "metadata": {},
     "output_type": "execute_result"
    }
   ],
   "source": [
    "df.shape"
   ]
  },
  {
   "cell_type": "markdown",
   "metadata": {},
   "source": [
    "<b>Check again on NaN values. Will randomly select 60% of rows that don't have NaN values.</b>"
   ]
  },
  {
   "cell_type": "code",
   "execution_count": 75,
   "metadata": {},
   "outputs": [
    {
     "name": "stdout",
     "output_type": "stream",
     "text": [
      "name                                                                                                                                                                                                                                                                                                                                                                                                                                                                                                                                             5\n",
      "description                                                                                                                                                                                                                                                                                                                                                                                                                                                                                                                                    570\n",
      "neighborhood_overview                                                                                                                                                                                                                                                                                                                                                                                                                                                                                                                         9816\n",
      "host_about                                                                                                                                                                                                                                                                                                                                                                                                                                                                                                                                   10945\n",
      "host_response_rate                                                                                                                                                                                                                                                                                                                                                                                                                                                                                                                               0\n",
      "                                                                                                                                                                                                                                                                                                                                                                                                                                                                                                                                             ...  \n",
      "Amenities_[\"Luggage dropoff allowed\", \"TV\", \"Keurig coffee machine\", \"Hot water kettle\", \"Microwave\", \"First aid kit\", \"Hangers\", \"Long term stays allowed\", \"Carbon monoxide alarm\", \"Mini fridge\", \"Building staff\", \"Wifi\", \"Laundromat nearby\", \"Heating\", \"Shampoo\", \"Dishes and silverware\", \"Air conditioning\", \"Essentials\", \"Hot water\", \"Conditioner\", \"Safe\", \"Fire extinguisher\", \"Clothing storage\", \"Hair dryer\", \"Room-darkening shades\", \"Sound system\", \"Smoke alarm\", \"Iron\", \"Elevator\", \"Bed linens\", \"Coffee maker\"]        0\n",
      "Amenities_[\"Hangers\", \"Kitchen\", \"Long term stays allowed\", \"Iron\", \"Cable TV\", \"Washer\", \"Elevator\", \"Bed linens\", \"Wifi\", \"TV with standard cable\", \"Heating\", \"Private entrance\", \"Dryer\", \"Air conditioning\", \"Essentials\", \"Hot water\"]                                                                                                                                                                                                                                                                                                     0\n",
      "Amenities_[\"Kitchen\", \"Long term stays allowed\", \"Cable TV\", \"Carbon monoxide alarm\", \"Wifi\", \"TV with standard cable\", \"Heating\", \"Shampoo\", \"Smoke alarm\", \"Air conditioning\", \"Essentials\"]                                                                                                                                                                                                                                                                                                                                                   0\n",
      "Amenities_[\"Air conditioning\", \"Dedicated workspace\", \"Security cameras on property\", \"Carbon monoxide alarm\", \"Lock on bedroom door\", \"Wifi\", \"Shampoo\", \"Private entrance\", \"Hangers\", \"Iron\", \"Heating\", \"TV\", \"Hair dryer\", \"Smoke alarm\", \"Essentials\", \"Long term stays allowed\"]                                                                                                                                                                                                                                                          0\n",
      "Amenities_[\"Kitchen\", \"Long term stays allowed\", \"TV\", \"Wifi\", \"Heating\", \"Air conditioning\", \"Essentials\"]                                                                                                                                                                                                                                                                                                                                                                                                                                      0\n",
      "Length: 65, dtype: int64\n"
     ]
    }
   ],
   "source": [
    "nan_count = np.sum(df.isnull(), axis = 0)\n",
    "print(nan_count)\n",
    "nan_detected = nan_count!=0\n"
   ]
  },
  {
   "cell_type": "code",
   "execution_count": 76,
   "metadata": {},
   "outputs": [
    {
     "name": "stdout",
     "output_type": "stream",
     "text": [
      "name                                                                                                                                                                                                                                                                                                                                                                                                                                                                                                                                          True\n",
      "description                                                                                                                                                                                                                                                                                                                                                                                                                                                                                                                                   True\n",
      "neighborhood_overview                                                                                                                                                                                                                                                                                                                                                                                                                                                                                                                         True\n",
      "host_about                                                                                                                                                                                                                                                                                                                                                                                                                                                                                                                                    True\n",
      "host_response_rate                                                                                                                                                                                                                                                                                                                                                                                                                                                                                                                           False\n",
      "                                                                                                                                                                                                                                                                                                                                                                                                                                                                                                                                             ...  \n",
      "Amenities_[\"Luggage dropoff allowed\", \"TV\", \"Keurig coffee machine\", \"Hot water kettle\", \"Microwave\", \"First aid kit\", \"Hangers\", \"Long term stays allowed\", \"Carbon monoxide alarm\", \"Mini fridge\", \"Building staff\", \"Wifi\", \"Laundromat nearby\", \"Heating\", \"Shampoo\", \"Dishes and silverware\", \"Air conditioning\", \"Essentials\", \"Hot water\", \"Conditioner\", \"Safe\", \"Fire extinguisher\", \"Clothing storage\", \"Hair dryer\", \"Room-darkening shades\", \"Sound system\", \"Smoke alarm\", \"Iron\", \"Elevator\", \"Bed linens\", \"Coffee maker\"]    False\n",
      "Amenities_[\"Hangers\", \"Kitchen\", \"Long term stays allowed\", \"Iron\", \"Cable TV\", \"Washer\", \"Elevator\", \"Bed linens\", \"Wifi\", \"TV with standard cable\", \"Heating\", \"Private entrance\", \"Dryer\", \"Air conditioning\", \"Essentials\", \"Hot water\"]                                                                                                                                                                                                                                                                                                 False\n",
      "Amenities_[\"Kitchen\", \"Long term stays allowed\", \"Cable TV\", \"Carbon monoxide alarm\", \"Wifi\", \"TV with standard cable\", \"Heating\", \"Shampoo\", \"Smoke alarm\", \"Air conditioning\", \"Essentials\"]                                                                                                                                                                                                                                                                                                                                               False\n",
      "Amenities_[\"Air conditioning\", \"Dedicated workspace\", \"Security cameras on property\", \"Carbon monoxide alarm\", \"Lock on bedroom door\", \"Wifi\", \"Shampoo\", \"Private entrance\", \"Hangers\", \"Iron\", \"Heating\", \"TV\", \"Hair dryer\", \"Smoke alarm\", \"Essentials\", \"Long term stays allowed\"]                                                                                                                                                                                                                                                      False\n",
      "Amenities_[\"Kitchen\", \"Long term stays allowed\", \"TV\", \"Wifi\", \"Heating\", \"Air conditioning\", \"Essentials\"]                                                                                                                                                                                                                                                                                                                                                                                                                                  False\n",
      "Length: 65, dtype: bool\n"
     ]
    }
   ],
   "source": [
    "print(nan_detected)"
   ]
  },
  {
   "cell_type": "code",
   "execution_count": 77,
   "metadata": {},
   "outputs": [
    {
     "name": "stdout",
     "output_type": "stream",
     "text": [
      "name                             5\n",
      "description                    570\n",
      "neighborhood_overview         9816\n",
      "host_about                   10945\n",
      "host_response_rate               0\n",
      "host_acceptance_rate             0\n",
      "host_listings_count              0\n",
      "host_total_listings_count        0\n",
      "accommodates                     0\n",
      "bathrooms                        0\n",
      "dtype: int64\n"
     ]
    }
   ],
   "source": [
    "print(nan_count[:10])"
   ]
  },
  {
   "cell_type": "code",
   "execution_count": 78,
   "metadata": {},
   "outputs": [
    {
     "name": "stdout",
     "output_type": "stream",
     "text": [
      "bedrooms                  0\n",
      "beds                      0\n",
      "minimum_nights            0\n",
      "maximum_nights            0\n",
      "minimum_minimum_nights    0\n",
      "maximum_minimum_nights    0\n",
      "minimum_maximum_nights    0\n",
      "maximum_maximum_nights    0\n",
      "minimum_nights_avg_ntm    0\n",
      "maximum_nights_avg_ntm    0\n",
      "dtype: int64\n"
     ]
    }
   ],
   "source": [
    "print(nan_count[10:20])"
   ]
  },
  {
   "cell_type": "code",
   "execution_count": 79,
   "metadata": {},
   "outputs": [
    {
     "name": "stdout",
     "output_type": "stream",
     "text": [
      "availability_30              0\n",
      "availability_60              0\n",
      "availability_90              0\n",
      "availability_365             0\n",
      "number_of_reviews            0\n",
      "number_of_reviews_ltm        0\n",
      "number_of_reviews_l30d       0\n",
      "review_scores_rating         0\n",
      "review_scores_cleanliness    0\n",
      "review_scores_checkin        0\n",
      "dtype: int64\n"
     ]
    }
   ],
   "source": [
    "print(nan_count[20:30])"
   ]
  },
  {
   "cell_type": "code",
   "execution_count": 80,
   "metadata": {},
   "outputs": [
    {
     "name": "stdout",
     "output_type": "stream",
     "text": [
      "review_scores_communication                     0\n",
      "review_scores_location                          0\n",
      "review_scores_value                             0\n",
      "calculated_host_listings_count                  0\n",
      "calculated_host_listings_count_entire_homes     0\n",
      "calculated_host_listings_count_private_rooms    0\n",
      "calculated_host_listings_count_shared_rooms     0\n",
      "reviews_per_month                               0\n",
      "label_price                                     0\n",
      "Host_is_super_host__True                        0\n",
      "dtype: int64\n"
     ]
    }
   ],
   "source": [
    "print(nan_count[30:40])"
   ]
  },
  {
   "cell_type": "code",
   "execution_count": 81,
   "metadata": {},
   "outputs": [
    {
     "name": "stdout",
     "output_type": "stream",
     "text": [
      "has_profile_pic__True                                                                                                                                                                                                                                                                                                                                                                                                                                                                                                                        0\n",
      "identity_verified__True                                                                                                                                                                                                                                                                                                                                                                                                                                                                                                                      0\n",
      "has_availability__False                                                                                                                                                                                                                                                                                                                                                                                                                                                                                                                      0\n",
      "has_availability__True                                                                                                                                                                                                                                                                                                                                                                                                                                                                                                                       0\n",
      "instant_bookable__False                                                                                                                                                                                                                                                                                                                                                                                                                                                                                                                      0\n",
      "instant_bookable__True                                                                                                                                                                                                                                                                                                                                                                                                                                                                                                                       0\n",
      "neighbourhood__Bronx                                                                                                                                                                                                                                                                                                                                                                                                                                                                                                                         0\n",
      "neighbourhood__Brooklyn                                                                                                                                                                                                                                                                                                                                                                                                                                                                                                                      0\n",
      "neighbourhood__Manhattan                                                                                                                                                                                                                                                                                                                                                                                                                                                                                                                     0\n",
      "neighbourhood__Queens                                                                                                                                                                                                                                                                                                                                                                                                                                                                                                                        0\n",
      "neighbourhood__Staten Island                                                                                                                                                                                                                                                                                                                                                                                                                                                                                                                 0\n",
      "room_type__Entire home/apt                                                                                                                                                                                                                                                                                                                                                                                                                                                                                                                   0\n",
      "room_type__Hotel room                                                                                                                                                                                                                                                                                                                                                                                                                                                                                                                        0\n",
      "room_type__Private room                                                                                                                                                                                                                                                                                                                                                                                                                                                                                                                      0\n",
      "room_type__Shared room                                                                                                                                                                                                                                                                                                                                                                                                                                                                                                                       0\n",
      "Amenities_[\"Hangers\", \"Long term stays allowed\", \"Iron\", \"TV\", \"Carbon monoxide alarm\", \"Fire extinguisher\", \"Elevator\", \"Hair dryer\", \"Wifi\", \"Heating\", \"Shampoo\", \"Smoke alarm\", \"First aid kit\", \"Air conditioning\", \"Essentials\"]                                                                                                                                                                                                                                                                                                       0\n",
      "Amenities_[\"Fire extinguisher\", \"Lock on bedroom door\", \"Smoke alarm\", \"Shower gel\", \"Dedicated workspace\", \"Conditioner\", \"Building staff\", \"Body soap\", \"Hot water\", \"TV\", \"Hangers\", \"First aid kit\", \"Hair dryer\", \"Bed linens\", \"Long term stays allowed\", \"Air conditioning\", \"Carbon monoxide alarm\", \"Shampoo\", \"Iron\", \"Heating\", \"Luggage dropoff allowed\", \"Wifi\", \"Essentials\"]                                                                                                                                                  0\n",
      "Amenities_[\"Hangers\", \"Long term stays allowed\", \"Iron\", \"Cable TV\", \"Carbon monoxide alarm\", \"Security cameras on property\", \"Dedicated workspace\", \"Hair dryer\", \"Elevator\", \"Wifi\", \"TV with standard cable\", \"Heating\", \"Shampoo\", \"Smoke alarm\", \"Air conditioning\", \"Essentials\"]                                                                                                                                                                                                                                                      0\n",
      "Amenities_[\"Long term stays allowed\"]                                                                                                                                                                                                                                                                                                                                                                                                                                                                                                        0\n",
      "Amenities_[\"Fire extinguisher\", \"Lock on bedroom door\", \"Smoke alarm\", \"Dedicated workspace\", \"Conditioner\", \"Building staff\", \"Body soap\", \"Hot water\", \"TV\", \"Hangers\", \"First aid kit\", \"Hair dryer\", \"Long term stays allowed\", \"Air conditioning\", \"Carbon monoxide alarm\", \"Shampoo\", \"Iron\", \"Heating\", \"Luggage dropoff allowed\", \"Wifi\", \"Essentials\"]                                                                                                                                                                              0\n",
      "Amenities_[\"Luggage dropoff allowed\", \"TV\", \"Keurig coffee machine\", \"Hot water kettle\", \"Microwave\", \"First aid kit\", \"Hangers\", \"Long term stays allowed\", \"Carbon monoxide alarm\", \"Mini fridge\", \"Building staff\", \"Wifi\", \"Laundromat nearby\", \"Heating\", \"Shampoo\", \"Dishes and silverware\", \"Air conditioning\", \"Essentials\", \"Hot water\", \"Conditioner\", \"Safe\", \"Fire extinguisher\", \"Clothing storage\", \"Hair dryer\", \"Room-darkening shades\", \"Sound system\", \"Smoke alarm\", \"Iron\", \"Elevator\", \"Bed linens\", \"Coffee maker\"]    0\n",
      "Amenities_[\"Hangers\", \"Kitchen\", \"Long term stays allowed\", \"Iron\", \"Cable TV\", \"Washer\", \"Elevator\", \"Bed linens\", \"Wifi\", \"TV with standard cable\", \"Heating\", \"Private entrance\", \"Dryer\", \"Air conditioning\", \"Essentials\", \"Hot water\"]                                                                                                                                                                                                                                                                                                 0\n",
      "Amenities_[\"Kitchen\", \"Long term stays allowed\", \"Cable TV\", \"Carbon monoxide alarm\", \"Wifi\", \"TV with standard cable\", \"Heating\", \"Shampoo\", \"Smoke alarm\", \"Air conditioning\", \"Essentials\"]                                                                                                                                                                                                                                                                                                                                               0\n",
      "Amenities_[\"Air conditioning\", \"Dedicated workspace\", \"Security cameras on property\", \"Carbon monoxide alarm\", \"Lock on bedroom door\", \"Wifi\", \"Shampoo\", \"Private entrance\", \"Hangers\", \"Iron\", \"Heating\", \"TV\", \"Hair dryer\", \"Smoke alarm\", \"Essentials\", \"Long term stays allowed\"]                                                                                                                                                                                                                                                      0\n",
      "Amenities_[\"Kitchen\", \"Long term stays allowed\", \"TV\", \"Wifi\", \"Heating\", \"Air conditioning\", \"Essentials\"]                                                                                                                                                                                                                                                                                                                                                                                                                                  0\n",
      "dtype: int64\n"
     ]
    }
   ],
   "source": [
    "print(nan_count[40:])"
   ]
  },
  {
   "cell_type": "markdown",
   "metadata": {},
   "source": [
    "<b>Friday, 08/02/2024</b>\n",
    "<b>Drop \"Host_About\"</b> -- I think for now, I will temporarily drop host_about column. If I have more time in the future, I want to look into if host's information can be used to boost the rating_score, and whether or not this information could be wrongfully used to discriminate against a certain host population. "
   ]
  },
  {
   "cell_type": "code",
   "execution_count": 82,
   "metadata": {},
   "outputs": [
    {
     "name": "stdout",
     "output_type": "stream",
     "text": [
      "                                                name  \\\n",
      "0                              Skylit Midtown Castle   \n",
      "1  Whole flr w/private bdrm, bath & kitchen(pls r...   \n",
      "2           Spacious Brooklyn Duplex, Patio + Garden   \n",
      "3                   Large Furnished Room Near B'way　   \n",
      "4                 Cozy Clean Guest Room - Family Apt   \n",
      "\n",
      "                                         description  \\\n",
      "0  Beautiful, spacious skylit studio in the heart...   \n",
      "1  Enjoy 500 s.f. top floor in 1899 brownstone, w...   \n",
      "2  We welcome you to stay in our lovely 2 br dupl...   \n",
      "3  Please don’t expect the luxury here just a bas...   \n",
      "4  Our best guests are seeking a safe, clean, spa...   \n",
      "\n",
      "                               neighborhood_overview  host_response_rate  \\\n",
      "0  Centrally located in the heart of Manhattan ju...            0.800000   \n",
      "1  Just the right mix of urban center and local n...            0.090000   \n",
      "2                                                NaN            1.000000   \n",
      "3    Theater district, many restaurants around here.            1.000000   \n",
      "4  Our neighborhood is full of restaurants and ca...            0.906901   \n",
      "\n",
      "   host_acceptance_rate  host_listings_count  host_total_listings_count  \\\n",
      "0              0.170000                  8.0                        8.0   \n",
      "1              0.690000                  1.0                        1.0   \n",
      "2              0.250000                  1.0                        1.0   \n",
      "3              1.000000                  1.0                        1.0   \n",
      "4              0.791953                  1.0                        1.0   \n",
      "\n",
      "   accommodates  bathrooms  bedrooms  ...  \\\n",
      "0             1        1.0  1.329708  ...   \n",
      "1             3        1.0  1.000000  ...   \n",
      "2             4        1.5  2.000000  ...   \n",
      "3             2        1.0  1.000000  ...   \n",
      "4             1        1.0  1.000000  ...   \n",
      "\n",
      "   Amenities_[\"Hangers\", \"Long term stays allowed\", \"Iron\", \"TV\", \"Carbon monoxide alarm\", \"Fire extinguisher\", \"Elevator\", \"Hair dryer\", \"Wifi\", \"Heating\", \"Shampoo\", \"Smoke alarm\", \"First aid kit\", \"Air conditioning\", \"Essentials\"]  \\\n",
      "0                                                  0                                                                                                                                                                                        \n",
      "1                                                  0                                                                                                                                                                                        \n",
      "2                                                  0                                                                                                                                                                                        \n",
      "3                                                  0                                                                                                                                                                                        \n",
      "4                                                  0                                                                                                                                                                                        \n",
      "\n",
      "   Amenities_[\"Fire extinguisher\", \"Lock on bedroom door\", \"Smoke alarm\", \"Shower gel\", \"Dedicated workspace\", \"Conditioner\", \"Building staff\", \"Body soap\", \"Hot water\", \"TV\", \"Hangers\", \"First aid kit\", \"Hair dryer\", \"Bed linens\", \"Long term stays allowed\", \"Air conditioning\", \"Carbon monoxide alarm\", \"Shampoo\", \"Iron\", \"Heating\", \"Luggage dropoff allowed\", \"Wifi\", \"Essentials\"]  \\\n",
      "0                                                  0                                                                                                                                                                                                                                                                                                                                             \n",
      "1                                                  0                                                                                                                                                                                                                                                                                                                                             \n",
      "2                                                  0                                                                                                                                                                                                                                                                                                                                             \n",
      "3                                                  0                                                                                                                                                                                                                                                                                                                                             \n",
      "4                                                  0                                                                                                                                                                                                                                                                                                                                             \n",
      "\n",
      "   Amenities_[\"Hangers\", \"Long term stays allowed\", \"Iron\", \"Cable TV\", \"Carbon monoxide alarm\", \"Security cameras on property\", \"Dedicated workspace\", \"Hair dryer\", \"Elevator\", \"Wifi\", \"TV with standard cable\", \"Heating\", \"Shampoo\", \"Smoke alarm\", \"Air conditioning\", \"Essentials\"]  \\\n",
      "0                                                  0                                                                                                                                                                                                                                         \n",
      "1                                                  0                                                                                                                                                                                                                                         \n",
      "2                                                  0                                                                                                                                                                                                                                         \n",
      "3                                                  0                                                                                                                                                                                                                                         \n",
      "4                                                  0                                                                                                                                                                                                                                         \n",
      "\n",
      "   Amenities_[\"Long term stays allowed\"]  \\\n",
      "0                                      0   \n",
      "1                                      0   \n",
      "2                                      0   \n",
      "3                                      0   \n",
      "4                                      0   \n",
      "\n",
      "   Amenities_[\"Fire extinguisher\", \"Lock on bedroom door\", \"Smoke alarm\", \"Dedicated workspace\", \"Conditioner\", \"Building staff\", \"Body soap\", \"Hot water\", \"TV\", \"Hangers\", \"First aid kit\", \"Hair dryer\", \"Long term stays allowed\", \"Air conditioning\", \"Carbon monoxide alarm\", \"Shampoo\", \"Iron\", \"Heating\", \"Luggage dropoff allowed\", \"Wifi\", \"Essentials\"]  \\\n",
      "0                                                  0                                                                                                                                                                                                                                                                                                                 \n",
      "1                                                  0                                                                                                                                                                                                                                                                                                                 \n",
      "2                                                  0                                                                                                                                                                                                                                                                                                                 \n",
      "3                                                  0                                                                                                                                                                                                                                                                                                                 \n",
      "4                                                  0                                                                                                                                                                                                                                                                                                                 \n",
      "\n",
      "   Amenities_[\"Luggage dropoff allowed\", \"TV\", \"Keurig coffee machine\", \"Hot water kettle\", \"Microwave\", \"First aid kit\", \"Hangers\", \"Long term stays allowed\", \"Carbon monoxide alarm\", \"Mini fridge\", \"Building staff\", \"Wifi\", \"Laundromat nearby\", \"Heating\", \"Shampoo\", \"Dishes and silverware\", \"Air conditioning\", \"Essentials\", \"Hot water\", \"Conditioner\", \"Safe\", \"Fire extinguisher\", \"Clothing storage\", \"Hair dryer\", \"Room-darkening shades\", \"Sound system\", \"Smoke alarm\", \"Iron\", \"Elevator\", \"Bed linens\", \"Coffee maker\"]  \\\n",
      "0                                                  0                                                                                                                                                                                                                                                                                                                                                                                                                                                                                           \n",
      "1                                                  0                                                                                                                                                                                                                                                                                                                                                                                                                                                                                           \n",
      "2                                                  0                                                                                                                                                                                                                                                                                                                                                                                                                                                                                           \n",
      "3                                                  0                                                                                                                                                                                                                                                                                                                                                                                                                                                                                           \n",
      "4                                                  0                                                                                                                                                                                                                                                                                                                                                                                                                                                                                           \n",
      "\n",
      "   Amenities_[\"Hangers\", \"Kitchen\", \"Long term stays allowed\", \"Iron\", \"Cable TV\", \"Washer\", \"Elevator\", \"Bed linens\", \"Wifi\", \"TV with standard cable\", \"Heating\", \"Private entrance\", \"Dryer\", \"Air conditioning\", \"Essentials\", \"Hot water\"]  \\\n",
      "0                                                  0                                                                                                                                                                                              \n",
      "1                                                  0                                                                                                                                                                                              \n",
      "2                                                  0                                                                                                                                                                                              \n",
      "3                                                  0                                                                                                                                                                                              \n",
      "4                                                  0                                                                                                                                                                                              \n",
      "\n",
      "   Amenities_[\"Kitchen\", \"Long term stays allowed\", \"Cable TV\", \"Carbon monoxide alarm\", \"Wifi\", \"TV with standard cable\", \"Heating\", \"Shampoo\", \"Smoke alarm\", \"Air conditioning\", \"Essentials\"]  \\\n",
      "0                                                  0                                                                                                                                                \n",
      "1                                                  0                                                                                                                                                \n",
      "2                                                  0                                                                                                                                                \n",
      "3                                                  0                                                                                                                                                \n",
      "4                                                  0                                                                                                                                                \n",
      "\n",
      "   Amenities_[\"Air conditioning\", \"Dedicated workspace\", \"Security cameras on property\", \"Carbon monoxide alarm\", \"Lock on bedroom door\", \"Wifi\", \"Shampoo\", \"Private entrance\", \"Hangers\", \"Iron\", \"Heating\", \"TV\", \"Hair dryer\", \"Smoke alarm\", \"Essentials\", \"Long term stays allowed\"]  \\\n",
      "0                                                  0                                                                                                                                                                                                                                         \n",
      "1                                                  0                                                                                                                                                                                                                                         \n",
      "2                                                  0                                                                                                                                                                                                                                         \n",
      "3                                                  0                                                                                                                                                                                                                                         \n",
      "4                                                  0                                                                                                                                                                                                                                         \n",
      "\n",
      "   Amenities_[\"Kitchen\", \"Long term stays allowed\", \"TV\", \"Wifi\", \"Heating\", \"Air conditioning\", \"Essentials\"]  \n",
      "0                                                  0                                                            \n",
      "1                                                  0                                                            \n",
      "2                                                  0                                                            \n",
      "3                                                  0                                                            \n",
      "4                                                  0                                                            \n",
      "\n",
      "[5 rows x 64 columns]\n"
     ]
    }
   ],
   "source": [
    "new_df = df.drop(columns = \"host_about\", inplace = False)\n",
    "print(new_df.head(5))"
   ]
  },
  {
   "cell_type": "code",
   "execution_count": 83,
   "metadata": {},
   "outputs": [
    {
     "name": "stdout",
     "output_type": "stream",
     "text": [
      "Index(['name', 'description', 'neighborhood_overview', 'host_response_rate',\n",
      "       'host_acceptance_rate', 'host_listings_count',\n",
      "       'host_total_listings_count', 'accommodates', 'bathrooms', 'bedrooms',\n",
      "       'beds', 'minimum_nights', 'maximum_nights', 'minimum_minimum_nights',\n",
      "       'maximum_minimum_nights', 'minimum_maximum_nights',\n",
      "       'maximum_maximum_nights', 'minimum_nights_avg_ntm',\n",
      "       'maximum_nights_avg_ntm', 'availability_30', 'availability_60',\n",
      "       'availability_90', 'availability_365', 'number_of_reviews',\n",
      "       'number_of_reviews_ltm', 'number_of_reviews_l30d',\n",
      "       'review_scores_rating', 'review_scores_cleanliness',\n",
      "       'review_scores_checkin', 'review_scores_communication',\n",
      "       'review_scores_location', 'review_scores_value',\n",
      "       'calculated_host_listings_count',\n",
      "       'calculated_host_listings_count_entire_homes',\n",
      "       'calculated_host_listings_count_private_rooms',\n",
      "       'calculated_host_listings_count_shared_rooms', 'reviews_per_month',\n",
      "       'label_price', 'Host_is_super_host__True', 'has_profile_pic__True',\n",
      "       'identity_verified__True', 'has_availability__False',\n",
      "       'has_availability__True', 'instant_bookable__False',\n",
      "       'instant_bookable__True', 'neighbourhood__Bronx',\n",
      "       'neighbourhood__Brooklyn', 'neighbourhood__Manhattan',\n",
      "       'neighbourhood__Queens', 'neighbourhood__Staten Island',\n",
      "       'room_type__Entire home/apt', 'room_type__Hotel room',\n",
      "       'room_type__Private room', 'room_type__Shared room',\n",
      "       'Amenities_[\"Hangers\", \"Long term stays allowed\", \"Iron\", \"TV\", \"Carbon monoxide alarm\", \"Fire extinguisher\", \"Elevator\", \"Hair dryer\", \"Wifi\", \"Heating\", \"Shampoo\", \"Smoke alarm\", \"First aid kit\", \"Air conditioning\", \"Essentials\"]',\n",
      "       'Amenities_[\"Fire extinguisher\", \"Lock on bedroom door\", \"Smoke alarm\", \"Shower gel\", \"Dedicated workspace\", \"Conditioner\", \"Building staff\", \"Body soap\", \"Hot water\", \"TV\", \"Hangers\", \"First aid kit\", \"Hair dryer\", \"Bed linens\", \"Long term stays allowed\", \"Air conditioning\", \"Carbon monoxide alarm\", \"Shampoo\", \"Iron\", \"Heating\", \"Luggage dropoff allowed\", \"Wifi\", \"Essentials\"]',\n",
      "       'Amenities_[\"Hangers\", \"Long term stays allowed\", \"Iron\", \"Cable TV\", \"Carbon monoxide alarm\", \"Security cameras on property\", \"Dedicated workspace\", \"Hair dryer\", \"Elevator\", \"Wifi\", \"TV with standard cable\", \"Heating\", \"Shampoo\", \"Smoke alarm\", \"Air conditioning\", \"Essentials\"]',\n",
      "       'Amenities_[\"Long term stays allowed\"]',\n",
      "       'Amenities_[\"Fire extinguisher\", \"Lock on bedroom door\", \"Smoke alarm\", \"Dedicated workspace\", \"Conditioner\", \"Building staff\", \"Body soap\", \"Hot water\", \"TV\", \"Hangers\", \"First aid kit\", \"Hair dryer\", \"Long term stays allowed\", \"Air conditioning\", \"Carbon monoxide alarm\", \"Shampoo\", \"Iron\", \"Heating\", \"Luggage dropoff allowed\", \"Wifi\", \"Essentials\"]',\n",
      "       'Amenities_[\"Luggage dropoff allowed\", \"TV\", \"Keurig coffee machine\", \"Hot water kettle\", \"Microwave\", \"First aid kit\", \"Hangers\", \"Long term stays allowed\", \"Carbon monoxide alarm\", \"Mini fridge\", \"Building staff\", \"Wifi\", \"Laundromat nearby\", \"Heating\", \"Shampoo\", \"Dishes and silverware\", \"Air conditioning\", \"Essentials\", \"Hot water\", \"Conditioner\", \"Safe\", \"Fire extinguisher\", \"Clothing storage\", \"Hair dryer\", \"Room-darkening shades\", \"Sound system\", \"Smoke alarm\", \"Iron\", \"Elevator\", \"Bed linens\", \"Coffee maker\"]',\n",
      "       'Amenities_[\"Hangers\", \"Kitchen\", \"Long term stays allowed\", \"Iron\", \"Cable TV\", \"Washer\", \"Elevator\", \"Bed linens\", \"Wifi\", \"TV with standard cable\", \"Heating\", \"Private entrance\", \"Dryer\", \"Air conditioning\", \"Essentials\", \"Hot water\"]',\n",
      "       'Amenities_[\"Kitchen\", \"Long term stays allowed\", \"Cable TV\", \"Carbon monoxide alarm\", \"Wifi\", \"TV with standard cable\", \"Heating\", \"Shampoo\", \"Smoke alarm\", \"Air conditioning\", \"Essentials\"]',\n",
      "       'Amenities_[\"Air conditioning\", \"Dedicated workspace\", \"Security cameras on property\", \"Carbon monoxide alarm\", \"Lock on bedroom door\", \"Wifi\", \"Shampoo\", \"Private entrance\", \"Hangers\", \"Iron\", \"Heating\", \"TV\", \"Hair dryer\", \"Smoke alarm\", \"Essentials\", \"Long term stays allowed\"]',\n",
      "       'Amenities_[\"Kitchen\", \"Long term stays allowed\", \"TV\", \"Wifi\", \"Heating\", \"Air conditioning\", \"Essentials\"]'],\n",
      "      dtype='object')\n"
     ]
    }
   ],
   "source": [
    "print(new_df.columns)"
   ]
  },
  {
   "cell_type": "code",
   "execution_count": 84,
   "metadata": {},
   "outputs": [],
   "source": [
    "# STILL HAVE NULL value\n",
    "# name                             5\n",
    "# description                    570\n",
    "# neighborhood_overview         9816"
   ]
  },
  {
   "cell_type": "code",
   "execution_count": 85,
   "metadata": {},
   "outputs": [
    {
     "data": {
      "text/plain": [
       "(28022, 64)"
      ]
     },
     "execution_count": 85,
     "metadata": {},
     "output_type": "execute_result"
    }
   ],
   "source": [
    "new_df.shape"
   ]
  },
  {
   "cell_type": "code",
   "execution_count": 86,
   "metadata": {},
   "outputs": [],
   "source": [
    "#Obtain rows for which the name is available and ignores missing values"
   ]
  },
  {
   "cell_type": "code",
   "execution_count": 87,
   "metadata": {},
   "outputs": [],
   "source": [
    "df_name_notnull = df[new_df['name'].notnull()]\n",
    "#Obtain the number of rows in df_name_not_null\n",
    "num_rows = df_name_notnull.shape[0]\n"
   ]
  },
  {
   "cell_type": "code",
   "execution_count": 88,
   "metadata": {},
   "outputs": [
    {
     "name": "stdout",
     "output_type": "stream",
     "text": [
      "28017\n"
     ]
    }
   ],
   "source": [
    "print(num_rows)"
   ]
  },
  {
   "cell_type": "code",
   "execution_count": 89,
   "metadata": {},
   "outputs": [
    {
     "name": "stdout",
     "output_type": "stream",
     "text": [
      "(22413, 65)\n"
     ]
    }
   ],
   "source": [
    "#Obtain a 80% random sample of rows from df_name_notnull and save the indices of these rows. \n",
    "#Because I want my model reproducible, I will use random seed. \n",
    "my_percentage = 0.8\n",
    "random_seed = 1234\n",
    "df_subset = df_name_notnull.sample(int(my_percentage * num_rows), random_state = random_seed)\n",
    "\n",
    "print(df_subset.shape) "
   ]
  },
  {
   "cell_type": "code",
   "execution_count": 90,
   "metadata": {},
   "outputs": [
    {
     "name": "stdout",
     "output_type": "stream",
     "text": [
      "                                                    name  \\\n",
      "6803                    Private Bedroom & Bath- Brooklyn   \n",
      "8112               Bright UWS Studio with great location   \n",
      "8091                Private Suite in Brooklyn Townhouse.   \n",
      "1804                 Large 2BR/2B next to Lincoln Center   \n",
      "9942        Sunny & cozy 1BR in the heart of Fort Greene   \n",
      "...                                                  ...   \n",
      "23645           Bright, Sunny, and Nice studio apartment   \n",
      "21809   Sun-Filled 2BR/2BA + Private Home Office! #10345   \n",
      "18964  Luxury, lower east side 1bedroom!! Super hip area   \n",
      "253                    Chelsea living, 2BR best location   \n",
      "11842  Central Studio with 12 foot ceilings - Not Shared   \n",
      "\n",
      "                                             description  \\\n",
      "6803   Located in the emerging Bklyn neighborhood, Cr...   \n",
      "8112   Charming Upper West side Brownstone building. ...   \n",
      "8091   COZY ARTIST'S TOWNHOUSE<br />Best neighborhood...   \n",
      "1804   <b>The space</b><br />Homey, clean and invitin...   \n",
      "9942   I'm new to airbnb and would love to host you! ...   \n",
      "...                                                  ...   \n",
      "23645  Bright and sunny studio apartment on the 5th f...   \n",
      "21809  This 2-bedroom, 2-bath, with home office (BR 3...   \n",
      "18964  Video intercom for easy entry and deliveries.<...   \n",
      "253    Private bedroom with twin bunk bed in spacious...   \n",
      "11842  DATES CURRENTLY AVAILABLE CAN BE EXTENDED:<br ...   \n",
      "\n",
      "                                   neighborhood_overview  \\\n",
      "6803   Awesome park view on a quiet, tree-lined block...   \n",
      "8112                                                 NaN   \n",
      "8091   Best neighborhood in New York.  Cool and fun, ...   \n",
      "1804                                                 NaN   \n",
      "9942                                                 NaN   \n",
      "...                                                  ...   \n",
      "23645                                                NaN   \n",
      "21809                                                NaN   \n",
      "18964  Awesome places to visit in the area. <br /><br...   \n",
      "253    Chelsea is among the best neighborhoods in Man...   \n",
      "11842  Less than 5 minute walk to: <br />Bryant Park<...   \n",
      "\n",
      "                                              host_about  host_response_rate  \\\n",
      "6803                                                 NaN            0.906901   \n",
      "8112                                                 NaN            0.906901   \n",
      "8091   Filmmaker. Live between New York and Los Angel...            1.000000   \n",
      "1804   We live in NYC with our 3 years old daughter, ...            0.906901   \n",
      "9942                                                                0.906901   \n",
      "...                                                  ...                 ...   \n",
      "23645                                                NaN            0.960000   \n",
      "21809                                                NaN            0.906901   \n",
      "18964  My name is Sarah. I live between miami and Man...            0.900000   \n",
      "253    Native Manhattanite \\r\\nMom, DJ, Friend to man...            0.000000   \n",
      "11842                  Business professional, easy going            0.906901   \n",
      "\n",
      "       host_acceptance_rate  host_listings_count  host_total_listings_count  \\\n",
      "6803               0.791953                  1.0                        1.0   \n",
      "8112               0.791953                  1.0                        1.0   \n",
      "8091               0.930000                  4.0                        4.0   \n",
      "1804               0.791953                  1.0                        1.0   \n",
      "9942               0.791953                  1.0                        1.0   \n",
      "...                     ...                  ...                        ...   \n",
      "23645              0.750000                  9.0                        9.0   \n",
      "21809              0.830000                  1.0                        1.0   \n",
      "18964              0.500000                  2.0                        2.0   \n",
      "253                0.791953                  1.0                        1.0   \n",
      "11842              0.791953                  2.0                        2.0   \n",
      "\n",
      "       accommodates  bathrooms  ...  \\\n",
      "6803              2        1.0  ...   \n",
      "8112              2        1.0  ...   \n",
      "8091              1        1.0  ...   \n",
      "1804              4        2.0  ...   \n",
      "9942              2        1.0  ...   \n",
      "...             ...        ...  ...   \n",
      "23645             2        1.0  ...   \n",
      "21809             4        2.0  ...   \n",
      "18964             3        1.0  ...   \n",
      "253               2        1.0  ...   \n",
      "11842             4        1.0  ...   \n",
      "\n",
      "       Amenities_[\"Hangers\", \"Long term stays allowed\", \"Iron\", \"TV\", \"Carbon monoxide alarm\", \"Fire extinguisher\", \"Elevator\", \"Hair dryer\", \"Wifi\", \"Heating\", \"Shampoo\", \"Smoke alarm\", \"First aid kit\", \"Air conditioning\", \"Essentials\"]  \\\n",
      "6803                                                   0                                                                                                                                                                                        \n",
      "8112                                                   0                                                                                                                                                                                        \n",
      "8091                                                   0                                                                                                                                                                                        \n",
      "1804                                                   0                                                                                                                                                                                        \n",
      "9942                                                   0                                                                                                                                                                                        \n",
      "...                                                  ...                                                                                                                                                                                        \n",
      "23645                                                  0                                                                                                                                                                                        \n",
      "21809                                                  0                                                                                                                                                                                        \n",
      "18964                                                  0                                                                                                                                                                                        \n",
      "253                                                    0                                                                                                                                                                                        \n",
      "11842                                                  0                                                                                                                                                                                        \n",
      "\n",
      "       Amenities_[\"Fire extinguisher\", \"Lock on bedroom door\", \"Smoke alarm\", \"Shower gel\", \"Dedicated workspace\", \"Conditioner\", \"Building staff\", \"Body soap\", \"Hot water\", \"TV\", \"Hangers\", \"First aid kit\", \"Hair dryer\", \"Bed linens\", \"Long term stays allowed\", \"Air conditioning\", \"Carbon monoxide alarm\", \"Shampoo\", \"Iron\", \"Heating\", \"Luggage dropoff allowed\", \"Wifi\", \"Essentials\"]  \\\n",
      "6803                                                   0                                                                                                                                                                                                                                                                                                                                             \n",
      "8112                                                   0                                                                                                                                                                                                                                                                                                                                             \n",
      "8091                                                   0                                                                                                                                                                                                                                                                                                                                             \n",
      "1804                                                   0                                                                                                                                                                                                                                                                                                                                             \n",
      "9942                                                   0                                                                                                                                                                                                                                                                                                                                             \n",
      "...                                                  ...                                                                                                                                                                                                                                                                                                                                             \n",
      "23645                                                  0                                                                                                                                                                                                                                                                                                                                             \n",
      "21809                                                  0                                                                                                                                                                                                                                                                                                                                             \n",
      "18964                                                  0                                                                                                                                                                                                                                                                                                                                             \n",
      "253                                                    0                                                                                                                                                                                                                                                                                                                                             \n",
      "11842                                                  0                                                                                                                                                                                                                                                                                                                                             \n",
      "\n",
      "       Amenities_[\"Hangers\", \"Long term stays allowed\", \"Iron\", \"Cable TV\", \"Carbon monoxide alarm\", \"Security cameras on property\", \"Dedicated workspace\", \"Hair dryer\", \"Elevator\", \"Wifi\", \"TV with standard cable\", \"Heating\", \"Shampoo\", \"Smoke alarm\", \"Air conditioning\", \"Essentials\"]  \\\n",
      "6803                                                   0                                                                                                                                                                                                                                         \n",
      "8112                                                   0                                                                                                                                                                                                                                         \n",
      "8091                                                   0                                                                                                                                                                                                                                         \n",
      "1804                                                   0                                                                                                                                                                                                                                         \n",
      "9942                                                   0                                                                                                                                                                                                                                         \n",
      "...                                                  ...                                                                                                                                                                                                                                         \n",
      "23645                                                  0                                                                                                                                                                                                                                         \n",
      "21809                                                  0                                                                                                                                                                                                                                         \n",
      "18964                                                  0                                                                                                                                                                                                                                         \n",
      "253                                                    0                                                                                                                                                                                                                                         \n",
      "11842                                                  0                                                                                                                                                                                                                                         \n",
      "\n",
      "       Amenities_[\"Long term stays allowed\"]  \\\n",
      "6803                                       0   \n",
      "8112                                       0   \n",
      "8091                                       0   \n",
      "1804                                       0   \n",
      "9942                                       0   \n",
      "...                                      ...   \n",
      "23645                                      0   \n",
      "21809                                      0   \n",
      "18964                                      0   \n",
      "253                                        0   \n",
      "11842                                      0   \n",
      "\n",
      "       Amenities_[\"Fire extinguisher\", \"Lock on bedroom door\", \"Smoke alarm\", \"Dedicated workspace\", \"Conditioner\", \"Building staff\", \"Body soap\", \"Hot water\", \"TV\", \"Hangers\", \"First aid kit\", \"Hair dryer\", \"Long term stays allowed\", \"Air conditioning\", \"Carbon monoxide alarm\", \"Shampoo\", \"Iron\", \"Heating\", \"Luggage dropoff allowed\", \"Wifi\", \"Essentials\"]  \\\n",
      "6803                                                   0                                                                                                                                                                                                                                                                                                                 \n",
      "8112                                                   0                                                                                                                                                                                                                                                                                                                 \n",
      "8091                                                   0                                                                                                                                                                                                                                                                                                                 \n",
      "1804                                                   0                                                                                                                                                                                                                                                                                                                 \n",
      "9942                                                   0                                                                                                                                                                                                                                                                                                                 \n",
      "...                                                  ...                                                                                                                                                                                                                                                                                                                 \n",
      "23645                                                  0                                                                                                                                                                                                                                                                                                                 \n",
      "21809                                                  0                                                                                                                                                                                                                                                                                                                 \n",
      "18964                                                  0                                                                                                                                                                                                                                                                                                                 \n",
      "253                                                    0                                                                                                                                                                                                                                                                                                                 \n",
      "11842                                                  0                                                                                                                                                                                                                                                                                                                 \n",
      "\n",
      "       Amenities_[\"Luggage dropoff allowed\", \"TV\", \"Keurig coffee machine\", \"Hot water kettle\", \"Microwave\", \"First aid kit\", \"Hangers\", \"Long term stays allowed\", \"Carbon monoxide alarm\", \"Mini fridge\", \"Building staff\", \"Wifi\", \"Laundromat nearby\", \"Heating\", \"Shampoo\", \"Dishes and silverware\", \"Air conditioning\", \"Essentials\", \"Hot water\", \"Conditioner\", \"Safe\", \"Fire extinguisher\", \"Clothing storage\", \"Hair dryer\", \"Room-darkening shades\", \"Sound system\", \"Smoke alarm\", \"Iron\", \"Elevator\", \"Bed linens\", \"Coffee maker\"]  \\\n",
      "6803                                                   0                                                                                                                                                                                                                                                                                                                                                                                                                                                                                           \n",
      "8112                                                   0                                                                                                                                                                                                                                                                                                                                                                                                                                                                                           \n",
      "8091                                                   0                                                                                                                                                                                                                                                                                                                                                                                                                                                                                           \n",
      "1804                                                   0                                                                                                                                                                                                                                                                                                                                                                                                                                                                                           \n",
      "9942                                                   0                                                                                                                                                                                                                                                                                                                                                                                                                                                                                           \n",
      "...                                                  ...                                                                                                                                                                                                                                                                                                                                                                                                                                                                                           \n",
      "23645                                                  0                                                                                                                                                                                                                                                                                                                                                                                                                                                                                           \n",
      "21809                                                  0                                                                                                                                                                                                                                                                                                                                                                                                                                                                                           \n",
      "18964                                                  0                                                                                                                                                                                                                                                                                                                                                                                                                                                                                           \n",
      "253                                                    0                                                                                                                                                                                                                                                                                                                                                                                                                                                                                           \n",
      "11842                                                  0                                                                                                                                                                                                                                                                                                                                                                                                                                                                                           \n",
      "\n",
      "       Amenities_[\"Hangers\", \"Kitchen\", \"Long term stays allowed\", \"Iron\", \"Cable TV\", \"Washer\", \"Elevator\", \"Bed linens\", \"Wifi\", \"TV with standard cable\", \"Heating\", \"Private entrance\", \"Dryer\", \"Air conditioning\", \"Essentials\", \"Hot water\"]  \\\n",
      "6803                                                   0                                                                                                                                                                                              \n",
      "8112                                                   0                                                                                                                                                                                              \n",
      "8091                                                   0                                                                                                                                                                                              \n",
      "1804                                                   0                                                                                                                                                                                              \n",
      "9942                                                   0                                                                                                                                                                                              \n",
      "...                                                  ...                                                                                                                                                                                              \n",
      "23645                                                  0                                                                                                                                                                                              \n",
      "21809                                                  0                                                                                                                                                                                              \n",
      "18964                                                  0                                                                                                                                                                                              \n",
      "253                                                    0                                                                                                                                                                                              \n",
      "11842                                                  0                                                                                                                                                                                              \n",
      "\n",
      "       Amenities_[\"Kitchen\", \"Long term stays allowed\", \"Cable TV\", \"Carbon monoxide alarm\", \"Wifi\", \"TV with standard cable\", \"Heating\", \"Shampoo\", \"Smoke alarm\", \"Air conditioning\", \"Essentials\"]  \\\n",
      "6803                                                   0                                                                                                                                                \n",
      "8112                                                   0                                                                                                                                                \n",
      "8091                                                   0                                                                                                                                                \n",
      "1804                                                   0                                                                                                                                                \n",
      "9942                                                   0                                                                                                                                                \n",
      "...                                                  ...                                                                                                                                                \n",
      "23645                                                  0                                                                                                                                                \n",
      "21809                                                  0                                                                                                                                                \n",
      "18964                                                  0                                                                                                                                                \n",
      "253                                                    0                                                                                                                                                \n",
      "11842                                                  0                                                                                                                                                \n",
      "\n",
      "       Amenities_[\"Air conditioning\", \"Dedicated workspace\", \"Security cameras on property\", \"Carbon monoxide alarm\", \"Lock on bedroom door\", \"Wifi\", \"Shampoo\", \"Private entrance\", \"Hangers\", \"Iron\", \"Heating\", \"TV\", \"Hair dryer\", \"Smoke alarm\", \"Essentials\", \"Long term stays allowed\"]  \\\n",
      "6803                                                   0                                                                                                                                                                                                                                         \n",
      "8112                                                   0                                                                                                                                                                                                                                         \n",
      "8091                                                   0                                                                                                                                                                                                                                         \n",
      "1804                                                   0                                                                                                                                                                                                                                         \n",
      "9942                                                   0                                                                                                                                                                                                                                         \n",
      "...                                                  ...                                                                                                                                                                                                                                         \n",
      "23645                                                  0                                                                                                                                                                                                                                         \n",
      "21809                                                  0                                                                                                                                                                                                                                         \n",
      "18964                                                  0                                                                                                                                                                                                                                         \n",
      "253                                                    0                                                                                                                                                                                                                                         \n",
      "11842                                                  0                                                                                                                                                                                                                                         \n",
      "\n",
      "       Amenities_[\"Kitchen\", \"Long term stays allowed\", \"TV\", \"Wifi\", \"Heating\", \"Air conditioning\", \"Essentials\"]  \n",
      "6803                                                   0                                                            \n",
      "8112                                                   0                                                            \n",
      "8091                                                   0                                                            \n",
      "1804                                                   0                                                            \n",
      "9942                                                   0                                                            \n",
      "...                                                  ...                                                            \n",
      "23645                                                  0                                                            \n",
      "21809                                                  0                                                            \n",
      "18964                                                  0                                                            \n",
      "253                                                    0                                                            \n",
      "11842                                                  0                                                            \n",
      "\n",
      "[22413 rows x 65 columns]\n"
     ]
    }
   ],
   "source": [
    "print(df_subset)"
   ]
  },
  {
   "cell_type": "code",
   "execution_count": 91,
   "metadata": {},
   "outputs": [
    {
     "name": "stdout",
     "output_type": "stream",
     "text": [
      "21956\n"
     ]
    }
   ],
   "source": [
    "df_description_notnull = df_subset[df_subset['description'].notnull()]\n",
    "#Obtain the number of rows in df_description_notnull\n",
    "num_rows = df_description_notnull.shape[0]\n",
    "print(num_rows)"
   ]
  },
  {
   "cell_type": "code",
   "execution_count": 92,
   "metadata": {},
   "outputs": [],
   "source": [
    "#Obtain a 80% random sample of rows\n",
    "df_subset = df_description_notnull.sample(int(my_percentage * num_rows), random_state = random_seed)"
   ]
  },
  {
   "cell_type": "code",
   "execution_count": 93,
   "metadata": {},
   "outputs": [
    {
     "data": {
      "text/html": [
       "<div>\n",
       "<style scoped>\n",
       "    .dataframe tbody tr th:only-of-type {\n",
       "        vertical-align: middle;\n",
       "    }\n",
       "\n",
       "    .dataframe tbody tr th {\n",
       "        vertical-align: top;\n",
       "    }\n",
       "\n",
       "    .dataframe thead th {\n",
       "        text-align: right;\n",
       "    }\n",
       "</style>\n",
       "<table border=\"1\" class=\"dataframe\">\n",
       "  <thead>\n",
       "    <tr style=\"text-align: right;\">\n",
       "      <th></th>\n",
       "      <th>name</th>\n",
       "      <th>description</th>\n",
       "      <th>neighborhood_overview</th>\n",
       "      <th>host_about</th>\n",
       "      <th>host_response_rate</th>\n",
       "      <th>host_acceptance_rate</th>\n",
       "      <th>host_listings_count</th>\n",
       "      <th>host_total_listings_count</th>\n",
       "      <th>accommodates</th>\n",
       "      <th>bathrooms</th>\n",
       "      <th>...</th>\n",
       "      <th>Amenities_[\"Hangers\", \"Long term stays allowed\", \"Iron\", \"TV\", \"Carbon monoxide alarm\", \"Fire extinguisher\", \"Elevator\", \"Hair dryer\", \"Wifi\", \"Heating\", \"Shampoo\", \"Smoke alarm\", \"First aid kit\", \"Air conditioning\", \"Essentials\"]</th>\n",
       "      <th>Amenities_[\"Fire extinguisher\", \"Lock on bedroom door\", \"Smoke alarm\", \"Shower gel\", \"Dedicated workspace\", \"Conditioner\", \"Building staff\", \"Body soap\", \"Hot water\", \"TV\", \"Hangers\", \"First aid kit\", \"Hair dryer\", \"Bed linens\", \"Long term stays allowed\", \"Air conditioning\", \"Carbon monoxide alarm\", \"Shampoo\", \"Iron\", \"Heating\", \"Luggage dropoff allowed\", \"Wifi\", \"Essentials\"]</th>\n",
       "      <th>Amenities_[\"Hangers\", \"Long term stays allowed\", \"Iron\", \"Cable TV\", \"Carbon monoxide alarm\", \"Security cameras on property\", \"Dedicated workspace\", \"Hair dryer\", \"Elevator\", \"Wifi\", \"TV with standard cable\", \"Heating\", \"Shampoo\", \"Smoke alarm\", \"Air conditioning\", \"Essentials\"]</th>\n",
       "      <th>Amenities_[\"Long term stays allowed\"]</th>\n",
       "      <th>Amenities_[\"Fire extinguisher\", \"Lock on bedroom door\", \"Smoke alarm\", \"Dedicated workspace\", \"Conditioner\", \"Building staff\", \"Body soap\", \"Hot water\", \"TV\", \"Hangers\", \"First aid kit\", \"Hair dryer\", \"Long term stays allowed\", \"Air conditioning\", \"Carbon monoxide alarm\", \"Shampoo\", \"Iron\", \"Heating\", \"Luggage dropoff allowed\", \"Wifi\", \"Essentials\"]</th>\n",
       "      <th>Amenities_[\"Luggage dropoff allowed\", \"TV\", \"Keurig coffee machine\", \"Hot water kettle\", \"Microwave\", \"First aid kit\", \"Hangers\", \"Long term stays allowed\", \"Carbon monoxide alarm\", \"Mini fridge\", \"Building staff\", \"Wifi\", \"Laundromat nearby\", \"Heating\", \"Shampoo\", \"Dishes and silverware\", \"Air conditioning\", \"Essentials\", \"Hot water\", \"Conditioner\", \"Safe\", \"Fire extinguisher\", \"Clothing storage\", \"Hair dryer\", \"Room-darkening shades\", \"Sound system\", \"Smoke alarm\", \"Iron\", \"Elevator\", \"Bed linens\", \"Coffee maker\"]</th>\n",
       "      <th>Amenities_[\"Hangers\", \"Kitchen\", \"Long term stays allowed\", \"Iron\", \"Cable TV\", \"Washer\", \"Elevator\", \"Bed linens\", \"Wifi\", \"TV with standard cable\", \"Heating\", \"Private entrance\", \"Dryer\", \"Air conditioning\", \"Essentials\", \"Hot water\"]</th>\n",
       "      <th>Amenities_[\"Kitchen\", \"Long term stays allowed\", \"Cable TV\", \"Carbon monoxide alarm\", \"Wifi\", \"TV with standard cable\", \"Heating\", \"Shampoo\", \"Smoke alarm\", \"Air conditioning\", \"Essentials\"]</th>\n",
       "      <th>Amenities_[\"Air conditioning\", \"Dedicated workspace\", \"Security cameras on property\", \"Carbon monoxide alarm\", \"Lock on bedroom door\", \"Wifi\", \"Shampoo\", \"Private entrance\", \"Hangers\", \"Iron\", \"Heating\", \"TV\", \"Hair dryer\", \"Smoke alarm\", \"Essentials\", \"Long term stays allowed\"]</th>\n",
       "      <th>Amenities_[\"Kitchen\", \"Long term stays allowed\", \"TV\", \"Wifi\", \"Heating\", \"Air conditioning\", \"Essentials\"]</th>\n",
       "    </tr>\n",
       "  </thead>\n",
       "  <tbody>\n",
       "    <tr>\n",
       "      <th>4741</th>\n",
       "      <td>Bright 1 br apt in Greenpoint Brooklyn</td>\n",
       "      <td>Unique, bright, Sunny 1 bdrm in Greenpoint Bro...</td>\n",
       "      <td>At the North end of Greenpoint Brooklyn, an am...</td>\n",
       "      <td>I've been in Brooklyn for 10 years, San Franci...</td>\n",
       "      <td>0.860000</td>\n",
       "      <td>0.170000</td>\n",
       "      <td>1.0</td>\n",
       "      <td>1.0</td>\n",
       "      <td>2</td>\n",
       "      <td>1.0</td>\n",
       "      <td>...</td>\n",
       "      <td>0</td>\n",
       "      <td>0</td>\n",
       "      <td>0</td>\n",
       "      <td>0</td>\n",
       "      <td>0</td>\n",
       "      <td>0</td>\n",
       "      <td>0</td>\n",
       "      <td>0</td>\n",
       "      <td>0</td>\n",
       "      <td>0</td>\n",
       "    </tr>\n",
       "    <tr>\n",
       "      <th>17143</th>\n",
       "      <td>Classic Park Slope charm with private deck</td>\n",
       "      <td>Cozy home on the parlor floor of a classic bro...</td>\n",
       "      <td>We fell in love with the charm of the apartmen...</td>\n",
       "      <td>Currently based in the Bay Area, with my husba...</td>\n",
       "      <td>0.906901</td>\n",
       "      <td>0.791953</td>\n",
       "      <td>0.0</td>\n",
       "      <td>0.0</td>\n",
       "      <td>2</td>\n",
       "      <td>1.0</td>\n",
       "      <td>...</td>\n",
       "      <td>0</td>\n",
       "      <td>0</td>\n",
       "      <td>0</td>\n",
       "      <td>0</td>\n",
       "      <td>0</td>\n",
       "      <td>0</td>\n",
       "      <td>0</td>\n",
       "      <td>0</td>\n",
       "      <td>0</td>\n",
       "      <td>0</td>\n",
       "    </tr>\n",
       "    <tr>\n",
       "      <th>26230</th>\n",
       "      <td>Nicky’s Place… Clean, Comfortable, and Cozy</td>\n",
       "      <td>This newly renovated one bdrm apt blends moder...</td>\n",
       "      <td>If you want it you can find it in this bustlin...</td>\n",
       "      <td>I'm a native New Yorker and CUNY student. I us...</td>\n",
       "      <td>0.906901</td>\n",
       "      <td>0.791953</td>\n",
       "      <td>1.0</td>\n",
       "      <td>1.0</td>\n",
       "      <td>3</td>\n",
       "      <td>1.0</td>\n",
       "      <td>...</td>\n",
       "      <td>0</td>\n",
       "      <td>0</td>\n",
       "      <td>0</td>\n",
       "      <td>0</td>\n",
       "      <td>0</td>\n",
       "      <td>0</td>\n",
       "      <td>0</td>\n",
       "      <td>0</td>\n",
       "      <td>0</td>\n",
       "      <td>0</td>\n",
       "    </tr>\n",
       "    <tr>\n",
       "      <th>21702</th>\n",
       "      <td>Beautiful Bushwick Apartment Steps to NYC Subway</td>\n",
       "      <td>Conveniently located in the heart of Bushwick,...</td>\n",
       "      <td>Edgy and increasingly hip, Bushwick is surroun...</td>\n",
       "      <td>NaN</td>\n",
       "      <td>1.000000</td>\n",
       "      <td>0.860000</td>\n",
       "      <td>0.0</td>\n",
       "      <td>0.0</td>\n",
       "      <td>4</td>\n",
       "      <td>1.0</td>\n",
       "      <td>...</td>\n",
       "      <td>0</td>\n",
       "      <td>0</td>\n",
       "      <td>0</td>\n",
       "      <td>0</td>\n",
       "      <td>0</td>\n",
       "      <td>0</td>\n",
       "      <td>0</td>\n",
       "      <td>0</td>\n",
       "      <td>0</td>\n",
       "      <td>0</td>\n",
       "    </tr>\n",
       "    <tr>\n",
       "      <th>18316</th>\n",
       "      <td>Home sweet home in Astoria- NY</td>\n",
       "      <td>Room located in the Queens neighborhood of Ast...</td>\n",
       "      <td>Astoria is a neighborhood famous for patricity...</td>\n",
       "      <td>I am very friendly</td>\n",
       "      <td>0.906901</td>\n",
       "      <td>0.791953</td>\n",
       "      <td>1.0</td>\n",
       "      <td>1.0</td>\n",
       "      <td>2</td>\n",
       "      <td>1.0</td>\n",
       "      <td>...</td>\n",
       "      <td>0</td>\n",
       "      <td>0</td>\n",
       "      <td>0</td>\n",
       "      <td>0</td>\n",
       "      <td>0</td>\n",
       "      <td>0</td>\n",
       "      <td>0</td>\n",
       "      <td>0</td>\n",
       "      <td>0</td>\n",
       "      <td>0</td>\n",
       "    </tr>\n",
       "  </tbody>\n",
       "</table>\n",
       "<p>5 rows × 65 columns</p>\n",
       "</div>"
      ],
      "text/plain": [
       "                                                   name  \\\n",
       "4741             Bright 1 br apt in Greenpoint Brooklyn   \n",
       "17143        Classic Park Slope charm with private deck   \n",
       "26230       Nicky’s Place… Clean, Comfortable, and Cozy   \n",
       "21702  Beautiful Bushwick Apartment Steps to NYC Subway   \n",
       "18316                    Home sweet home in Astoria- NY   \n",
       "\n",
       "                                             description  \\\n",
       "4741   Unique, bright, Sunny 1 bdrm in Greenpoint Bro...   \n",
       "17143  Cozy home on the parlor floor of a classic bro...   \n",
       "26230  This newly renovated one bdrm apt blends moder...   \n",
       "21702  Conveniently located in the heart of Bushwick,...   \n",
       "18316  Room located in the Queens neighborhood of Ast...   \n",
       "\n",
       "                                   neighborhood_overview  \\\n",
       "4741   At the North end of Greenpoint Brooklyn, an am...   \n",
       "17143  We fell in love with the charm of the apartmen...   \n",
       "26230  If you want it you can find it in this bustlin...   \n",
       "21702  Edgy and increasingly hip, Bushwick is surroun...   \n",
       "18316  Astoria is a neighborhood famous for patricity...   \n",
       "\n",
       "                                              host_about  host_response_rate  \\\n",
       "4741   I've been in Brooklyn for 10 years, San Franci...            0.860000   \n",
       "17143  Currently based in the Bay Area, with my husba...            0.906901   \n",
       "26230  I'm a native New Yorker and CUNY student. I us...            0.906901   \n",
       "21702                                                NaN            1.000000   \n",
       "18316                                I am very friendly             0.906901   \n",
       "\n",
       "       host_acceptance_rate  host_listings_count  host_total_listings_count  \\\n",
       "4741               0.170000                  1.0                        1.0   \n",
       "17143              0.791953                  0.0                        0.0   \n",
       "26230              0.791953                  1.0                        1.0   \n",
       "21702              0.860000                  0.0                        0.0   \n",
       "18316              0.791953                  1.0                        1.0   \n",
       "\n",
       "       accommodates  bathrooms  ...  \\\n",
       "4741              2        1.0  ...   \n",
       "17143             2        1.0  ...   \n",
       "26230             3        1.0  ...   \n",
       "21702             4        1.0  ...   \n",
       "18316             2        1.0  ...   \n",
       "\n",
       "       Amenities_[\"Hangers\", \"Long term stays allowed\", \"Iron\", \"TV\", \"Carbon monoxide alarm\", \"Fire extinguisher\", \"Elevator\", \"Hair dryer\", \"Wifi\", \"Heating\", \"Shampoo\", \"Smoke alarm\", \"First aid kit\", \"Air conditioning\", \"Essentials\"]  \\\n",
       "4741                                                   0                                                                                                                                                                                        \n",
       "17143                                                  0                                                                                                                                                                                        \n",
       "26230                                                  0                                                                                                                                                                                        \n",
       "21702                                                  0                                                                                                                                                                                        \n",
       "18316                                                  0                                                                                                                                                                                        \n",
       "\n",
       "       Amenities_[\"Fire extinguisher\", \"Lock on bedroom door\", \"Smoke alarm\", \"Shower gel\", \"Dedicated workspace\", \"Conditioner\", \"Building staff\", \"Body soap\", \"Hot water\", \"TV\", \"Hangers\", \"First aid kit\", \"Hair dryer\", \"Bed linens\", \"Long term stays allowed\", \"Air conditioning\", \"Carbon monoxide alarm\", \"Shampoo\", \"Iron\", \"Heating\", \"Luggage dropoff allowed\", \"Wifi\", \"Essentials\"]  \\\n",
       "4741                                                   0                                                                                                                                                                                                                                                                                                                                             \n",
       "17143                                                  0                                                                                                                                                                                                                                                                                                                                             \n",
       "26230                                                  0                                                                                                                                                                                                                                                                                                                                             \n",
       "21702                                                  0                                                                                                                                                                                                                                                                                                                                             \n",
       "18316                                                  0                                                                                                                                                                                                                                                                                                                                             \n",
       "\n",
       "       Amenities_[\"Hangers\", \"Long term stays allowed\", \"Iron\", \"Cable TV\", \"Carbon monoxide alarm\", \"Security cameras on property\", \"Dedicated workspace\", \"Hair dryer\", \"Elevator\", \"Wifi\", \"TV with standard cable\", \"Heating\", \"Shampoo\", \"Smoke alarm\", \"Air conditioning\", \"Essentials\"]  \\\n",
       "4741                                                   0                                                                                                                                                                                                                                         \n",
       "17143                                                  0                                                                                                                                                                                                                                         \n",
       "26230                                                  0                                                                                                                                                                                                                                         \n",
       "21702                                                  0                                                                                                                                                                                                                                         \n",
       "18316                                                  0                                                                                                                                                                                                                                         \n",
       "\n",
       "       Amenities_[\"Long term stays allowed\"]  \\\n",
       "4741                                       0   \n",
       "17143                                      0   \n",
       "26230                                      0   \n",
       "21702                                      0   \n",
       "18316                                      0   \n",
       "\n",
       "       Amenities_[\"Fire extinguisher\", \"Lock on bedroom door\", \"Smoke alarm\", \"Dedicated workspace\", \"Conditioner\", \"Building staff\", \"Body soap\", \"Hot water\", \"TV\", \"Hangers\", \"First aid kit\", \"Hair dryer\", \"Long term stays allowed\", \"Air conditioning\", \"Carbon monoxide alarm\", \"Shampoo\", \"Iron\", \"Heating\", \"Luggage dropoff allowed\", \"Wifi\", \"Essentials\"]  \\\n",
       "4741                                                   0                                                                                                                                                                                                                                                                                                                 \n",
       "17143                                                  0                                                                                                                                                                                                                                                                                                                 \n",
       "26230                                                  0                                                                                                                                                                                                                                                                                                                 \n",
       "21702                                                  0                                                                                                                                                                                                                                                                                                                 \n",
       "18316                                                  0                                                                                                                                                                                                                                                                                                                 \n",
       "\n",
       "       Amenities_[\"Luggage dropoff allowed\", \"TV\", \"Keurig coffee machine\", \"Hot water kettle\", \"Microwave\", \"First aid kit\", \"Hangers\", \"Long term stays allowed\", \"Carbon monoxide alarm\", \"Mini fridge\", \"Building staff\", \"Wifi\", \"Laundromat nearby\", \"Heating\", \"Shampoo\", \"Dishes and silverware\", \"Air conditioning\", \"Essentials\", \"Hot water\", \"Conditioner\", \"Safe\", \"Fire extinguisher\", \"Clothing storage\", \"Hair dryer\", \"Room-darkening shades\", \"Sound system\", \"Smoke alarm\", \"Iron\", \"Elevator\", \"Bed linens\", \"Coffee maker\"]  \\\n",
       "4741                                                   0                                                                                                                                                                                                                                                                                                                                                                                                                                                                                           \n",
       "17143                                                  0                                                                                                                                                                                                                                                                                                                                                                                                                                                                                           \n",
       "26230                                                  0                                                                                                                                                                                                                                                                                                                                                                                                                                                                                           \n",
       "21702                                                  0                                                                                                                                                                                                                                                                                                                                                                                                                                                                                           \n",
       "18316                                                  0                                                                                                                                                                                                                                                                                                                                                                                                                                                                                           \n",
       "\n",
       "       Amenities_[\"Hangers\", \"Kitchen\", \"Long term stays allowed\", \"Iron\", \"Cable TV\", \"Washer\", \"Elevator\", \"Bed linens\", \"Wifi\", \"TV with standard cable\", \"Heating\", \"Private entrance\", \"Dryer\", \"Air conditioning\", \"Essentials\", \"Hot water\"]  \\\n",
       "4741                                                   0                                                                                                                                                                                              \n",
       "17143                                                  0                                                                                                                                                                                              \n",
       "26230                                                  0                                                                                                                                                                                              \n",
       "21702                                                  0                                                                                                                                                                                              \n",
       "18316                                                  0                                                                                                                                                                                              \n",
       "\n",
       "       Amenities_[\"Kitchen\", \"Long term stays allowed\", \"Cable TV\", \"Carbon monoxide alarm\", \"Wifi\", \"TV with standard cable\", \"Heating\", \"Shampoo\", \"Smoke alarm\", \"Air conditioning\", \"Essentials\"]  \\\n",
       "4741                                                   0                                                                                                                                                \n",
       "17143                                                  0                                                                                                                                                \n",
       "26230                                                  0                                                                                                                                                \n",
       "21702                                                  0                                                                                                                                                \n",
       "18316                                                  0                                                                                                                                                \n",
       "\n",
       "       Amenities_[\"Air conditioning\", \"Dedicated workspace\", \"Security cameras on property\", \"Carbon monoxide alarm\", \"Lock on bedroom door\", \"Wifi\", \"Shampoo\", \"Private entrance\", \"Hangers\", \"Iron\", \"Heating\", \"TV\", \"Hair dryer\", \"Smoke alarm\", \"Essentials\", \"Long term stays allowed\"]  \\\n",
       "4741                                                   0                                                                                                                                                                                                                                         \n",
       "17143                                                  0                                                                                                                                                                                                                                         \n",
       "26230                                                  0                                                                                                                                                                                                                                         \n",
       "21702                                                  0                                                                                                                                                                                                                                         \n",
       "18316                                                  0                                                                                                                                                                                                                                         \n",
       "\n",
       "       Amenities_[\"Kitchen\", \"Long term stays allowed\", \"TV\", \"Wifi\", \"Heating\", \"Air conditioning\", \"Essentials\"]  \n",
       "4741                                                   0                                                            \n",
       "17143                                                  0                                                            \n",
       "26230                                                  0                                                            \n",
       "21702                                                  0                                                            \n",
       "18316                                                  0                                                            \n",
       "\n",
       "[5 rows x 65 columns]"
      ]
     },
     "execution_count": 93,
     "metadata": {},
     "output_type": "execute_result"
    }
   ],
   "source": [
    "df_subset.head()"
   ]
  },
  {
   "cell_type": "code",
   "execution_count": 94,
   "metadata": {},
   "outputs": [
    {
     "name": "stdout",
     "output_type": "stream",
     "text": [
      "11633\n"
     ]
    }
   ],
   "source": [
    "df_neighborhood_overview_notnull = df_subset[df_subset['neighborhood_overview'].notnull()]\n",
    "num_rows = df_neighborhood_overview_notnull.shape[0]\n",
    "print(num_rows)"
   ]
  },
  {
   "cell_type": "code",
   "execution_count": 95,
   "metadata": {},
   "outputs": [],
   "source": [
    "#Obtain a 80% random sample of rows\n",
    "df_subset = df_neighborhood_overview_notnull.sample(int(my_percentage * num_rows), random_state = random_seed)"
   ]
  },
  {
   "cell_type": "code",
   "execution_count": 96,
   "metadata": {},
   "outputs": [
    {
     "name": "stdout",
     "output_type": "stream",
     "text": [
      "                                                   name  \\\n",
      "12978                           Beautiful NYC Apartment   \n",
      "12398                                   Heaven On Earth   \n",
      "1568                           Sunny, Comfortable Space   \n",
      "18391  Sunny spacious private room w/ separate entrance   \n",
      "1986                          PRIME 1br in Williamsburg   \n",
      "\n",
      "                                             description  \\\n",
      "12978  A Gorgeous HUGE Furnished Room in a very nice ...   \n",
      "12398  This is a beautiful colonial house located in ...   \n",
      "1568   Apt with two private bedrooms, a kitchen, LR/D...   \n",
      "18391  Sunny spacious private room in a one story hou...   \n",
      "1986   PRIME Fully furnished 1b garden level apt in a...   \n",
      "\n",
      "                                   neighborhood_overview  \\\n",
      "12978  Lots of cafes, restaurants (cuisine from any c...   \n",
      "12398  Our neighborhood is quiet but friendly with pl...   \n",
      "1568   Crown Heights is a slice of local life in Broo...   \n",
      "18391  It's is a very quiet block in a lovely safe cl...   \n",
      "1986   Our neighborhood is great, has fantastic ameni...   \n",
      "\n",
      "                                              host_about  host_response_rate  \\\n",
      "12978                                                NaN            0.906901   \n",
      "12398                                                NaN            0.906901   \n",
      "1568   I love to travel! As a result I have visited a...            1.000000   \n",
      "18391  Sharing my home with both travelers and local ...            1.000000   \n",
      "1986                                                 NaN            1.000000   \n",
      "\n",
      "       host_acceptance_rate  host_listings_count  host_total_listings_count  \\\n",
      "12978              1.000000                  1.0                        1.0   \n",
      "12398              0.791953                  4.0                        4.0   \n",
      "1568               1.000000                  1.0                        1.0   \n",
      "18391              0.840000                  2.0                        2.0   \n",
      "1986               0.930000                  1.0                        1.0   \n",
      "\n",
      "       accommodates  bathrooms  ...  \\\n",
      "12978             4        1.0  ...   \n",
      "12398             2        1.0  ...   \n",
      "1568              2        1.0  ...   \n",
      "18391             1        1.0  ...   \n",
      "1986              2        1.0  ...   \n",
      "\n",
      "       Amenities_[\"Hangers\", \"Long term stays allowed\", \"Iron\", \"TV\", \"Carbon monoxide alarm\", \"Fire extinguisher\", \"Elevator\", \"Hair dryer\", \"Wifi\", \"Heating\", \"Shampoo\", \"Smoke alarm\", \"First aid kit\", \"Air conditioning\", \"Essentials\"]  \\\n",
      "12978                                                  0                                                                                                                                                                                        \n",
      "12398                                                  0                                                                                                                                                                                        \n",
      "1568                                                   0                                                                                                                                                                                        \n",
      "18391                                                  0                                                                                                                                                                                        \n",
      "1986                                                   0                                                                                                                                                                                        \n",
      "\n",
      "       Amenities_[\"Fire extinguisher\", \"Lock on bedroom door\", \"Smoke alarm\", \"Shower gel\", \"Dedicated workspace\", \"Conditioner\", \"Building staff\", \"Body soap\", \"Hot water\", \"TV\", \"Hangers\", \"First aid kit\", \"Hair dryer\", \"Bed linens\", \"Long term stays allowed\", \"Air conditioning\", \"Carbon monoxide alarm\", \"Shampoo\", \"Iron\", \"Heating\", \"Luggage dropoff allowed\", \"Wifi\", \"Essentials\"]  \\\n",
      "12978                                                  0                                                                                                                                                                                                                                                                                                                                             \n",
      "12398                                                  0                                                                                                                                                                                                                                                                                                                                             \n",
      "1568                                                   0                                                                                                                                                                                                                                                                                                                                             \n",
      "18391                                                  0                                                                                                                                                                                                                                                                                                                                             \n",
      "1986                                                   0                                                                                                                                                                                                                                                                                                                                             \n",
      "\n",
      "       Amenities_[\"Hangers\", \"Long term stays allowed\", \"Iron\", \"Cable TV\", \"Carbon monoxide alarm\", \"Security cameras on property\", \"Dedicated workspace\", \"Hair dryer\", \"Elevator\", \"Wifi\", \"TV with standard cable\", \"Heating\", \"Shampoo\", \"Smoke alarm\", \"Air conditioning\", \"Essentials\"]  \\\n",
      "12978                                                  0                                                                                                                                                                                                                                         \n",
      "12398                                                  0                                                                                                                                                                                                                                         \n",
      "1568                                                   0                                                                                                                                                                                                                                         \n",
      "18391                                                  0                                                                                                                                                                                                                                         \n",
      "1986                                                   0                                                                                                                                                                                                                                         \n",
      "\n",
      "       Amenities_[\"Long term stays allowed\"]  \\\n",
      "12978                                      0   \n",
      "12398                                      0   \n",
      "1568                                       0   \n",
      "18391                                      0   \n",
      "1986                                       0   \n",
      "\n",
      "       Amenities_[\"Fire extinguisher\", \"Lock on bedroom door\", \"Smoke alarm\", \"Dedicated workspace\", \"Conditioner\", \"Building staff\", \"Body soap\", \"Hot water\", \"TV\", \"Hangers\", \"First aid kit\", \"Hair dryer\", \"Long term stays allowed\", \"Air conditioning\", \"Carbon monoxide alarm\", \"Shampoo\", \"Iron\", \"Heating\", \"Luggage dropoff allowed\", \"Wifi\", \"Essentials\"]  \\\n",
      "12978                                                  0                                                                                                                                                                                                                                                                                                                 \n",
      "12398                                                  0                                                                                                                                                                                                                                                                                                                 \n",
      "1568                                                   0                                                                                                                                                                                                                                                                                                                 \n",
      "18391                                                  0                                                                                                                                                                                                                                                                                                                 \n",
      "1986                                                   0                                                                                                                                                                                                                                                                                                                 \n",
      "\n",
      "       Amenities_[\"Luggage dropoff allowed\", \"TV\", \"Keurig coffee machine\", \"Hot water kettle\", \"Microwave\", \"First aid kit\", \"Hangers\", \"Long term stays allowed\", \"Carbon monoxide alarm\", \"Mini fridge\", \"Building staff\", \"Wifi\", \"Laundromat nearby\", \"Heating\", \"Shampoo\", \"Dishes and silverware\", \"Air conditioning\", \"Essentials\", \"Hot water\", \"Conditioner\", \"Safe\", \"Fire extinguisher\", \"Clothing storage\", \"Hair dryer\", \"Room-darkening shades\", \"Sound system\", \"Smoke alarm\", \"Iron\", \"Elevator\", \"Bed linens\", \"Coffee maker\"]  \\\n",
      "12978                                                  0                                                                                                                                                                                                                                                                                                                                                                                                                                                                                           \n",
      "12398                                                  0                                                                                                                                                                                                                                                                                                                                                                                                                                                                                           \n",
      "1568                                                   0                                                                                                                                                                                                                                                                                                                                                                                                                                                                                           \n",
      "18391                                                  0                                                                                                                                                                                                                                                                                                                                                                                                                                                                                           \n",
      "1986                                                   0                                                                                                                                                                                                                                                                                                                                                                                                                                                                                           \n",
      "\n",
      "       Amenities_[\"Hangers\", \"Kitchen\", \"Long term stays allowed\", \"Iron\", \"Cable TV\", \"Washer\", \"Elevator\", \"Bed linens\", \"Wifi\", \"TV with standard cable\", \"Heating\", \"Private entrance\", \"Dryer\", \"Air conditioning\", \"Essentials\", \"Hot water\"]  \\\n",
      "12978                                                  0                                                                                                                                                                                              \n",
      "12398                                                  0                                                                                                                                                                                              \n",
      "1568                                                   0                                                                                                                                                                                              \n",
      "18391                                                  0                                                                                                                                                                                              \n",
      "1986                                                   0                                                                                                                                                                                              \n",
      "\n",
      "       Amenities_[\"Kitchen\", \"Long term stays allowed\", \"Cable TV\", \"Carbon monoxide alarm\", \"Wifi\", \"TV with standard cable\", \"Heating\", \"Shampoo\", \"Smoke alarm\", \"Air conditioning\", \"Essentials\"]  \\\n",
      "12978                                                  0                                                                                                                                                \n",
      "12398                                                  0                                                                                                                                                \n",
      "1568                                                   0                                                                                                                                                \n",
      "18391                                                  0                                                                                                                                                \n",
      "1986                                                   0                                                                                                                                                \n",
      "\n",
      "       Amenities_[\"Air conditioning\", \"Dedicated workspace\", \"Security cameras on property\", \"Carbon monoxide alarm\", \"Lock on bedroom door\", \"Wifi\", \"Shampoo\", \"Private entrance\", \"Hangers\", \"Iron\", \"Heating\", \"TV\", \"Hair dryer\", \"Smoke alarm\", \"Essentials\", \"Long term stays allowed\"]  \\\n",
      "12978                                                  0                                                                                                                                                                                                                                         \n",
      "12398                                                  0                                                                                                                                                                                                                                         \n",
      "1568                                                   0                                                                                                                                                                                                                                         \n",
      "18391                                                  0                                                                                                                                                                                                                                         \n",
      "1986                                                   0                                                                                                                                                                                                                                         \n",
      "\n",
      "       Amenities_[\"Kitchen\", \"Long term stays allowed\", \"TV\", \"Wifi\", \"Heating\", \"Air conditioning\", \"Essentials\"]  \n",
      "12978                                                  0                                                            \n",
      "12398                                                  0                                                            \n",
      "1568                                                   0                                                            \n",
      "18391                                                  0                                                            \n",
      "1986                                                   0                                                            \n",
      "\n",
      "[5 rows x 65 columns]\n"
     ]
    }
   ],
   "source": [
    "print(df_subset.head(5))"
   ]
  },
  {
   "cell_type": "code",
   "execution_count": 97,
   "metadata": {},
   "outputs": [
    {
     "name": "stdout",
     "output_type": "stream",
     "text": [
      "(9306, 65)\n"
     ]
    }
   ],
   "source": [
    "print(df_subset.shape)"
   ]
  },
  {
   "cell_type": "code",
   "execution_count": 98,
   "metadata": {},
   "outputs": [
    {
     "name": "stdout",
     "output_type": "stream",
     "text": [
      "name                                                                                                                                                                                                                                                                                                                                                                                                                                                                                                                                            0\n",
      "description                                                                                                                                                                                                                                                                                                                                                                                                                                                                                                                                     0\n",
      "neighborhood_overview                                                                                                                                                                                                                                                                                                                                                                                                                                                                                                                           0\n",
      "host_about                                                                                                                                                                                                                                                                                                                                                                                                                                                                                                                                   3049\n",
      "host_response_rate                                                                                                                                                                                                                                                                                                                                                                                                                                                                                                                              0\n",
      "                                                                                                                                                                                                                                                                                                                                                                                                                                                                                                                                             ... \n",
      "Amenities_[\"Luggage dropoff allowed\", \"TV\", \"Keurig coffee machine\", \"Hot water kettle\", \"Microwave\", \"First aid kit\", \"Hangers\", \"Long term stays allowed\", \"Carbon monoxide alarm\", \"Mini fridge\", \"Building staff\", \"Wifi\", \"Laundromat nearby\", \"Heating\", \"Shampoo\", \"Dishes and silverware\", \"Air conditioning\", \"Essentials\", \"Hot water\", \"Conditioner\", \"Safe\", \"Fire extinguisher\", \"Clothing storage\", \"Hair dryer\", \"Room-darkening shades\", \"Sound system\", \"Smoke alarm\", \"Iron\", \"Elevator\", \"Bed linens\", \"Coffee maker\"]       0\n",
      "Amenities_[\"Hangers\", \"Kitchen\", \"Long term stays allowed\", \"Iron\", \"Cable TV\", \"Washer\", \"Elevator\", \"Bed linens\", \"Wifi\", \"TV with standard cable\", \"Heating\", \"Private entrance\", \"Dryer\", \"Air conditioning\", \"Essentials\", \"Hot water\"]                                                                                                                                                                                                                                                                                                    0\n",
      "Amenities_[\"Kitchen\", \"Long term stays allowed\", \"Cable TV\", \"Carbon monoxide alarm\", \"Wifi\", \"TV with standard cable\", \"Heating\", \"Shampoo\", \"Smoke alarm\", \"Air conditioning\", \"Essentials\"]                                                                                                                                                                                                                                                                                                                                                  0\n",
      "Amenities_[\"Air conditioning\", \"Dedicated workspace\", \"Security cameras on property\", \"Carbon monoxide alarm\", \"Lock on bedroom door\", \"Wifi\", \"Shampoo\", \"Private entrance\", \"Hangers\", \"Iron\", \"Heating\", \"TV\", \"Hair dryer\", \"Smoke alarm\", \"Essentials\", \"Long term stays allowed\"]                                                                                                                                                                                                                                                         0\n",
      "Amenities_[\"Kitchen\", \"Long term stays allowed\", \"TV\", \"Wifi\", \"Heating\", \"Air conditioning\", \"Essentials\"]                                                                                                                                                                                                                                                                                                                                                                                                                                     0\n",
      "Length: 65, dtype: int64\n"
     ]
    }
   ],
   "source": [
    "nan_count = np.sum(df_subset.isnull(), axis = 0)\n",
    "print(nan_count)\n",
    "# nan_detected = nan_count!=0\n",
    "# nan_detected\n"
   ]
  },
  {
   "cell_type": "code",
   "execution_count": null,
   "metadata": {},
   "outputs": [],
   "source": []
  },
  {
   "cell_type": "code",
   "execution_count": 99,
   "metadata": {},
   "outputs": [],
   "source": [
    "df_subset.drop(columns = \"host_about\", inplace = True)"
   ]
  },
  {
   "cell_type": "code",
   "execution_count": 100,
   "metadata": {},
   "outputs": [
    {
     "name": "stdout",
     "output_type": "stream",
     "text": [
      "name                                                                                                                                                                                                                                                                                                                                                                                                                                                                                                                                         False\n",
      "description                                                                                                                                                                                                                                                                                                                                                                                                                                                                                                                                  False\n",
      "neighborhood_overview                                                                                                                                                                                                                                                                                                                                                                                                                                                                                                                        False\n",
      "host_response_rate                                                                                                                                                                                                                                                                                                                                                                                                                                                                                                                           False\n",
      "host_acceptance_rate                                                                                                                                                                                                                                                                                                                                                                                                                                                                                                                         False\n",
      "                                                                                                                                                                                                                                                                                                                                                                                                                                                                                                                                             ...  \n",
      "Amenities_[\"Luggage dropoff allowed\", \"TV\", \"Keurig coffee machine\", \"Hot water kettle\", \"Microwave\", \"First aid kit\", \"Hangers\", \"Long term stays allowed\", \"Carbon monoxide alarm\", \"Mini fridge\", \"Building staff\", \"Wifi\", \"Laundromat nearby\", \"Heating\", \"Shampoo\", \"Dishes and silverware\", \"Air conditioning\", \"Essentials\", \"Hot water\", \"Conditioner\", \"Safe\", \"Fire extinguisher\", \"Clothing storage\", \"Hair dryer\", \"Room-darkening shades\", \"Sound system\", \"Smoke alarm\", \"Iron\", \"Elevator\", \"Bed linens\", \"Coffee maker\"]    False\n",
      "Amenities_[\"Hangers\", \"Kitchen\", \"Long term stays allowed\", \"Iron\", \"Cable TV\", \"Washer\", \"Elevator\", \"Bed linens\", \"Wifi\", \"TV with standard cable\", \"Heating\", \"Private entrance\", \"Dryer\", \"Air conditioning\", \"Essentials\", \"Hot water\"]                                                                                                                                                                                                                                                                                                 False\n",
      "Amenities_[\"Kitchen\", \"Long term stays allowed\", \"Cable TV\", \"Carbon monoxide alarm\", \"Wifi\", \"TV with standard cable\", \"Heating\", \"Shampoo\", \"Smoke alarm\", \"Air conditioning\", \"Essentials\"]                                                                                                                                                                                                                                                                                                                                               False\n",
      "Amenities_[\"Air conditioning\", \"Dedicated workspace\", \"Security cameras on property\", \"Carbon monoxide alarm\", \"Lock on bedroom door\", \"Wifi\", \"Shampoo\", \"Private entrance\", \"Hangers\", \"Iron\", \"Heating\", \"TV\", \"Hair dryer\", \"Smoke alarm\", \"Essentials\", \"Long term stays allowed\"]                                                                                                                                                                                                                                                      False\n",
      "Amenities_[\"Kitchen\", \"Long term stays allowed\", \"TV\", \"Wifi\", \"Heating\", \"Air conditioning\", \"Essentials\"]                                                                                                                                                                                                                                                                                                                                                                                                                                  False\n",
      "Length: 64, dtype: bool\n"
     ]
    }
   ],
   "source": [
    "nan_count = np.sum(df_subset.isnull(), axis = 0)\n",
    "nan_detected = nan_count!=0\n",
    "print(nan_detected)\n"
   ]
  },
  {
   "cell_type": "code",
   "execution_count": 101,
   "metadata": {},
   "outputs": [
    {
     "data": {
      "text/plain": [
       "(9306, 64)"
      ]
     },
     "execution_count": 101,
     "metadata": {},
     "output_type": "execute_result"
    }
   ],
   "source": [
    "df_subset.shape"
   ]
  },
  {
   "cell_type": "code",
   "execution_count": 102,
   "metadata": {},
   "outputs": [
    {
     "data": {
      "text/plain": [
       "Index(['name', 'description', 'neighborhood_overview', 'host_response_rate',\n",
       "       'host_acceptance_rate', 'host_listings_count',\n",
       "       'host_total_listings_count', 'accommodates', 'bathrooms', 'bedrooms',\n",
       "       'beds', 'minimum_nights', 'maximum_nights', 'minimum_minimum_nights',\n",
       "       'maximum_minimum_nights', 'minimum_maximum_nights',\n",
       "       'maximum_maximum_nights', 'minimum_nights_avg_ntm',\n",
       "       'maximum_nights_avg_ntm', 'availability_30', 'availability_60',\n",
       "       'availability_90', 'availability_365', 'number_of_reviews',\n",
       "       'number_of_reviews_ltm', 'number_of_reviews_l30d',\n",
       "       'review_scores_rating', 'review_scores_cleanliness',\n",
       "       'review_scores_checkin', 'review_scores_communication',\n",
       "       'review_scores_location', 'review_scores_value',\n",
       "       'calculated_host_listings_count',\n",
       "       'calculated_host_listings_count_entire_homes',\n",
       "       'calculated_host_listings_count_private_rooms',\n",
       "       'calculated_host_listings_count_shared_rooms', 'reviews_per_month',\n",
       "       'label_price', 'Host_is_super_host__True', 'has_profile_pic__True',\n",
       "       'identity_verified__True', 'has_availability__False',\n",
       "       'has_availability__True', 'instant_bookable__False',\n",
       "       'instant_bookable__True', 'neighbourhood__Bronx',\n",
       "       'neighbourhood__Brooklyn', 'neighbourhood__Manhattan',\n",
       "       'neighbourhood__Queens', 'neighbourhood__Staten Island',\n",
       "       'room_type__Entire home/apt', 'room_type__Hotel room',\n",
       "       'room_type__Private room', 'room_type__Shared room',\n",
       "       'Amenities_[\"Hangers\", \"Long term stays allowed\", \"Iron\", \"TV\", \"Carbon monoxide alarm\", \"Fire extinguisher\", \"Elevator\", \"Hair dryer\", \"Wifi\", \"Heating\", \"Shampoo\", \"Smoke alarm\", \"First aid kit\", \"Air conditioning\", \"Essentials\"]',\n",
       "       'Amenities_[\"Fire extinguisher\", \"Lock on bedroom door\", \"Smoke alarm\", \"Shower gel\", \"Dedicated workspace\", \"Conditioner\", \"Building staff\", \"Body soap\", \"Hot water\", \"TV\", \"Hangers\", \"First aid kit\", \"Hair dryer\", \"Bed linens\", \"Long term stays allowed\", \"Air conditioning\", \"Carbon monoxide alarm\", \"Shampoo\", \"Iron\", \"Heating\", \"Luggage dropoff allowed\", \"Wifi\", \"Essentials\"]',\n",
       "       'Amenities_[\"Hangers\", \"Long term stays allowed\", \"Iron\", \"Cable TV\", \"Carbon monoxide alarm\", \"Security cameras on property\", \"Dedicated workspace\", \"Hair dryer\", \"Elevator\", \"Wifi\", \"TV with standard cable\", \"Heating\", \"Shampoo\", \"Smoke alarm\", \"Air conditioning\", \"Essentials\"]',\n",
       "       'Amenities_[\"Long term stays allowed\"]',\n",
       "       'Amenities_[\"Fire extinguisher\", \"Lock on bedroom door\", \"Smoke alarm\", \"Dedicated workspace\", \"Conditioner\", \"Building staff\", \"Body soap\", \"Hot water\", \"TV\", \"Hangers\", \"First aid kit\", \"Hair dryer\", \"Long term stays allowed\", \"Air conditioning\", \"Carbon monoxide alarm\", \"Shampoo\", \"Iron\", \"Heating\", \"Luggage dropoff allowed\", \"Wifi\", \"Essentials\"]',\n",
       "       'Amenities_[\"Luggage dropoff allowed\", \"TV\", \"Keurig coffee machine\", \"Hot water kettle\", \"Microwave\", \"First aid kit\", \"Hangers\", \"Long term stays allowed\", \"Carbon monoxide alarm\", \"Mini fridge\", \"Building staff\", \"Wifi\", \"Laundromat nearby\", \"Heating\", \"Shampoo\", \"Dishes and silverware\", \"Air conditioning\", \"Essentials\", \"Hot water\", \"Conditioner\", \"Safe\", \"Fire extinguisher\", \"Clothing storage\", \"Hair dryer\", \"Room-darkening shades\", \"Sound system\", \"Smoke alarm\", \"Iron\", \"Elevator\", \"Bed linens\", \"Coffee maker\"]',\n",
       "       'Amenities_[\"Hangers\", \"Kitchen\", \"Long term stays allowed\", \"Iron\", \"Cable TV\", \"Washer\", \"Elevator\", \"Bed linens\", \"Wifi\", \"TV with standard cable\", \"Heating\", \"Private entrance\", \"Dryer\", \"Air conditioning\", \"Essentials\", \"Hot water\"]',\n",
       "       'Amenities_[\"Kitchen\", \"Long term stays allowed\", \"Cable TV\", \"Carbon monoxide alarm\", \"Wifi\", \"TV with standard cable\", \"Heating\", \"Shampoo\", \"Smoke alarm\", \"Air conditioning\", \"Essentials\"]',\n",
       "       'Amenities_[\"Air conditioning\", \"Dedicated workspace\", \"Security cameras on property\", \"Carbon monoxide alarm\", \"Lock on bedroom door\", \"Wifi\", \"Shampoo\", \"Private entrance\", \"Hangers\", \"Iron\", \"Heating\", \"TV\", \"Hair dryer\", \"Smoke alarm\", \"Essentials\", \"Long term stays allowed\"]',\n",
       "       'Amenities_[\"Kitchen\", \"Long term stays allowed\", \"TV\", \"Wifi\", \"Heating\", \"Air conditioning\", \"Essentials\"]'],\n",
       "      dtype='object')"
      ]
     },
     "execution_count": 102,
     "metadata": {},
     "output_type": "execute_result"
    }
   ],
   "source": [
    "df_subset.columns"
   ]
  },
  {
   "cell_type": "code",
   "execution_count": 103,
   "metadata": {},
   "outputs": [
    {
     "data": {
      "text/plain": [
       "name                                                                                                                                                                                                                                                                                                                                                                                                                                                                                                                                          object\n",
       "description                                                                                                                                                                                                                                                                                                                                                                                                                                                                                                                                   object\n",
       "neighborhood_overview                                                                                                                                                                                                                                                                                                                                                                                                                                                                                                                         object\n",
       "host_response_rate                                                                                                                                                                                                                                                                                                                                                                                                                                                                                                                           float64\n",
       "host_acceptance_rate                                                                                                                                                                                                                                                                                                                                                                                                                                                                                                                         float64\n",
       "                                                                                                                                                                                                                                                                                                                                                                                                                                                                                                                                              ...   \n",
       "Amenities_[\"Luggage dropoff allowed\", \"TV\", \"Keurig coffee machine\", \"Hot water kettle\", \"Microwave\", \"First aid kit\", \"Hangers\", \"Long term stays allowed\", \"Carbon monoxide alarm\", \"Mini fridge\", \"Building staff\", \"Wifi\", \"Laundromat nearby\", \"Heating\", \"Shampoo\", \"Dishes and silverware\", \"Air conditioning\", \"Essentials\", \"Hot water\", \"Conditioner\", \"Safe\", \"Fire extinguisher\", \"Clothing storage\", \"Hair dryer\", \"Room-darkening shades\", \"Sound system\", \"Smoke alarm\", \"Iron\", \"Elevator\", \"Bed linens\", \"Coffee maker\"]      int64\n",
       "Amenities_[\"Hangers\", \"Kitchen\", \"Long term stays allowed\", \"Iron\", \"Cable TV\", \"Washer\", \"Elevator\", \"Bed linens\", \"Wifi\", \"TV with standard cable\", \"Heating\", \"Private entrance\", \"Dryer\", \"Air conditioning\", \"Essentials\", \"Hot water\"]                                                                                                                                                                                                                                                                                                   int64\n",
       "Amenities_[\"Kitchen\", \"Long term stays allowed\", \"Cable TV\", \"Carbon monoxide alarm\", \"Wifi\", \"TV with standard cable\", \"Heating\", \"Shampoo\", \"Smoke alarm\", \"Air conditioning\", \"Essentials\"]                                                                                                                                                                                                                                                                                                                                                 int64\n",
       "Amenities_[\"Air conditioning\", \"Dedicated workspace\", \"Security cameras on property\", \"Carbon monoxide alarm\", \"Lock on bedroom door\", \"Wifi\", \"Shampoo\", \"Private entrance\", \"Hangers\", \"Iron\", \"Heating\", \"TV\", \"Hair dryer\", \"Smoke alarm\", \"Essentials\", \"Long term stays allowed\"]                                                                                                                                                                                                                                                        int64\n",
       "Amenities_[\"Kitchen\", \"Long term stays allowed\", \"TV\", \"Wifi\", \"Heating\", \"Air conditioning\", \"Essentials\"]                                                                                                                                                                                                                                                                                                                                                                                                                                    int64\n",
       "Length: 64, dtype: object"
      ]
     },
     "execution_count": 103,
     "metadata": {},
     "output_type": "execute_result"
    }
   ],
   "source": [
    "df_subset[:][:10].dtypes"
   ]
  },
  {
   "cell_type": "markdown",
   "metadata": {},
   "source": [
    "<b>Using filter to filter out which Airbnb has rating_score > 3.5"
   ]
  },
  {
   "cell_type": "code",
   "execution_count": 104,
   "metadata": {},
   "outputs": [
    {
     "name": "stdout",
     "output_type": "stream",
     "text": [
      "12978    3.67\n",
      "12398    5.00\n",
      "1568     4.60\n",
      "18391    4.95\n",
      "1986     4.73\n",
      "         ... \n",
      "1553     4.45\n",
      "9723     4.71\n",
      "14579    3.50\n",
      "26099    3.75\n",
      "22218    4.64\n",
      "Name: review_scores_value, Length: 9306, dtype: float64\n"
     ]
    }
   ],
   "source": [
    "print(df_subset['review_scores_value'])"
   ]
  },
  {
   "cell_type": "markdown",
   "metadata": {},
   "source": [
    "<b> Align indices </b>\n",
    "I will only use df_subset from now on, so I will realign indices before filtering. "
   ]
  },
  {
   "cell_type": "code",
   "execution_count": 105,
   "metadata": {},
   "outputs": [
    {
     "name": "stdout",
     "output_type": "stream",
     "text": [
      "(9306, 64)\n"
     ]
    }
   ],
   "source": [
    "df_subset_reindexed = df_subset.loc[df_subset.index]\n",
    "print(df_subset_reindexed.shape)"
   ]
  },
  {
   "cell_type": "code",
   "execution_count": 106,
   "metadata": {},
   "outputs": [
    {
     "data": {
      "text/html": [
       "<div>\n",
       "<style scoped>\n",
       "    .dataframe tbody tr th:only-of-type {\n",
       "        vertical-align: middle;\n",
       "    }\n",
       "\n",
       "    .dataframe tbody tr th {\n",
       "        vertical-align: top;\n",
       "    }\n",
       "\n",
       "    .dataframe thead th {\n",
       "        text-align: right;\n",
       "    }\n",
       "</style>\n",
       "<table border=\"1\" class=\"dataframe\">\n",
       "  <thead>\n",
       "    <tr style=\"text-align: right;\">\n",
       "      <th></th>\n",
       "      <th>name</th>\n",
       "      <th>description</th>\n",
       "      <th>neighborhood_overview</th>\n",
       "      <th>host_response_rate</th>\n",
       "      <th>host_acceptance_rate</th>\n",
       "      <th>host_listings_count</th>\n",
       "      <th>host_total_listings_count</th>\n",
       "      <th>accommodates</th>\n",
       "      <th>bathrooms</th>\n",
       "      <th>bedrooms</th>\n",
       "      <th>...</th>\n",
       "      <th>Amenities_[\"Hangers\", \"Long term stays allowed\", \"Iron\", \"TV\", \"Carbon monoxide alarm\", \"Fire extinguisher\", \"Elevator\", \"Hair dryer\", \"Wifi\", \"Heating\", \"Shampoo\", \"Smoke alarm\", \"First aid kit\", \"Air conditioning\", \"Essentials\"]</th>\n",
       "      <th>Amenities_[\"Fire extinguisher\", \"Lock on bedroom door\", \"Smoke alarm\", \"Shower gel\", \"Dedicated workspace\", \"Conditioner\", \"Building staff\", \"Body soap\", \"Hot water\", \"TV\", \"Hangers\", \"First aid kit\", \"Hair dryer\", \"Bed linens\", \"Long term stays allowed\", \"Air conditioning\", \"Carbon monoxide alarm\", \"Shampoo\", \"Iron\", \"Heating\", \"Luggage dropoff allowed\", \"Wifi\", \"Essentials\"]</th>\n",
       "      <th>Amenities_[\"Hangers\", \"Long term stays allowed\", \"Iron\", \"Cable TV\", \"Carbon monoxide alarm\", \"Security cameras on property\", \"Dedicated workspace\", \"Hair dryer\", \"Elevator\", \"Wifi\", \"TV with standard cable\", \"Heating\", \"Shampoo\", \"Smoke alarm\", \"Air conditioning\", \"Essentials\"]</th>\n",
       "      <th>Amenities_[\"Long term stays allowed\"]</th>\n",
       "      <th>Amenities_[\"Fire extinguisher\", \"Lock on bedroom door\", \"Smoke alarm\", \"Dedicated workspace\", \"Conditioner\", \"Building staff\", \"Body soap\", \"Hot water\", \"TV\", \"Hangers\", \"First aid kit\", \"Hair dryer\", \"Long term stays allowed\", \"Air conditioning\", \"Carbon monoxide alarm\", \"Shampoo\", \"Iron\", \"Heating\", \"Luggage dropoff allowed\", \"Wifi\", \"Essentials\"]</th>\n",
       "      <th>Amenities_[\"Luggage dropoff allowed\", \"TV\", \"Keurig coffee machine\", \"Hot water kettle\", \"Microwave\", \"First aid kit\", \"Hangers\", \"Long term stays allowed\", \"Carbon monoxide alarm\", \"Mini fridge\", \"Building staff\", \"Wifi\", \"Laundromat nearby\", \"Heating\", \"Shampoo\", \"Dishes and silverware\", \"Air conditioning\", \"Essentials\", \"Hot water\", \"Conditioner\", \"Safe\", \"Fire extinguisher\", \"Clothing storage\", \"Hair dryer\", \"Room-darkening shades\", \"Sound system\", \"Smoke alarm\", \"Iron\", \"Elevator\", \"Bed linens\", \"Coffee maker\"]</th>\n",
       "      <th>Amenities_[\"Hangers\", \"Kitchen\", \"Long term stays allowed\", \"Iron\", \"Cable TV\", \"Washer\", \"Elevator\", \"Bed linens\", \"Wifi\", \"TV with standard cable\", \"Heating\", \"Private entrance\", \"Dryer\", \"Air conditioning\", \"Essentials\", \"Hot water\"]</th>\n",
       "      <th>Amenities_[\"Kitchen\", \"Long term stays allowed\", \"Cable TV\", \"Carbon monoxide alarm\", \"Wifi\", \"TV with standard cable\", \"Heating\", \"Shampoo\", \"Smoke alarm\", \"Air conditioning\", \"Essentials\"]</th>\n",
       "      <th>Amenities_[\"Air conditioning\", \"Dedicated workspace\", \"Security cameras on property\", \"Carbon monoxide alarm\", \"Lock on bedroom door\", \"Wifi\", \"Shampoo\", \"Private entrance\", \"Hangers\", \"Iron\", \"Heating\", \"TV\", \"Hair dryer\", \"Smoke alarm\", \"Essentials\", \"Long term stays allowed\"]</th>\n",
       "      <th>Amenities_[\"Kitchen\", \"Long term stays allowed\", \"TV\", \"Wifi\", \"Heating\", \"Air conditioning\", \"Essentials\"]</th>\n",
       "    </tr>\n",
       "  </thead>\n",
       "  <tbody>\n",
       "    <tr>\n",
       "      <th>12978</th>\n",
       "      <td>Beautiful NYC Apartment</td>\n",
       "      <td>A Gorgeous HUGE Furnished Room in a very nice ...</td>\n",
       "      <td>Lots of cafes, restaurants (cuisine from any c...</td>\n",
       "      <td>0.906901</td>\n",
       "      <td>1.000000</td>\n",
       "      <td>1.0</td>\n",
       "      <td>1.0</td>\n",
       "      <td>4</td>\n",
       "      <td>1.0</td>\n",
       "      <td>1.0</td>\n",
       "      <td>...</td>\n",
       "      <td>0</td>\n",
       "      <td>0</td>\n",
       "      <td>0</td>\n",
       "      <td>0</td>\n",
       "      <td>0</td>\n",
       "      <td>0</td>\n",
       "      <td>0</td>\n",
       "      <td>0</td>\n",
       "      <td>0</td>\n",
       "      <td>0</td>\n",
       "    </tr>\n",
       "    <tr>\n",
       "      <th>12398</th>\n",
       "      <td>Heaven On Earth</td>\n",
       "      <td>This is a beautiful colonial house located in ...</td>\n",
       "      <td>Our neighborhood is quiet but friendly with pl...</td>\n",
       "      <td>0.906901</td>\n",
       "      <td>0.791953</td>\n",
       "      <td>4.0</td>\n",
       "      <td>4.0</td>\n",
       "      <td>2</td>\n",
       "      <td>1.0</td>\n",
       "      <td>1.0</td>\n",
       "      <td>...</td>\n",
       "      <td>0</td>\n",
       "      <td>0</td>\n",
       "      <td>0</td>\n",
       "      <td>0</td>\n",
       "      <td>0</td>\n",
       "      <td>0</td>\n",
       "      <td>0</td>\n",
       "      <td>0</td>\n",
       "      <td>0</td>\n",
       "      <td>0</td>\n",
       "    </tr>\n",
       "    <tr>\n",
       "      <th>1568</th>\n",
       "      <td>Sunny, Comfortable Space</td>\n",
       "      <td>Apt with two private bedrooms, a kitchen, LR/D...</td>\n",
       "      <td>Crown Heights is a slice of local life in Broo...</td>\n",
       "      <td>1.000000</td>\n",
       "      <td>1.000000</td>\n",
       "      <td>1.0</td>\n",
       "      <td>1.0</td>\n",
       "      <td>2</td>\n",
       "      <td>1.0</td>\n",
       "      <td>2.0</td>\n",
       "      <td>...</td>\n",
       "      <td>0</td>\n",
       "      <td>0</td>\n",
       "      <td>0</td>\n",
       "      <td>0</td>\n",
       "      <td>0</td>\n",
       "      <td>0</td>\n",
       "      <td>0</td>\n",
       "      <td>0</td>\n",
       "      <td>0</td>\n",
       "      <td>0</td>\n",
       "    </tr>\n",
       "    <tr>\n",
       "      <th>18391</th>\n",
       "      <td>Sunny spacious private room w/ separate entrance</td>\n",
       "      <td>Sunny spacious private room in a one story hou...</td>\n",
       "      <td>It's is a very quiet block in a lovely safe cl...</td>\n",
       "      <td>1.000000</td>\n",
       "      <td>0.840000</td>\n",
       "      <td>2.0</td>\n",
       "      <td>2.0</td>\n",
       "      <td>1</td>\n",
       "      <td>1.0</td>\n",
       "      <td>1.0</td>\n",
       "      <td>...</td>\n",
       "      <td>0</td>\n",
       "      <td>0</td>\n",
       "      <td>0</td>\n",
       "      <td>0</td>\n",
       "      <td>0</td>\n",
       "      <td>0</td>\n",
       "      <td>0</td>\n",
       "      <td>0</td>\n",
       "      <td>0</td>\n",
       "      <td>0</td>\n",
       "    </tr>\n",
       "    <tr>\n",
       "      <th>1986</th>\n",
       "      <td>PRIME 1br in Williamsburg</td>\n",
       "      <td>PRIME Fully furnished 1b garden level apt in a...</td>\n",
       "      <td>Our neighborhood is great, has fantastic ameni...</td>\n",
       "      <td>1.000000</td>\n",
       "      <td>0.930000</td>\n",
       "      <td>1.0</td>\n",
       "      <td>1.0</td>\n",
       "      <td>2</td>\n",
       "      <td>1.0</td>\n",
       "      <td>1.0</td>\n",
       "      <td>...</td>\n",
       "      <td>0</td>\n",
       "      <td>0</td>\n",
       "      <td>0</td>\n",
       "      <td>0</td>\n",
       "      <td>0</td>\n",
       "      <td>0</td>\n",
       "      <td>0</td>\n",
       "      <td>0</td>\n",
       "      <td>0</td>\n",
       "      <td>0</td>\n",
       "    </tr>\n",
       "  </tbody>\n",
       "</table>\n",
       "<p>5 rows × 64 columns</p>\n",
       "</div>"
      ],
      "text/plain": [
       "                                                   name  \\\n",
       "12978                           Beautiful NYC Apartment   \n",
       "12398                                   Heaven On Earth   \n",
       "1568                           Sunny, Comfortable Space   \n",
       "18391  Sunny spacious private room w/ separate entrance   \n",
       "1986                          PRIME 1br in Williamsburg   \n",
       "\n",
       "                                             description  \\\n",
       "12978  A Gorgeous HUGE Furnished Room in a very nice ...   \n",
       "12398  This is a beautiful colonial house located in ...   \n",
       "1568   Apt with two private bedrooms, a kitchen, LR/D...   \n",
       "18391  Sunny spacious private room in a one story hou...   \n",
       "1986   PRIME Fully furnished 1b garden level apt in a...   \n",
       "\n",
       "                                   neighborhood_overview  host_response_rate  \\\n",
       "12978  Lots of cafes, restaurants (cuisine from any c...            0.906901   \n",
       "12398  Our neighborhood is quiet but friendly with pl...            0.906901   \n",
       "1568   Crown Heights is a slice of local life in Broo...            1.000000   \n",
       "18391  It's is a very quiet block in a lovely safe cl...            1.000000   \n",
       "1986   Our neighborhood is great, has fantastic ameni...            1.000000   \n",
       "\n",
       "       host_acceptance_rate  host_listings_count  host_total_listings_count  \\\n",
       "12978              1.000000                  1.0                        1.0   \n",
       "12398              0.791953                  4.0                        4.0   \n",
       "1568               1.000000                  1.0                        1.0   \n",
       "18391              0.840000                  2.0                        2.0   \n",
       "1986               0.930000                  1.0                        1.0   \n",
       "\n",
       "       accommodates  bathrooms  bedrooms  ...  \\\n",
       "12978             4        1.0       1.0  ...   \n",
       "12398             2        1.0       1.0  ...   \n",
       "1568              2        1.0       2.0  ...   \n",
       "18391             1        1.0       1.0  ...   \n",
       "1986              2        1.0       1.0  ...   \n",
       "\n",
       "       Amenities_[\"Hangers\", \"Long term stays allowed\", \"Iron\", \"TV\", \"Carbon monoxide alarm\", \"Fire extinguisher\", \"Elevator\", \"Hair dryer\", \"Wifi\", \"Heating\", \"Shampoo\", \"Smoke alarm\", \"First aid kit\", \"Air conditioning\", \"Essentials\"]  \\\n",
       "12978                                                  0                                                                                                                                                                                        \n",
       "12398                                                  0                                                                                                                                                                                        \n",
       "1568                                                   0                                                                                                                                                                                        \n",
       "18391                                                  0                                                                                                                                                                                        \n",
       "1986                                                   0                                                                                                                                                                                        \n",
       "\n",
       "       Amenities_[\"Fire extinguisher\", \"Lock on bedroom door\", \"Smoke alarm\", \"Shower gel\", \"Dedicated workspace\", \"Conditioner\", \"Building staff\", \"Body soap\", \"Hot water\", \"TV\", \"Hangers\", \"First aid kit\", \"Hair dryer\", \"Bed linens\", \"Long term stays allowed\", \"Air conditioning\", \"Carbon monoxide alarm\", \"Shampoo\", \"Iron\", \"Heating\", \"Luggage dropoff allowed\", \"Wifi\", \"Essentials\"]  \\\n",
       "12978                                                  0                                                                                                                                                                                                                                                                                                                                             \n",
       "12398                                                  0                                                                                                                                                                                                                                                                                                                                             \n",
       "1568                                                   0                                                                                                                                                                                                                                                                                                                                             \n",
       "18391                                                  0                                                                                                                                                                                                                                                                                                                                             \n",
       "1986                                                   0                                                                                                                                                                                                                                                                                                                                             \n",
       "\n",
       "       Amenities_[\"Hangers\", \"Long term stays allowed\", \"Iron\", \"Cable TV\", \"Carbon monoxide alarm\", \"Security cameras on property\", \"Dedicated workspace\", \"Hair dryer\", \"Elevator\", \"Wifi\", \"TV with standard cable\", \"Heating\", \"Shampoo\", \"Smoke alarm\", \"Air conditioning\", \"Essentials\"]  \\\n",
       "12978                                                  0                                                                                                                                                                                                                                         \n",
       "12398                                                  0                                                                                                                                                                                                                                         \n",
       "1568                                                   0                                                                                                                                                                                                                                         \n",
       "18391                                                  0                                                                                                                                                                                                                                         \n",
       "1986                                                   0                                                                                                                                                                                                                                         \n",
       "\n",
       "       Amenities_[\"Long term stays allowed\"]  \\\n",
       "12978                                      0   \n",
       "12398                                      0   \n",
       "1568                                       0   \n",
       "18391                                      0   \n",
       "1986                                       0   \n",
       "\n",
       "       Amenities_[\"Fire extinguisher\", \"Lock on bedroom door\", \"Smoke alarm\", \"Dedicated workspace\", \"Conditioner\", \"Building staff\", \"Body soap\", \"Hot water\", \"TV\", \"Hangers\", \"First aid kit\", \"Hair dryer\", \"Long term stays allowed\", \"Air conditioning\", \"Carbon monoxide alarm\", \"Shampoo\", \"Iron\", \"Heating\", \"Luggage dropoff allowed\", \"Wifi\", \"Essentials\"]  \\\n",
       "12978                                                  0                                                                                                                                                                                                                                                                                                                 \n",
       "12398                                                  0                                                                                                                                                                                                                                                                                                                 \n",
       "1568                                                   0                                                                                                                                                                                                                                                                                                                 \n",
       "18391                                                  0                                                                                                                                                                                                                                                                                                                 \n",
       "1986                                                   0                                                                                                                                                                                                                                                                                                                 \n",
       "\n",
       "       Amenities_[\"Luggage dropoff allowed\", \"TV\", \"Keurig coffee machine\", \"Hot water kettle\", \"Microwave\", \"First aid kit\", \"Hangers\", \"Long term stays allowed\", \"Carbon monoxide alarm\", \"Mini fridge\", \"Building staff\", \"Wifi\", \"Laundromat nearby\", \"Heating\", \"Shampoo\", \"Dishes and silverware\", \"Air conditioning\", \"Essentials\", \"Hot water\", \"Conditioner\", \"Safe\", \"Fire extinguisher\", \"Clothing storage\", \"Hair dryer\", \"Room-darkening shades\", \"Sound system\", \"Smoke alarm\", \"Iron\", \"Elevator\", \"Bed linens\", \"Coffee maker\"]  \\\n",
       "12978                                                  0                                                                                                                                                                                                                                                                                                                                                                                                                                                                                           \n",
       "12398                                                  0                                                                                                                                                                                                                                                                                                                                                                                                                                                                                           \n",
       "1568                                                   0                                                                                                                                                                                                                                                                                                                                                                                                                                                                                           \n",
       "18391                                                  0                                                                                                                                                                                                                                                                                                                                                                                                                                                                                           \n",
       "1986                                                   0                                                                                                                                                                                                                                                                                                                                                                                                                                                                                           \n",
       "\n",
       "       Amenities_[\"Hangers\", \"Kitchen\", \"Long term stays allowed\", \"Iron\", \"Cable TV\", \"Washer\", \"Elevator\", \"Bed linens\", \"Wifi\", \"TV with standard cable\", \"Heating\", \"Private entrance\", \"Dryer\", \"Air conditioning\", \"Essentials\", \"Hot water\"]  \\\n",
       "12978                                                  0                                                                                                                                                                                              \n",
       "12398                                                  0                                                                                                                                                                                              \n",
       "1568                                                   0                                                                                                                                                                                              \n",
       "18391                                                  0                                                                                                                                                                                              \n",
       "1986                                                   0                                                                                                                                                                                              \n",
       "\n",
       "       Amenities_[\"Kitchen\", \"Long term stays allowed\", \"Cable TV\", \"Carbon monoxide alarm\", \"Wifi\", \"TV with standard cable\", \"Heating\", \"Shampoo\", \"Smoke alarm\", \"Air conditioning\", \"Essentials\"]  \\\n",
       "12978                                                  0                                                                                                                                                \n",
       "12398                                                  0                                                                                                                                                \n",
       "1568                                                   0                                                                                                                                                \n",
       "18391                                                  0                                                                                                                                                \n",
       "1986                                                   0                                                                                                                                                \n",
       "\n",
       "       Amenities_[\"Air conditioning\", \"Dedicated workspace\", \"Security cameras on property\", \"Carbon monoxide alarm\", \"Lock on bedroom door\", \"Wifi\", \"Shampoo\", \"Private entrance\", \"Hangers\", \"Iron\", \"Heating\", \"TV\", \"Hair dryer\", \"Smoke alarm\", \"Essentials\", \"Long term stays allowed\"]  \\\n",
       "12978                                                  0                                                                                                                                                                                                                                         \n",
       "12398                                                  0                                                                                                                                                                                                                                         \n",
       "1568                                                   0                                                                                                                                                                                                                                         \n",
       "18391                                                  0                                                                                                                                                                                                                                         \n",
       "1986                                                   0                                                                                                                                                                                                                                         \n",
       "\n",
       "       Amenities_[\"Kitchen\", \"Long term stays allowed\", \"TV\", \"Wifi\", \"Heating\", \"Air conditioning\", \"Essentials\"]  \n",
       "12978                                                  0                                                            \n",
       "12398                                                  0                                                            \n",
       "1568                                                   0                                                            \n",
       "18391                                                  0                                                            \n",
       "1986                                                   0                                                            \n",
       "\n",
       "[5 rows x 64 columns]"
      ]
     },
     "execution_count": 106,
     "metadata": {},
     "output_type": "execute_result"
    }
   ],
   "source": [
    "df_subset_reindexed.head(5)"
   ]
  },
  {
   "cell_type": "code",
   "execution_count": 107,
   "metadata": {},
   "outputs": [],
   "source": [
    "# condition1 = df_subset['review_scores_value'] > 3.5\n",
    "# df_rating_above_average = df_subset[condition1]\n",
    "# print(condition1)"
   ]
  },
  {
   "cell_type": "code",
   "execution_count": 108,
   "metadata": {},
   "outputs": [
    {
     "name": "stdout",
     "output_type": "stream",
     "text": [
      "1\n"
     ]
    }
   ],
   "source": [
    "print(df_subset['Amenities_[\"Hangers\", \"Long term stays allowed\", \"Iron\", \"TV\", \"Carbon monoxide alarm\", \"Fire extinguisher\", \"Elevator\", \"Hair dryer\", \"Wifi\", \"Heating\", \"Shampoo\", \"Smoke alarm\", \"First aid kit\", \"Air conditioning\", \"Essentials\"]'].nunique())"
   ]
  },
  {
   "cell_type": "code",
   "execution_count": 109,
   "metadata": {},
   "outputs": [],
   "source": [
    "# Drop that column, because all data points that I sample has value 0 at that column. \n",
    "# Not helpful to keep. \n",
    "df_subset.drop(columns = 'Amenities_[\"Hangers\", \"Long term stays allowed\", \"Iron\", \"TV\", \"Carbon monoxide alarm\", \"Fire extinguisher\", \"Elevator\", \"Hair dryer\", \"Wifi\", \"Heating\", \"Shampoo\", \"Smoke alarm\", \"First aid kit\", \"Air conditioning\", \"Essentials\"]', inplace = True)"
   ]
  },
  {
   "cell_type": "code",
   "execution_count": 110,
   "metadata": {},
   "outputs": [
    {
     "name": "stdout",
     "output_type": "stream",
     "text": [
      "1\n"
     ]
    }
   ],
   "source": [
    "print(df_subset['Amenities_[\"Fire extinguisher\", \"Lock on bedroom door\", \"Smoke alarm\", \"Shower gel\", \"Dedicated workspace\", \"Conditioner\", \"Building staff\", \"Body soap\", \"Hot water\", \"TV\", \"Hangers\", \"First aid kit\", \"Hair dryer\", \"Bed linens\", \"Long term stays allowed\", \"Air conditioning\", \"Carbon monoxide alarm\", \"Shampoo\", \"Iron\", \"Heating\", \"Luggage dropoff allowed\", \"Wifi\", \"Essentials\"]'].nunique())"
   ]
  },
  {
   "cell_type": "code",
   "execution_count": 111,
   "metadata": {},
   "outputs": [],
   "source": [
    "# Drop as well. Not helpful. \n",
    "df_subset.drop(columns = 'Amenities_[\"Fire extinguisher\", \"Lock on bedroom door\", \"Smoke alarm\", \"Shower gel\", \"Dedicated workspace\", \"Conditioner\", \"Building staff\", \"Body soap\", \"Hot water\", \"TV\", \"Hangers\", \"First aid kit\", \"Hair dryer\", \"Bed linens\", \"Long term stays allowed\", \"Air conditioning\", \"Carbon monoxide alarm\", \"Shampoo\", \"Iron\", \"Heating\", \"Luggage dropoff allowed\", \"Wifi\", \"Essentials\"]', inplace = True)\t"
   ]
  },
  {
   "cell_type": "code",
   "execution_count": 112,
   "metadata": {},
   "outputs": [
    {
     "name": "stdout",
     "output_type": "stream",
     "text": [
      "1\n"
     ]
    }
   ],
   "source": [
    "print(df_subset['Amenities_[\"Hangers\", \"Long term stays allowed\", \"Iron\", \"Cable TV\", \"Carbon monoxide alarm\", \"Security cameras on property\", \"Dedicated workspace\", \"Hair dryer\", \"Elevator\", \"Wifi\", \"TV with standard cable\", \"Heating\", \"Shampoo\", \"Smoke alarm\", \"Air conditioning\", \"Essentials\"]'].nunique())"
   ]
  },
  {
   "cell_type": "code",
   "execution_count": 113,
   "metadata": {},
   "outputs": [],
   "source": [
    "df_subset.drop(columns = 'Amenities_[\"Hangers\", \"Long term stays allowed\", \"Iron\", \"Cable TV\", \"Carbon monoxide alarm\", \"Security cameras on property\", \"Dedicated workspace\", \"Hair dryer\", \"Elevator\", \"Wifi\", \"TV with standard cable\", \"Heating\", \"Shampoo\", \"Smoke alarm\", \"Air conditioning\", \"Essentials\"]', inplace = True)"
   ]
  },
  {
   "cell_type": "code",
   "execution_count": 114,
   "metadata": {},
   "outputs": [
    {
     "data": {
      "text/plain": [
       "Index(['name', 'description', 'neighborhood_overview', 'host_response_rate',\n",
       "       'host_acceptance_rate', 'host_listings_count',\n",
       "       'host_total_listings_count', 'accommodates', 'bathrooms', 'bedrooms',\n",
       "       'beds', 'minimum_nights', 'maximum_nights', 'minimum_minimum_nights',\n",
       "       'maximum_minimum_nights', 'minimum_maximum_nights',\n",
       "       'maximum_maximum_nights', 'minimum_nights_avg_ntm',\n",
       "       'maximum_nights_avg_ntm', 'availability_30', 'availability_60',\n",
       "       'availability_90', 'availability_365', 'number_of_reviews',\n",
       "       'number_of_reviews_ltm', 'number_of_reviews_l30d',\n",
       "       'review_scores_rating', 'review_scores_cleanliness',\n",
       "       'review_scores_checkin', 'review_scores_communication',\n",
       "       'review_scores_location', 'review_scores_value',\n",
       "       'calculated_host_listings_count',\n",
       "       'calculated_host_listings_count_entire_homes',\n",
       "       'calculated_host_listings_count_private_rooms',\n",
       "       'calculated_host_listings_count_shared_rooms', 'reviews_per_month',\n",
       "       'label_price', 'Host_is_super_host__True', 'has_profile_pic__True',\n",
       "       'identity_verified__True', 'has_availability__False',\n",
       "       'has_availability__True', 'instant_bookable__False',\n",
       "       'instant_bookable__True', 'neighbourhood__Bronx',\n",
       "       'neighbourhood__Brooklyn', 'neighbourhood__Manhattan',\n",
       "       'neighbourhood__Queens', 'neighbourhood__Staten Island',\n",
       "       'room_type__Entire home/apt', 'room_type__Hotel room',\n",
       "       'room_type__Private room', 'room_type__Shared room',\n",
       "       'Amenities_[\"Long term stays allowed\"]',\n",
       "       'Amenities_[\"Fire extinguisher\", \"Lock on bedroom door\", \"Smoke alarm\", \"Dedicated workspace\", \"Conditioner\", \"Building staff\", \"Body soap\", \"Hot water\", \"TV\", \"Hangers\", \"First aid kit\", \"Hair dryer\", \"Long term stays allowed\", \"Air conditioning\", \"Carbon monoxide alarm\", \"Shampoo\", \"Iron\", \"Heating\", \"Luggage dropoff allowed\", \"Wifi\", \"Essentials\"]',\n",
       "       'Amenities_[\"Luggage dropoff allowed\", \"TV\", \"Keurig coffee machine\", \"Hot water kettle\", \"Microwave\", \"First aid kit\", \"Hangers\", \"Long term stays allowed\", \"Carbon monoxide alarm\", \"Mini fridge\", \"Building staff\", \"Wifi\", \"Laundromat nearby\", \"Heating\", \"Shampoo\", \"Dishes and silverware\", \"Air conditioning\", \"Essentials\", \"Hot water\", \"Conditioner\", \"Safe\", \"Fire extinguisher\", \"Clothing storage\", \"Hair dryer\", \"Room-darkening shades\", \"Sound system\", \"Smoke alarm\", \"Iron\", \"Elevator\", \"Bed linens\", \"Coffee maker\"]',\n",
       "       'Amenities_[\"Hangers\", \"Kitchen\", \"Long term stays allowed\", \"Iron\", \"Cable TV\", \"Washer\", \"Elevator\", \"Bed linens\", \"Wifi\", \"TV with standard cable\", \"Heating\", \"Private entrance\", \"Dryer\", \"Air conditioning\", \"Essentials\", \"Hot water\"]',\n",
       "       'Amenities_[\"Kitchen\", \"Long term stays allowed\", \"Cable TV\", \"Carbon monoxide alarm\", \"Wifi\", \"TV with standard cable\", \"Heating\", \"Shampoo\", \"Smoke alarm\", \"Air conditioning\", \"Essentials\"]',\n",
       "       'Amenities_[\"Air conditioning\", \"Dedicated workspace\", \"Security cameras on property\", \"Carbon monoxide alarm\", \"Lock on bedroom door\", \"Wifi\", \"Shampoo\", \"Private entrance\", \"Hangers\", \"Iron\", \"Heating\", \"TV\", \"Hair dryer\", \"Smoke alarm\", \"Essentials\", \"Long term stays allowed\"]',\n",
       "       'Amenities_[\"Kitchen\", \"Long term stays allowed\", \"TV\", \"Wifi\", \"Heating\", \"Air conditioning\", \"Essentials\"]'],\n",
       "      dtype='object')"
      ]
     },
     "execution_count": 114,
     "metadata": {},
     "output_type": "execute_result"
    }
   ],
   "source": [
    "df_subset.columns"
   ]
  },
  {
   "cell_type": "code",
   "execution_count": 115,
   "metadata": {},
   "outputs": [
    {
     "name": "stdout",
     "output_type": "stream",
     "text": [
      "2\n"
     ]
    }
   ],
   "source": [
    "print(df_subset['Amenities_[\"Kitchen\", \"Long term stays allowed\", \"TV\", \"Wifi\", \"Heating\", \"Air conditioning\", \"Essentials\"]'].nunique())"
   ]
  },
  {
   "cell_type": "code",
   "execution_count": 116,
   "metadata": {},
   "outputs": [],
   "source": [
    "# Keep the above column"
   ]
  },
  {
   "cell_type": "code",
   "execution_count": 117,
   "metadata": {},
   "outputs": [
    {
     "name": "stdout",
     "output_type": "stream",
     "text": [
      "1\n"
     ]
    }
   ],
   "source": [
    "print(df_subset['Amenities_[\"Air conditioning\", \"Dedicated workspace\", \"Security cameras on property\", \"Carbon monoxide alarm\", \"Lock on bedroom door\", \"Wifi\", \"Shampoo\", \"Private entrance\", \"Hangers\", \"Iron\", \"Heating\", \"TV\", \"Hair dryer\", \"Smoke alarm\", \"Essentials\", \"Long term stays allowed\"]'].nunique())"
   ]
  },
  {
   "cell_type": "code",
   "execution_count": 118,
   "metadata": {},
   "outputs": [],
   "source": [
    "df_subset.drop(columns = 'Amenities_[\"Air conditioning\", \"Dedicated workspace\", \"Security cameras on property\", \"Carbon monoxide alarm\", \"Lock on bedroom door\", \"Wifi\", \"Shampoo\", \"Private entrance\", \"Hangers\", \"Iron\", \"Heating\", \"TV\", \"Hair dryer\", \"Smoke alarm\", \"Essentials\", \"Long term stays allowed\"]', inplace = True)"
   ]
  },
  {
   "cell_type": "code",
   "execution_count": 119,
   "metadata": {},
   "outputs": [
    {
     "name": "stdout",
     "output_type": "stream",
     "text": [
      "2\n"
     ]
    }
   ],
   "source": [
    "print(df_subset['Amenities_[\"Kitchen\", \"Long term stays allowed\", \"Cable TV\", \"Carbon monoxide alarm\", \"Wifi\", \"TV with standard cable\", \"Heating\", \"Shampoo\", \"Smoke alarm\", \"Air conditioning\", \"Essentials\"]'].nunique())"
   ]
  },
  {
   "cell_type": "code",
   "execution_count": 120,
   "metadata": {},
   "outputs": [],
   "source": [
    "#Keep the above column"
   ]
  },
  {
   "cell_type": "code",
   "execution_count": 121,
   "metadata": {},
   "outputs": [
    {
     "name": "stdout",
     "output_type": "stream",
     "text": [
      "1\n"
     ]
    }
   ],
   "source": [
    "print(df_subset['Amenities_[\"Hangers\", \"Kitchen\", \"Long term stays allowed\", \"Iron\", \"Cable TV\", \"Washer\", \"Elevator\", \"Bed linens\", \"Wifi\", \"TV with standard cable\", \"Heating\", \"Private entrance\", \"Dryer\", \"Air conditioning\", \"Essentials\", \"Hot water\"]'].nunique())"
   ]
  },
  {
   "cell_type": "code",
   "execution_count": 122,
   "metadata": {},
   "outputs": [],
   "source": [
    "df_subset.drop(columns =  'Amenities_[\"Hangers\", \"Kitchen\", \"Long term stays allowed\", \"Iron\", \"Cable TV\", \"Washer\", \"Elevator\", \"Bed linens\", \"Wifi\", \"TV with standard cable\", \"Heating\", \"Private entrance\", \"Dryer\", \"Air conditioning\", \"Essentials\", \"Hot water\"]', inplace = True)"
   ]
  },
  {
   "cell_type": "code",
   "execution_count": 123,
   "metadata": {},
   "outputs": [
    {
     "name": "stdout",
     "output_type": "stream",
     "text": [
      "1\n"
     ]
    }
   ],
   "source": [
    "print(df_subset['Amenities_[\"Luggage dropoff allowed\", \"TV\", \"Keurig coffee machine\", \"Hot water kettle\", \"Microwave\", \"First aid kit\", \"Hangers\", \"Long term stays allowed\", \"Carbon monoxide alarm\", \"Mini fridge\", \"Building staff\", \"Wifi\", \"Laundromat nearby\", \"Heating\", \"Shampoo\", \"Dishes and silverware\", \"Air conditioning\", \"Essentials\", \"Hot water\", \"Conditioner\", \"Safe\", \"Fire extinguisher\", \"Clothing storage\", \"Hair dryer\", \"Room-darkening shades\", \"Sound system\", \"Smoke alarm\", \"Iron\", \"Elevator\", \"Bed linens\", \"Coffee maker\"]'].nunique())"
   ]
  },
  {
   "cell_type": "code",
   "execution_count": 124,
   "metadata": {},
   "outputs": [],
   "source": [
    "df_subset.drop(columns = 'Amenities_[\"Luggage dropoff allowed\", \"TV\", \"Keurig coffee machine\", \"Hot water kettle\", \"Microwave\", \"First aid kit\", \"Hangers\", \"Long term stays allowed\", \"Carbon monoxide alarm\", \"Mini fridge\", \"Building staff\", \"Wifi\", \"Laundromat nearby\", \"Heating\", \"Shampoo\", \"Dishes and silverware\", \"Air conditioning\", \"Essentials\", \"Hot water\", \"Conditioner\", \"Safe\", \"Fire extinguisher\", \"Clothing storage\", \"Hair dryer\", \"Room-darkening shades\", \"Sound system\", \"Smoke alarm\", \"Iron\", \"Elevator\", \"Bed linens\", \"Coffee maker\"]', inplace = True)"
   ]
  },
  {
   "cell_type": "code",
   "execution_count": 125,
   "metadata": {},
   "outputs": [
    {
     "name": "stdout",
     "output_type": "stream",
     "text": [
      "1\n"
     ]
    }
   ],
   "source": [
    "print(df_subset['Amenities_[\"Fire extinguisher\", \"Lock on bedroom door\", \"Smoke alarm\", \"Dedicated workspace\", \"Conditioner\", \"Building staff\", \"Body soap\", \"Hot water\", \"TV\", \"Hangers\", \"First aid kit\", \"Hair dryer\", \"Long term stays allowed\", \"Air conditioning\", \"Carbon monoxide alarm\", \"Shampoo\", \"Iron\", \"Heating\", \"Luggage dropoff allowed\", \"Wifi\", \"Essentials\"]'].nunique())"
   ]
  },
  {
   "cell_type": "code",
   "execution_count": 126,
   "metadata": {},
   "outputs": [],
   "source": [
    "df_subset.drop(columns = 'Amenities_[\"Fire extinguisher\", \"Lock on bedroom door\", \"Smoke alarm\", \"Dedicated workspace\", \"Conditioner\", \"Building staff\", \"Body soap\", \"Hot water\", \"TV\", \"Hangers\", \"First aid kit\", \"Hair dryer\", \"Long term stays allowed\", \"Air conditioning\", \"Carbon monoxide alarm\", \"Shampoo\", \"Iron\", \"Heating\", \"Luggage dropoff allowed\", \"Wifi\", \"Essentials\"]', inplace = True)"
   ]
  },
  {
   "cell_type": "code",
   "execution_count": 127,
   "metadata": {},
   "outputs": [
    {
     "name": "stdout",
     "output_type": "stream",
     "text": [
      "2\n"
     ]
    }
   ],
   "source": [
    "print(df_subset['Amenities_[\"Long term stays allowed\"]'].nunique())"
   ]
  },
  {
   "cell_type": "markdown",
   "metadata": {},
   "source": [
    "<b>Drop 'host_listings_count' as we already have 'host_total_listings_count'"
   ]
  },
  {
   "cell_type": "code",
   "execution_count": 128,
   "metadata": {},
   "outputs": [],
   "source": [
    "df_subset.drop(columns = 'host_listings_count', inplace = True)"
   ]
  },
  {
   "cell_type": "code",
   "execution_count": 129,
   "metadata": {},
   "outputs": [
    {
     "data": {
      "text/plain": [
       "Index(['name', 'description', 'neighborhood_overview', 'host_response_rate',\n",
       "       'host_acceptance_rate', 'host_total_listings_count', 'accommodates',\n",
       "       'bathrooms', 'bedrooms', 'beds', 'minimum_nights', 'maximum_nights',\n",
       "       'minimum_minimum_nights', 'maximum_minimum_nights',\n",
       "       'minimum_maximum_nights', 'maximum_maximum_nights',\n",
       "       'minimum_nights_avg_ntm', 'maximum_nights_avg_ntm', 'availability_30',\n",
       "       'availability_60', 'availability_90', 'availability_365',\n",
       "       'number_of_reviews', 'number_of_reviews_ltm', 'number_of_reviews_l30d',\n",
       "       'review_scores_rating', 'review_scores_cleanliness',\n",
       "       'review_scores_checkin', 'review_scores_communication',\n",
       "       'review_scores_location', 'review_scores_value',\n",
       "       'calculated_host_listings_count',\n",
       "       'calculated_host_listings_count_entire_homes',\n",
       "       'calculated_host_listings_count_private_rooms',\n",
       "       'calculated_host_listings_count_shared_rooms', 'reviews_per_month',\n",
       "       'label_price', 'Host_is_super_host__True', 'has_profile_pic__True',\n",
       "       'identity_verified__True', 'has_availability__False',\n",
       "       'has_availability__True', 'instant_bookable__False',\n",
       "       'instant_bookable__True', 'neighbourhood__Bronx',\n",
       "       'neighbourhood__Brooklyn', 'neighbourhood__Manhattan',\n",
       "       'neighbourhood__Queens', 'neighbourhood__Staten Island',\n",
       "       'room_type__Entire home/apt', 'room_type__Hotel room',\n",
       "       'room_type__Private room', 'room_type__Shared room',\n",
       "       'Amenities_[\"Long term stays allowed\"]',\n",
       "       'Amenities_[\"Kitchen\", \"Long term stays allowed\", \"Cable TV\", \"Carbon monoxide alarm\", \"Wifi\", \"TV with standard cable\", \"Heating\", \"Shampoo\", \"Smoke alarm\", \"Air conditioning\", \"Essentials\"]',\n",
       "       'Amenities_[\"Kitchen\", \"Long term stays allowed\", \"TV\", \"Wifi\", \"Heating\", \"Air conditioning\", \"Essentials\"]'],\n",
       "      dtype='object')"
      ]
     },
     "execution_count": 129,
     "metadata": {},
     "output_type": "execute_result"
    }
   ],
   "source": [
    "df_subset.columns"
   ]
  },
  {
   "cell_type": "markdown",
   "metadata": {},
   "source": [
    "<b>Right now, for the sake of time, I couldn't do deep learning/ neural network to do sentiment analysis to see if the text in name, description, neighborhood_overview have impact on the 'review_scores_rating'. Will drop them for now.</b>"
   ]
  },
  {
   "cell_type": "code",
   "execution_count": 130,
   "metadata": {},
   "outputs": [],
   "source": [
    "df_final = df_subset.drop(columns = 'name', inplace = False)"
   ]
  },
  {
   "cell_type": "code",
   "execution_count": 131,
   "metadata": {},
   "outputs": [],
   "source": [
    "# df_final = df_final.drop(columns = 'description', inplace = True)"
   ]
  },
  {
   "cell_type": "code",
   "execution_count": 132,
   "metadata": {},
   "outputs": [],
   "source": [
    "# df_final.drop(columns = 'neighborhood_overview', inplace = True)"
   ]
  },
  {
   "cell_type": "code",
   "execution_count": 133,
   "metadata": {},
   "outputs": [],
   "source": [
    "# df_final.columns"
   ]
  },
  {
   "cell_type": "code",
   "execution_count": 134,
   "metadata": {},
   "outputs": [
    {
     "data": {
      "text/plain": [
       "Index(['description', 'neighborhood_overview', 'host_response_rate',\n",
       "       'host_acceptance_rate', 'host_total_listings_count', 'accommodates',\n",
       "       'bathrooms', 'bedrooms', 'beds', 'minimum_nights', 'maximum_nights',\n",
       "       'minimum_minimum_nights', 'maximum_minimum_nights',\n",
       "       'minimum_maximum_nights', 'maximum_maximum_nights',\n",
       "       'minimum_nights_avg_ntm', 'maximum_nights_avg_ntm', 'availability_30',\n",
       "       'availability_60', 'availability_90', 'availability_365',\n",
       "       'number_of_reviews', 'number_of_reviews_ltm', 'number_of_reviews_l30d',\n",
       "       'review_scores_rating', 'review_scores_cleanliness',\n",
       "       'review_scores_checkin', 'review_scores_communication',\n",
       "       'review_scores_location', 'review_scores_value',\n",
       "       'calculated_host_listings_count',\n",
       "       'calculated_host_listings_count_entire_homes',\n",
       "       'calculated_host_listings_count_private_rooms',\n",
       "       'calculated_host_listings_count_shared_rooms', 'reviews_per_month',\n",
       "       'label_price', 'Host_is_super_host__True', 'has_profile_pic__True',\n",
       "       'identity_verified__True', 'has_availability__False',\n",
       "       'has_availability__True', 'instant_bookable__False',\n",
       "       'instant_bookable__True', 'neighbourhood__Bronx',\n",
       "       'neighbourhood__Brooklyn', 'neighbourhood__Manhattan',\n",
       "       'neighbourhood__Queens', 'neighbourhood__Staten Island',\n",
       "       'room_type__Entire home/apt', 'room_type__Hotel room',\n",
       "       'room_type__Private room', 'room_type__Shared room',\n",
       "       'Amenities_[\"Long term stays allowed\"]',\n",
       "       'Amenities_[\"Kitchen\", \"Long term stays allowed\", \"Cable TV\", \"Carbon monoxide alarm\", \"Wifi\", \"TV with standard cable\", \"Heating\", \"Shampoo\", \"Smoke alarm\", \"Air conditioning\", \"Essentials\"]',\n",
       "       'Amenities_[\"Kitchen\", \"Long term stays allowed\", \"TV\", \"Wifi\", \"Heating\", \"Air conditioning\", \"Essentials\"]'],\n",
       "      dtype='object')"
      ]
     },
     "execution_count": 134,
     "metadata": {},
     "output_type": "execute_result"
    }
   ],
   "source": [
    "df_final.columns"
   ]
  },
  {
   "cell_type": "code",
   "execution_count": 135,
   "metadata": {},
   "outputs": [],
   "source": [
    "df_final.drop(columns ='description', inplace = True)"
   ]
  },
  {
   "cell_type": "code",
   "execution_count": 136,
   "metadata": {},
   "outputs": [],
   "source": [
    "df_final.drop(columns = 'neighborhood_overview', inplace = True)"
   ]
  },
  {
   "cell_type": "code",
   "execution_count": 137,
   "metadata": {},
   "outputs": [
    {
     "data": {
      "text/plain": [
       "Index(['host_response_rate', 'host_acceptance_rate',\n",
       "       'host_total_listings_count', 'accommodates', 'bathrooms', 'bedrooms',\n",
       "       'beds', 'minimum_nights', 'maximum_nights', 'minimum_minimum_nights',\n",
       "       'maximum_minimum_nights', 'minimum_maximum_nights',\n",
       "       'maximum_maximum_nights', 'minimum_nights_avg_ntm',\n",
       "       'maximum_nights_avg_ntm', 'availability_30', 'availability_60',\n",
       "       'availability_90', 'availability_365', 'number_of_reviews',\n",
       "       'number_of_reviews_ltm', 'number_of_reviews_l30d',\n",
       "       'review_scores_rating', 'review_scores_cleanliness',\n",
       "       'review_scores_checkin', 'review_scores_communication',\n",
       "       'review_scores_location', 'review_scores_value',\n",
       "       'calculated_host_listings_count',\n",
       "       'calculated_host_listings_count_entire_homes',\n",
       "       'calculated_host_listings_count_private_rooms',\n",
       "       'calculated_host_listings_count_shared_rooms', 'reviews_per_month',\n",
       "       'label_price', 'Host_is_super_host__True', 'has_profile_pic__True',\n",
       "       'identity_verified__True', 'has_availability__False',\n",
       "       'has_availability__True', 'instant_bookable__False',\n",
       "       'instant_bookable__True', 'neighbourhood__Bronx',\n",
       "       'neighbourhood__Brooklyn', 'neighbourhood__Manhattan',\n",
       "       'neighbourhood__Queens', 'neighbourhood__Staten Island',\n",
       "       'room_type__Entire home/apt', 'room_type__Hotel room',\n",
       "       'room_type__Private room', 'room_type__Shared room',\n",
       "       'Amenities_[\"Long term stays allowed\"]',\n",
       "       'Amenities_[\"Kitchen\", \"Long term stays allowed\", \"Cable TV\", \"Carbon monoxide alarm\", \"Wifi\", \"TV with standard cable\", \"Heating\", \"Shampoo\", \"Smoke alarm\", \"Air conditioning\", \"Essentials\"]',\n",
       "       'Amenities_[\"Kitchen\", \"Long term stays allowed\", \"TV\", \"Wifi\", \"Heating\", \"Air conditioning\", \"Essentials\"]'],\n",
       "      dtype='object')"
      ]
     },
     "execution_count": 137,
     "metadata": {},
     "output_type": "execute_result"
    }
   ],
   "source": [
    "df_final.columns"
   ]
  },
  {
   "cell_type": "code",
   "execution_count": 138,
   "metadata": {},
   "outputs": [
    {
     "data": {
      "text/plain": [
       "host_response_rate                                                                                                                                                                                float64\n",
       "host_acceptance_rate                                                                                                                                                                              float64\n",
       "host_total_listings_count                                                                                                                                                                         float64\n",
       "accommodates                                                                                                                                                                                        int64\n",
       "bathrooms                                                                                                                                                                                         float64\n",
       "bedrooms                                                                                                                                                                                          float64\n",
       "beds                                                                                                                                                                                              float64\n",
       "minimum_nights                                                                                                                                                                                      int64\n",
       "maximum_nights                                                                                                                                                                                      int64\n",
       "minimum_minimum_nights                                                                                                                                                                            float64\n",
       "maximum_minimum_nights                                                                                                                                                                            float64\n",
       "minimum_maximum_nights                                                                                                                                                                            float64\n",
       "maximum_maximum_nights                                                                                                                                                                            float64\n",
       "minimum_nights_avg_ntm                                                                                                                                                                            float64\n",
       "maximum_nights_avg_ntm                                                                                                                                                                            float64\n",
       "availability_30                                                                                                                                                                                     int64\n",
       "availability_60                                                                                                                                                                                     int64\n",
       "availability_90                                                                                                                                                                                     int64\n",
       "availability_365                                                                                                                                                                                    int64\n",
       "number_of_reviews                                                                                                                                                                                   int64\n",
       "number_of_reviews_ltm                                                                                                                                                                               int64\n",
       "number_of_reviews_l30d                                                                                                                                                                              int64\n",
       "review_scores_rating                                                                                                                                                                              float64\n",
       "review_scores_cleanliness                                                                                                                                                                         float64\n",
       "review_scores_checkin                                                                                                                                                                             float64\n",
       "review_scores_communication                                                                                                                                                                       float64\n",
       "review_scores_location                                                                                                                                                                            float64\n",
       "review_scores_value                                                                                                                                                                               float64\n",
       "calculated_host_listings_count                                                                                                                                                                      int64\n",
       "calculated_host_listings_count_entire_homes                                                                                                                                                         int64\n",
       "calculated_host_listings_count_private_rooms                                                                                                                                                        int64\n",
       "calculated_host_listings_count_shared_rooms                                                                                                                                                         int64\n",
       "reviews_per_month                                                                                                                                                                                 float64\n",
       "label_price                                                                                                                                                                                       float64\n",
       "Host_is_super_host__True                                                                                                                                                                            uint8\n",
       "has_profile_pic__True                                                                                                                                                                               uint8\n",
       "identity_verified__True                                                                                                                                                                             uint8\n",
       "has_availability__False                                                                                                                                                                             uint8\n",
       "has_availability__True                                                                                                                                                                              uint8\n",
       "instant_bookable__False                                                                                                                                                                             uint8\n",
       "instant_bookable__True                                                                                                                                                                              uint8\n",
       "neighbourhood__Bronx                                                                                                                                                                                uint8\n",
       "neighbourhood__Brooklyn                                                                                                                                                                             uint8\n",
       "neighbourhood__Manhattan                                                                                                                                                                            uint8\n",
       "neighbourhood__Queens                                                                                                                                                                               uint8\n",
       "neighbourhood__Staten Island                                                                                                                                                                        uint8\n",
       "room_type__Entire home/apt                                                                                                                                                                          uint8\n",
       "room_type__Hotel room                                                                                                                                                                               uint8\n",
       "room_type__Private room                                                                                                                                                                             uint8\n",
       "room_type__Shared room                                                                                                                                                                              uint8\n",
       "Amenities_[\"Long term stays allowed\"]                                                                                                                                                               int64\n",
       "Amenities_[\"Kitchen\", \"Long term stays allowed\", \"Cable TV\", \"Carbon monoxide alarm\", \"Wifi\", \"TV with standard cable\", \"Heating\", \"Shampoo\", \"Smoke alarm\", \"Air conditioning\", \"Essentials\"]      int64\n",
       "Amenities_[\"Kitchen\", \"Long term stays allowed\", \"TV\", \"Wifi\", \"Heating\", \"Air conditioning\", \"Essentials\"]                                                                                         int64\n",
       "dtype: object"
      ]
     },
     "execution_count": 138,
     "metadata": {},
     "output_type": "execute_result"
    }
   ],
   "source": [
    "df_final.dtypes"
   ]
  },
  {
   "cell_type": "markdown",
   "metadata": {},
   "source": [
    "<b>Using Filter to filter out which Airbnb has \"review_scores_values\" above 3.5"
   ]
  },
  {
   "cell_type": "code",
   "execution_count": 139,
   "metadata": {},
   "outputs": [
    {
     "name": "stdout",
     "output_type": "stream",
     "text": [
      "0         True\n",
      "1         True\n",
      "2         True\n",
      "3         True\n",
      "4         True\n",
      "         ...  \n",
      "28017     True\n",
      "28018     True\n",
      "28019    False\n",
      "28020     True\n",
      "28021     True\n",
      "Name: review_scores_rating, Length: 28022, dtype: bool\n"
     ]
    }
   ],
   "source": [
    "condition1 = df['review_scores_rating'] > 3.5\n",
    "print(condition1)"
   ]
  },
  {
   "cell_type": "markdown",
   "metadata": {},
   "source": [
    "<b>Double check what is the difference between review_scores_rating and review_scores_value.</b>"
   ]
  },
  {
   "cell_type": "code",
   "execution_count": 140,
   "metadata": {},
   "outputs": [
    {
     "data": {
      "text/plain": [
       "12978    3.67\n",
       "12398    5.00\n",
       "1568     4.70\n",
       "18391    4.95\n",
       "1986     4.72\n",
       "         ... \n",
       "1553     4.51\n",
       "9723     4.86\n",
       "14579    3.50\n",
       "26099    3.75\n",
       "22218    4.64\n",
       "Name: review_scores_rating, Length: 9306, dtype: float64"
      ]
     },
     "execution_count": 140,
     "metadata": {},
     "output_type": "execute_result"
    }
   ],
   "source": [
    "df_final['review_scores_rating']"
   ]
  },
  {
   "cell_type": "code",
   "execution_count": 141,
   "metadata": {},
   "outputs": [
    {
     "data": {
      "text/plain": [
       "12978    3.67\n",
       "12398    5.00\n",
       "1568     4.60\n",
       "18391    4.95\n",
       "1986     4.73\n",
       "         ... \n",
       "1553     4.45\n",
       "9723     4.71\n",
       "14579    3.50\n",
       "26099    3.75\n",
       "22218    4.64\n",
       "Name: review_scores_value, Length: 9306, dtype: float64"
      ]
     },
     "execution_count": 141,
     "metadata": {},
     "output_type": "execute_result"
    }
   ],
   "source": [
    "df_final['review_scores_value']"
   ]
  },
  {
   "cell_type": "code",
   "execution_count": 142,
   "metadata": {},
   "outputs": [
    {
     "data": {
      "text/plain": [
       "array([ 0.29, -0.19,  0.  , -0.15, -0.01, -0.03, -0.01,  0.04, -0.14,\n",
       "        0.09,  0.06,  0.01, -0.06,  0.36,  0.03, -0.16,  0.11,  0.14,\n",
       "       -0.04,  0.1 ,  0.21,  0.2 ,  0.02,  0.27,  0.07,  0.25,  0.02,\n",
       "        0.08, -0.06, -0.02, -0.02, -0.18, -0.11, -0.07,  0.67,  0.06,\n",
       "        0.01, -0.13, -0.03, -0.1 ,  0.2 ,  0.05,  0.17,  0.14, -0.08,\n",
       "        0.12,  0.07,  0.15,  0.19,  0.11, -0.09,  0.15, -0.07, -0.25,\n",
       "        0.27, -0.16, -0.1 ,  0.16,  0.05,  0.33,  0.42, -0.12,  0.1 ,\n",
       "        0.22,  0.12, -0.18, -0.2 ,  0.24,  0.13,  0.44, -0.26, -0.5 ,\n",
       "        0.18,  0.31,  0.32,  0.24, -0.4 ,  0.09, -0.66,  0.19,  0.5 ,\n",
       "       -1.  ,  0.23,  0.03, -0.04,  0.08, -0.05, -0.37,  0.25,  0.18,\n",
       "        0.28,  0.13,  0.3 , -0.75,  0.4 , -0.15, -0.23, -0.11, -1.33,\n",
       "        1.  ,  0.22,  0.26,  0.31,  0.37, -0.05, -0.17, -0.29,  0.6 ,\n",
       "        0.23,  0.28, -0.12,  0.83,  0.16,  5.  , -0.33,  0.34,  0.58,\n",
       "        0.26, -1.5 ,  0.48, -5.  ,  0.55,  0.4 ,  0.43, -0.38,  0.47,\n",
       "        0.43, -0.21, -0.67, -0.08,  0.17, -0.23,  0.38, -0.22,  0.49,\n",
       "       -0.22, -0.24, -0.27,  0.3 , -0.44,  0.27,  0.87,  2.  , -0.14,\n",
       "       -0.09,  0.38, -0.17, -0.27,  0.45,  0.62,  0.56,  0.43, -0.32,\n",
       "       -2.  , -0.42,  0.8 , -0.34, -0.31, -3.  , -0.53,  0.72,  0.21,\n",
       "       -0.2 , -0.31,  0.57, -0.3 , -0.19, -0.4 ,  0.04,  0.4 ,  0.14,\n",
       "        0.75, -0.43, -0.28,  0.45, -0.14, -0.71,  4.  ,  0.35,  0.32,\n",
       "        1.33,  0.39,  0.64, -0.43, -0.57,  0.52,  0.47,  0.59,  0.11,\n",
       "        0.56,  0.72, -0.35, -0.56, -0.13, -0.43,  0.39, -0.36,  0.41,\n",
       "       -0.55,  0.64, -0.28,  0.46, -0.4 , -0.83,  0.6 ,  0.2 , -0.58,\n",
       "        0.28,  0.62,  1.5 ,  0.34, -0.28, -0.32, -0.24, -0.45,  0.44,\n",
       "       -0.33, -0.6 ,  0.21,  0.38,  0.61, -0.41, -0.44, -0.55,  0.66,\n",
       "       -0.68, -0.62, -0.86,  0.35, -0.47, -0.48,  0.73,  0.15, -0.84,\n",
       "       -0.6 , -0.54,  0.6 ,  0.09, -0.8 , -1.2 , -0.3 ,  0.85, -1.34,\n",
       "        1.67, -0.6 ,  0.36, -0.36,  0.67, -0.38,  3.  ,  0.7 , -0.45,\n",
       "       -4.  ,  0.04, -0.15, -0.11,  0.72, -0.37,  0.22, -0.3 ,  0.54,\n",
       "       -0.59, -0.06, -0.17,  0.92, -0.2 ,  1.17, -0.8 , -0.1 ,  0.51,\n",
       "       -0.87,  0.5 , -1.25, -0.07,  0.77,  1.25, -0.26, -0.19, -0.72,\n",
       "        0.44, -0.37, -0.12, -0.35, -0.25,  0.8 ,  0.5 , -0.66, -0.22,\n",
       "        0.55,  0.82,  0.34])"
      ]
     },
     "execution_count": 142,
     "metadata": {},
     "output_type": "execute_result"
    }
   ],
   "source": [
    "\n",
    "(df['review_scores_rating']-df['review_scores_value']).unique()"
   ]
  },
  {
   "cell_type": "markdown",
   "metadata": {},
   "source": [
    "<b>Okie, I look online, and it seems like review_scores_value reflects guests' opinion on the value they received for the price they paid. It answers the question: \"Was the listing worth the price?\"\n",
    "\n",
    "<b>About review_scores_rating, this scores represents the overall rating given by guests for their stay. It is a general evaluation of their entire experience at the listing.</b> "
   ]
  },
  {
   "cell_type": "markdown",
   "metadata": {},
   "source": [
    "<b>Analyze the range of these two columns</b>"
   ]
  },
  {
   "cell_type": "code",
   "execution_count": 143,
   "metadata": {},
   "outputs": [
    {
     "name": "stdout",
     "output_type": "stream",
     "text": [
      "count    9306.000000\n",
      "mean        4.701919\n",
      "std         0.477517\n",
      "min         0.000000\n",
      "25%         4.630000\n",
      "50%         4.830000\n",
      "75%         5.000000\n",
      "max         5.000000\n",
      "Name: review_scores_rating, dtype: float64\n"
     ]
    }
   ],
   "source": [
    "print(df_final['review_scores_rating'].describe())"
   ]
  },
  {
   "cell_type": "code",
   "execution_count": 144,
   "metadata": {},
   "outputs": [
    {
     "name": "stdout",
     "output_type": "stream",
     "text": [
      "count    9306.000000\n",
      "mean        4.668107\n",
      "std         0.472672\n",
      "min         0.000000\n",
      "25%         4.590000\n",
      "50%         4.790000\n",
      "75%         4.940000\n",
      "max         5.000000\n",
      "Name: review_scores_value, dtype: float64\n"
     ]
    }
   ],
   "source": [
    "print(df_final['review_scores_value'].describe())"
   ]
  },
  {
   "cell_type": "markdown",
   "metadata": {},
   "source": [
    "<b>Okie. Both columns have the range from min: 0.000000 to max: 5.000000."
   ]
  },
  {
   "cell_type": "code",
   "execution_count": null,
   "metadata": {},
   "outputs": [],
   "source": []
  },
  {
   "cell_type": "markdown",
   "metadata": {},
   "source": [
    "<b>FILTERING</b>"
   ]
  },
  {
   "cell_type": "code",
   "execution_count": 145,
   "metadata": {},
   "outputs": [
    {
     "data": {
      "text/plain": [
       "0         True\n",
       "1         True\n",
       "2         True\n",
       "3         True\n",
       "4         True\n",
       "         ...  \n",
       "28017     True\n",
       "28018     True\n",
       "28019    False\n",
       "28020     True\n",
       "28021     True\n",
       "Name: review_scores_rating, Length: 28022, dtype: bool"
      ]
     },
     "execution_count": 145,
     "metadata": {},
     "output_type": "execute_result"
    }
   ],
   "source": [
    "condition1 = (df['review_scores_rating'] > 3.5)\n",
    "condition1"
   ]
  },
  {
   "cell_type": "code",
   "execution_count": 146,
   "metadata": {},
   "outputs": [],
   "source": [
    "df_final['Rating_Above_Average'] = condition1"
   ]
  },
  {
   "cell_type": "markdown",
   "metadata": {},
   "source": [
    "<b>Do one-hot-encoding for Rating Above Average "
   ]
  },
  {
   "cell_type": "code",
   "execution_count": 147,
   "metadata": {},
   "outputs": [
    {
     "name": "stdout",
     "output_type": "stream",
     "text": [
      "       Above_3.5__False  Above_3.5__True\n",
      "12978                 0                1\n",
      "12398                 0                1\n",
      "1568                  0                1\n",
      "18391                 0                1\n",
      "1986                  0                1\n",
      "...                 ...              ...\n",
      "1553                  0                1\n",
      "9723                  0                1\n",
      "14579                 1                0\n",
      "26099                 0                1\n",
      "22218                 0                1\n",
      "\n",
      "[9306 rows x 2 columns]\n"
     ]
    }
   ],
   "source": [
    "df_final_Above = pd.get_dummies(df_final['Rating_Above_Average'], prefix = 'Above_3.5_')\n",
    "print(df_final_Above)"
   ]
  },
  {
   "cell_type": "code",
   "execution_count": 148,
   "metadata": {},
   "outputs": [],
   "source": [
    "df_final = df_final.join(df_final_Above)"
   ]
  },
  {
   "cell_type": "code",
   "execution_count": 149,
   "metadata": {},
   "outputs": [
    {
     "data": {
      "text/plain": [
       "12978    1\n",
       "12398    1\n",
       "1568     1\n",
       "18391    1\n",
       "1986     1\n",
       "        ..\n",
       "1553     1\n",
       "9723     1\n",
       "14579    1\n",
       "26099    1\n",
       "22218    1\n",
       "Name: Host_is_super_host__True, Length: 9306, dtype: uint8"
      ]
     },
     "execution_count": 149,
     "metadata": {},
     "output_type": "execute_result"
    }
   ],
   "source": [
    "df_final['Host_is_super_host__True']"
   ]
  },
  {
   "cell_type": "code",
   "execution_count": 150,
   "metadata": {},
   "outputs": [
    {
     "name": "stdout",
     "output_type": "stream",
     "text": [
      "1\n"
     ]
    }
   ],
   "source": [
    "print(df_final['Host_is_super_host__True'].nunique())"
   ]
  },
  {
   "cell_type": "code",
   "execution_count": 151,
   "metadata": {},
   "outputs": [],
   "source": [
    "df_final.drop(columns = 'Host_is_super_host__True', inplace = True)"
   ]
  },
  {
   "cell_type": "markdown",
   "metadata": {},
   "source": [
    "<!-- <b>After doing One-Hot-Encoding, drop the Rating_Above_Average (True/False) column.  -->"
   ]
  },
  {
   "cell_type": "markdown",
   "metadata": {},
   "source": [
    "<b>I will also drop the review_scores_rating column because I no longer need it.</b>"
   ]
  },
  {
   "cell_type": "code",
   "execution_count": null,
   "metadata": {},
   "outputs": [],
   "source": []
  },
  {
   "cell_type": "code",
   "execution_count": 152,
   "metadata": {},
   "outputs": [
    {
     "data": {
      "text/plain": [
       "12978     True\n",
       "12398     True\n",
       "1568      True\n",
       "18391     True\n",
       "1986      True\n",
       "         ...  \n",
       "1553      True\n",
       "9723      True\n",
       "14579    False\n",
       "26099     True\n",
       "22218     True\n",
       "Name: Rating_Above_Average, Length: 9306, dtype: bool"
      ]
     },
     "execution_count": 152,
     "metadata": {},
     "output_type": "execute_result"
    }
   ],
   "source": [
    "df_final['Rating_Above_Average']"
   ]
  },
  {
   "cell_type": "code",
   "execution_count": 153,
   "metadata": {},
   "outputs": [],
   "source": [
    "df_final.drop(columns = 'review_scores_rating', inplace = True)"
   ]
  },
  {
   "cell_type": "markdown",
   "metadata": {},
   "source": [
    "## Part 4: Define Your Project Plan\n",
    "\n",
    "Now that you understand your data, in the markdown cell below, define your plan to implement the remaining phases of the machine learning life cycle (data preparation, modeling, evaluation) to solve your ML problem. Answer the following questions:\n",
    "\n",
    "* Do you have a new feature list? If so, what are the features that you chose to keep and remove after inspecting the data? \n",
    "* Explain different data preparation techniques that you will use to prepare your data for modeling.\n",
    "* What is your model (or models)?\n",
    "* Describe your plan to train your model, analyze its performance and then improve the model. That is, describe your model building, validation and selection plan to produce a model that generalizes well to new data. "
   ]
  },
  {
   "cell_type": "markdown",
   "metadata": {},
   "source": [
    "<b>Answer</b>\n",
    "1. Yes, I do have a new feature list. The below are my new features. For Amenities, I chose out the top 10, do one hot encoding, and then take subset of the sample to move on. I also dropped features that have text data. I think if I have time, I would do neuron network for it. "
   ]
  },
  {
   "cell_type": "code",
   "execution_count": 154,
   "metadata": {},
   "outputs": [
    {
     "data": {
      "text/plain": [
       "Index(['host_response_rate', 'host_acceptance_rate',\n",
       "       'host_total_listings_count', 'accommodates', 'bathrooms', 'bedrooms',\n",
       "       'beds', 'minimum_nights', 'maximum_nights', 'minimum_minimum_nights',\n",
       "       'maximum_minimum_nights', 'minimum_maximum_nights',\n",
       "       'maximum_maximum_nights', 'minimum_nights_avg_ntm',\n",
       "       'maximum_nights_avg_ntm', 'availability_30', 'availability_60',\n",
       "       'availability_90', 'availability_365', 'number_of_reviews',\n",
       "       'number_of_reviews_ltm', 'number_of_reviews_l30d',\n",
       "       'review_scores_cleanliness', 'review_scores_checkin',\n",
       "       'review_scores_communication', 'review_scores_location',\n",
       "       'review_scores_value', 'calculated_host_listings_count',\n",
       "       'calculated_host_listings_count_entire_homes',\n",
       "       'calculated_host_listings_count_private_rooms',\n",
       "       'calculated_host_listings_count_shared_rooms', 'reviews_per_month',\n",
       "       'label_price', 'has_profile_pic__True', 'identity_verified__True',\n",
       "       'has_availability__False', 'has_availability__True',\n",
       "       'instant_bookable__False', 'instant_bookable__True',\n",
       "       'neighbourhood__Bronx', 'neighbourhood__Brooklyn',\n",
       "       'neighbourhood__Manhattan', 'neighbourhood__Queens',\n",
       "       'neighbourhood__Staten Island', 'room_type__Entire home/apt',\n",
       "       'room_type__Hotel room', 'room_type__Private room',\n",
       "       'room_type__Shared room', 'Amenities_[\"Long term stays allowed\"]',\n",
       "       'Amenities_[\"Kitchen\", \"Long term stays allowed\", \"Cable TV\", \"Carbon monoxide alarm\", \"Wifi\", \"TV with standard cable\", \"Heating\", \"Shampoo\", \"Smoke alarm\", \"Air conditioning\", \"Essentials\"]',\n",
       "       'Amenities_[\"Kitchen\", \"Long term stays allowed\", \"TV\", \"Wifi\", \"Heating\", \"Air conditioning\", \"Essentials\"]',\n",
       "       'Rating_Above_Average', 'Above_3.5__False', 'Above_3.5__True'],\n",
       "      dtype='object')"
      ]
     },
     "execution_count": 154,
     "metadata": {},
     "output_type": "execute_result"
    }
   ],
   "source": [
    "df_final.columns"
   ]
  },
  {
   "cell_type": "markdown",
   "metadata": {},
   "source": [
    "2. I used one-hot-encoding to translate boolean data types to integer. I also used winsorization to handle the price of Airbnb. "
   ]
  },
  {
   "cell_type": "markdown",
   "metadata": {},
   "source": [
    "3. I plan to use KNN Classifier and use K-Fold Cross Validation when training my KNN classifer. I will use built-in cross-validation tools from scikit-learn. "
   ]
  },
  {
   "cell_type": "markdown",
   "metadata": {},
   "source": [
    "## Part 5: Implement Your Project Plan\n",
    "\n",
    "<b>Task:</b> In the code cell below, import additional packages that you have used in this course that you will need to implement your project plan."
   ]
  },
  {
   "cell_type": "markdown",
   "metadata": {},
   "source": [
    "<b>Step 0: I will import the scikit-learn KNeighborsClassifier, the train_test_split() function for splitting the data into training and test sets, and the metric accuracy_score to evaluate my model.</b>"
   ]
  },
  {
   "cell_type": "code",
   "execution_count": 155,
   "metadata": {},
   "outputs": [],
   "source": [
    "# YOUR CODE HERE\n",
    "# Import additional packages\n",
    "from sklearn.neighbors import KNeighborsClassifier\n",
    "from sklearn.model_selection import train_test_split, GridSearchCV\n",
    "from sklearn.metrics import accuracy_score, confusion_matrix"
   ]
  },
  {
   "cell_type": "markdown",
   "metadata": {},
   "source": [
    "<b>Step 1: (Already built my data frame). Now, define the label and identitfy features.</b>"
   ]
  },
  {
   "cell_type": "markdown",
   "metadata": {},
   "source": [
    "<b>Definde the label:</b>\n",
    "This is a binary classification problem in which we will predict if a specifc Airbnb has review_rating_score is above 3.5 or not. The label is the 'Rating_Above_Average' column."
   ]
  },
  {
   "cell_type": "markdown",
   "metadata": {},
   "source": [
    "<b>Identify Features</b>\n",
    "My features will be all of the remaining columns in the dataset."
   ]
  },
  {
   "cell_type": "markdown",
   "metadata": {},
   "source": [
    "<b>Step 2: Create Labeled Examples from the Data Set. "
   ]
  },
  {
   "cell_type": "markdown",
   "metadata": {},
   "source": [
    "* I will get the 'Rating_Above_Average' column from DataFrame df and assigns it to the variable y. This is our label.\n",
    "* Gets all other columns from DataFrame df and assigns them to the variable X. These are my features"
   ]
  },
  {
   "cell_type": "code",
   "execution_count": 156,
   "metadata": {},
   "outputs": [],
   "source": [
    "y = df_final['Rating_Above_Average'] \n",
    "X = df_final.drop(columns = 'Rating_Above_Average', axis=1)"
   ]
  },
  {
   "cell_type": "code",
   "execution_count": 157,
   "metadata": {},
   "outputs": [
    {
     "name": "stdout",
     "output_type": "stream",
     "text": [
      "12978     True\n",
      "12398     True\n",
      "1568      True\n",
      "18391     True\n",
      "1986      True\n",
      "         ...  \n",
      "1553      True\n",
      "9723      True\n",
      "14579    False\n",
      "26099     True\n",
      "22218     True\n",
      "Name: Rating_Above_Average, Length: 9306, dtype: bool\n"
     ]
    }
   ],
   "source": [
    "print(y)"
   ]
  },
  {
   "cell_type": "code",
   "execution_count": 158,
   "metadata": {},
   "outputs": [
    {
     "name": "stdout",
     "output_type": "stream",
     "text": [
      "       host_response_rate  host_acceptance_rate  host_total_listings_count  \\\n",
      "12978            0.906901              1.000000                        1.0   \n",
      "12398            0.906901              0.791953                        4.0   \n",
      "1568             1.000000              1.000000                        1.0   \n",
      "18391            1.000000              0.840000                        2.0   \n",
      "1986             1.000000              0.930000                        1.0   \n",
      "...                   ...                   ...                        ...   \n",
      "1553             1.000000              0.990000                        2.0   \n",
      "9723             1.000000              0.690000                        3.0   \n",
      "14579            1.000000              0.670000                      114.0   \n",
      "26099            1.000000              0.830000                        6.0   \n",
      "22218            1.000000              0.980000                        1.0   \n",
      "\n",
      "       accommodates  bathrooms  bedrooms  beds  minimum_nights  \\\n",
      "12978             4        1.0       1.0   2.0              30   \n",
      "12398             2        1.0       1.0   2.0              30   \n",
      "1568              2        1.0       2.0   2.0              30   \n",
      "18391             1        1.0       1.0   1.0               3   \n",
      "1986              2        1.0       1.0   1.0               3   \n",
      "...             ...        ...       ...   ...             ...   \n",
      "1553              2        1.0       1.0   1.0               1   \n",
      "9723              4        2.0       2.0   2.0               2   \n",
      "14579             1        1.0       1.0   1.0              30   \n",
      "26099             2        2.0       1.0   1.0               3   \n",
      "22218             6        1.0       2.0   4.0               5   \n",
      "\n",
      "       maximum_nights  minimum_minimum_nights  ...  \\\n",
      "12978            1125                    30.0  ...   \n",
      "12398              30                    30.0  ...   \n",
      "1568             1125                    30.0  ...   \n",
      "18391             120                     3.0  ...   \n",
      "1986               30                     3.0  ...   \n",
      "...               ...                     ...  ...   \n",
      "1553               11                     1.0  ...   \n",
      "9723             1125                     2.0  ...   \n",
      "14579            1125                    30.0  ...   \n",
      "26099              25                     3.0  ...   \n",
      "22218             200                     5.0  ...   \n",
      "\n",
      "       neighbourhood__Staten Island  room_type__Entire home/apt  \\\n",
      "12978                             0                           0   \n",
      "12398                             0                           0   \n",
      "1568                              0                           1   \n",
      "18391                             0                           0   \n",
      "1986                              0                           1   \n",
      "...                             ...                         ...   \n",
      "1553                              0                           0   \n",
      "9723                              0                           1   \n",
      "14579                             0                           0   \n",
      "26099                             0                           0   \n",
      "22218                             0                           1   \n",
      "\n",
      "       room_type__Hotel room  room_type__Private room  room_type__Shared room  \\\n",
      "12978                      0                        1                       0   \n",
      "12398                      0                        1                       0   \n",
      "1568                       0                        0                       0   \n",
      "18391                      0                        1                       0   \n",
      "1986                       0                        0                       0   \n",
      "...                      ...                      ...                     ...   \n",
      "1553                       0                        1                       0   \n",
      "9723                       0                        0                       0   \n",
      "14579                      0                        1                       0   \n",
      "26099                      0                        1                       0   \n",
      "22218                      0                        0                       0   \n",
      "\n",
      "       Amenities_[\"Long term stays allowed\"]  \\\n",
      "12978                                      0   \n",
      "12398                                      0   \n",
      "1568                                       0   \n",
      "18391                                      0   \n",
      "1986                                       0   \n",
      "...                                      ...   \n",
      "1553                                       0   \n",
      "9723                                       0   \n",
      "14579                                      0   \n",
      "26099                                      0   \n",
      "22218                                      0   \n",
      "\n",
      "       Amenities_[\"Kitchen\", \"Long term stays allowed\", \"Cable TV\", \"Carbon monoxide alarm\", \"Wifi\", \"TV with standard cable\", \"Heating\", \"Shampoo\", \"Smoke alarm\", \"Air conditioning\", \"Essentials\"]  \\\n",
      "12978                                                  0                                                                                                                                                \n",
      "12398                                                  0                                                                                                                                                \n",
      "1568                                                   0                                                                                                                                                \n",
      "18391                                                  0                                                                                                                                                \n",
      "1986                                                   0                                                                                                                                                \n",
      "...                                                  ...                                                                                                                                                \n",
      "1553                                                   0                                                                                                                                                \n",
      "9723                                                   0                                                                                                                                                \n",
      "14579                                                  0                                                                                                                                                \n",
      "26099                                                  0                                                                                                                                                \n",
      "22218                                                  0                                                                                                                                                \n",
      "\n",
      "       Amenities_[\"Kitchen\", \"Long term stays allowed\", \"TV\", \"Wifi\", \"Heating\", \"Air conditioning\", \"Essentials\"]  \\\n",
      "12978                                                  0                                                             \n",
      "12398                                                  0                                                             \n",
      "1568                                                   0                                                             \n",
      "18391                                                  0                                                             \n",
      "1986                                                   0                                                             \n",
      "...                                                  ...                                                             \n",
      "1553                                                   0                                                             \n",
      "9723                                                   0                                                             \n",
      "14579                                                  0                                                             \n",
      "26099                                                  0                                                             \n",
      "22218                                                  0                                                             \n",
      "\n",
      "       Above_3.5__False  Above_3.5__True  \n",
      "12978                 0                1  \n",
      "12398                 0                1  \n",
      "1568                  0                1  \n",
      "18391                 0                1  \n",
      "1986                  0                1  \n",
      "...                 ...              ...  \n",
      "1553                  0                1  \n",
      "9723                  0                1  \n",
      "14579                 1                0  \n",
      "26099                 0                1  \n",
      "22218                 0                1  \n",
      "\n",
      "[9306 rows x 53 columns]\n"
     ]
    }
   ],
   "source": [
    "print(X)"
   ]
  },
  {
   "cell_type": "markdown",
   "metadata": {},
   "source": [
    "<b>Step 3a: Create Training and Test Data Sets</b>"
   ]
  },
  {
   "cell_type": "markdown",
   "metadata": {},
   "source": [
    "<b>I will split 10% of my data and setting it aside as a test set to be used for a final evaluation. "
   ]
  },
  {
   "cell_type": "code",
   "execution_count": 159,
   "metadata": {},
   "outputs": [],
   "source": [
    "X_train, X_test, y_train, y_test = train_test_split(X, y, test_size=0.10, random_state=1234)"
   ]
  },
  {
   "cell_type": "markdown",
   "metadata": {},
   "source": [
    "<b>I inspect the training and test data sets</b> "
   ]
  },
  {
   "cell_type": "code",
   "execution_count": 160,
   "metadata": {},
   "outputs": [
    {
     "name": "stdout",
     "output_type": "stream",
     "text": [
      "(8375, 53)\n"
     ]
    }
   ],
   "source": [
    "print(X_train.shape)"
   ]
  },
  {
   "cell_type": "code",
   "execution_count": 161,
   "metadata": {},
   "outputs": [
    {
     "name": "stdout",
     "output_type": "stream",
     "text": [
      "(931, 53)\n"
     ]
    }
   ],
   "source": [
    "print(X_test.shape)"
   ]
  },
  {
   "cell_type": "code",
   "execution_count": 162,
   "metadata": {},
   "outputs": [
    {
     "data": {
      "text/html": [
       "<div>\n",
       "<style scoped>\n",
       "    .dataframe tbody tr th:only-of-type {\n",
       "        vertical-align: middle;\n",
       "    }\n",
       "\n",
       "    .dataframe tbody tr th {\n",
       "        vertical-align: top;\n",
       "    }\n",
       "\n",
       "    .dataframe thead th {\n",
       "        text-align: right;\n",
       "    }\n",
       "</style>\n",
       "<table border=\"1\" class=\"dataframe\">\n",
       "  <thead>\n",
       "    <tr style=\"text-align: right;\">\n",
       "      <th></th>\n",
       "      <th>host_response_rate</th>\n",
       "      <th>host_acceptance_rate</th>\n",
       "      <th>host_total_listings_count</th>\n",
       "      <th>accommodates</th>\n",
       "      <th>bathrooms</th>\n",
       "      <th>bedrooms</th>\n",
       "      <th>beds</th>\n",
       "      <th>minimum_nights</th>\n",
       "      <th>maximum_nights</th>\n",
       "      <th>minimum_minimum_nights</th>\n",
       "      <th>...</th>\n",
       "      <th>neighbourhood__Staten Island</th>\n",
       "      <th>room_type__Entire home/apt</th>\n",
       "      <th>room_type__Hotel room</th>\n",
       "      <th>room_type__Private room</th>\n",
       "      <th>room_type__Shared room</th>\n",
       "      <th>Amenities_[\"Long term stays allowed\"]</th>\n",
       "      <th>Amenities_[\"Kitchen\", \"Long term stays allowed\", \"Cable TV\", \"Carbon monoxide alarm\", \"Wifi\", \"TV with standard cable\", \"Heating\", \"Shampoo\", \"Smoke alarm\", \"Air conditioning\", \"Essentials\"]</th>\n",
       "      <th>Amenities_[\"Kitchen\", \"Long term stays allowed\", \"TV\", \"Wifi\", \"Heating\", \"Air conditioning\", \"Essentials\"]</th>\n",
       "      <th>Above_3.5__False</th>\n",
       "      <th>Above_3.5__True</th>\n",
       "    </tr>\n",
       "  </thead>\n",
       "  <tbody>\n",
       "    <tr>\n",
       "      <th>12562</th>\n",
       "      <td>0.906901</td>\n",
       "      <td>0.791953</td>\n",
       "      <td>1.0</td>\n",
       "      <td>2</td>\n",
       "      <td>1.0</td>\n",
       "      <td>1.000000</td>\n",
       "      <td>1.0</td>\n",
       "      <td>30</td>\n",
       "      <td>365</td>\n",
       "      <td>30.0</td>\n",
       "      <td>...</td>\n",
       "      <td>0</td>\n",
       "      <td>1</td>\n",
       "      <td>0</td>\n",
       "      <td>0</td>\n",
       "      <td>0</td>\n",
       "      <td>0</td>\n",
       "      <td>0</td>\n",
       "      <td>0</td>\n",
       "      <td>0</td>\n",
       "      <td>1</td>\n",
       "    </tr>\n",
       "    <tr>\n",
       "      <th>17379</th>\n",
       "      <td>1.000000</td>\n",
       "      <td>1.000000</td>\n",
       "      <td>2.0</td>\n",
       "      <td>2</td>\n",
       "      <td>1.0</td>\n",
       "      <td>1.000000</td>\n",
       "      <td>1.0</td>\n",
       "      <td>10</td>\n",
       "      <td>120</td>\n",
       "      <td>10.0</td>\n",
       "      <td>...</td>\n",
       "      <td>0</td>\n",
       "      <td>1</td>\n",
       "      <td>0</td>\n",
       "      <td>0</td>\n",
       "      <td>0</td>\n",
       "      <td>0</td>\n",
       "      <td>0</td>\n",
       "      <td>0</td>\n",
       "      <td>0</td>\n",
       "      <td>1</td>\n",
       "    </tr>\n",
       "    <tr>\n",
       "      <th>18912</th>\n",
       "      <td>0.950000</td>\n",
       "      <td>0.500000</td>\n",
       "      <td>2.0</td>\n",
       "      <td>2</td>\n",
       "      <td>2.0</td>\n",
       "      <td>1.000000</td>\n",
       "      <td>1.0</td>\n",
       "      <td>3</td>\n",
       "      <td>1125</td>\n",
       "      <td>3.0</td>\n",
       "      <td>...</td>\n",
       "      <td>0</td>\n",
       "      <td>0</td>\n",
       "      <td>0</td>\n",
       "      <td>1</td>\n",
       "      <td>0</td>\n",
       "      <td>0</td>\n",
       "      <td>0</td>\n",
       "      <td>0</td>\n",
       "      <td>0</td>\n",
       "      <td>1</td>\n",
       "    </tr>\n",
       "    <tr>\n",
       "      <th>3254</th>\n",
       "      <td>0.906901</td>\n",
       "      <td>0.791953</td>\n",
       "      <td>1.0</td>\n",
       "      <td>2</td>\n",
       "      <td>1.0</td>\n",
       "      <td>1.329708</td>\n",
       "      <td>1.0</td>\n",
       "      <td>30</td>\n",
       "      <td>1125</td>\n",
       "      <td>30.0</td>\n",
       "      <td>...</td>\n",
       "      <td>0</td>\n",
       "      <td>1</td>\n",
       "      <td>0</td>\n",
       "      <td>0</td>\n",
       "      <td>0</td>\n",
       "      <td>0</td>\n",
       "      <td>0</td>\n",
       "      <td>0</td>\n",
       "      <td>0</td>\n",
       "      <td>1</td>\n",
       "    </tr>\n",
       "    <tr>\n",
       "      <th>15062</th>\n",
       "      <td>0.906901</td>\n",
       "      <td>0.791953</td>\n",
       "      <td>1.0</td>\n",
       "      <td>2</td>\n",
       "      <td>1.0</td>\n",
       "      <td>1.000000</td>\n",
       "      <td>1.0</td>\n",
       "      <td>30</td>\n",
       "      <td>1125</td>\n",
       "      <td>30.0</td>\n",
       "      <td>...</td>\n",
       "      <td>0</td>\n",
       "      <td>0</td>\n",
       "      <td>0</td>\n",
       "      <td>1</td>\n",
       "      <td>0</td>\n",
       "      <td>0</td>\n",
       "      <td>0</td>\n",
       "      <td>0</td>\n",
       "      <td>0</td>\n",
       "      <td>1</td>\n",
       "    </tr>\n",
       "  </tbody>\n",
       "</table>\n",
       "<p>5 rows × 53 columns</p>\n",
       "</div>"
      ],
      "text/plain": [
       "       host_response_rate  host_acceptance_rate  host_total_listings_count  \\\n",
       "12562            0.906901              0.791953                        1.0   \n",
       "17379            1.000000              1.000000                        2.0   \n",
       "18912            0.950000              0.500000                        2.0   \n",
       "3254             0.906901              0.791953                        1.0   \n",
       "15062            0.906901              0.791953                        1.0   \n",
       "\n",
       "       accommodates  bathrooms  bedrooms  beds  minimum_nights  \\\n",
       "12562             2        1.0  1.000000   1.0              30   \n",
       "17379             2        1.0  1.000000   1.0              10   \n",
       "18912             2        2.0  1.000000   1.0               3   \n",
       "3254              2        1.0  1.329708   1.0              30   \n",
       "15062             2        1.0  1.000000   1.0              30   \n",
       "\n",
       "       maximum_nights  minimum_minimum_nights  ...  \\\n",
       "12562             365                    30.0  ...   \n",
       "17379             120                    10.0  ...   \n",
       "18912            1125                     3.0  ...   \n",
       "3254             1125                    30.0  ...   \n",
       "15062            1125                    30.0  ...   \n",
       "\n",
       "       neighbourhood__Staten Island  room_type__Entire home/apt  \\\n",
       "12562                             0                           1   \n",
       "17379                             0                           1   \n",
       "18912                             0                           0   \n",
       "3254                              0                           1   \n",
       "15062                             0                           0   \n",
       "\n",
       "       room_type__Hotel room  room_type__Private room  room_type__Shared room  \\\n",
       "12562                      0                        0                       0   \n",
       "17379                      0                        0                       0   \n",
       "18912                      0                        1                       0   \n",
       "3254                       0                        0                       0   \n",
       "15062                      0                        1                       0   \n",
       "\n",
       "       Amenities_[\"Long term stays allowed\"]  \\\n",
       "12562                                      0   \n",
       "17379                                      0   \n",
       "18912                                      0   \n",
       "3254                                       0   \n",
       "15062                                      0   \n",
       "\n",
       "       Amenities_[\"Kitchen\", \"Long term stays allowed\", \"Cable TV\", \"Carbon monoxide alarm\", \"Wifi\", \"TV with standard cable\", \"Heating\", \"Shampoo\", \"Smoke alarm\", \"Air conditioning\", \"Essentials\"]  \\\n",
       "12562                                                  0                                                                                                                                                \n",
       "17379                                                  0                                                                                                                                                \n",
       "18912                                                  0                                                                                                                                                \n",
       "3254                                                   0                                                                                                                                                \n",
       "15062                                                  0                                                                                                                                                \n",
       "\n",
       "       Amenities_[\"Kitchen\", \"Long term stays allowed\", \"TV\", \"Wifi\", \"Heating\", \"Air conditioning\", \"Essentials\"]  \\\n",
       "12562                                                  0                                                             \n",
       "17379                                                  0                                                             \n",
       "18912                                                  0                                                             \n",
       "3254                                                   0                                                             \n",
       "15062                                                  0                                                             \n",
       "\n",
       "       Above_3.5__False  Above_3.5__True  \n",
       "12562                 0                1  \n",
       "17379                 0                1  \n",
       "18912                 0                1  \n",
       "3254                  0                1  \n",
       "15062                 0                1  \n",
       "\n",
       "[5 rows x 53 columns]"
      ]
     },
     "execution_count": 162,
     "metadata": {},
     "output_type": "execute_result"
    }
   ],
   "source": [
    "X_train.head()"
   ]
  },
  {
   "cell_type": "markdown",
   "metadata": {},
   "source": [
    "<b>Step 3b: Perform a grid search to identify the optimal value of K for my KNN classifier."
   ]
  },
  {
   "cell_type": "markdown",
   "metadata": {},
   "source": [
    "<b>3b.1. Setp up a Parameter Grid</b>"
   ]
  },
  {
   "cell_type": "markdown",
   "metadata": {},
   "source": [
    "<b>Review: I will create a dictionary called \"param_grid\" that contains 10 possible hyperparameter values for K. The dictionary should contain the following key/value pair:\n",
    "*  A key called \"n_neighbors\"\n",
    "*  A value which is a list consisting of 10 values for the hyperparameter K.\n",
    "*  The values for K will be in a range that starts at 2 and ends with square root of number of examples in my training set X_train. "
   ]
  },
  {
   "cell_type": "code",
   "execution_count": 163,
   "metadata": {},
   "outputs": [
    {
     "name": "stdout",
     "output_type": "stream",
     "text": [
      "{'n_neighbors': [2, 11, 21, 31, 41, 51, 61, 71, 81, 91]}\n"
     ]
    }
   ],
   "source": [
    "num_examples = X_train.shape[0]\n",
    "param_grid = dict(n_neighbors = [int(x) for x in np.linspace(2, np.sqrt(num_examples), num = 10)])\n",
    "print(param_grid)"
   ]
  },
  {
   "cell_type": "markdown",
   "metadata": {},
   "source": [
    "<b>3b.2. Perform Grid Search Cross-Validation: \n",
    "I will use GridSearchCV to search over the different values of hyperparameter K to find <i>the one</i> that results in the best cross_validation (CV) score. "
   ]
  },
  {
   "cell_type": "code",
   "execution_count": 164,
   "metadata": {},
   "outputs": [
    {
     "name": "stdout",
     "output_type": "stream",
     "text": [
      "Running Grid Search...\n"
     ]
    }
   ],
   "source": [
    "print(\"Running Grid Search...\")\n",
    "# 1. I will create a KNeighborsClassifier model object without supplying arguments. \n",
    "my_model = KNeighborsClassifier()"
   ]
  },
  {
   "cell_type": "code",
   "execution_count": 165,
   "metadata": {},
   "outputs": [
    {
     "name": "stdout",
     "output_type": "stream",
     "text": [
      "GridSearchCV(cv=5, estimator=KNeighborsClassifier(),\n",
      "             param_grid={'n_neighbors': [2, 11, 21, 31, 41, 51, 61, 71, 81,\n",
      "                                         91]})\n"
     ]
    }
   ],
   "source": [
    "#2. Run a grid search with 5-fold cross-validation and assign the output to the object \"grid\". \n",
    "my_grid = GridSearchCV(my_model, param_grid, cv=5)\n",
    "print(my_grid)"
   ]
  },
  {
   "cell_type": "markdown",
   "metadata": {},
   "source": [
    "#3. I will fit the model (use the \"my_grid\" variable on the training data and assign the fitted model to the variable \"my_grid_search\""
   ]
  },
  {
   "cell_type": "code",
   "execution_count": 166,
   "metadata": {},
   "outputs": [
    {
     "name": "stdout",
     "output_type": "stream",
     "text": [
      "Done\n"
     ]
    }
   ],
   "source": [
    "grid_search = my_grid.fit(X_train, y_train)\n",
    "print('Done')"
   ]
  },
  {
   "cell_type": "markdown",
   "metadata": {},
   "source": [
    "<b>3b.3. I will retrieve the value of the hyperparameter K for which the best score was attained."
   ]
  },
  {
   "cell_type": "code",
   "execution_count": 167,
   "metadata": {},
   "outputs": [
    {
     "name": "stdout",
     "output_type": "stream",
     "text": [
      "31\n"
     ]
    }
   ],
   "source": [
    "best_k = grid_search.best_params_['n_neighbors']\n",
    "print(best_k)"
   ]
  },
  {
   "cell_type": "markdown",
   "metadata": {},
   "source": [
    "<b>Step 4: Train the optimal KNN Model and Make Predictions"
   ]
  },
  {
   "cell_type": "markdown",
   "metadata": {},
   "source": [
    "<b>I will initialize a KNeighborsClassifier model object with the best value of hyperparameter K and fit the model to the training data. "
   ]
  },
  {
   "cell_type": "code",
   "execution_count": 168,
   "metadata": {},
   "outputs": [
    {
     "data": {
      "text/html": [
       "<style>#sk-container-id-1 {\n",
       "  /* Definition of color scheme common for light and dark mode */\n",
       "  --sklearn-color-text: black;\n",
       "  --sklearn-color-line: gray;\n",
       "  /* Definition of color scheme for unfitted estimators */\n",
       "  --sklearn-color-unfitted-level-0: #fff5e6;\n",
       "  --sklearn-color-unfitted-level-1: #f6e4d2;\n",
       "  --sklearn-color-unfitted-level-2: #ffe0b3;\n",
       "  --sklearn-color-unfitted-level-3: chocolate;\n",
       "  /* Definition of color scheme for fitted estimators */\n",
       "  --sklearn-color-fitted-level-0: #f0f8ff;\n",
       "  --sklearn-color-fitted-level-1: #d4ebff;\n",
       "  --sklearn-color-fitted-level-2: #b3dbfd;\n",
       "  --sklearn-color-fitted-level-3: cornflowerblue;\n",
       "\n",
       "  /* Specific color for light theme */\n",
       "  --sklearn-color-text-on-default-background: var(--sg-text-color, var(--theme-code-foreground, var(--jp-content-font-color1, black)));\n",
       "  --sklearn-color-background: var(--sg-background-color, var(--theme-background, var(--jp-layout-color0, white)));\n",
       "  --sklearn-color-border-box: var(--sg-text-color, var(--theme-code-foreground, var(--jp-content-font-color1, black)));\n",
       "  --sklearn-color-icon: #696969;\n",
       "\n",
       "  @media (prefers-color-scheme: dark) {\n",
       "    /* Redefinition of color scheme for dark theme */\n",
       "    --sklearn-color-text-on-default-background: var(--sg-text-color, var(--theme-code-foreground, var(--jp-content-font-color1, white)));\n",
       "    --sklearn-color-background: var(--sg-background-color, var(--theme-background, var(--jp-layout-color0, #111)));\n",
       "    --sklearn-color-border-box: var(--sg-text-color, var(--theme-code-foreground, var(--jp-content-font-color1, white)));\n",
       "    --sklearn-color-icon: #878787;\n",
       "  }\n",
       "}\n",
       "\n",
       "#sk-container-id-1 {\n",
       "  color: var(--sklearn-color-text);\n",
       "}\n",
       "\n",
       "#sk-container-id-1 pre {\n",
       "  padding: 0;\n",
       "}\n",
       "\n",
       "#sk-container-id-1 input.sk-hidden--visually {\n",
       "  border: 0;\n",
       "  clip: rect(1px 1px 1px 1px);\n",
       "  clip: rect(1px, 1px, 1px, 1px);\n",
       "  height: 1px;\n",
       "  margin: -1px;\n",
       "  overflow: hidden;\n",
       "  padding: 0;\n",
       "  position: absolute;\n",
       "  width: 1px;\n",
       "}\n",
       "\n",
       "#sk-container-id-1 div.sk-dashed-wrapped {\n",
       "  border: 1px dashed var(--sklearn-color-line);\n",
       "  margin: 0 0.4em 0.5em 0.4em;\n",
       "  box-sizing: border-box;\n",
       "  padding-bottom: 0.4em;\n",
       "  background-color: var(--sklearn-color-background);\n",
       "}\n",
       "\n",
       "#sk-container-id-1 div.sk-container {\n",
       "  /* jupyter's `normalize.less` sets `[hidden] { display: none; }`\n",
       "     but bootstrap.min.css set `[hidden] { display: none !important; }`\n",
       "     so we also need the `!important` here to be able to override the\n",
       "     default hidden behavior on the sphinx rendered scikit-learn.org.\n",
       "     See: https://github.com/scikit-learn/scikit-learn/issues/21755 */\n",
       "  display: inline-block !important;\n",
       "  position: relative;\n",
       "}\n",
       "\n",
       "#sk-container-id-1 div.sk-text-repr-fallback {\n",
       "  display: none;\n",
       "}\n",
       "\n",
       "div.sk-parallel-item,\n",
       "div.sk-serial,\n",
       "div.sk-item {\n",
       "  /* draw centered vertical line to link estimators */\n",
       "  background-image: linear-gradient(var(--sklearn-color-text-on-default-background), var(--sklearn-color-text-on-default-background));\n",
       "  background-size: 2px 100%;\n",
       "  background-repeat: no-repeat;\n",
       "  background-position: center center;\n",
       "}\n",
       "\n",
       "/* Parallel-specific style estimator block */\n",
       "\n",
       "#sk-container-id-1 div.sk-parallel-item::after {\n",
       "  content: \"\";\n",
       "  width: 100%;\n",
       "  border-bottom: 2px solid var(--sklearn-color-text-on-default-background);\n",
       "  flex-grow: 1;\n",
       "}\n",
       "\n",
       "#sk-container-id-1 div.sk-parallel {\n",
       "  display: flex;\n",
       "  align-items: stretch;\n",
       "  justify-content: center;\n",
       "  background-color: var(--sklearn-color-background);\n",
       "  position: relative;\n",
       "}\n",
       "\n",
       "#sk-container-id-1 div.sk-parallel-item {\n",
       "  display: flex;\n",
       "  flex-direction: column;\n",
       "}\n",
       "\n",
       "#sk-container-id-1 div.sk-parallel-item:first-child::after {\n",
       "  align-self: flex-end;\n",
       "  width: 50%;\n",
       "}\n",
       "\n",
       "#sk-container-id-1 div.sk-parallel-item:last-child::after {\n",
       "  align-self: flex-start;\n",
       "  width: 50%;\n",
       "}\n",
       "\n",
       "#sk-container-id-1 div.sk-parallel-item:only-child::after {\n",
       "  width: 0;\n",
       "}\n",
       "\n",
       "/* Serial-specific style estimator block */\n",
       "\n",
       "#sk-container-id-1 div.sk-serial {\n",
       "  display: flex;\n",
       "  flex-direction: column;\n",
       "  align-items: center;\n",
       "  background-color: var(--sklearn-color-background);\n",
       "  padding-right: 1em;\n",
       "  padding-left: 1em;\n",
       "}\n",
       "\n",
       "\n",
       "/* Toggleable style: style used for estimator/Pipeline/ColumnTransformer box that is\n",
       "clickable and can be expanded/collapsed.\n",
       "- Pipeline and ColumnTransformer use this feature and define the default style\n",
       "- Estimators will overwrite some part of the style using the `sk-estimator` class\n",
       "*/\n",
       "\n",
       "/* Pipeline and ColumnTransformer style (default) */\n",
       "\n",
       "#sk-container-id-1 div.sk-toggleable {\n",
       "  /* Default theme specific background. It is overwritten whether we have a\n",
       "  specific estimator or a Pipeline/ColumnTransformer */\n",
       "  background-color: var(--sklearn-color-background);\n",
       "}\n",
       "\n",
       "/* Toggleable label */\n",
       "#sk-container-id-1 label.sk-toggleable__label {\n",
       "  cursor: pointer;\n",
       "  display: block;\n",
       "  width: 100%;\n",
       "  margin-bottom: 0;\n",
       "  padding: 0.5em;\n",
       "  box-sizing: border-box;\n",
       "  text-align: center;\n",
       "}\n",
       "\n",
       "#sk-container-id-1 label.sk-toggleable__label-arrow:before {\n",
       "  /* Arrow on the left of the label */\n",
       "  content: \"▸\";\n",
       "  float: left;\n",
       "  margin-right: 0.25em;\n",
       "  color: var(--sklearn-color-icon);\n",
       "}\n",
       "\n",
       "#sk-container-id-1 label.sk-toggleable__label-arrow:hover:before {\n",
       "  color: var(--sklearn-color-text);\n",
       "}\n",
       "\n",
       "/* Toggleable content - dropdown */\n",
       "\n",
       "#sk-container-id-1 div.sk-toggleable__content {\n",
       "  max-height: 0;\n",
       "  max-width: 0;\n",
       "  overflow: hidden;\n",
       "  text-align: left;\n",
       "  /* unfitted */\n",
       "  background-color: var(--sklearn-color-unfitted-level-0);\n",
       "}\n",
       "\n",
       "#sk-container-id-1 div.sk-toggleable__content.fitted {\n",
       "  /* fitted */\n",
       "  background-color: var(--sklearn-color-fitted-level-0);\n",
       "}\n",
       "\n",
       "#sk-container-id-1 div.sk-toggleable__content pre {\n",
       "  margin: 0.2em;\n",
       "  border-radius: 0.25em;\n",
       "  color: var(--sklearn-color-text);\n",
       "  /* unfitted */\n",
       "  background-color: var(--sklearn-color-unfitted-level-0);\n",
       "}\n",
       "\n",
       "#sk-container-id-1 div.sk-toggleable__content.fitted pre {\n",
       "  /* unfitted */\n",
       "  background-color: var(--sklearn-color-fitted-level-0);\n",
       "}\n",
       "\n",
       "#sk-container-id-1 input.sk-toggleable__control:checked~div.sk-toggleable__content {\n",
       "  /* Expand drop-down */\n",
       "  max-height: 200px;\n",
       "  max-width: 100%;\n",
       "  overflow: auto;\n",
       "}\n",
       "\n",
       "#sk-container-id-1 input.sk-toggleable__control:checked~label.sk-toggleable__label-arrow:before {\n",
       "  content: \"▾\";\n",
       "}\n",
       "\n",
       "/* Pipeline/ColumnTransformer-specific style */\n",
       "\n",
       "#sk-container-id-1 div.sk-label input.sk-toggleable__control:checked~label.sk-toggleable__label {\n",
       "  color: var(--sklearn-color-text);\n",
       "  background-color: var(--sklearn-color-unfitted-level-2);\n",
       "}\n",
       "\n",
       "#sk-container-id-1 div.sk-label.fitted input.sk-toggleable__control:checked~label.sk-toggleable__label {\n",
       "  background-color: var(--sklearn-color-fitted-level-2);\n",
       "}\n",
       "\n",
       "/* Estimator-specific style */\n",
       "\n",
       "/* Colorize estimator box */\n",
       "#sk-container-id-1 div.sk-estimator input.sk-toggleable__control:checked~label.sk-toggleable__label {\n",
       "  /* unfitted */\n",
       "  background-color: var(--sklearn-color-unfitted-level-2);\n",
       "}\n",
       "\n",
       "#sk-container-id-1 div.sk-estimator.fitted input.sk-toggleable__control:checked~label.sk-toggleable__label {\n",
       "  /* fitted */\n",
       "  background-color: var(--sklearn-color-fitted-level-2);\n",
       "}\n",
       "\n",
       "#sk-container-id-1 div.sk-label label.sk-toggleable__label,\n",
       "#sk-container-id-1 div.sk-label label {\n",
       "  /* The background is the default theme color */\n",
       "  color: var(--sklearn-color-text-on-default-background);\n",
       "}\n",
       "\n",
       "/* On hover, darken the color of the background */\n",
       "#sk-container-id-1 div.sk-label:hover label.sk-toggleable__label {\n",
       "  color: var(--sklearn-color-text);\n",
       "  background-color: var(--sklearn-color-unfitted-level-2);\n",
       "}\n",
       "\n",
       "/* Label box, darken color on hover, fitted */\n",
       "#sk-container-id-1 div.sk-label.fitted:hover label.sk-toggleable__label.fitted {\n",
       "  color: var(--sklearn-color-text);\n",
       "  background-color: var(--sklearn-color-fitted-level-2);\n",
       "}\n",
       "\n",
       "/* Estimator label */\n",
       "\n",
       "#sk-container-id-1 div.sk-label label {\n",
       "  font-family: monospace;\n",
       "  font-weight: bold;\n",
       "  display: inline-block;\n",
       "  line-height: 1.2em;\n",
       "}\n",
       "\n",
       "#sk-container-id-1 div.sk-label-container {\n",
       "  text-align: center;\n",
       "}\n",
       "\n",
       "/* Estimator-specific */\n",
       "#sk-container-id-1 div.sk-estimator {\n",
       "  font-family: monospace;\n",
       "  border: 1px dotted var(--sklearn-color-border-box);\n",
       "  border-radius: 0.25em;\n",
       "  box-sizing: border-box;\n",
       "  margin-bottom: 0.5em;\n",
       "  /* unfitted */\n",
       "  background-color: var(--sklearn-color-unfitted-level-0);\n",
       "}\n",
       "\n",
       "#sk-container-id-1 div.sk-estimator.fitted {\n",
       "  /* fitted */\n",
       "  background-color: var(--sklearn-color-fitted-level-0);\n",
       "}\n",
       "\n",
       "/* on hover */\n",
       "#sk-container-id-1 div.sk-estimator:hover {\n",
       "  /* unfitted */\n",
       "  background-color: var(--sklearn-color-unfitted-level-2);\n",
       "}\n",
       "\n",
       "#sk-container-id-1 div.sk-estimator.fitted:hover {\n",
       "  /* fitted */\n",
       "  background-color: var(--sklearn-color-fitted-level-2);\n",
       "}\n",
       "\n",
       "/* Specification for estimator info (e.g. \"i\" and \"?\") */\n",
       "\n",
       "/* Common style for \"i\" and \"?\" */\n",
       "\n",
       ".sk-estimator-doc-link,\n",
       "a:link.sk-estimator-doc-link,\n",
       "a:visited.sk-estimator-doc-link {\n",
       "  float: right;\n",
       "  font-size: smaller;\n",
       "  line-height: 1em;\n",
       "  font-family: monospace;\n",
       "  background-color: var(--sklearn-color-background);\n",
       "  border-radius: 1em;\n",
       "  height: 1em;\n",
       "  width: 1em;\n",
       "  text-decoration: none !important;\n",
       "  margin-left: 1ex;\n",
       "  /* unfitted */\n",
       "  border: var(--sklearn-color-unfitted-level-1) 1pt solid;\n",
       "  color: var(--sklearn-color-unfitted-level-1);\n",
       "}\n",
       "\n",
       ".sk-estimator-doc-link.fitted,\n",
       "a:link.sk-estimator-doc-link.fitted,\n",
       "a:visited.sk-estimator-doc-link.fitted {\n",
       "  /* fitted */\n",
       "  border: var(--sklearn-color-fitted-level-1) 1pt solid;\n",
       "  color: var(--sklearn-color-fitted-level-1);\n",
       "}\n",
       "\n",
       "/* On hover */\n",
       "div.sk-estimator:hover .sk-estimator-doc-link:hover,\n",
       ".sk-estimator-doc-link:hover,\n",
       "div.sk-label-container:hover .sk-estimator-doc-link:hover,\n",
       ".sk-estimator-doc-link:hover {\n",
       "  /* unfitted */\n",
       "  background-color: var(--sklearn-color-unfitted-level-3);\n",
       "  color: var(--sklearn-color-background);\n",
       "  text-decoration: none;\n",
       "}\n",
       "\n",
       "div.sk-estimator.fitted:hover .sk-estimator-doc-link.fitted:hover,\n",
       ".sk-estimator-doc-link.fitted:hover,\n",
       "div.sk-label-container:hover .sk-estimator-doc-link.fitted:hover,\n",
       ".sk-estimator-doc-link.fitted:hover {\n",
       "  /* fitted */\n",
       "  background-color: var(--sklearn-color-fitted-level-3);\n",
       "  color: var(--sklearn-color-background);\n",
       "  text-decoration: none;\n",
       "}\n",
       "\n",
       "/* Span, style for the box shown on hovering the info icon */\n",
       ".sk-estimator-doc-link span {\n",
       "  display: none;\n",
       "  z-index: 9999;\n",
       "  position: relative;\n",
       "  font-weight: normal;\n",
       "  right: .2ex;\n",
       "  padding: .5ex;\n",
       "  margin: .5ex;\n",
       "  width: min-content;\n",
       "  min-width: 20ex;\n",
       "  max-width: 50ex;\n",
       "  color: var(--sklearn-color-text);\n",
       "  box-shadow: 2pt 2pt 4pt #999;\n",
       "  /* unfitted */\n",
       "  background: var(--sklearn-color-unfitted-level-0);\n",
       "  border: .5pt solid var(--sklearn-color-unfitted-level-3);\n",
       "}\n",
       "\n",
       ".sk-estimator-doc-link.fitted span {\n",
       "  /* fitted */\n",
       "  background: var(--sklearn-color-fitted-level-0);\n",
       "  border: var(--sklearn-color-fitted-level-3);\n",
       "}\n",
       "\n",
       ".sk-estimator-doc-link:hover span {\n",
       "  display: block;\n",
       "}\n",
       "\n",
       "/* \"?\"-specific style due to the `<a>` HTML tag */\n",
       "\n",
       "#sk-container-id-1 a.estimator_doc_link {\n",
       "  float: right;\n",
       "  font-size: 1rem;\n",
       "  line-height: 1em;\n",
       "  font-family: monospace;\n",
       "  background-color: var(--sklearn-color-background);\n",
       "  border-radius: 1rem;\n",
       "  height: 1rem;\n",
       "  width: 1rem;\n",
       "  text-decoration: none;\n",
       "  /* unfitted */\n",
       "  color: var(--sklearn-color-unfitted-level-1);\n",
       "  border: var(--sklearn-color-unfitted-level-1) 1pt solid;\n",
       "}\n",
       "\n",
       "#sk-container-id-1 a.estimator_doc_link.fitted {\n",
       "  /* fitted */\n",
       "  border: var(--sklearn-color-fitted-level-1) 1pt solid;\n",
       "  color: var(--sklearn-color-fitted-level-1);\n",
       "}\n",
       "\n",
       "/* On hover */\n",
       "#sk-container-id-1 a.estimator_doc_link:hover {\n",
       "  /* unfitted */\n",
       "  background-color: var(--sklearn-color-unfitted-level-3);\n",
       "  color: var(--sklearn-color-background);\n",
       "  text-decoration: none;\n",
       "}\n",
       "\n",
       "#sk-container-id-1 a.estimator_doc_link.fitted:hover {\n",
       "  /* fitted */\n",
       "  background-color: var(--sklearn-color-fitted-level-3);\n",
       "}\n",
       "</style><div id=\"sk-container-id-1\" class=\"sk-top-container\"><div class=\"sk-text-repr-fallback\"><pre>KNeighborsClassifier(n_neighbors=31)</pre><b>In a Jupyter environment, please rerun this cell to show the HTML representation or trust the notebook. <br />On GitHub, the HTML representation is unable to render, please try loading this page with nbviewer.org.</b></div><div class=\"sk-container\" hidden><div class=\"sk-item\"><div class=\"sk-estimator fitted sk-toggleable\"><input class=\"sk-toggleable__control sk-hidden--visually\" id=\"sk-estimator-id-1\" type=\"checkbox\" checked><label for=\"sk-estimator-id-1\" class=\"sk-toggleable__label fitted sk-toggleable__label-arrow fitted\">&nbsp;&nbsp;KNeighborsClassifier<a class=\"sk-estimator-doc-link fitted\" rel=\"noreferrer\" target=\"_blank\" href=\"https://scikit-learn.org/1.4/modules/generated/sklearn.neighbors.KNeighborsClassifier.html\">?<span>Documentation for KNeighborsClassifier</span></a><span class=\"sk-estimator-doc-link fitted\">i<span>Fitted</span></span></label><div class=\"sk-toggleable__content fitted\"><pre>KNeighborsClassifier(n_neighbors=31)</pre></div> </div></div></div></div>"
      ],
      "text/plain": [
       "KNeighborsClassifier(n_neighbors=31)"
      ]
     },
     "execution_count": 168,
     "metadata": {},
     "output_type": "execute_result"
    }
   ],
   "source": [
    "my_model_best = KNeighborsClassifier(best_k)\n",
    "my_model_best.fit(X_train, y_train)\n"
   ]
  },
  {
   "cell_type": "markdown",
   "metadata": {},
   "source": [
    "<b>About prediction</b>\n",
    "1. I will use the \"predict_proba\" function to predict CLASS PROBABILITIES for the test set. This function returns two columns, one column per class label. The first column contains the probability (prob.) that an unlabeled example belongs to class False (aka Above Average is False). The second column belongs to class True.\n",
    "2. I will use the predict() function with my_model_best to predict the class labels for the test set. "
   ]
  },
  {
   "cell_type": "code",
   "execution_count": 171,
   "metadata": {},
   "outputs": [],
   "source": [
    "#1. Make predictions on the test data using the predict_proba() method\n",
    "pp = my_model_best.predict_proba(X_test)\n",
    "probability_predictions = []\n",
    "for i in pp:\n",
    "    probability_predictions.append(i[1])\n",
    "#2. Make predictions on the test data using the predict() metho\n",
    "class_label_predictions = my_model_best.predict(X_test)"
   ]
  },
  {
   "cell_type": "code",
   "execution_count": 172,
   "metadata": {},
   "outputs": [
    {
     "name": "stdout",
     "output_type": "stream",
     "text": [
      "[1.0, 1.0, 1.0, 1.0, 1.0, 1.0, 1.0, 1.0, 0.8064516129032258, 0.9032258064516129, 0.8709677419354839, 0.8064516129032258, 1.0, 1.0, 1.0, 0.9354838709677419, 1.0, 0.967741935483871, 0.9032258064516129, 0.967741935483871, 0.967741935483871, 1.0, 0.967741935483871, 1.0, 0.9032258064516129, 0.967741935483871, 1.0, 0.967741935483871, 1.0, 1.0, 0.8387096774193549, 1.0, 1.0, 1.0, 0.967741935483871, 1.0, 0.967741935483871, 1.0, 1.0, 0.967741935483871, 0.9032258064516129, 1.0, 1.0, 0.9354838709677419, 1.0, 1.0, 1.0, 0.967741935483871, 1.0, 1.0, 1.0, 1.0, 0.967741935483871, 0.967741935483871, 1.0, 0.967741935483871, 1.0, 1.0, 0.967741935483871, 1.0, 1.0, 1.0, 1.0, 1.0, 1.0, 1.0, 1.0, 1.0, 1.0, 0.967741935483871, 0.967741935483871, 1.0, 0.967741935483871, 0.967741935483871, 0.9354838709677419, 1.0, 0.967741935483871, 0.8709677419354839, 1.0, 1.0, 1.0, 0.9354838709677419, 1.0, 0.967741935483871, 1.0, 1.0, 1.0, 1.0, 0.967741935483871, 1.0, 1.0, 0.9032258064516129, 1.0, 0.9354838709677419, 0.8709677419354839, 0.9032258064516129, 1.0, 1.0, 0.9354838709677419, 1.0, 0.9354838709677419, 1.0, 0.967741935483871, 1.0, 0.9354838709677419, 0.9032258064516129, 1.0, 1.0, 1.0, 1.0, 0.8709677419354839, 1.0, 1.0, 1.0, 1.0, 1.0, 0.967741935483871, 0.967741935483871, 0.967741935483871, 1.0, 1.0, 1.0, 0.9354838709677419, 1.0, 1.0, 1.0, 0.967741935483871, 0.7741935483870968, 0.9032258064516129, 0.967741935483871, 1.0, 1.0, 0.9354838709677419, 1.0, 1.0, 1.0, 0.967741935483871, 0.967741935483871, 0.967741935483871, 1.0, 1.0, 0.7096774193548387, 1.0, 0.967741935483871, 1.0, 0.967741935483871, 1.0, 1.0, 0.967741935483871, 0.967741935483871, 1.0, 1.0, 1.0, 1.0, 1.0, 0.967741935483871, 0.967741935483871, 1.0, 0.967741935483871, 1.0, 1.0, 0.9032258064516129, 1.0, 0.8709677419354839, 1.0, 1.0, 1.0, 1.0, 0.967741935483871, 1.0, 1.0, 0.967741935483871, 1.0, 1.0, 1.0, 1.0, 1.0, 1.0, 1.0, 0.9354838709677419, 0.967741935483871, 0.9354838709677419, 1.0, 0.967741935483871, 1.0, 1.0, 0.967741935483871, 1.0, 1.0, 1.0, 1.0, 1.0, 1.0, 1.0, 0.967741935483871, 1.0, 1.0, 1.0, 1.0, 1.0, 0.9354838709677419, 1.0, 0.9354838709677419, 1.0, 0.967741935483871, 1.0, 1.0, 0.967741935483871, 0.967741935483871, 0.9354838709677419, 1.0, 0.967741935483871, 1.0, 1.0, 1.0, 1.0, 1.0, 0.967741935483871, 1.0, 1.0, 0.967741935483871, 0.967741935483871, 0.967741935483871, 0.9354838709677419, 1.0, 1.0, 1.0, 1.0, 0.967741935483871, 1.0, 1.0, 0.967741935483871, 1.0, 1.0, 1.0, 0.967741935483871, 1.0, 1.0, 1.0, 1.0, 1.0, 1.0, 1.0, 0.8709677419354839, 1.0, 0.967741935483871, 0.967741935483871, 0.967741935483871, 1.0, 1.0, 1.0, 0.967741935483871, 0.8387096774193549, 1.0, 1.0, 1.0, 0.967741935483871, 0.9032258064516129, 1.0, 1.0, 1.0, 0.967741935483871, 1.0, 1.0, 0.967741935483871, 1.0, 1.0, 1.0, 1.0, 0.967741935483871, 0.967741935483871, 1.0, 1.0, 0.967741935483871, 0.967741935483871, 1.0, 1.0, 0.967741935483871, 0.967741935483871, 0.9354838709677419, 1.0, 1.0, 0.967741935483871, 1.0, 1.0, 1.0, 0.967741935483871, 0.967741935483871, 0.967741935483871, 1.0, 1.0, 1.0, 1.0, 1.0, 1.0, 1.0, 1.0, 1.0, 1.0, 0.967741935483871, 1.0, 1.0, 1.0, 0.967741935483871, 1.0, 0.9354838709677419, 0.9354838709677419, 1.0, 1.0, 0.967741935483871, 1.0, 1.0, 1.0, 1.0, 1.0, 0.967741935483871, 0.8709677419354839, 1.0, 1.0, 1.0, 1.0, 1.0, 1.0, 1.0, 0.9354838709677419, 0.8709677419354839, 1.0, 0.967741935483871, 1.0, 1.0, 1.0, 0.967741935483871, 1.0, 0.967741935483871, 0.967741935483871, 0.9354838709677419, 0.967741935483871, 1.0, 0.9354838709677419, 0.967741935483871, 1.0, 1.0, 0.967741935483871, 1.0, 0.967741935483871, 1.0, 1.0, 1.0, 1.0, 1.0, 0.967741935483871, 1.0, 1.0, 0.8387096774193549, 0.967741935483871, 0.9354838709677419, 0.967741935483871, 0.967741935483871, 1.0, 1.0, 1.0, 1.0, 1.0, 0.9354838709677419, 1.0, 0.9354838709677419, 1.0, 1.0, 0.9354838709677419, 1.0, 1.0, 0.967741935483871, 1.0, 0.967741935483871, 0.967741935483871, 1.0, 0.967741935483871, 1.0, 0.8064516129032258, 1.0, 1.0, 0.967741935483871, 0.9354838709677419, 0.967741935483871, 0.9354838709677419, 0.7419354838709677, 1.0, 1.0, 1.0, 1.0, 1.0, 0.967741935483871, 1.0, 0.967741935483871, 1.0, 0.967741935483871, 0.967741935483871, 1.0, 1.0, 0.967741935483871, 0.967741935483871, 1.0, 1.0, 1.0, 0.967741935483871, 1.0, 1.0, 1.0, 1.0, 1.0, 1.0, 1.0, 1.0, 1.0, 1.0, 1.0, 0.967741935483871, 0.9354838709677419, 1.0, 0.9354838709677419, 1.0, 1.0, 1.0, 1.0, 1.0, 0.967741935483871, 0.9032258064516129, 0.967741935483871, 0.7741935483870968, 1.0, 0.967741935483871, 1.0, 0.9354838709677419, 1.0, 1.0, 1.0, 0.8387096774193549, 1.0, 0.967741935483871, 1.0, 1.0, 1.0, 1.0, 1.0, 0.9032258064516129, 0.967741935483871, 0.967741935483871, 1.0, 0.9032258064516129, 1.0, 1.0, 1.0, 0.967741935483871, 0.967741935483871, 0.6774193548387096, 0.9354838709677419, 1.0, 1.0, 1.0, 1.0, 1.0, 1.0, 1.0, 1.0, 0.967741935483871, 1.0, 1.0, 0.967741935483871, 0.967741935483871, 1.0, 0.5806451612903226, 1.0, 1.0, 0.9354838709677419, 0.967741935483871, 1.0, 1.0, 0.9354838709677419, 1.0, 1.0, 1.0, 1.0, 0.967741935483871, 1.0, 0.9354838709677419, 0.967741935483871, 1.0, 1.0, 1.0, 1.0, 1.0, 0.9354838709677419, 0.967741935483871, 1.0, 1.0, 0.967741935483871, 0.967741935483871, 0.967741935483871, 0.6774193548387096, 1.0, 1.0, 1.0, 1.0, 0.967741935483871, 0.9354838709677419, 0.967741935483871, 0.967741935483871, 0.967741935483871, 1.0, 0.9032258064516129, 0.9032258064516129, 1.0, 1.0, 0.9032258064516129, 0.9032258064516129, 1.0, 1.0, 1.0, 1.0, 1.0, 1.0, 1.0, 0.967741935483871, 1.0, 1.0, 1.0, 1.0, 0.9354838709677419, 0.9354838709677419, 1.0, 1.0, 1.0, 0.967741935483871, 1.0, 1.0, 1.0, 1.0, 0.9354838709677419, 1.0, 1.0, 1.0, 0.8387096774193549, 0.6774193548387096, 1.0, 0.967741935483871, 1.0, 1.0, 0.967741935483871, 0.9354838709677419, 0.967741935483871, 0.967741935483871, 0.9032258064516129, 1.0, 1.0, 1.0, 0.967741935483871, 1.0, 0.9032258064516129, 1.0, 0.9354838709677419, 0.967741935483871, 0.967741935483871, 1.0, 1.0, 0.6451612903225806, 0.9032258064516129, 1.0, 0.967741935483871, 1.0, 1.0, 1.0, 0.9032258064516129, 1.0, 0.967741935483871, 0.967741935483871, 1.0, 0.9354838709677419, 0.967741935483871, 1.0, 1.0, 1.0, 1.0, 0.9354838709677419, 1.0, 0.5806451612903226, 0.967741935483871, 1.0, 0.967741935483871, 1.0, 1.0, 1.0, 1.0, 1.0, 1.0, 0.967741935483871, 0.967741935483871, 1.0, 0.967741935483871, 0.9032258064516129, 0.967741935483871, 1.0, 0.9354838709677419, 1.0, 0.9354838709677419, 1.0, 1.0, 0.6774193548387096, 1.0, 1.0, 1.0, 0.6451612903225806, 0.5806451612903226, 0.967741935483871, 0.967741935483871, 1.0, 0.967741935483871, 0.9032258064516129, 1.0, 0.9354838709677419, 0.967741935483871, 1.0, 1.0, 0.967741935483871, 1.0, 1.0, 1.0, 1.0, 1.0, 1.0, 0.967741935483871, 1.0, 1.0, 1.0, 1.0, 0.7741935483870968, 1.0, 1.0, 1.0, 1.0, 1.0, 1.0, 1.0, 0.8709677419354839, 1.0, 1.0, 1.0, 0.967741935483871, 1.0, 1.0, 1.0, 1.0, 0.967741935483871, 0.9354838709677419, 1.0, 1.0, 1.0, 1.0, 1.0, 1.0, 1.0, 1.0, 1.0, 0.9354838709677419, 1.0, 0.967741935483871, 1.0, 1.0, 1.0, 1.0, 1.0, 1.0, 1.0, 1.0, 1.0, 1.0, 0.967741935483871, 0.8709677419354839, 1.0, 1.0, 1.0, 1.0, 0.9354838709677419, 0.8709677419354839, 1.0, 1.0, 1.0, 0.9032258064516129, 1.0, 1.0, 1.0, 1.0, 0.6451612903225806, 0.967741935483871, 1.0, 0.967741935483871, 1.0, 1.0, 1.0, 1.0, 1.0, 1.0, 1.0, 1.0, 1.0, 1.0, 1.0, 0.9032258064516129, 0.967741935483871, 0.9354838709677419, 1.0, 1.0, 0.967741935483871, 0.9032258064516129, 1.0, 1.0, 0.967741935483871, 1.0, 0.967741935483871, 1.0, 0.7419354838709677, 0.9354838709677419, 1.0, 0.9032258064516129, 0.9354838709677419, 0.967741935483871, 1.0, 1.0, 1.0, 0.9032258064516129, 1.0, 1.0, 1.0, 1.0, 1.0, 0.9354838709677419, 1.0, 1.0, 1.0, 1.0, 0.8709677419354839, 1.0, 0.9354838709677419, 0.9032258064516129, 0.9354838709677419, 1.0, 1.0, 0.9354838709677419, 0.967741935483871, 0.8709677419354839, 1.0, 1.0, 1.0, 0.967741935483871, 1.0, 0.6451612903225806, 0.967741935483871, 0.967741935483871, 1.0, 1.0, 0.9354838709677419, 1.0, 1.0, 0.9354838709677419, 1.0, 0.9354838709677419, 0.967741935483871, 1.0, 0.8387096774193549, 1.0, 0.9354838709677419, 1.0, 0.7741935483870968, 1.0, 0.967741935483871, 1.0, 1.0, 1.0, 0.967741935483871, 1.0, 0.967741935483871, 0.8709677419354839, 0.967741935483871, 0.967741935483871, 0.967741935483871, 1.0, 0.967741935483871, 0.967741935483871, 0.6451612903225806, 0.9354838709677419, 1.0, 1.0, 1.0, 0.967741935483871, 1.0, 1.0, 0.9354838709677419, 0.967741935483871, 0.9032258064516129, 1.0, 1.0, 0.967741935483871, 0.9354838709677419, 1.0, 0.9354838709677419, 0.967741935483871, 1.0, 0.967741935483871, 1.0, 1.0, 0.967741935483871, 0.9354838709677419, 1.0, 1.0, 0.967741935483871, 1.0, 0.967741935483871, 1.0, 1.0, 1.0, 1.0, 1.0, 1.0, 1.0, 1.0, 0.967741935483871, 1.0, 1.0, 1.0, 1.0, 1.0, 1.0, 1.0, 1.0, 1.0, 1.0, 1.0, 1.0, 1.0, 1.0, 0.967741935483871, 1.0, 1.0, 1.0, 0.9032258064516129, 0.967741935483871, 1.0, 1.0, 1.0, 1.0, 0.967741935483871, 1.0, 1.0, 1.0, 1.0, 1.0, 1.0, 1.0, 0.967741935483871, 1.0, 0.9354838709677419, 1.0, 1.0, 1.0, 1.0, 1.0, 1.0, 0.9354838709677419, 1.0, 0.9354838709677419, 0.967741935483871, 0.9354838709677419, 1.0, 0.967741935483871, 0.967741935483871, 0.967741935483871, 1.0, 0.967741935483871, 0.9354838709677419, 1.0, 1.0, 1.0, 0.967741935483871, 1.0, 1.0, 1.0, 0.9354838709677419, 1.0, 1.0, 1.0, 0.8709677419354839, 1.0, 0.967741935483871, 1.0, 1.0, 1.0, 1.0, 1.0, 0.967741935483871, 1.0, 1.0, 0.967741935483871, 1.0, 1.0, 0.9032258064516129, 1.0, 1.0, 0.9354838709677419, 0.967741935483871, 1.0, 0.9354838709677419, 0.9032258064516129, 1.0, 1.0, 1.0, 1.0, 1.0, 1.0, 1.0, 1.0, 0.967741935483871, 0.967741935483871, 1.0, 1.0, 0.8387096774193549, 0.967741935483871, 1.0, 0.967741935483871, 1.0, 0.8709677419354839, 1.0, 0.967741935483871]\n"
     ]
    }
   ],
   "source": [
    "print(probability_predictions)"
   ]
  },
  {
   "cell_type": "code",
   "execution_count": 173,
   "metadata": {},
   "outputs": [
    {
     "name": "stdout",
     "output_type": "stream",
     "text": [
      "[ True  True  True  True  True  True  True  True  True  True  True  True\n",
      "  True  True  True  True  True  True  True  True  True  True  True  True\n",
      "  True  True  True  True  True  True  True  True  True  True  True  True\n",
      "  True  True  True  True  True  True  True  True  True  True  True  True\n",
      "  True  True  True  True  True  True  True  True  True  True  True  True\n",
      "  True  True  True  True  True  True  True  True  True  True  True  True\n",
      "  True  True  True  True  True  True  True  True  True  True  True  True\n",
      "  True  True  True  True  True  True  True  True  True  True  True  True\n",
      "  True  True  True  True  True  True  True  True  True  True  True  True\n",
      "  True  True  True  True  True  True  True  True  True  True  True  True\n",
      "  True  True  True  True  True  True  True  True  True  True  True  True\n",
      "  True  True  True  True  True  True  True  True  True  True  True  True\n",
      "  True  True  True  True  True  True  True  True  True  True  True  True\n",
      "  True  True  True  True  True  True  True  True  True  True  True  True\n",
      "  True  True  True  True  True  True  True  True  True  True  True  True\n",
      "  True  True  True  True  True  True  True  True  True  True  True  True\n",
      "  True  True  True  True  True  True  True  True  True  True  True  True\n",
      "  True  True  True  True  True  True  True  True  True  True  True  True\n",
      "  True  True  True  True  True  True  True  True  True  True  True  True\n",
      "  True  True  True  True  True  True  True  True  True  True  True  True\n",
      "  True  True  True  True  True  True  True  True  True  True  True  True\n",
      "  True  True  True  True  True  True  True  True  True  True  True  True\n",
      "  True  True  True  True  True  True  True  True  True  True  True  True\n",
      "  True  True  True  True  True  True  True  True  True  True  True  True\n",
      "  True  True  True  True  True  True  True  True  True  True  True  True\n",
      "  True  True  True  True  True  True  True  True  True  True  True  True\n",
      "  True  True  True  True  True  True  True  True  True  True  True  True\n",
      "  True  True  True  True  True  True  True  True  True  True  True  True\n",
      "  True  True  True  True  True  True  True  True  True  True  True  True\n",
      "  True  True  True  True  True  True  True  True  True  True  True  True\n",
      "  True  True  True  True  True  True  True  True  True  True  True  True\n",
      "  True  True  True  True  True  True  True  True  True  True  True  True\n",
      "  True  True  True  True  True  True  True  True  True  True  True  True\n",
      "  True  True  True  True  True  True  True  True  True  True  True  True\n",
      "  True  True  True  True  True  True  True  True  True  True  True  True\n",
      "  True  True  True  True  True  True  True  True  True  True  True  True\n",
      "  True  True  True  True  True  True  True  True  True  True  True  True\n",
      "  True  True  True  True  True  True  True  True  True  True  True  True\n",
      "  True  True  True  True  True  True  True  True  True  True  True  True\n",
      "  True  True  True  True  True  True  True  True  True  True  True  True\n",
      "  True  True  True  True  True  True  True  True  True  True  True  True\n",
      "  True  True  True  True  True  True  True  True  True  True  True  True\n",
      "  True  True  True  True  True  True  True  True  True  True  True  True\n",
      "  True  True  True  True  True  True  True  True  True  True  True  True\n",
      "  True  True  True  True  True  True  True  True  True  True  True  True\n",
      "  True  True  True  True  True  True  True  True  True  True  True  True\n",
      "  True  True  True  True  True  True  True  True  True  True  True  True\n",
      "  True  True  True  True  True  True  True  True  True  True  True  True\n",
      "  True  True  True  True  True  True  True  True  True  True  True  True\n",
      "  True  True  True  True  True  True  True  True  True  True  True  True\n",
      "  True  True  True  True  True  True  True  True  True  True  True  True\n",
      "  True  True  True  True  True  True  True  True  True  True  True  True\n",
      "  True  True  True  True  True  True  True  True  True  True  True  True\n",
      "  True  True  True  True  True  True  True  True  True  True  True  True\n",
      "  True  True  True  True  True  True  True  True  True  True  True  True\n",
      "  True  True  True  True  True  True  True  True  True  True  True  True\n",
      "  True  True  True  True  True  True  True  True  True  True  True  True\n",
      "  True  True  True  True  True  True  True  True  True  True  True  True\n",
      "  True  True  True  True  True  True  True  True  True  True  True  True\n",
      "  True  True  True  True  True  True  True  True  True  True  True  True\n",
      "  True  True  True  True  True  True  True  True  True  True  True  True\n",
      "  True  True  True  True  True  True  True  True  True  True  True  True\n",
      "  True  True  True  True  True  True  True  True  True  True  True  True\n",
      "  True  True  True  True  True  True  True  True  True  True  True  True\n",
      "  True  True  True  True  True  True  True  True  True  True  True  True\n",
      "  True  True  True  True  True  True  True  True  True  True  True  True\n",
      "  True  True  True  True  True  True  True  True  True  True  True  True\n",
      "  True  True  True  True  True  True  True  True  True  True  True  True\n",
      "  True  True  True  True  True  True  True  True  True  True  True  True\n",
      "  True  True  True  True  True  True  True  True  True  True  True  True\n",
      "  True  True  True  True  True  True  True  True  True  True  True  True\n",
      "  True  True  True  True  True  True  True  True  True  True  True  True\n",
      "  True  True  True  True  True  True  True  True  True  True  True  True\n",
      "  True  True  True  True  True  True  True  True  True  True  True  True\n",
      "  True  True  True  True  True  True  True  True  True  True  True  True\n",
      "  True  True  True  True  True  True  True  True  True  True  True  True\n",
      "  True  True  True  True  True  True  True  True  True  True  True  True\n",
      "  True  True  True  True  True  True  True]\n"
     ]
    }
   ],
   "source": [
    "print(class_label_predictions)"
   ]
  },
  {
   "cell_type": "markdown",
   "metadata": {},
   "source": [
    "<b>Step 4: Evaluate the Accuracy of the Model"
   ]
  },
  {
   "cell_type": "markdown",
   "metadata": {},
   "source": [
    "I will compute and print the model's accuracy score using accuracy_score()"
   ]
  },
  {
   "cell_type": "code",
   "execution_count": 175,
   "metadata": {},
   "outputs": [
    {
     "name": "stdout",
     "output_type": "stream",
     "text": [
      "Accuracy score: 0.9817400644468314\n"
     ]
    }
   ],
   "source": [
    "acc_score = accuracy_score(y_test, class_label_predictions)\n",
    "print('Accuracy score: ' + str(acc_score))"
   ]
  },
  {
   "cell_type": "markdown",
   "metadata": {},
   "source": [
    "<b>I will create a confustion matrix to evaluate my model. "
   ]
  },
  {
   "cell_type": "code",
   "execution_count": 176,
   "metadata": {},
   "outputs": [
    {
     "data": {
      "text/html": [
       "<div>\n",
       "<style scoped>\n",
       "    .dataframe tbody tr th:only-of-type {\n",
       "        vertical-align: middle;\n",
       "    }\n",
       "\n",
       "    .dataframe tbody tr th {\n",
       "        vertical-align: top;\n",
       "    }\n",
       "\n",
       "    .dataframe thead th {\n",
       "        text-align: right;\n",
       "    }\n",
       "</style>\n",
       "<table border=\"1\" class=\"dataframe\">\n",
       "  <thead>\n",
       "    <tr style=\"text-align: right;\">\n",
       "      <th></th>\n",
       "      <th>Predicted: Rating Above Average</th>\n",
       "      <th>Predicted: Rating Not Above Average</th>\n",
       "    </tr>\n",
       "  </thead>\n",
       "  <tbody>\n",
       "    <tr>\n",
       "      <th>Actual: Rating Above Average</th>\n",
       "      <td>914</td>\n",
       "      <td>0</td>\n",
       "    </tr>\n",
       "    <tr>\n",
       "      <th>Actual: Rating Not Above Average</th>\n",
       "      <td>17</td>\n",
       "      <td>0</td>\n",
       "    </tr>\n",
       "  </tbody>\n",
       "</table>\n",
       "</div>"
      ],
      "text/plain": [
       "                                  Predicted: Rating Above Average  \\\n",
       "Actual: Rating Above Average                                  914   \n",
       "Actual: Rating Not Above Average                               17   \n",
       "\n",
       "                                  Predicted: Rating Not Above Average  \n",
       "Actual: Rating Above Average                                        0  \n",
       "Actual: Rating Not Above Average                                    0  "
      ]
     },
     "execution_count": 176,
     "metadata": {},
     "output_type": "execute_result"
    }
   ],
   "source": [
    "my_confustion_matrix = confusion_matrix(y_test, class_label_predictions, labels=[True, False])\n",
    "pd.DataFrame(my_confustion_matrix, columns=['Predicted: Rating Above Average', 'Predicted: Rating Not Above Average'],\n",
    "index=['Actual: Rating Above Average', 'Actual: Rating Not Above Average'])"
   ]
  },
  {
   "cell_type": "markdown",
   "metadata": {},
   "source": [
    "<b>Step 5: Plot the Precision-Recall Curve"
   ]
  },
  {
   "cell_type": "markdown",
   "metadata": {},
   "source": [
    "<b>Review: Scikit-learn uses 0.5 as the default for classification threshold. \n",
    "I will use the precision-recall curve to show the trade-off between precision and recall for different classification thresholds. "
   ]
  },
  {
   "cell_type": "code",
   "execution_count": 177,
   "metadata": {},
   "outputs": [],
   "source": [
    "from sklearn.metrics import precision_recall_curve"
   ]
  },
  {
   "cell_type": "code",
   "execution_count": 178,
   "metadata": {},
   "outputs": [],
   "source": [
    "precision, recall, thresholds = precision_recall_curve(y_test, probability_predictions)"
   ]
  },
  {
   "cell_type": "markdown",
   "metadata": {},
   "source": [
    "<b>I will use seaborn's lineplot() method to visualize the precision-recall curve. The variable \"recall\" will be in on the x-axis and \"precision\" will be on the y-axis."
   ]
  },
  {
   "cell_type": "code",
   "execution_count": 179,
   "metadata": {},
   "outputs": [
    {
     "data": {
      "image/png": "[encoded data removed]",
      "text/plain": [
       "<Figure size 640x480 with 1 Axes>"
      ]
     },
     "metadata": {},
     "output_type": "display_data"
    }
   ],
   "source": [
    "fig = plt.figure()\n",
    "ax = fig.add_subplot(111)\n",
    "\n",
    "sns.lineplot(x=recall, y=precision, marker = 'o')\n",
    "\n",
    "plt.title(\"Precision-recall curve\")\n",
    "plt.xlabel(\"Recall\")\n",
    "plt.ylabel(\"Precision\")\n",
    "plt.show()"
   ]
  },
  {
   "cell_type": "markdown",
   "metadata": {},
   "source": [
    "<b>Review:</b>\n",
    "\n",
    "* Precision = (True Positives) / (True Positives + False Positives)\n",
    "* Recall = (True Positives) / (True Positives + False Negatives)\n"
   ]
  },
  {
   "cell_type": "markdown",
   "metadata": {},
   "source": [
    "<b>My Observation: \n",
    "1. Half of the graph is kind of upper left corner (high precision but low recall).\n",
    "2. The rest of the graph is kind of lower right corner (low precision but high recall). It means my model identifies many positive instances but also makes many false positive predictions. "
   ]
  },
  {
   "cell_type": "markdown",
   "metadata": {},
   "source": [
    "<b>PROVIDED TEMPLATE</b>\n",
    "\n",
    "<b>Task:</b> Use the rest of this notebook to carry out your project plan. \n",
    "\n",
    "You will:\n",
    "\n",
    "1. Prepare your data for your model.\n",
    "2. Fit your model to the training data and evaluate your model.\n",
    "3. Improve your model's performance by performing model selection and/or feature selection techniques to find best model for your problem.\n",
    "\n",
    "Add code cells below and populate the notebook with commentary, code, analyses, results, and figures as you see fit. "
   ]
  },
  {
   "cell_type": "code",
   "execution_count": 169,
   "metadata": {},
   "outputs": [],
   "source": [
    "# YOUR CODE HERE"
   ]
  }
 ],
 "metadata": {
  "kernelspec": {
   "display_name": "Python 3 (ipykernel)",
   "language": "python",
   "name": "python3"
  },
  "language_info": {
   "codemirror_mode": {
    "name": "ipython",
    "version": 3
   },
   "file_extension": ".py",
   "mimetype": "text/x-python",
   "name": "python",
   "nbconvert_exporter": "python",
   "pygments_lexer": "ipython3",
   "version": "3.9.19"
  },
  "toc": {
   "base_numbering": 1,
   "nav_menu": {},
   "number_sections": false,
   "sideBar": true,
   "skip_h1_title": false,
   "title_cell": "Table of Contents",
   "title_sidebar": "Contents",
   "toc_cell": false,
   "toc_position": {},
   "toc_section_display": true,
   "toc_window_display": false
  },
  "varInspector": {
   "cols": {
    "lenName": 16,
    "lenType": 16,
    "lenVar": 40
   },
   "kernels_config": {
    "python": {
     "delete_cmd_postfix": "",
     "delete_cmd_prefix": "del ",
     "library": "var_list.py",
     "varRefreshCmd": "print(var_dic_list())"
    },
    "r": {
     "delete_cmd_postfix": ") ",
     "delete_cmd_prefix": "rm(",
     "library": "var_list.r",
     "varRefreshCmd": "cat(var_dic_list()) "
    }
   },
   "types_to_exclude": [
    "module",
    "function",
    "builtin_function_or_method",
    "instance",
    "_Feature"
   ],
   "window_display": false
  }
 },
 "nbformat": 4,
 "nbformat_minor": 4
}
